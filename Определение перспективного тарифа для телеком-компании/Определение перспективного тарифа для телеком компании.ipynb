{
 "cells": [
  {
   "cell_type": "markdown",
   "metadata": {},
   "source": [
    "# Определение перспективного тарифа для телеком-компании"
   ]
  },
  {
   "cell_type": "markdown",
   "metadata": {},
   "source": [
    "## Описание проекта"
   ]
  },
  {
   "cell_type": "markdown",
   "metadata": {},
   "source": [
    "Клиентам  компании «Мегалайн» — федерального оператора сотовой связи - предлагаются два тарифных плана: «Смарт» и «Ультра». Чтобы скорректировать рекламный бюджет, коммерческий департамент хочет понять, какой тариф приносит больше денег.\n",
    "\n",
    "Необходимо сделать предварительный анализ тарифов на небольшой выборке клиентов. В наличии данные 500 пользователей «Мегалайна»: кто они, откуда, каким тарифом пользуются, сколько звонков и сообщений каждый отправил за 2018 год. Нужно проанализировать поведение клиентов и сделать вывод — какой тариф лучше.\n",
    "\n",
    "Описание тарифов:\n",
    "\n",
    "Тариф «Смарт»:<br>\n",
    "\n",
    "    1. Ежемесячная плата: 550 рублей\n",
    "    2. Включено 500 минут разговора, 50 сообщений и 15 Гб интернет-трафика\n",
    "    3. Стоимость услуг сверх тарифного пакета:\n",
    "        - минута разговора: 3 рубля\n",
    "        - сообщение: 3 рубля\n",
    "        - 1 Гб интернет-трафика: 200 рублей\n",
    "\n",
    "Тариф «Ультра»:<br>\n",
    "\n",
    "    1. Ежемесячная плата: 1950 рублей\n",
    "    2. Включено 3000 минут разговора, 1000 сообщений и 30 Гб интернет-трафика\n",
    "    3. Стоимость услуг сверх тарифного пакета:\n",
    "        - минута разговора: 1 рубль\n",
    "        - сообщение: 1 рубль\n",
    "        - 1 Гб интернет-трафика: 150 рублей\n",
    "        \n",
    "«Мегалайн» всегда округляет вверх значения минут и мегабайтов. Если пользователь проговорил всего 1 секунду, в тарифе засчитывается целая минута. Неиспользованные за предыдущий месяц звонки, смс, интернет на следующий месяц не переносятся."
   ]
  },
  {
   "cell_type": "markdown",
   "metadata": {},
   "source": [
    "### Содержание<a class='tocSkip'>\n",
    "    \n",
    "[Шаг 1. Изучение файлов с данными](#step1)\n",
    "    \n",
    "[Шаг 2. Подготовка данных](#step2)<br>\n",
    "    \n",
    "[Шаг 3. Анализ данных](#step3)<br>\n",
    "    \n",
    "[Шаг 4. Проверка гипотез](#step4)<br>\n",
    "    \n",
    "[Шаг 5. Общий вывод](#step5)<br>"
   ]
  },
  {
   "cell_type": "code",
   "execution_count": 1,
   "metadata": {},
   "outputs": [],
   "source": [
    "import pandas as pd\n",
    "import matplotlib.pyplot as plt\n",
    "import seaborn as sns\n",
    "import numpy as np\n",
    "from scipy import stats as st"
   ]
  },
  {
   "cell_type": "code",
   "execution_count": 2,
   "metadata": {},
   "outputs": [],
   "source": [
    "from scipy.stats import bootstrap"
   ]
  },
  {
   "cell_type": "markdown",
   "metadata": {},
   "source": [
    "## Шаг 1. Изучение файлов с данными <a id=\"step1\"></a> "
   ]
  },
  {
   "cell_type": "code",
   "execution_count": 3,
   "metadata": {},
   "outputs": [
    {
     "name": "stdout",
     "output_type": "stream",
     "text": [
      "<class 'pandas.core.frame.DataFrame'>\n",
      "RangeIndex: 202607 entries, 0 to 202606\n",
      "Data columns (total 4 columns):\n",
      " #   Column     Non-Null Count   Dtype  \n",
      "---  ------     --------------   -----  \n",
      " 0   id         202607 non-null  object \n",
      " 1   call_date  202607 non-null  object \n",
      " 2   duration   202607 non-null  float64\n",
      " 3   user_id    202607 non-null  int64  \n",
      "dtypes: float64(1), int64(1), object(2)\n",
      "memory usage: 6.2+ MB\n"
     ]
    },
    {
     "data": {
      "text/html": [
       "<div>\n",
       "<style scoped>\n",
       "    .dataframe tbody tr th:only-of-type {\n",
       "        vertical-align: middle;\n",
       "    }\n",
       "\n",
       "    .dataframe tbody tr th {\n",
       "        vertical-align: top;\n",
       "    }\n",
       "\n",
       "    .dataframe thead th {\n",
       "        text-align: right;\n",
       "    }\n",
       "</style>\n",
       "<table border=\"1\" class=\"dataframe\">\n",
       "  <thead>\n",
       "    <tr style=\"text-align: right;\">\n",
       "      <th></th>\n",
       "      <th>id</th>\n",
       "      <th>call_date</th>\n",
       "      <th>duration</th>\n",
       "      <th>user_id</th>\n",
       "    </tr>\n",
       "  </thead>\n",
       "  <tbody>\n",
       "    <tr>\n",
       "      <th>0</th>\n",
       "      <td>1000_0</td>\n",
       "      <td>2018-07-25</td>\n",
       "      <td>0.00</td>\n",
       "      <td>1000</td>\n",
       "    </tr>\n",
       "    <tr>\n",
       "      <th>1</th>\n",
       "      <td>1000_1</td>\n",
       "      <td>2018-08-17</td>\n",
       "      <td>0.00</td>\n",
       "      <td>1000</td>\n",
       "    </tr>\n",
       "    <tr>\n",
       "      <th>2</th>\n",
       "      <td>1000_2</td>\n",
       "      <td>2018-06-11</td>\n",
       "      <td>2.85</td>\n",
       "      <td>1000</td>\n",
       "    </tr>\n",
       "    <tr>\n",
       "      <th>3</th>\n",
       "      <td>1000_3</td>\n",
       "      <td>2018-09-21</td>\n",
       "      <td>13.80</td>\n",
       "      <td>1000</td>\n",
       "    </tr>\n",
       "    <tr>\n",
       "      <th>4</th>\n",
       "      <td>1000_4</td>\n",
       "      <td>2018-12-15</td>\n",
       "      <td>5.18</td>\n",
       "      <td>1000</td>\n",
       "    </tr>\n",
       "  </tbody>\n",
       "</table>\n",
       "</div>"
      ],
      "text/plain": [
       "       id   call_date  duration  user_id\n",
       "0  1000_0  2018-07-25      0.00     1000\n",
       "1  1000_1  2018-08-17      0.00     1000\n",
       "2  1000_2  2018-06-11      2.85     1000\n",
       "3  1000_3  2018-09-21     13.80     1000\n",
       "4  1000_4  2018-12-15      5.18     1000"
      ]
     },
     "execution_count": 3,
     "metadata": {},
     "output_type": "execute_result"
    }
   ],
   "source": [
    "calls=pd.read_csv('/datasets/calls.csv')\n",
    "calls.info()\n",
    "calls.head()"
   ]
  },
  {
   "cell_type": "code",
   "execution_count": 4,
   "metadata": {},
   "outputs": [
    {
     "data": {
      "text/html": [
       "<div>\n",
       "<style scoped>\n",
       "    .dataframe tbody tr th:only-of-type {\n",
       "        vertical-align: middle;\n",
       "    }\n",
       "\n",
       "    .dataframe tbody tr th {\n",
       "        vertical-align: top;\n",
       "    }\n",
       "\n",
       "    .dataframe thead th {\n",
       "        text-align: right;\n",
       "    }\n",
       "</style>\n",
       "<table border=\"1\" class=\"dataframe\">\n",
       "  <thead>\n",
       "    <tr style=\"text-align: right;\">\n",
       "      <th></th>\n",
       "      <th>id</th>\n",
       "      <th>call_date</th>\n",
       "      <th>duration</th>\n",
       "      <th>user_id</th>\n",
       "    </tr>\n",
       "  </thead>\n",
       "  <tbody>\n",
       "    <tr>\n",
       "      <th>min</th>\n",
       "      <td>1000_0</td>\n",
       "      <td>2018-01-01</td>\n",
       "      <td>0.0</td>\n",
       "      <td>1000</td>\n",
       "    </tr>\n",
       "    <tr>\n",
       "      <th>max</th>\n",
       "      <td>1499_99</td>\n",
       "      <td>2018-12-31</td>\n",
       "      <td>38.0</td>\n",
       "      <td>1499</td>\n",
       "    </tr>\n",
       "    <tr>\n",
       "      <th>nunique</th>\n",
       "      <td>202607</td>\n",
       "      <td>365</td>\n",
       "      <td>2871.0</td>\n",
       "      <td>492</td>\n",
       "    </tr>\n",
       "  </tbody>\n",
       "</table>\n",
       "</div>"
      ],
      "text/plain": [
       "              id   call_date  duration  user_id\n",
       "min       1000_0  2018-01-01       0.0     1000\n",
       "max      1499_99  2018-12-31      38.0     1499\n",
       "nunique   202607         365    2871.0      492"
      ]
     },
     "execution_count": 4,
     "metadata": {},
     "output_type": "execute_result"
    }
   ],
   "source": [
    "calls.agg(['min', 'max','nunique'])"
   ]
  },
  {
   "cell_type": "markdown",
   "metadata": {},
   "source": [
    "### В датафрейме calls собрана информация о звонках пользователей:\n",
    "1. id - номер звонка конкретного пользователя с конкретным user_id\n",
    "2. call_date - дата звонка\n",
    "3. duration - длительность звонка (разговора)\n",
    "4. user_id - id пользователя\n",
    "\n",
    "### Выводы по предварительному анализу таблицы:\n",
    "1. Для того, чтобы в дальнейшем было удобнее работать с датами, тип данных в столбце \"call_date\" необходимо будет заменить с object на datetime64 \n",
    "2. В таблице хранится информация по звонкам  за период с 1 января по 31 декабря 2018 года - всего за 365 дней.\n",
    "3. Минимальная продолжительность разговора - 0, максимальная 38 минут.\n",
    "4. Всего в таблице данные по 492 пользователям, номера которых с 1000 по 1499 - видимо, идут не строго по порядку."
   ]
  },
  {
   "cell_type": "markdown",
   "metadata": {},
   "source": [
    " "
   ]
  },
  {
   "cell_type": "code",
   "execution_count": 5,
   "metadata": {
    "scrolled": true
   },
   "outputs": [
    {
     "name": "stdout",
     "output_type": "stream",
     "text": [
      "<class 'pandas.core.frame.DataFrame'>\n",
      "RangeIndex: 149396 entries, 0 to 149395\n",
      "Data columns (total 5 columns):\n",
      " #   Column        Non-Null Count   Dtype  \n",
      "---  ------        --------------   -----  \n",
      " 0   Unnamed: 0    149396 non-null  int64  \n",
      " 1   id            149396 non-null  object \n",
      " 2   mb_used       149396 non-null  float64\n",
      " 3   session_date  149396 non-null  object \n",
      " 4   user_id       149396 non-null  int64  \n",
      "dtypes: float64(1), int64(2), object(2)\n",
      "memory usage: 5.7+ MB\n"
     ]
    },
    {
     "data": {
      "text/html": [
       "<div>\n",
       "<style scoped>\n",
       "    .dataframe tbody tr th:only-of-type {\n",
       "        vertical-align: middle;\n",
       "    }\n",
       "\n",
       "    .dataframe tbody tr th {\n",
       "        vertical-align: top;\n",
       "    }\n",
       "\n",
       "    .dataframe thead th {\n",
       "        text-align: right;\n",
       "    }\n",
       "</style>\n",
       "<table border=\"1\" class=\"dataframe\">\n",
       "  <thead>\n",
       "    <tr style=\"text-align: right;\">\n",
       "      <th></th>\n",
       "      <th>Unnamed: 0</th>\n",
       "      <th>id</th>\n",
       "      <th>mb_used</th>\n",
       "      <th>session_date</th>\n",
       "      <th>user_id</th>\n",
       "    </tr>\n",
       "  </thead>\n",
       "  <tbody>\n",
       "    <tr>\n",
       "      <th>0</th>\n",
       "      <td>0</td>\n",
       "      <td>1000_0</td>\n",
       "      <td>112.95</td>\n",
       "      <td>2018-11-25</td>\n",
       "      <td>1000</td>\n",
       "    </tr>\n",
       "    <tr>\n",
       "      <th>1</th>\n",
       "      <td>1</td>\n",
       "      <td>1000_1</td>\n",
       "      <td>1052.81</td>\n",
       "      <td>2018-09-07</td>\n",
       "      <td>1000</td>\n",
       "    </tr>\n",
       "    <tr>\n",
       "      <th>2</th>\n",
       "      <td>2</td>\n",
       "      <td>1000_2</td>\n",
       "      <td>1197.26</td>\n",
       "      <td>2018-06-25</td>\n",
       "      <td>1000</td>\n",
       "    </tr>\n",
       "    <tr>\n",
       "      <th>3</th>\n",
       "      <td>3</td>\n",
       "      <td>1000_3</td>\n",
       "      <td>550.27</td>\n",
       "      <td>2018-08-22</td>\n",
       "      <td>1000</td>\n",
       "    </tr>\n",
       "    <tr>\n",
       "      <th>4</th>\n",
       "      <td>4</td>\n",
       "      <td>1000_4</td>\n",
       "      <td>302.56</td>\n",
       "      <td>2018-09-24</td>\n",
       "      <td>1000</td>\n",
       "    </tr>\n",
       "  </tbody>\n",
       "</table>\n",
       "</div>"
      ],
      "text/plain": [
       "   Unnamed: 0      id  mb_used session_date  user_id\n",
       "0           0  1000_0   112.95   2018-11-25     1000\n",
       "1           1  1000_1  1052.81   2018-09-07     1000\n",
       "2           2  1000_2  1197.26   2018-06-25     1000\n",
       "3           3  1000_3   550.27   2018-08-22     1000\n",
       "4           4  1000_4   302.56   2018-09-24     1000"
      ]
     },
     "execution_count": 5,
     "metadata": {},
     "output_type": "execute_result"
    }
   ],
   "source": [
    "internet=pd.read_csv('/datasets/internet.csv')\n",
    "internet.info()\n",
    "internet.head()"
   ]
  },
  {
   "cell_type": "code",
   "execution_count": 6,
   "metadata": {
    "scrolled": false
   },
   "outputs": [
    {
     "data": {
      "text/html": [
       "<div>\n",
       "<style scoped>\n",
       "    .dataframe tbody tr th:only-of-type {\n",
       "        vertical-align: middle;\n",
       "    }\n",
       "\n",
       "    .dataframe tbody tr th {\n",
       "        vertical-align: top;\n",
       "    }\n",
       "\n",
       "    .dataframe thead th {\n",
       "        text-align: right;\n",
       "    }\n",
       "</style>\n",
       "<table border=\"1\" class=\"dataframe\">\n",
       "  <thead>\n",
       "    <tr style=\"text-align: right;\">\n",
       "      <th></th>\n",
       "      <th>Unnamed: 0</th>\n",
       "      <th>id</th>\n",
       "      <th>mb_used</th>\n",
       "      <th>session_date</th>\n",
       "      <th>user_id</th>\n",
       "    </tr>\n",
       "  </thead>\n",
       "  <tbody>\n",
       "    <tr>\n",
       "      <th>min</th>\n",
       "      <td>0</td>\n",
       "      <td>1000_0</td>\n",
       "      <td>0.00</td>\n",
       "      <td>2018-01-01</td>\n",
       "      <td>1000</td>\n",
       "    </tr>\n",
       "    <tr>\n",
       "      <th>max</th>\n",
       "      <td>149395</td>\n",
       "      <td>1499_99</td>\n",
       "      <td>1724.83</td>\n",
       "      <td>2018-12-31</td>\n",
       "      <td>1499</td>\n",
       "    </tr>\n",
       "    <tr>\n",
       "      <th>nunique</th>\n",
       "      <td>149396</td>\n",
       "      <td>149396</td>\n",
       "      <td>70003.00</td>\n",
       "      <td>365</td>\n",
       "      <td>497</td>\n",
       "    </tr>\n",
       "  </tbody>\n",
       "</table>\n",
       "</div>"
      ],
      "text/plain": [
       "         Unnamed: 0       id   mb_used session_date  user_id\n",
       "min               0   1000_0      0.00   2018-01-01     1000\n",
       "max          149395  1499_99   1724.83   2018-12-31     1499\n",
       "nunique      149396   149396  70003.00          365      497"
      ]
     },
     "execution_count": 6,
     "metadata": {},
     "output_type": "execute_result"
    }
   ],
   "source": [
    "internet.agg(['min', 'max','nunique'])"
   ]
  },
  {
   "cell_type": "markdown",
   "metadata": {},
   "source": [
    "### В датафрейме internet собрана информация об использовании интернет-трафика пользователями:\n",
    "1. Unnamed - номера строк по порядку с 0 до 149395\n",
    "2. id - номер выхода конкретного пользователя с конкретным user_id в интернет\n",
    "3. mb_used - количество использованных МБайт\n",
    "4. session_date - дата выхода в интернет\n",
    "5. user_id - id пользователя\n",
    "\n",
    "### Выводы по предварительному анализу таблицы:\n",
    "1. Для того, чтобы в дальнейшем было удобнее работать с датами, тип данных в столбце \"session_date\" необходимо будет заменить с object на datetime64 \n",
    "2. В таблице хранится информация по звонкам  за период с 1 января по 31 декабря 2018 года - всего за 365 дней.\n",
    "3. Минимальное количество использованных МБайт - 0, максимальное 1724.83 .\n",
    "4. Всего в таблице данные по 497 пользователям, номера которых с 1000 по 1499 - по сравнению с таблицей calls на 5 пользователей с уникальными номерами больше "
   ]
  },
  {
   "cell_type": "code",
   "execution_count": 7,
   "metadata": {
    "scrolled": false
   },
   "outputs": [
    {
     "name": "stdout",
     "output_type": "stream",
     "text": [
      "<class 'pandas.core.frame.DataFrame'>\n",
      "RangeIndex: 123036 entries, 0 to 123035\n",
      "Data columns (total 3 columns):\n",
      " #   Column        Non-Null Count   Dtype \n",
      "---  ------        --------------   ----- \n",
      " 0   id            123036 non-null  object\n",
      " 1   message_date  123036 non-null  object\n",
      " 2   user_id       123036 non-null  int64 \n",
      "dtypes: int64(1), object(2)\n",
      "memory usage: 2.8+ MB\n"
     ]
    },
    {
     "data": {
      "text/html": [
       "<div>\n",
       "<style scoped>\n",
       "    .dataframe tbody tr th:only-of-type {\n",
       "        vertical-align: middle;\n",
       "    }\n",
       "\n",
       "    .dataframe tbody tr th {\n",
       "        vertical-align: top;\n",
       "    }\n",
       "\n",
       "    .dataframe thead th {\n",
       "        text-align: right;\n",
       "    }\n",
       "</style>\n",
       "<table border=\"1\" class=\"dataframe\">\n",
       "  <thead>\n",
       "    <tr style=\"text-align: right;\">\n",
       "      <th></th>\n",
       "      <th>id</th>\n",
       "      <th>message_date</th>\n",
       "      <th>user_id</th>\n",
       "    </tr>\n",
       "  </thead>\n",
       "  <tbody>\n",
       "    <tr>\n",
       "      <th>0</th>\n",
       "      <td>1000_0</td>\n",
       "      <td>2018-06-27</td>\n",
       "      <td>1000</td>\n",
       "    </tr>\n",
       "    <tr>\n",
       "      <th>1</th>\n",
       "      <td>1000_1</td>\n",
       "      <td>2018-10-08</td>\n",
       "      <td>1000</td>\n",
       "    </tr>\n",
       "    <tr>\n",
       "      <th>2</th>\n",
       "      <td>1000_2</td>\n",
       "      <td>2018-08-04</td>\n",
       "      <td>1000</td>\n",
       "    </tr>\n",
       "    <tr>\n",
       "      <th>3</th>\n",
       "      <td>1000_3</td>\n",
       "      <td>2018-06-16</td>\n",
       "      <td>1000</td>\n",
       "    </tr>\n",
       "    <tr>\n",
       "      <th>4</th>\n",
       "      <td>1000_4</td>\n",
       "      <td>2018-12-05</td>\n",
       "      <td>1000</td>\n",
       "    </tr>\n",
       "  </tbody>\n",
       "</table>\n",
       "</div>"
      ],
      "text/plain": [
       "       id message_date  user_id\n",
       "0  1000_0   2018-06-27     1000\n",
       "1  1000_1   2018-10-08     1000\n",
       "2  1000_2   2018-08-04     1000\n",
       "3  1000_3   2018-06-16     1000\n",
       "4  1000_4   2018-12-05     1000"
      ]
     },
     "execution_count": 7,
     "metadata": {},
     "output_type": "execute_result"
    }
   ],
   "source": [
    "messages=pd.read_csv('/datasets/messages.csv')\n",
    "messages.info()\n",
    "messages.head()"
   ]
  },
  {
   "cell_type": "code",
   "execution_count": 8,
   "metadata": {},
   "outputs": [
    {
     "data": {
      "text/html": [
       "<div>\n",
       "<style scoped>\n",
       "    .dataframe tbody tr th:only-of-type {\n",
       "        vertical-align: middle;\n",
       "    }\n",
       "\n",
       "    .dataframe tbody tr th {\n",
       "        vertical-align: top;\n",
       "    }\n",
       "\n",
       "    .dataframe thead th {\n",
       "        text-align: right;\n",
       "    }\n",
       "</style>\n",
       "<table border=\"1\" class=\"dataframe\">\n",
       "  <thead>\n",
       "    <tr style=\"text-align: right;\">\n",
       "      <th></th>\n",
       "      <th>id</th>\n",
       "      <th>message_date</th>\n",
       "      <th>user_id</th>\n",
       "    </tr>\n",
       "  </thead>\n",
       "  <tbody>\n",
       "    <tr>\n",
       "      <th>min</th>\n",
       "      <td>1000_0</td>\n",
       "      <td>2018-01-02</td>\n",
       "      <td>1000</td>\n",
       "    </tr>\n",
       "    <tr>\n",
       "      <th>max</th>\n",
       "      <td>1499_99</td>\n",
       "      <td>2018-12-31</td>\n",
       "      <td>1499</td>\n",
       "    </tr>\n",
       "    <tr>\n",
       "      <th>nunique</th>\n",
       "      <td>123036</td>\n",
       "      <td>364</td>\n",
       "      <td>426</td>\n",
       "    </tr>\n",
       "  </tbody>\n",
       "</table>\n",
       "</div>"
      ],
      "text/plain": [
       "              id message_date  user_id\n",
       "min       1000_0   2018-01-02     1000\n",
       "max      1499_99   2018-12-31     1499\n",
       "nunique   123036          364      426"
      ]
     },
     "execution_count": 8,
     "metadata": {},
     "output_type": "execute_result"
    }
   ],
   "source": [
    "messages.agg(['min', 'max','nunique'])"
   ]
  },
  {
   "cell_type": "markdown",
   "metadata": {},
   "source": [
    "### В датафрейме messages собрана информация о смс, отправленных пользователями:\n",
    "1. id - номер смс, отправленного конкретным пользователем с конкретным user_id \n",
    "2. message_date - дата отправки смс\n",
    "3. user_id - id пользователя\n",
    "\n",
    "### Выводы по предварительному анализу таблицы:\n",
    "1. Для того, чтобы в дальнейшем было удобнее работать с датами, тип данных в столбце \"message_date\" необходимо будет заменить с object на datetime64 \n",
    "2. В таблице хранится информация по смс  за период со 2 января по 31 декабря 2018 года - всего за 364 дня.\n",
    "3. Всего в таблице данные по 426 пользователям, номера которых с 1000 по 1499 - по сравнению с таблицами calls и internet меньшее число пользователей с уникальными номерами"
   ]
  },
  {
   "cell_type": "code",
   "execution_count": 9,
   "metadata": {
    "scrolled": true
   },
   "outputs": [
    {
     "name": "stdout",
     "output_type": "stream",
     "text": [
      "<class 'pandas.core.frame.DataFrame'>\n",
      "RangeIndex: 2 entries, 0 to 1\n",
      "Data columns (total 8 columns):\n",
      " #   Column                 Non-Null Count  Dtype \n",
      "---  ------                 --------------  ----- \n",
      " 0   messages_included      2 non-null      int64 \n",
      " 1   mb_per_month_included  2 non-null      int64 \n",
      " 2   minutes_included       2 non-null      int64 \n",
      " 3   rub_monthly_fee        2 non-null      int64 \n",
      " 4   rub_per_gb             2 non-null      int64 \n",
      " 5   rub_per_message        2 non-null      int64 \n",
      " 6   rub_per_minute         2 non-null      int64 \n",
      " 7   tariff_name            2 non-null      object\n",
      "dtypes: int64(7), object(1)\n",
      "memory usage: 256.0+ bytes\n"
     ]
    },
    {
     "data": {
      "text/html": [
       "<div>\n",
       "<style scoped>\n",
       "    .dataframe tbody tr th:only-of-type {\n",
       "        vertical-align: middle;\n",
       "    }\n",
       "\n",
       "    .dataframe tbody tr th {\n",
       "        vertical-align: top;\n",
       "    }\n",
       "\n",
       "    .dataframe thead th {\n",
       "        text-align: right;\n",
       "    }\n",
       "</style>\n",
       "<table border=\"1\" class=\"dataframe\">\n",
       "  <thead>\n",
       "    <tr style=\"text-align: right;\">\n",
       "      <th></th>\n",
       "      <th>messages_included</th>\n",
       "      <th>mb_per_month_included</th>\n",
       "      <th>minutes_included</th>\n",
       "      <th>rub_monthly_fee</th>\n",
       "      <th>rub_per_gb</th>\n",
       "      <th>rub_per_message</th>\n",
       "      <th>rub_per_minute</th>\n",
       "      <th>tariff_name</th>\n",
       "    </tr>\n",
       "  </thead>\n",
       "  <tbody>\n",
       "    <tr>\n",
       "      <th>0</th>\n",
       "      <td>50</td>\n",
       "      <td>15360</td>\n",
       "      <td>500</td>\n",
       "      <td>550</td>\n",
       "      <td>200</td>\n",
       "      <td>3</td>\n",
       "      <td>3</td>\n",
       "      <td>smart</td>\n",
       "    </tr>\n",
       "    <tr>\n",
       "      <th>1</th>\n",
       "      <td>1000</td>\n",
       "      <td>30720</td>\n",
       "      <td>3000</td>\n",
       "      <td>1950</td>\n",
       "      <td>150</td>\n",
       "      <td>1</td>\n",
       "      <td>1</td>\n",
       "      <td>ultra</td>\n",
       "    </tr>\n",
       "  </tbody>\n",
       "</table>\n",
       "</div>"
      ],
      "text/plain": [
       "   messages_included  mb_per_month_included  minutes_included  \\\n",
       "0                 50                  15360               500   \n",
       "1               1000                  30720              3000   \n",
       "\n",
       "   rub_monthly_fee  rub_per_gb  rub_per_message  rub_per_minute tariff_name  \n",
       "0              550         200                3               3       smart  \n",
       "1             1950         150                1               1       ultra  "
      ]
     },
     "execution_count": 9,
     "metadata": {},
     "output_type": "execute_result"
    }
   ],
   "source": [
    "tariffs=pd.read_csv('/datasets/tariffs.csv')\n",
    "tariffs.info()\n",
    "tariffs.head()"
   ]
  },
  {
   "cell_type": "markdown",
   "metadata": {},
   "source": [
    "### В датафрейме tariffs собрана информация по двум рассматриваемым тарифам «Смарт» и «Ультра»:\n",
    "1. messages_included - число смс, включенных в тариф\n",
    "2. mb_per_month_included - количество МБайт интернета, включенных в тариф\n",
    "3. minutes_included - число минут разговора, включенных в тариф\n",
    "4. rub_monthly_fee - ежемесячная плата\n",
    "5. rub_per_gb - стоимость 1 Гб интернет-трафика сверх тарифного пакета\n",
    "6. rub_per_message - стоимость 1 сообщения сверх тарифного пакета\n",
    "7. rub_per_minute - стоимость минуты разговора сверх тарифного пакета\n",
    "8. tariff_name - название тарифа\n"
   ]
  },
  {
   "cell_type": "code",
   "execution_count": 10,
   "metadata": {},
   "outputs": [
    {
     "name": "stdout",
     "output_type": "stream",
     "text": [
      "<class 'pandas.core.frame.DataFrame'>\n",
      "RangeIndex: 500 entries, 0 to 499\n",
      "Data columns (total 8 columns):\n",
      " #   Column      Non-Null Count  Dtype \n",
      "---  ------      --------------  ----- \n",
      " 0   user_id     500 non-null    int64 \n",
      " 1   age         500 non-null    int64 \n",
      " 2   churn_date  38 non-null     object\n",
      " 3   city        500 non-null    object\n",
      " 4   first_name  500 non-null    object\n",
      " 5   last_name   500 non-null    object\n",
      " 6   reg_date    500 non-null    object\n",
      " 7   tariff      500 non-null    object\n",
      "dtypes: int64(2), object(6)\n",
      "memory usage: 31.4+ KB\n"
     ]
    },
    {
     "data": {
      "text/html": [
       "<div>\n",
       "<style scoped>\n",
       "    .dataframe tbody tr th:only-of-type {\n",
       "        vertical-align: middle;\n",
       "    }\n",
       "\n",
       "    .dataframe tbody tr th {\n",
       "        vertical-align: top;\n",
       "    }\n",
       "\n",
       "    .dataframe thead th {\n",
       "        text-align: right;\n",
       "    }\n",
       "</style>\n",
       "<table border=\"1\" class=\"dataframe\">\n",
       "  <thead>\n",
       "    <tr style=\"text-align: right;\">\n",
       "      <th></th>\n",
       "      <th>user_id</th>\n",
       "      <th>age</th>\n",
       "      <th>churn_date</th>\n",
       "      <th>city</th>\n",
       "      <th>first_name</th>\n",
       "      <th>last_name</th>\n",
       "      <th>reg_date</th>\n",
       "      <th>tariff</th>\n",
       "    </tr>\n",
       "  </thead>\n",
       "  <tbody>\n",
       "    <tr>\n",
       "      <th>0</th>\n",
       "      <td>1000</td>\n",
       "      <td>52</td>\n",
       "      <td>NaN</td>\n",
       "      <td>Краснодар</td>\n",
       "      <td>Рафаил</td>\n",
       "      <td>Верещагин</td>\n",
       "      <td>2018-05-25</td>\n",
       "      <td>ultra</td>\n",
       "    </tr>\n",
       "    <tr>\n",
       "      <th>1</th>\n",
       "      <td>1001</td>\n",
       "      <td>41</td>\n",
       "      <td>NaN</td>\n",
       "      <td>Москва</td>\n",
       "      <td>Иван</td>\n",
       "      <td>Ежов</td>\n",
       "      <td>2018-11-01</td>\n",
       "      <td>smart</td>\n",
       "    </tr>\n",
       "    <tr>\n",
       "      <th>2</th>\n",
       "      <td>1002</td>\n",
       "      <td>59</td>\n",
       "      <td>NaN</td>\n",
       "      <td>Стерлитамак</td>\n",
       "      <td>Евгений</td>\n",
       "      <td>Абрамович</td>\n",
       "      <td>2018-06-17</td>\n",
       "      <td>smart</td>\n",
       "    </tr>\n",
       "    <tr>\n",
       "      <th>3</th>\n",
       "      <td>1003</td>\n",
       "      <td>23</td>\n",
       "      <td>NaN</td>\n",
       "      <td>Москва</td>\n",
       "      <td>Белла</td>\n",
       "      <td>Белякова</td>\n",
       "      <td>2018-08-17</td>\n",
       "      <td>ultra</td>\n",
       "    </tr>\n",
       "    <tr>\n",
       "      <th>4</th>\n",
       "      <td>1004</td>\n",
       "      <td>68</td>\n",
       "      <td>NaN</td>\n",
       "      <td>Новокузнецк</td>\n",
       "      <td>Татьяна</td>\n",
       "      <td>Авдеенко</td>\n",
       "      <td>2018-05-14</td>\n",
       "      <td>ultra</td>\n",
       "    </tr>\n",
       "  </tbody>\n",
       "</table>\n",
       "</div>"
      ],
      "text/plain": [
       "   user_id  age churn_date         city first_name  last_name    reg_date  \\\n",
       "0     1000   52        NaN    Краснодар     Рафаил  Верещагин  2018-05-25   \n",
       "1     1001   41        NaN       Москва       Иван       Ежов  2018-11-01   \n",
       "2     1002   59        NaN  Стерлитамак    Евгений  Абрамович  2018-06-17   \n",
       "3     1003   23        NaN       Москва      Белла   Белякова  2018-08-17   \n",
       "4     1004   68        NaN  Новокузнецк    Татьяна   Авдеенко  2018-05-14   \n",
       "\n",
       "  tariff  \n",
       "0  ultra  \n",
       "1  smart  \n",
       "2  smart  \n",
       "3  ultra  \n",
       "4  ultra  "
      ]
     },
     "execution_count": 10,
     "metadata": {},
     "output_type": "execute_result"
    }
   ],
   "source": [
    "users=pd.read_csv('/datasets/users.csv')\n",
    "users.info()\n",
    "users.head()"
   ]
  },
  {
   "cell_type": "code",
   "execution_count": 11,
   "metadata": {},
   "outputs": [
    {
     "data": {
      "text/html": [
       "<div>\n",
       "<style scoped>\n",
       "    .dataframe tbody tr th:only-of-type {\n",
       "        vertical-align: middle;\n",
       "    }\n",
       "\n",
       "    .dataframe tbody tr th {\n",
       "        vertical-align: top;\n",
       "    }\n",
       "\n",
       "    .dataframe thead th {\n",
       "        text-align: right;\n",
       "    }\n",
       "</style>\n",
       "<table border=\"1\" class=\"dataframe\">\n",
       "  <thead>\n",
       "    <tr style=\"text-align: right;\">\n",
       "      <th></th>\n",
       "      <th>user_id</th>\n",
       "      <th>age</th>\n",
       "      <th>churn_date</th>\n",
       "      <th>city</th>\n",
       "      <th>first_name</th>\n",
       "      <th>last_name</th>\n",
       "      <th>reg_date</th>\n",
       "      <th>tariff</th>\n",
       "    </tr>\n",
       "  </thead>\n",
       "  <tbody>\n",
       "    <tr>\n",
       "      <th>min</th>\n",
       "      <td>1000</td>\n",
       "      <td>18</td>\n",
       "      <td>NaN</td>\n",
       "      <td>Архангельск</td>\n",
       "      <td>Авксентий</td>\n",
       "      <td>Ёлчина</td>\n",
       "      <td>2018-01-01</td>\n",
       "      <td>smart</td>\n",
       "    </tr>\n",
       "    <tr>\n",
       "      <th>max</th>\n",
       "      <td>1499</td>\n",
       "      <td>75</td>\n",
       "      <td>NaN</td>\n",
       "      <td>Ярославль</td>\n",
       "      <td>Яна</td>\n",
       "      <td>Яшина</td>\n",
       "      <td>2018-12-31</td>\n",
       "      <td>ultra</td>\n",
       "    </tr>\n",
       "    <tr>\n",
       "      <th>nunique</th>\n",
       "      <td>500</td>\n",
       "      <td>58</td>\n",
       "      <td>33.0</td>\n",
       "      <td>76</td>\n",
       "      <td>246</td>\n",
       "      <td>419</td>\n",
       "      <td>270</td>\n",
       "      <td>2</td>\n",
       "    </tr>\n",
       "  </tbody>\n",
       "</table>\n",
       "</div>"
      ],
      "text/plain": [
       "         user_id  age  churn_date         city first_name last_name  \\\n",
       "min         1000   18         NaN  Архангельск  Авксентий    Ёлчина   \n",
       "max         1499   75         NaN    Ярославль        Яна     Яшина   \n",
       "nunique      500   58        33.0           76        246       419   \n",
       "\n",
       "           reg_date tariff  \n",
       "min      2018-01-01  smart  \n",
       "max      2018-12-31  ultra  \n",
       "nunique         270      2  "
      ]
     },
     "execution_count": 11,
     "metadata": {},
     "output_type": "execute_result"
    }
   ],
   "source": [
    "users.agg(['min', 'max','nunique'])"
   ]
  },
  {
   "cell_type": "code",
   "execution_count": 12,
   "metadata": {
    "scrolled": true
   },
   "outputs": [
    {
     "name": "stdout",
     "output_type": "stream",
     "text": [
      "\n",
      "Даты, когда пользователи отключались от тарифов:\n"
     ]
    },
    {
     "data": {
      "text/plain": [
       "array(['2018-08-17', '2018-08-31', '2018-09-02', '2018-09-26',\n",
       "       '2018-09-27', '2018-10-03', '2018-10-04', '2018-10-05',\n",
       "       '2018-10-14', '2018-10-25', '2018-10-27', '2018-10-28',\n",
       "       '2018-11-07', '2018-11-13', '2018-11-16', '2018-11-21',\n",
       "       '2018-11-22', '2018-11-26', '2018-11-27', '2018-11-30',\n",
       "       '2018-12-03', '2018-12-09', '2018-12-11', '2018-12-14',\n",
       "       '2018-12-16', '2018-12-18', '2018-12-20', '2018-12-21',\n",
       "       '2018-12-23', '2018-12-24', '2018-12-25', '2018-12-26',\n",
       "       '2018-12-30', nan], dtype=object)"
      ]
     },
     "execution_count": 12,
     "metadata": {},
     "output_type": "execute_result"
    }
   ],
   "source": [
    "print()\n",
    "print('Даты, когда пользователи отключались от тарифов:')\n",
    "users['churn_date'].sort_values().unique() "
   ]
  },
  {
   "cell_type": "code",
   "execution_count": 13,
   "metadata": {
    "scrolled": false
   },
   "outputs": [
    {
     "name": "stdout",
     "output_type": "stream",
     "text": [
      "\n",
      "Число пользователей, отключившихся от тарифов в 2018 году:\n"
     ]
    },
    {
     "data": {
      "text/plain": [
       "smart    23\n",
       "ultra    15\n",
       "Name: tariff, dtype: int64"
      ]
     },
     "execution_count": 13,
     "metadata": {},
     "output_type": "execute_result"
    }
   ],
   "source": [
    "print()\n",
    "print('Число пользователей, отключившихся от тарифов в 2018 году:')\n",
    "users[~users['churn_date'].isna()]['tariff'].value_counts() "
   ]
  },
  {
   "cell_type": "code",
   "execution_count": 14,
   "metadata": {
    "scrolled": true
   },
   "outputs": [
    {
     "data": {
      "text/html": [
       "<div>\n",
       "<style scoped>\n",
       "    .dataframe tbody tr th:only-of-type {\n",
       "        vertical-align: middle;\n",
       "    }\n",
       "\n",
       "    .dataframe tbody tr th {\n",
       "        vertical-align: top;\n",
       "    }\n",
       "\n",
       "    .dataframe thead th {\n",
       "        text-align: right;\n",
       "    }\n",
       "</style>\n",
       "<table border=\"1\" class=\"dataframe\">\n",
       "  <thead>\n",
       "    <tr style=\"text-align: right;\">\n",
       "      <th></th>\n",
       "      <th>user_id</th>\n",
       "      <th>age</th>\n",
       "      <th>churn_date</th>\n",
       "      <th>city</th>\n",
       "      <th>first_name</th>\n",
       "      <th>last_name</th>\n",
       "      <th>reg_date</th>\n",
       "      <th>tariff</th>\n",
       "      <th>full_name</th>\n",
       "    </tr>\n",
       "  </thead>\n",
       "  <tbody>\n",
       "    <tr>\n",
       "      <th>0</th>\n",
       "      <td>1000</td>\n",
       "      <td>52</td>\n",
       "      <td>NaN</td>\n",
       "      <td>Краснодар</td>\n",
       "      <td>Рафаил</td>\n",
       "      <td>Верещагин</td>\n",
       "      <td>2018-05-25</td>\n",
       "      <td>ultra</td>\n",
       "      <td>Рафаил Верещагин</td>\n",
       "    </tr>\n",
       "    <tr>\n",
       "      <th>1</th>\n",
       "      <td>1001</td>\n",
       "      <td>41</td>\n",
       "      <td>NaN</td>\n",
       "      <td>Москва</td>\n",
       "      <td>Иван</td>\n",
       "      <td>Ежов</td>\n",
       "      <td>2018-11-01</td>\n",
       "      <td>smart</td>\n",
       "      <td>Иван Ежов</td>\n",
       "    </tr>\n",
       "    <tr>\n",
       "      <th>2</th>\n",
       "      <td>1002</td>\n",
       "      <td>59</td>\n",
       "      <td>NaN</td>\n",
       "      <td>Стерлитамак</td>\n",
       "      <td>Евгений</td>\n",
       "      <td>Абрамович</td>\n",
       "      <td>2018-06-17</td>\n",
       "      <td>smart</td>\n",
       "      <td>Евгений Абрамович</td>\n",
       "    </tr>\n",
       "    <tr>\n",
       "      <th>3</th>\n",
       "      <td>1003</td>\n",
       "      <td>23</td>\n",
       "      <td>NaN</td>\n",
       "      <td>Москва</td>\n",
       "      <td>Белла</td>\n",
       "      <td>Белякова</td>\n",
       "      <td>2018-08-17</td>\n",
       "      <td>ultra</td>\n",
       "      <td>Белла Белякова</td>\n",
       "    </tr>\n",
       "    <tr>\n",
       "      <th>4</th>\n",
       "      <td>1004</td>\n",
       "      <td>68</td>\n",
       "      <td>NaN</td>\n",
       "      <td>Новокузнецк</td>\n",
       "      <td>Татьяна</td>\n",
       "      <td>Авдеенко</td>\n",
       "      <td>2018-05-14</td>\n",
       "      <td>ultra</td>\n",
       "      <td>Татьяна Авдеенко</td>\n",
       "    </tr>\n",
       "  </tbody>\n",
       "</table>\n",
       "</div>"
      ],
      "text/plain": [
       "   user_id  age churn_date         city first_name  last_name    reg_date  \\\n",
       "0     1000   52        NaN    Краснодар     Рафаил  Верещагин  2018-05-25   \n",
       "1     1001   41        NaN       Москва       Иван       Ежов  2018-11-01   \n",
       "2     1002   59        NaN  Стерлитамак    Евгений  Абрамович  2018-06-17   \n",
       "3     1003   23        NaN       Москва      Белла   Белякова  2018-08-17   \n",
       "4     1004   68        NaN  Новокузнецк    Татьяна   Авдеенко  2018-05-14   \n",
       "\n",
       "  tariff          full_name  \n",
       "0  ultra   Рафаил Верещагин  \n",
       "1  smart          Иван Ежов  \n",
       "2  smart  Евгений Абрамович  \n",
       "3  ultra     Белла Белякова  \n",
       "4  ultra   Татьяна Авдеенко  "
      ]
     },
     "execution_count": 14,
     "metadata": {},
     "output_type": "execute_result"
    }
   ],
   "source": [
    "users['full_name']=users['first_name'] + ' ' + users['last_name']\n",
    "users.head()"
   ]
  },
  {
   "cell_type": "code",
   "execution_count": 15,
   "metadata": {},
   "outputs": [
    {
     "data": {
      "text/plain": [
       "500"
      ]
     },
     "execution_count": 15,
     "metadata": {},
     "output_type": "execute_result"
    }
   ],
   "source": [
    "users['full_name'].nunique()"
   ]
  },
  {
   "cell_type": "markdown",
   "metadata": {},
   "source": [
    "### В датафрейме users собрана информация о пользователях:\n",
    "1. user_id - id пользователя\n",
    "2. age - возраст пользователя\n",
    "3. churn_date - дата отключения пользователя от тарифа\n",
    "4. city - город проживания пользователя\n",
    "5. first_name - имя пользователя\n",
    "6. last_name - фамилия пользователя\n",
    "7. reg_date - дата подключения к тарифу\n",
    "8. tariff - название тарифа\n",
    "\n",
    "### Выводы по предварительному анализу таблицы:\n",
    "1. Для того, чтобы в дальнейшем было удобнее работать с датами, тип данных в столбцах \"churn_date\" и \"reg_date\" необходимо будет заменить с object на datetime64 \n",
    "2. В таблице хранится информация о пользователях, подключившихся к тарифам в период с 1 января по 31 декабря 2018 года - всего за 365 дней.\n",
    "3. 38 пользователей за рассматриваемый период успели отключиться от тарифа, причем 23 человека отключились от тарифа \"smart\" и 15 от тарифа \"ultra\", отключения происходили с августа по декабрь. Значения NaN в столбце \"churn_date\", судя по всему, говорят о том, что пользователи пока еще не отключились от тарифа\n",
    "4. Среди пользователей тарифов люди в возрасте от 18 до 75 лет\n",
    "5. В таблице представлено 500 уникальных id пользователей в то время, как уникальных фамилий только 419 - похоже среди людей в таблице есть однофамильцы - возможно родственники. Количество уникальных полных имен (имя + фамилия) соответствует числу уникальных id.\n",
    "6. В талице представлена информация по пользователям, проживающим в 76 различных городах"
   ]
  },
  {
   "cell_type": "markdown",
   "metadata": {},
   "source": [
    "## Вывод\n",
    "1. Для анализа представлено 5 таблиц с данными по пользователям двух тарифов \"smart\" и \"ultra\":\n",
    "    1. \"calls\" - информация о дате и длительности звонков, совершенных пользователями\n",
    "    2. \"internet\" - данные о датах выхода в интернет и объеме использованного пользователями интернет-трафика\n",
    "    3. \"messages\" - информация об отправленных пользователями сообщениях\n",
    "    4. \"tariffs\" - условия тарифов \"smart\" и \"ultra\" \n",
    "    5. \"users\" - информация о пользователях тарифов\n",
    "2. В таблицах хранится информация о действиях пользователей с 1 января по 31 декабря 2018 года - всего за 365 дней.\n",
    "3. Следующие столбцы требуют преобразования типа данных из object в datetime64:\n",
    "    1. 'call_date' в таблице \"calls\"\n",
    "    2. 'session_date' в таблице \"internet\"\n",
    "    3. 'message_date' в таблице \"messages\"\n",
    "    4.  \"churn_date\" и \"reg_date\" в таблице \"users\"\n",
    "4. В таблицах встречаются нулевые значения. Это\n",
    "    1. длительность звонков — 0.0 минут. Это могут быть пропущенные звонки. \n",
    "    2. объём потраченного за сессию интернет-трафика - 0 МБайт. Возможно, пользователь случайно не туда нажал.\n",
    "5. Хотя в базе данных (таблице \"users\") содержится информация о 500 различных пользователях, не все пользователи пользуются одновременно всеми услугами:\n",
    "    1. данные по звонкам есть только для 492 пользователей\n",
    "    2. данные по смс есть только для 426 пользователей\n",
    "    3. данные по использованию интернета есть только для 497 пользователей\n",
    "6. 38 пользователей за рассматриваемый период успели отключиться от тарифа, причем 23 человека отключились от тарифа \"smart\" и 15 от тарифа \"ultra\", отключения происходили с августа по декабрь.\n",
    "7. Среди пользователей тарифов люди в возрасте от 18 до 75 лет, проживающие в 76 различных городах"
   ]
  },
  {
   "cell_type": "markdown",
   "metadata": {},
   "source": [
    " \n",
    "   "
   ]
  },
  {
   "cell_type": "markdown",
   "metadata": {},
   "source": [
    "## Шаг 2. Подготовка данных<a id=\"step2\"></a> "
   ]
  },
  {
   "cell_type": "markdown",
   "metadata": {},
   "source": [
    "### Преобразуем тип данных с датами из object в datetime64 в столбцах таблиц:\n",
    "1. 'call_date' в таблице \"calls\"\n",
    "2. 'session_date' в таблице \"internet\"\n",
    "3. 'message_date' в таблице \"messages\"\n",
    "4.  \"churn_date\" и \"reg_date\" в таблице \"users\""
   ]
  },
  {
   "cell_type": "code",
   "execution_count": 16,
   "metadata": {},
   "outputs": [],
   "source": [
    "calls['call_date']=pd.to_datetime(calls['call_date'],format='%Y-%m-%d')"
   ]
  },
  {
   "cell_type": "code",
   "execution_count": 17,
   "metadata": {},
   "outputs": [
    {
     "name": "stdout",
     "output_type": "stream",
     "text": [
      "<class 'pandas.core.frame.DataFrame'>\n",
      "RangeIndex: 202607 entries, 0 to 202606\n",
      "Data columns (total 4 columns):\n",
      " #   Column     Non-Null Count   Dtype         \n",
      "---  ------     --------------   -----         \n",
      " 0   id         202607 non-null  object        \n",
      " 1   call_date  202607 non-null  datetime64[ns]\n",
      " 2   duration   202607 non-null  float64       \n",
      " 3   user_id    202607 non-null  int64         \n",
      "dtypes: datetime64[ns](1), float64(1), int64(1), object(1)\n",
      "memory usage: 6.2+ MB\n"
     ]
    }
   ],
   "source": [
    "calls.info()"
   ]
  },
  {
   "cell_type": "code",
   "execution_count": 18,
   "metadata": {},
   "outputs": [],
   "source": [
    "internet['session_date']=pd.to_datetime(internet['session_date'],format='%Y-%m-%d')"
   ]
  },
  {
   "cell_type": "code",
   "execution_count": 19,
   "metadata": {},
   "outputs": [
    {
     "name": "stdout",
     "output_type": "stream",
     "text": [
      "<class 'pandas.core.frame.DataFrame'>\n",
      "RangeIndex: 149396 entries, 0 to 149395\n",
      "Data columns (total 5 columns):\n",
      " #   Column        Non-Null Count   Dtype         \n",
      "---  ------        --------------   -----         \n",
      " 0   Unnamed: 0    149396 non-null  int64         \n",
      " 1   id            149396 non-null  object        \n",
      " 2   mb_used       149396 non-null  float64       \n",
      " 3   session_date  149396 non-null  datetime64[ns]\n",
      " 4   user_id       149396 non-null  int64         \n",
      "dtypes: datetime64[ns](1), float64(1), int64(2), object(1)\n",
      "memory usage: 5.7+ MB\n"
     ]
    }
   ],
   "source": [
    "internet.info()"
   ]
  },
  {
   "cell_type": "code",
   "execution_count": 20,
   "metadata": {},
   "outputs": [],
   "source": [
    "messages['message_date']=pd.to_datetime(messages['message_date'],format='%Y-%m-%d')"
   ]
  },
  {
   "cell_type": "code",
   "execution_count": 21,
   "metadata": {},
   "outputs": [
    {
     "name": "stdout",
     "output_type": "stream",
     "text": [
      "<class 'pandas.core.frame.DataFrame'>\n",
      "RangeIndex: 123036 entries, 0 to 123035\n",
      "Data columns (total 3 columns):\n",
      " #   Column        Non-Null Count   Dtype         \n",
      "---  ------        --------------   -----         \n",
      " 0   id            123036 non-null  object        \n",
      " 1   message_date  123036 non-null  datetime64[ns]\n",
      " 2   user_id       123036 non-null  int64         \n",
      "dtypes: datetime64[ns](1), int64(1), object(1)\n",
      "memory usage: 2.8+ MB\n"
     ]
    }
   ],
   "source": [
    "messages.info()"
   ]
  },
  {
   "cell_type": "code",
   "execution_count": 22,
   "metadata": {},
   "outputs": [],
   "source": [
    "users['churn_date']=pd.to_datetime(users['churn_date'],format='%Y-%m-%d')"
   ]
  },
  {
   "cell_type": "code",
   "execution_count": 23,
   "metadata": {},
   "outputs": [],
   "source": [
    "users['reg_date']=pd.to_datetime(users['reg_date'],format='%Y-%m-%d')"
   ]
  },
  {
   "cell_type": "code",
   "execution_count": 24,
   "metadata": {},
   "outputs": [
    {
     "name": "stdout",
     "output_type": "stream",
     "text": [
      "<class 'pandas.core.frame.DataFrame'>\n",
      "RangeIndex: 500 entries, 0 to 499\n",
      "Data columns (total 9 columns):\n",
      " #   Column      Non-Null Count  Dtype         \n",
      "---  ------      --------------  -----         \n",
      " 0   user_id     500 non-null    int64         \n",
      " 1   age         500 non-null    int64         \n",
      " 2   churn_date  38 non-null     datetime64[ns]\n",
      " 3   city        500 non-null    object        \n",
      " 4   first_name  500 non-null    object        \n",
      " 5   last_name   500 non-null    object        \n",
      " 6   reg_date    500 non-null    datetime64[ns]\n",
      " 7   tariff      500 non-null    object        \n",
      " 8   full_name   500 non-null    object        \n",
      "dtypes: datetime64[ns](2), int64(2), object(5)\n",
      "memory usage: 35.3+ KB\n"
     ]
    }
   ],
   "source": [
    "users.info()"
   ]
  },
  {
   "cell_type": "markdown",
   "metadata": {},
   "source": [
    "### В данных пока не было обнаружено каких-то очевидных ошибок. \n",
    "### Из значений, которые могут повлиять на дальнейший анализ замечено:\n",
    "1. Длительность звонков — 0.0 минут. Это могут быть пропущенные звонки. Не будем пока их трогать\n",
    "2. Объём потраченного за сессию интернет-трафика - 0 МБайт. Возможно, пользователь случайно не туда нажал. Оставим пока как есть."
   ]
  },
  {
   "cell_type": "markdown",
   "metadata": {},
   "source": [
    "### Добавим в таблицу \"users\" столбец с порядковыми номерами месяцев для  даты регистрации и прекращения пользования тарифом"
   ]
  },
  {
   "cell_type": "code",
   "execution_count": 25,
   "metadata": {},
   "outputs": [],
   "source": [
    "users['reg_month']=users['reg_date'].dt.month\n",
    "users['churn_month']=users['churn_date'].dt.month"
   ]
  },
  {
   "cell_type": "markdown",
   "metadata": {},
   "source": [
    "### Заменим NaN в столбце \"churn_month\" на 12 - это потребуется в дальнейшем для корректного определения периода пользования тарифом - клиенты, которые не отключили тариф, пользовались им до 12 месяца 2018 года вклюительно"
   ]
  },
  {
   "cell_type": "code",
   "execution_count": 26,
   "metadata": {},
   "outputs": [],
   "source": [
    "users.loc[users['churn_month'].isna(), 'churn_month'] = 12"
   ]
  },
  {
   "cell_type": "markdown",
   "metadata": {},
   "source": [
    "### Поменяем в столбце 'churn_month' таблицы \"users\" тип данных на int64"
   ]
  },
  {
   "cell_type": "code",
   "execution_count": 27,
   "metadata": {},
   "outputs": [],
   "source": [
    "users['churn_month']=users['churn_month'].astype(int)"
   ]
  },
  {
   "cell_type": "markdown",
   "metadata": {},
   "source": [
    "### Объединим каждую из таблиц \"calls\", \"internet\" и \"message\"s с данными таблицы \"users\""
   ]
  },
  {
   "cell_type": "code",
   "execution_count": 28,
   "metadata": {},
   "outputs": [],
   "source": [
    "calls_users=calls.merge(users, on = 'user_id', how='outer')\n",
    "internet_users=internet.merge(users, on = 'user_id', how='outer')\n",
    "messages_users=messages.merge(users, on = 'user_id', how='outer')"
   ]
  },
  {
   "cell_type": "markdown",
   "metadata": {},
   "source": [
    "### Посчитаем для каждого пользователя \n",
    "1. Количество сделанных звонков и израсходованных минут разговора по месяцам;\n",
    "2. Количество отправленных сообщений по месяцам;\n",
    "3. Объем израсходованного интернет-трафика по месяцам;\n",
    "4. Помесячную выручку с каждого пользователя."
   ]
  },
  {
   "cell_type": "markdown",
   "metadata": {},
   "source": [
    "### Добавим в таблицы \"calls_users\", \"messages_users\" и \"internet_users\" столбец с порядковыми номерами месяцев для дат звонков, сообщений и выхода в интернет"
   ]
  },
  {
   "cell_type": "code",
   "execution_count": 29,
   "metadata": {},
   "outputs": [],
   "source": [
    "calls_users['month']=calls_users['call_date'].dt.month\n",
    "messages_users['month']=messages_users['message_date'].dt.month\n",
    "internet_users['month']=internet_users['session_date'].dt.month"
   ]
  },
  {
   "cell_type": "markdown",
   "metadata": {},
   "source": [
    "### Проверим, все ли пользователи использовали услуги связи в период, когда были к ним подключены"
   ]
  },
  {
   "cell_type": "code",
   "execution_count": 30,
   "metadata": {
    "scrolled": true
   },
   "outputs": [
    {
     "data": {
      "text/html": [
       "<div>\n",
       "<style scoped>\n",
       "    .dataframe tbody tr th:only-of-type {\n",
       "        vertical-align: middle;\n",
       "    }\n",
       "\n",
       "    .dataframe tbody tr th {\n",
       "        vertical-align: top;\n",
       "    }\n",
       "\n",
       "    .dataframe thead th {\n",
       "        text-align: right;\n",
       "    }\n",
       "</style>\n",
       "<table border=\"1\" class=\"dataframe\">\n",
       "  <thead>\n",
       "    <tr style=\"text-align: right;\">\n",
       "      <th></th>\n",
       "      <th>id</th>\n",
       "      <th>call_date</th>\n",
       "      <th>duration</th>\n",
       "      <th>user_id</th>\n",
       "      <th>age</th>\n",
       "      <th>churn_date</th>\n",
       "      <th>city</th>\n",
       "      <th>first_name</th>\n",
       "      <th>last_name</th>\n",
       "      <th>reg_date</th>\n",
       "      <th>tariff</th>\n",
       "      <th>full_name</th>\n",
       "      <th>reg_month</th>\n",
       "      <th>churn_month</th>\n",
       "      <th>month</th>\n",
       "    </tr>\n",
       "  </thead>\n",
       "  <tbody>\n",
       "  </tbody>\n",
       "</table>\n",
       "</div>"
      ],
      "text/plain": [
       "Empty DataFrame\n",
       "Columns: [id, call_date, duration, user_id, age, churn_date, city, first_name, last_name, reg_date, tariff, full_name, reg_month, churn_month, month]\n",
       "Index: []"
      ]
     },
     "execution_count": 30,
     "metadata": {},
     "output_type": "execute_result"
    }
   ],
   "source": [
    "calls_users[(calls_users['month']<calls_users['reg_month'])|(calls_users['month']>calls_users['churn_month'])]"
   ]
  },
  {
   "cell_type": "code",
   "execution_count": 31,
   "metadata": {},
   "outputs": [
    {
     "data": {
      "text/html": [
       "<div>\n",
       "<style scoped>\n",
       "    .dataframe tbody tr th:only-of-type {\n",
       "        vertical-align: middle;\n",
       "    }\n",
       "\n",
       "    .dataframe tbody tr th {\n",
       "        vertical-align: top;\n",
       "    }\n",
       "\n",
       "    .dataframe thead th {\n",
       "        text-align: right;\n",
       "    }\n",
       "</style>\n",
       "<table border=\"1\" class=\"dataframe\">\n",
       "  <thead>\n",
       "    <tr style=\"text-align: right;\">\n",
       "      <th></th>\n",
       "      <th>id</th>\n",
       "      <th>message_date</th>\n",
       "      <th>user_id</th>\n",
       "      <th>age</th>\n",
       "      <th>churn_date</th>\n",
       "      <th>city</th>\n",
       "      <th>first_name</th>\n",
       "      <th>last_name</th>\n",
       "      <th>reg_date</th>\n",
       "      <th>tariff</th>\n",
       "      <th>full_name</th>\n",
       "      <th>reg_month</th>\n",
       "      <th>churn_month</th>\n",
       "      <th>month</th>\n",
       "    </tr>\n",
       "  </thead>\n",
       "  <tbody>\n",
       "  </tbody>\n",
       "</table>\n",
       "</div>"
      ],
      "text/plain": [
       "Empty DataFrame\n",
       "Columns: [id, message_date, user_id, age, churn_date, city, first_name, last_name, reg_date, tariff, full_name, reg_month, churn_month, month]\n",
       "Index: []"
      ]
     },
     "execution_count": 31,
     "metadata": {},
     "output_type": "execute_result"
    }
   ],
   "source": [
    "messages_users[(messages_users['month']<messages_users['reg_month'])|(messages_users['month']>messages_users['churn_month'])]"
   ]
  },
  {
   "cell_type": "code",
   "execution_count": 32,
   "metadata": {
    "scrolled": false
   },
   "outputs": [
    {
     "data": {
      "text/html": [
       "<div>\n",
       "<style scoped>\n",
       "    .dataframe tbody tr th:only-of-type {\n",
       "        vertical-align: middle;\n",
       "    }\n",
       "\n",
       "    .dataframe tbody tr th {\n",
       "        vertical-align: top;\n",
       "    }\n",
       "\n",
       "    .dataframe thead th {\n",
       "        text-align: right;\n",
       "    }\n",
       "</style>\n",
       "<table border=\"1\" class=\"dataframe\">\n",
       "  <thead>\n",
       "    <tr style=\"text-align: right;\">\n",
       "      <th></th>\n",
       "      <th>Unnamed: 0</th>\n",
       "      <th>id</th>\n",
       "      <th>mb_used</th>\n",
       "      <th>session_date</th>\n",
       "      <th>user_id</th>\n",
       "      <th>age</th>\n",
       "      <th>churn_date</th>\n",
       "      <th>city</th>\n",
       "      <th>first_name</th>\n",
       "      <th>last_name</th>\n",
       "      <th>reg_date</th>\n",
       "      <th>tariff</th>\n",
       "      <th>full_name</th>\n",
       "      <th>reg_month</th>\n",
       "      <th>churn_month</th>\n",
       "      <th>month</th>\n",
       "    </tr>\n",
       "  </thead>\n",
       "  <tbody>\n",
       "  </tbody>\n",
       "</table>\n",
       "</div>"
      ],
      "text/plain": [
       "Empty DataFrame\n",
       "Columns: [Unnamed: 0, id, mb_used, session_date, user_id, age, churn_date, city, first_name, last_name, reg_date, tariff, full_name, reg_month, churn_month, month]\n",
       "Index: []"
      ]
     },
     "execution_count": 32,
     "metadata": {},
     "output_type": "execute_result"
    }
   ],
   "source": [
    "internet_users[(internet_users['month']<internet_users['reg_month'])|(internet_users['month']>internet_users['churn_month'])]"
   ]
  },
  {
   "cell_type": "markdown",
   "metadata": {},
   "source": [
    "### Похоже, что в данных нет ошибок и пользователи использовали услуги связи только в период, когда были к ним подключены"
   ]
  },
  {
   "cell_type": "markdown",
   "metadata": {},
   "source": [
    "### В столбце \"month\" таблиц \"calls_users\", \"messages_users\" и \"internet_users\" заменим пустые значения на 0"
   ]
  },
  {
   "cell_type": "code",
   "execution_count": 33,
   "metadata": {
    "scrolled": false
   },
   "outputs": [
    {
     "data": {
      "text/html": [
       "<div>\n",
       "<style scoped>\n",
       "    .dataframe tbody tr th:only-of-type {\n",
       "        vertical-align: middle;\n",
       "    }\n",
       "\n",
       "    .dataframe tbody tr th {\n",
       "        vertical-align: top;\n",
       "    }\n",
       "\n",
       "    .dataframe thead th {\n",
       "        text-align: right;\n",
       "    }\n",
       "</style>\n",
       "<table border=\"1\" class=\"dataframe\">\n",
       "  <thead>\n",
       "    <tr style=\"text-align: right;\">\n",
       "      <th></th>\n",
       "      <th>Unnamed: 0</th>\n",
       "      <th>id</th>\n",
       "      <th>mb_used</th>\n",
       "      <th>session_date</th>\n",
       "      <th>user_id</th>\n",
       "      <th>age</th>\n",
       "      <th>churn_date</th>\n",
       "      <th>city</th>\n",
       "      <th>first_name</th>\n",
       "      <th>last_name</th>\n",
       "      <th>reg_date</th>\n",
       "      <th>tariff</th>\n",
       "      <th>full_name</th>\n",
       "      <th>reg_month</th>\n",
       "      <th>churn_month</th>\n",
       "      <th>month</th>\n",
       "    </tr>\n",
       "  </thead>\n",
       "  <tbody>\n",
       "    <tr>\n",
       "      <th>149394</th>\n",
       "      <td>149394.0</td>\n",
       "      <td>1499_155</td>\n",
       "      <td>1246.32</td>\n",
       "      <td>2018-11-26</td>\n",
       "      <td>1499</td>\n",
       "      <td>35</td>\n",
       "      <td>NaT</td>\n",
       "      <td>Пермь</td>\n",
       "      <td>Гектор</td>\n",
       "      <td>Корнилов</td>\n",
       "      <td>2018-09-27</td>\n",
       "      <td>smart</td>\n",
       "      <td>Гектор Корнилов</td>\n",
       "      <td>9</td>\n",
       "      <td>12</td>\n",
       "      <td>11.0</td>\n",
       "    </tr>\n",
       "    <tr>\n",
       "      <th>149395</th>\n",
       "      <td>149395.0</td>\n",
       "      <td>1499_156</td>\n",
       "      <td>544.37</td>\n",
       "      <td>2018-10-26</td>\n",
       "      <td>1499</td>\n",
       "      <td>35</td>\n",
       "      <td>NaT</td>\n",
       "      <td>Пермь</td>\n",
       "      <td>Гектор</td>\n",
       "      <td>Корнилов</td>\n",
       "      <td>2018-09-27</td>\n",
       "      <td>smart</td>\n",
       "      <td>Гектор Корнилов</td>\n",
       "      <td>9</td>\n",
       "      <td>12</td>\n",
       "      <td>10.0</td>\n",
       "    </tr>\n",
       "    <tr>\n",
       "      <th>149396</th>\n",
       "      <td>NaN</td>\n",
       "      <td>NaN</td>\n",
       "      <td>NaN</td>\n",
       "      <td>NaT</td>\n",
       "      <td>1128</td>\n",
       "      <td>51</td>\n",
       "      <td>2018-12-23</td>\n",
       "      <td>Волжский</td>\n",
       "      <td>Ксения</td>\n",
       "      <td>Агаева</td>\n",
       "      <td>2018-12-15</td>\n",
       "      <td>ultra</td>\n",
       "      <td>Ксения Агаева</td>\n",
       "      <td>12</td>\n",
       "      <td>12</td>\n",
       "      <td>0.0</td>\n",
       "    </tr>\n",
       "    <tr>\n",
       "      <th>149397</th>\n",
       "      <td>NaN</td>\n",
       "      <td>NaN</td>\n",
       "      <td>NaN</td>\n",
       "      <td>NaT</td>\n",
       "      <td>1273</td>\n",
       "      <td>46</td>\n",
       "      <td>NaT</td>\n",
       "      <td>Курган</td>\n",
       "      <td>Рэм</td>\n",
       "      <td>Корнилов</td>\n",
       "      <td>2018-05-15</td>\n",
       "      <td>ultra</td>\n",
       "      <td>Рэм Корнилов</td>\n",
       "      <td>5</td>\n",
       "      <td>12</td>\n",
       "      <td>0.0</td>\n",
       "    </tr>\n",
       "    <tr>\n",
       "      <th>149398</th>\n",
       "      <td>NaN</td>\n",
       "      <td>NaN</td>\n",
       "      <td>NaN</td>\n",
       "      <td>NaT</td>\n",
       "      <td>1371</td>\n",
       "      <td>50</td>\n",
       "      <td>2018-12-30</td>\n",
       "      <td>Омск</td>\n",
       "      <td>Ириней</td>\n",
       "      <td>Трофимов</td>\n",
       "      <td>2018-12-25</td>\n",
       "      <td>smart</td>\n",
       "      <td>Ириней Трофимов</td>\n",
       "      <td>12</td>\n",
       "      <td>12</td>\n",
       "      <td>0.0</td>\n",
       "    </tr>\n",
       "  </tbody>\n",
       "</table>\n",
       "</div>"
      ],
      "text/plain": [
       "        Unnamed: 0        id  mb_used session_date  user_id  age churn_date  \\\n",
       "149394    149394.0  1499_155  1246.32   2018-11-26     1499   35        NaT   \n",
       "149395    149395.0  1499_156   544.37   2018-10-26     1499   35        NaT   \n",
       "149396         NaN       NaN      NaN          NaT     1128   51 2018-12-23   \n",
       "149397         NaN       NaN      NaN          NaT     1273   46        NaT   \n",
       "149398         NaN       NaN      NaN          NaT     1371   50 2018-12-30   \n",
       "\n",
       "            city first_name last_name   reg_date tariff        full_name  \\\n",
       "149394     Пермь     Гектор  Корнилов 2018-09-27  smart  Гектор Корнилов   \n",
       "149395     Пермь     Гектор  Корнилов 2018-09-27  smart  Гектор Корнилов   \n",
       "149396  Волжский     Ксения    Агаева 2018-12-15  ultra    Ксения Агаева   \n",
       "149397    Курган        Рэм  Корнилов 2018-05-15  ultra     Рэм Корнилов   \n",
       "149398      Омск     Ириней  Трофимов 2018-12-25  smart  Ириней Трофимов   \n",
       "\n",
       "        reg_month  churn_month  month  \n",
       "149394          9           12   11.0  \n",
       "149395          9           12   10.0  \n",
       "149396         12           12    0.0  \n",
       "149397          5           12    0.0  \n",
       "149398         12           12    0.0  "
      ]
     },
     "execution_count": 33,
     "metadata": {},
     "output_type": "execute_result"
    }
   ],
   "source": [
    "calls_users.loc[calls_users['month'].isna(), 'month'] = 0\n",
    "messages_users.loc[messages_users['month'].isna(), 'month'] = 0\n",
    "internet_users.loc[internet_users['month'].isna(), 'month'] = 0\n",
    "internet_users.tail()"
   ]
  },
  {
   "cell_type": "markdown",
   "metadata": {},
   "source": [
    "### Поменяем в столбцах \"month\" таблиц \"calls_users\", \"messages_users\" и \"internet_users\" тип данных на  int64"
   ]
  },
  {
   "cell_type": "code",
   "execution_count": 34,
   "metadata": {},
   "outputs": [
    {
     "data": {
      "text/plain": [
       "[dtype('int64'), dtype('int64'), dtype('int64')]"
      ]
     },
     "execution_count": 34,
     "metadata": {},
     "output_type": "execute_result"
    }
   ],
   "source": [
    "[calls_users['month'].dtype,   messages_users['month'].dtype,  internet_users['month'].dtype]\n",
    "calls_users['month']=calls_users['month'].astype(int)\n",
    "messages_users['month']=messages_users['month'].astype(int)\n",
    "internet_users['month']=internet_users['month'].astype(int)\n",
    "[calls_users['month'].dtype,   messages_users['month'].dtype,  internet_users['month'].dtype]"
   ]
  },
  {
   "cell_type": "markdown",
   "metadata": {},
   "source": [
    "### Создадим таблицу с распределением для каждого пользователя количества сделанных звонков (count) и израсходованных минут разговора (sum) по месяцам"
   ]
  },
  {
   "cell_type": "code",
   "execution_count": 35,
   "metadata": {
    "scrolled": true
   },
   "outputs": [
    {
     "data": {
      "text/html": [
       "<div>\n",
       "<style scoped>\n",
       "    .dataframe tbody tr th:only-of-type {\n",
       "        vertical-align: middle;\n",
       "    }\n",
       "\n",
       "    .dataframe tbody tr th {\n",
       "        vertical-align: top;\n",
       "    }\n",
       "\n",
       "    .dataframe thead tr th {\n",
       "        text-align: left;\n",
       "    }\n",
       "\n",
       "    .dataframe thead tr:last-of-type th {\n",
       "        text-align: right;\n",
       "    }\n",
       "</style>\n",
       "<table border=\"1\" class=\"dataframe\">\n",
       "  <thead>\n",
       "    <tr>\n",
       "      <th></th>\n",
       "      <th colspan=\"10\" halign=\"left\">count</th>\n",
       "      <th>...</th>\n",
       "      <th colspan=\"10\" halign=\"left\">sum</th>\n",
       "    </tr>\n",
       "    <tr>\n",
       "      <th>month</th>\n",
       "      <th>0</th>\n",
       "      <th>1</th>\n",
       "      <th>2</th>\n",
       "      <th>3</th>\n",
       "      <th>4</th>\n",
       "      <th>5</th>\n",
       "      <th>6</th>\n",
       "      <th>7</th>\n",
       "      <th>8</th>\n",
       "      <th>9</th>\n",
       "      <th>...</th>\n",
       "      <th>3</th>\n",
       "      <th>4</th>\n",
       "      <th>5</th>\n",
       "      <th>6</th>\n",
       "      <th>7</th>\n",
       "      <th>8</th>\n",
       "      <th>9</th>\n",
       "      <th>10</th>\n",
       "      <th>11</th>\n",
       "      <th>12</th>\n",
       "    </tr>\n",
       "    <tr>\n",
       "      <th>user_id</th>\n",
       "      <th></th>\n",
       "      <th></th>\n",
       "      <th></th>\n",
       "      <th></th>\n",
       "      <th></th>\n",
       "      <th></th>\n",
       "      <th></th>\n",
       "      <th></th>\n",
       "      <th></th>\n",
       "      <th></th>\n",
       "      <th></th>\n",
       "      <th></th>\n",
       "      <th></th>\n",
       "      <th></th>\n",
       "      <th></th>\n",
       "      <th></th>\n",
       "      <th></th>\n",
       "      <th></th>\n",
       "      <th></th>\n",
       "      <th></th>\n",
       "      <th></th>\n",
       "    </tr>\n",
       "  </thead>\n",
       "  <tbody>\n",
       "    <tr>\n",
       "      <th>1489</th>\n",
       "      <td>0.0</td>\n",
       "      <td>NaN</td>\n",
       "      <td>NaN</td>\n",
       "      <td>NaN</td>\n",
       "      <td>NaN</td>\n",
       "      <td>NaN</td>\n",
       "      <td>NaN</td>\n",
       "      <td>NaN</td>\n",
       "      <td>NaN</td>\n",
       "      <td>NaN</td>\n",
       "      <td>...</td>\n",
       "      <td>NaN</td>\n",
       "      <td>NaN</td>\n",
       "      <td>NaN</td>\n",
       "      <td>NaN</td>\n",
       "      <td>NaN</td>\n",
       "      <td>NaN</td>\n",
       "      <td>NaN</td>\n",
       "      <td>NaN</td>\n",
       "      <td>NaN</td>\n",
       "      <td>NaN</td>\n",
       "    </tr>\n",
       "    <tr>\n",
       "      <th>1490</th>\n",
       "      <td>NaN</td>\n",
       "      <td>NaN</td>\n",
       "      <td>NaN</td>\n",
       "      <td>NaN</td>\n",
       "      <td>31.0</td>\n",
       "      <td>39.0</td>\n",
       "      <td>41.0</td>\n",
       "      <td>29.0</td>\n",
       "      <td>40.0</td>\n",
       "      <td>31.0</td>\n",
       "      <td>...</td>\n",
       "      <td>NaN</td>\n",
       "      <td>250.63</td>\n",
       "      <td>321.17</td>\n",
       "      <td>309.55</td>\n",
       "      <td>234.76</td>\n",
       "      <td>328.49</td>\n",
       "      <td>305.99</td>\n",
       "      <td>290.90</td>\n",
       "      <td>265.97</td>\n",
       "      <td>271.63</td>\n",
       "    </tr>\n",
       "    <tr>\n",
       "      <th>1491</th>\n",
       "      <td>NaN</td>\n",
       "      <td>NaN</td>\n",
       "      <td>NaN</td>\n",
       "      <td>NaN</td>\n",
       "      <td>15.0</td>\n",
       "      <td>63.0</td>\n",
       "      <td>54.0</td>\n",
       "      <td>67.0</td>\n",
       "      <td>65.0</td>\n",
       "      <td>58.0</td>\n",
       "      <td>...</td>\n",
       "      <td>NaN</td>\n",
       "      <td>136.90</td>\n",
       "      <td>496.92</td>\n",
       "      <td>396.61</td>\n",
       "      <td>570.37</td>\n",
       "      <td>580.16</td>\n",
       "      <td>502.56</td>\n",
       "      <td>543.83</td>\n",
       "      <td>487.59</td>\n",
       "      <td>634.31</td>\n",
       "    </tr>\n",
       "    <tr>\n",
       "      <th>1492</th>\n",
       "      <td>NaN</td>\n",
       "      <td>NaN</td>\n",
       "      <td>NaN</td>\n",
       "      <td>NaN</td>\n",
       "      <td>NaN</td>\n",
       "      <td>NaN</td>\n",
       "      <td>9.0</td>\n",
       "      <td>66.0</td>\n",
       "      <td>65.0</td>\n",
       "      <td>86.0</td>\n",
       "      <td>...</td>\n",
       "      <td>NaN</td>\n",
       "      <td>NaN</td>\n",
       "      <td>NaN</td>\n",
       "      <td>79.29</td>\n",
       "      <td>482.92</td>\n",
       "      <td>570.03</td>\n",
       "      <td>651.26</td>\n",
       "      <td>580.37</td>\n",
       "      <td>478.50</td>\n",
       "      <td>736.70</td>\n",
       "    </tr>\n",
       "    <tr>\n",
       "      <th>1493</th>\n",
       "      <td>NaN</td>\n",
       "      <td>NaN</td>\n",
       "      <td>NaN</td>\n",
       "      <td>NaN</td>\n",
       "      <td>NaN</td>\n",
       "      <td>NaN</td>\n",
       "      <td>NaN</td>\n",
       "      <td>NaN</td>\n",
       "      <td>NaN</td>\n",
       "      <td>NaN</td>\n",
       "      <td>...</td>\n",
       "      <td>NaN</td>\n",
       "      <td>NaN</td>\n",
       "      <td>NaN</td>\n",
       "      <td>NaN</td>\n",
       "      <td>NaN</td>\n",
       "      <td>NaN</td>\n",
       "      <td>NaN</td>\n",
       "      <td>NaN</td>\n",
       "      <td>162.77</td>\n",
       "      <td>538.24</td>\n",
       "    </tr>\n",
       "    <tr>\n",
       "      <th>1494</th>\n",
       "      <td>NaN</td>\n",
       "      <td>NaN</td>\n",
       "      <td>NaN</td>\n",
       "      <td>NaN</td>\n",
       "      <td>NaN</td>\n",
       "      <td>NaN</td>\n",
       "      <td>NaN</td>\n",
       "      <td>NaN</td>\n",
       "      <td>26.0</td>\n",
       "      <td>57.0</td>\n",
       "      <td>...</td>\n",
       "      <td>NaN</td>\n",
       "      <td>NaN</td>\n",
       "      <td>NaN</td>\n",
       "      <td>NaN</td>\n",
       "      <td>NaN</td>\n",
       "      <td>249.30</td>\n",
       "      <td>469.48</td>\n",
       "      <td>330.66</td>\n",
       "      <td>389.17</td>\n",
       "      <td>388.29</td>\n",
       "    </tr>\n",
       "    <tr>\n",
       "      <th>1495</th>\n",
       "      <td>NaN</td>\n",
       "      <td>NaN</td>\n",
       "      <td>NaN</td>\n",
       "      <td>NaN</td>\n",
       "      <td>NaN</td>\n",
       "      <td>NaN</td>\n",
       "      <td>NaN</td>\n",
       "      <td>NaN</td>\n",
       "      <td>13.0</td>\n",
       "      <td>95.0</td>\n",
       "      <td>...</td>\n",
       "      <td>NaN</td>\n",
       "      <td>NaN</td>\n",
       "      <td>NaN</td>\n",
       "      <td>NaN</td>\n",
       "      <td>NaN</td>\n",
       "      <td>87.03</td>\n",
       "      <td>766.62</td>\n",
       "      <td>971.33</td>\n",
       "      <td>892.65</td>\n",
       "      <td>970.94</td>\n",
       "    </tr>\n",
       "    <tr>\n",
       "      <th>1496</th>\n",
       "      <td>NaN</td>\n",
       "      <td>6.0</td>\n",
       "      <td>65.0</td>\n",
       "      <td>67.0</td>\n",
       "      <td>52.0</td>\n",
       "      <td>50.0</td>\n",
       "      <td>57.0</td>\n",
       "      <td>63.0</td>\n",
       "      <td>62.0</td>\n",
       "      <td>58.0</td>\n",
       "      <td>...</td>\n",
       "      <td>521.95</td>\n",
       "      <td>494.29</td>\n",
       "      <td>459.74</td>\n",
       "      <td>529.21</td>\n",
       "      <td>550.06</td>\n",
       "      <td>497.78</td>\n",
       "      <td>457.39</td>\n",
       "      <td>426.65</td>\n",
       "      <td>633.22</td>\n",
       "      <td>483.91</td>\n",
       "    </tr>\n",
       "    <tr>\n",
       "      <th>1497</th>\n",
       "      <td>NaN</td>\n",
       "      <td>NaN</td>\n",
       "      <td>NaN</td>\n",
       "      <td>NaN</td>\n",
       "      <td>NaN</td>\n",
       "      <td>NaN</td>\n",
       "      <td>NaN</td>\n",
       "      <td>NaN</td>\n",
       "      <td>NaN</td>\n",
       "      <td>NaN</td>\n",
       "      <td>...</td>\n",
       "      <td>NaN</td>\n",
       "      <td>NaN</td>\n",
       "      <td>NaN</td>\n",
       "      <td>NaN</td>\n",
       "      <td>NaN</td>\n",
       "      <td>NaN</td>\n",
       "      <td>NaN</td>\n",
       "      <td>463.26</td>\n",
       "      <td>346.09</td>\n",
       "      <td>515.33</td>\n",
       "    </tr>\n",
       "    <tr>\n",
       "      <th>1498</th>\n",
       "      <td>NaN</td>\n",
       "      <td>NaN</td>\n",
       "      <td>NaN</td>\n",
       "      <td>NaN</td>\n",
       "      <td>NaN</td>\n",
       "      <td>NaN</td>\n",
       "      <td>NaN</td>\n",
       "      <td>20.0</td>\n",
       "      <td>43.0</td>\n",
       "      <td>53.0</td>\n",
       "      <td>...</td>\n",
       "      <td>NaN</td>\n",
       "      <td>NaN</td>\n",
       "      <td>NaN</td>\n",
       "      <td>NaN</td>\n",
       "      <td>166.25</td>\n",
       "      <td>376.04</td>\n",
       "      <td>446.68</td>\n",
       "      <td>232.63</td>\n",
       "      <td>NaN</td>\n",
       "      <td>NaN</td>\n",
       "    </tr>\n",
       "    <tr>\n",
       "      <th>1499</th>\n",
       "      <td>NaN</td>\n",
       "      <td>NaN</td>\n",
       "      <td>NaN</td>\n",
       "      <td>NaN</td>\n",
       "      <td>NaN</td>\n",
       "      <td>NaN</td>\n",
       "      <td>NaN</td>\n",
       "      <td>NaN</td>\n",
       "      <td>NaN</td>\n",
       "      <td>8.0</td>\n",
       "      <td>...</td>\n",
       "      <td>NaN</td>\n",
       "      <td>NaN</td>\n",
       "      <td>NaN</td>\n",
       "      <td>NaN</td>\n",
       "      <td>NaN</td>\n",
       "      <td>NaN</td>\n",
       "      <td>64.65</td>\n",
       "      <td>429.91</td>\n",
       "      <td>576.50</td>\n",
       "      <td>465.16</td>\n",
       "    </tr>\n",
       "  </tbody>\n",
       "</table>\n",
       "<p>11 rows × 26 columns</p>\n",
       "</div>"
      ],
      "text/plain": [
       "        count                                                       ...  \\\n",
       "month      0    1     2     3     4     5     6     7     8     9   ...   \n",
       "user_id                                                             ...   \n",
       "1489      0.0  NaN   NaN   NaN   NaN   NaN   NaN   NaN   NaN   NaN  ...   \n",
       "1490      NaN  NaN   NaN   NaN  31.0  39.0  41.0  29.0  40.0  31.0  ...   \n",
       "1491      NaN  NaN   NaN   NaN  15.0  63.0  54.0  67.0  65.0  58.0  ...   \n",
       "1492      NaN  NaN   NaN   NaN   NaN   NaN   9.0  66.0  65.0  86.0  ...   \n",
       "1493      NaN  NaN   NaN   NaN   NaN   NaN   NaN   NaN   NaN   NaN  ...   \n",
       "1494      NaN  NaN   NaN   NaN   NaN   NaN   NaN   NaN  26.0  57.0  ...   \n",
       "1495      NaN  NaN   NaN   NaN   NaN   NaN   NaN   NaN  13.0  95.0  ...   \n",
       "1496      NaN  6.0  65.0  67.0  52.0  50.0  57.0  63.0  62.0  58.0  ...   \n",
       "1497      NaN  NaN   NaN   NaN   NaN   NaN   NaN   NaN   NaN   NaN  ...   \n",
       "1498      NaN  NaN   NaN   NaN   NaN   NaN   NaN  20.0  43.0  53.0  ...   \n",
       "1499      NaN  NaN   NaN   NaN   NaN   NaN   NaN   NaN   NaN   8.0  ...   \n",
       "\n",
       "            sum                                                          \\\n",
       "month        3       4       5       6       7       8       9       10   \n",
       "user_id                                                                   \n",
       "1489        NaN     NaN     NaN     NaN     NaN     NaN     NaN     NaN   \n",
       "1490        NaN  250.63  321.17  309.55  234.76  328.49  305.99  290.90   \n",
       "1491        NaN  136.90  496.92  396.61  570.37  580.16  502.56  543.83   \n",
       "1492        NaN     NaN     NaN   79.29  482.92  570.03  651.26  580.37   \n",
       "1493        NaN     NaN     NaN     NaN     NaN     NaN     NaN     NaN   \n",
       "1494        NaN     NaN     NaN     NaN     NaN  249.30  469.48  330.66   \n",
       "1495        NaN     NaN     NaN     NaN     NaN   87.03  766.62  971.33   \n",
       "1496     521.95  494.29  459.74  529.21  550.06  497.78  457.39  426.65   \n",
       "1497        NaN     NaN     NaN     NaN     NaN     NaN     NaN  463.26   \n",
       "1498        NaN     NaN     NaN     NaN  166.25  376.04  446.68  232.63   \n",
       "1499        NaN     NaN     NaN     NaN     NaN     NaN   64.65  429.91   \n",
       "\n",
       "                         \n",
       "month        11      12  \n",
       "user_id                  \n",
       "1489        NaN     NaN  \n",
       "1490     265.97  271.63  \n",
       "1491     487.59  634.31  \n",
       "1492     478.50  736.70  \n",
       "1493     162.77  538.24  \n",
       "1494     389.17  388.29  \n",
       "1495     892.65  970.94  \n",
       "1496     633.22  483.91  \n",
       "1497     346.09  515.33  \n",
       "1498        NaN     NaN  \n",
       "1499     576.50  465.16  \n",
       "\n",
       "[11 rows x 26 columns]"
      ]
     },
     "execution_count": 35,
     "metadata": {},
     "output_type": "execute_result"
    }
   ],
   "source": [
    "calls_users_stat=calls_users[(calls_users['duration']!=0)].pivot_table(index=['user_id'], values='duration', columns=['month'], aggfunc=['count','sum'])\n",
    "calls_users_stat.tail(11)"
   ]
  },
  {
   "cell_type": "markdown",
   "metadata": {},
   "source": [
    "### Создадим таблицу с распределением для каждого пользователя количества отправленных сообщений по месяцам"
   ]
  },
  {
   "cell_type": "code",
   "execution_count": 36,
   "metadata": {
    "scrolled": true
   },
   "outputs": [
    {
     "data": {
      "text/html": [
       "<div>\n",
       "<style scoped>\n",
       "    .dataframe tbody tr th:only-of-type {\n",
       "        vertical-align: middle;\n",
       "    }\n",
       "\n",
       "    .dataframe tbody tr th {\n",
       "        vertical-align: top;\n",
       "    }\n",
       "\n",
       "    .dataframe thead tr th {\n",
       "        text-align: left;\n",
       "    }\n",
       "\n",
       "    .dataframe thead tr:last-of-type th {\n",
       "        text-align: right;\n",
       "    }\n",
       "</style>\n",
       "<table border=\"1\" class=\"dataframe\">\n",
       "  <thead>\n",
       "    <tr>\n",
       "      <th></th>\n",
       "      <th colspan=\"13\" halign=\"left\">count</th>\n",
       "    </tr>\n",
       "    <tr>\n",
       "      <th>month</th>\n",
       "      <th>0</th>\n",
       "      <th>1</th>\n",
       "      <th>2</th>\n",
       "      <th>3</th>\n",
       "      <th>4</th>\n",
       "      <th>5</th>\n",
       "      <th>6</th>\n",
       "      <th>7</th>\n",
       "      <th>8</th>\n",
       "      <th>9</th>\n",
       "      <th>10</th>\n",
       "      <th>11</th>\n",
       "      <th>12</th>\n",
       "    </tr>\n",
       "    <tr>\n",
       "      <th>user_id</th>\n",
       "      <th></th>\n",
       "      <th></th>\n",
       "      <th></th>\n",
       "      <th></th>\n",
       "      <th></th>\n",
       "      <th></th>\n",
       "      <th></th>\n",
       "      <th></th>\n",
       "      <th></th>\n",
       "      <th></th>\n",
       "      <th></th>\n",
       "      <th></th>\n",
       "      <th></th>\n",
       "    </tr>\n",
       "  </thead>\n",
       "  <tbody>\n",
       "    <tr>\n",
       "      <th>1000</th>\n",
       "      <td>NaN</td>\n",
       "      <td>NaN</td>\n",
       "      <td>NaN</td>\n",
       "      <td>NaN</td>\n",
       "      <td>NaN</td>\n",
       "      <td>22.0</td>\n",
       "      <td>60.0</td>\n",
       "      <td>75.0</td>\n",
       "      <td>81.0</td>\n",
       "      <td>57.0</td>\n",
       "      <td>73.0</td>\n",
       "      <td>58.0</td>\n",
       "      <td>70.0</td>\n",
       "    </tr>\n",
       "    <tr>\n",
       "      <th>1001</th>\n",
       "      <td>0.0</td>\n",
       "      <td>NaN</td>\n",
       "      <td>NaN</td>\n",
       "      <td>NaN</td>\n",
       "      <td>NaN</td>\n",
       "      <td>NaN</td>\n",
       "      <td>NaN</td>\n",
       "      <td>NaN</td>\n",
       "      <td>NaN</td>\n",
       "      <td>NaN</td>\n",
       "      <td>NaN</td>\n",
       "      <td>NaN</td>\n",
       "      <td>NaN</td>\n",
       "    </tr>\n",
       "    <tr>\n",
       "      <th>1002</th>\n",
       "      <td>NaN</td>\n",
       "      <td>NaN</td>\n",
       "      <td>NaN</td>\n",
       "      <td>NaN</td>\n",
       "      <td>NaN</td>\n",
       "      <td>NaN</td>\n",
       "      <td>4.0</td>\n",
       "      <td>11.0</td>\n",
       "      <td>13.0</td>\n",
       "      <td>4.0</td>\n",
       "      <td>10.0</td>\n",
       "      <td>16.0</td>\n",
       "      <td>12.0</td>\n",
       "    </tr>\n",
       "    <tr>\n",
       "      <th>1003</th>\n",
       "      <td>NaN</td>\n",
       "      <td>NaN</td>\n",
       "      <td>NaN</td>\n",
       "      <td>NaN</td>\n",
       "      <td>NaN</td>\n",
       "      <td>NaN</td>\n",
       "      <td>NaN</td>\n",
       "      <td>NaN</td>\n",
       "      <td>37.0</td>\n",
       "      <td>91.0</td>\n",
       "      <td>83.0</td>\n",
       "      <td>94.0</td>\n",
       "      <td>75.0</td>\n",
       "    </tr>\n",
       "    <tr>\n",
       "      <th>1004</th>\n",
       "      <td>NaN</td>\n",
       "      <td>NaN</td>\n",
       "      <td>NaN</td>\n",
       "      <td>NaN</td>\n",
       "      <td>NaN</td>\n",
       "      <td>95.0</td>\n",
       "      <td>134.0</td>\n",
       "      <td>181.0</td>\n",
       "      <td>151.0</td>\n",
       "      <td>146.0</td>\n",
       "      <td>165.0</td>\n",
       "      <td>158.0</td>\n",
       "      <td>162.0</td>\n",
       "    </tr>\n",
       "    <tr>\n",
       "      <th>1005</th>\n",
       "      <td>NaN</td>\n",
       "      <td>7.0</td>\n",
       "      <td>38.0</td>\n",
       "      <td>56.0</td>\n",
       "      <td>41.0</td>\n",
       "      <td>42.0</td>\n",
       "      <td>47.0</td>\n",
       "      <td>56.0</td>\n",
       "      <td>64.0</td>\n",
       "      <td>52.0</td>\n",
       "      <td>44.0</td>\n",
       "      <td>51.0</td>\n",
       "      <td>54.0</td>\n",
       "    </tr>\n",
       "    <tr>\n",
       "      <th>1006</th>\n",
       "      <td>0.0</td>\n",
       "      <td>NaN</td>\n",
       "      <td>NaN</td>\n",
       "      <td>NaN</td>\n",
       "      <td>NaN</td>\n",
       "      <td>NaN</td>\n",
       "      <td>NaN</td>\n",
       "      <td>NaN</td>\n",
       "      <td>NaN</td>\n",
       "      <td>NaN</td>\n",
       "      <td>NaN</td>\n",
       "      <td>NaN</td>\n",
       "      <td>NaN</td>\n",
       "    </tr>\n",
       "    <tr>\n",
       "      <th>1007</th>\n",
       "      <td>NaN</td>\n",
       "      <td>NaN</td>\n",
       "      <td>NaN</td>\n",
       "      <td>NaN</td>\n",
       "      <td>11.0</td>\n",
       "      <td>39.0</td>\n",
       "      <td>26.0</td>\n",
       "      <td>26.0</td>\n",
       "      <td>27.0</td>\n",
       "      <td>31.0</td>\n",
       "      <td>18.0</td>\n",
       "      <td>21.0</td>\n",
       "      <td>26.0</td>\n",
       "    </tr>\n",
       "  </tbody>\n",
       "</table>\n",
       "</div>"
      ],
      "text/plain": [
       "        count                                                                  \\\n",
       "month      0    1     2     3     4     5      6      7      8      9      10   \n",
       "user_id                                                                         \n",
       "1000      NaN  NaN   NaN   NaN   NaN  22.0   60.0   75.0   81.0   57.0   73.0   \n",
       "1001      0.0  NaN   NaN   NaN   NaN   NaN    NaN    NaN    NaN    NaN    NaN   \n",
       "1002      NaN  NaN   NaN   NaN   NaN   NaN    4.0   11.0   13.0    4.0   10.0   \n",
       "1003      NaN  NaN   NaN   NaN   NaN   NaN    NaN    NaN   37.0   91.0   83.0   \n",
       "1004      NaN  NaN   NaN   NaN   NaN  95.0  134.0  181.0  151.0  146.0  165.0   \n",
       "1005      NaN  7.0  38.0  56.0  41.0  42.0   47.0   56.0   64.0   52.0   44.0   \n",
       "1006      0.0  NaN   NaN   NaN   NaN   NaN    NaN    NaN    NaN    NaN    NaN   \n",
       "1007      NaN  NaN   NaN   NaN  11.0  39.0   26.0   26.0   27.0   31.0   18.0   \n",
       "\n",
       "                       \n",
       "month       11     12  \n",
       "user_id                \n",
       "1000      58.0   70.0  \n",
       "1001       NaN    NaN  \n",
       "1002      16.0   12.0  \n",
       "1003      94.0   75.0  \n",
       "1004     158.0  162.0  \n",
       "1005      51.0   54.0  \n",
       "1006       NaN    NaN  \n",
       "1007      21.0   26.0  "
      ]
     },
     "execution_count": 36,
     "metadata": {},
     "output_type": "execute_result"
    }
   ],
   "source": [
    "messages_users_stat=messages_users.pivot_table(index=['user_id'], values='message_date', columns=['month'], aggfunc=['count'])\n",
    "messages_users_stat.head(8)"
   ]
  },
  {
   "cell_type": "markdown",
   "metadata": {},
   "source": [
    "### Создадим таблицу с распределением для каждого пользователя объемов израсходованного интернет-трафика по месяцам"
   ]
  },
  {
   "cell_type": "code",
   "execution_count": 37,
   "metadata": {},
   "outputs": [
    {
     "data": {
      "text/html": [
       "<div>\n",
       "<style scoped>\n",
       "    .dataframe tbody tr th:only-of-type {\n",
       "        vertical-align: middle;\n",
       "    }\n",
       "\n",
       "    .dataframe tbody tr th {\n",
       "        vertical-align: top;\n",
       "    }\n",
       "\n",
       "    .dataframe thead tr th {\n",
       "        text-align: left;\n",
       "    }\n",
       "\n",
       "    .dataframe thead tr:last-of-type th {\n",
       "        text-align: right;\n",
       "    }\n",
       "</style>\n",
       "<table border=\"1\" class=\"dataframe\">\n",
       "  <thead>\n",
       "    <tr>\n",
       "      <th></th>\n",
       "      <th colspan=\"13\" halign=\"left\">sum</th>\n",
       "    </tr>\n",
       "    <tr>\n",
       "      <th>month</th>\n",
       "      <th>0</th>\n",
       "      <th>1</th>\n",
       "      <th>2</th>\n",
       "      <th>3</th>\n",
       "      <th>4</th>\n",
       "      <th>5</th>\n",
       "      <th>6</th>\n",
       "      <th>7</th>\n",
       "      <th>8</th>\n",
       "      <th>9</th>\n",
       "      <th>10</th>\n",
       "      <th>11</th>\n",
       "      <th>12</th>\n",
       "    </tr>\n",
       "    <tr>\n",
       "      <th>user_id</th>\n",
       "      <th></th>\n",
       "      <th></th>\n",
       "      <th></th>\n",
       "      <th></th>\n",
       "      <th></th>\n",
       "      <th></th>\n",
       "      <th></th>\n",
       "      <th></th>\n",
       "      <th></th>\n",
       "      <th></th>\n",
       "      <th></th>\n",
       "      <th></th>\n",
       "      <th></th>\n",
       "    </tr>\n",
       "  </thead>\n",
       "  <tbody>\n",
       "    <tr>\n",
       "      <th>1000</th>\n",
       "      <td>NaN</td>\n",
       "      <td>NaN</td>\n",
       "      <td>NaN</td>\n",
       "      <td>NaN</td>\n",
       "      <td>NaN</td>\n",
       "      <td>2253.49</td>\n",
       "      <td>23233.77</td>\n",
       "      <td>14003.64</td>\n",
       "      <td>14055.93</td>\n",
       "      <td>14568.91</td>\n",
       "      <td>14702.49</td>\n",
       "      <td>14756.47</td>\n",
       "      <td>9817.61</td>\n",
       "    </tr>\n",
       "    <tr>\n",
       "      <th>1001</th>\n",
       "      <td>NaN</td>\n",
       "      <td>NaN</td>\n",
       "      <td>NaN</td>\n",
       "      <td>NaN</td>\n",
       "      <td>NaN</td>\n",
       "      <td>NaN</td>\n",
       "      <td>NaN</td>\n",
       "      <td>NaN</td>\n",
       "      <td>NaN</td>\n",
       "      <td>NaN</td>\n",
       "      <td>NaN</td>\n",
       "      <td>18429.34</td>\n",
       "      <td>14036.66</td>\n",
       "    </tr>\n",
       "    <tr>\n",
       "      <th>1002</th>\n",
       "      <td>NaN</td>\n",
       "      <td>NaN</td>\n",
       "      <td>NaN</td>\n",
       "      <td>NaN</td>\n",
       "      <td>NaN</td>\n",
       "      <td>NaN</td>\n",
       "      <td>10856.82</td>\n",
       "      <td>17580.10</td>\n",
       "      <td>20319.26</td>\n",
       "      <td>16691.08</td>\n",
       "      <td>13888.25</td>\n",
       "      <td>18587.28</td>\n",
       "      <td>18113.73</td>\n",
       "    </tr>\n",
       "    <tr>\n",
       "      <th>1003</th>\n",
       "      <td>NaN</td>\n",
       "      <td>NaN</td>\n",
       "      <td>NaN</td>\n",
       "      <td>NaN</td>\n",
       "      <td>NaN</td>\n",
       "      <td>NaN</td>\n",
       "      <td>NaN</td>\n",
       "      <td>NaN</td>\n",
       "      <td>8565.21</td>\n",
       "      <td>12468.87</td>\n",
       "      <td>14768.14</td>\n",
       "      <td>11356.89</td>\n",
       "      <td>10121.53</td>\n",
       "    </tr>\n",
       "    <tr>\n",
       "      <th>1004</th>\n",
       "      <td>NaN</td>\n",
       "      <td>NaN</td>\n",
       "      <td>NaN</td>\n",
       "      <td>NaN</td>\n",
       "      <td>NaN</td>\n",
       "      <td>13403.98</td>\n",
       "      <td>17600.02</td>\n",
       "      <td>22229.58</td>\n",
       "      <td>28584.37</td>\n",
       "      <td>15109.03</td>\n",
       "      <td>18475.44</td>\n",
       "      <td>15616.02</td>\n",
       "      <td>18021.04</td>\n",
       "    </tr>\n",
       "  </tbody>\n",
       "</table>\n",
       "</div>"
      ],
      "text/plain": [
       "        sum                                                                    \\\n",
       "month    0   1   2   3   4         5         6         7         8         9    \n",
       "user_id                                                                         \n",
       "1000    NaN NaN NaN NaN NaN   2253.49  23233.77  14003.64  14055.93  14568.91   \n",
       "1001    NaN NaN NaN NaN NaN       NaN       NaN       NaN       NaN       NaN   \n",
       "1002    NaN NaN NaN NaN NaN       NaN  10856.82  17580.10  20319.26  16691.08   \n",
       "1003    NaN NaN NaN NaN NaN       NaN       NaN       NaN   8565.21  12468.87   \n",
       "1004    NaN NaN NaN NaN NaN  13403.98  17600.02  22229.58  28584.37  15109.03   \n",
       "\n",
       "                                       \n",
       "month          10        11        12  \n",
       "user_id                                \n",
       "1000     14702.49  14756.47   9817.61  \n",
       "1001          NaN  18429.34  14036.66  \n",
       "1002     13888.25  18587.28  18113.73  \n",
       "1003     14768.14  11356.89  10121.53  \n",
       "1004     18475.44  15616.02  18021.04  "
      ]
     },
     "execution_count": 37,
     "metadata": {},
     "output_type": "execute_result"
    }
   ],
   "source": [
    "internet_users_stat=internet_users.pivot_table(index=['user_id'], values='mb_used', columns=['month'], aggfunc=['sum'])\n",
    "internet_users_stat.head()"
   ]
  },
  {
   "cell_type": "markdown",
   "metadata": {},
   "source": [
    "### Удалим из таблиц 'calls_users_stat', 'messages_users_stat' и 'internet_users_stat'  столбцы с 0-выми месяцами - вспомогательные столбцы, которые были нужны для того, чтобы не потерять клиентов,  не пользовавшихся какими-либо услугами (интернетом, смс или звонками)"
   ]
  },
  {
   "cell_type": "code",
   "execution_count": 38,
   "metadata": {
    "scrolled": true
   },
   "outputs": [],
   "source": [
    "calls_users_stat=calls_users_stat.drop([('count',  0),('sum', 0) ], axis=1)\n",
    "messages_users_stat=messages_users_stat.drop([('count',  0) ], axis=1)\n",
    "internet_users_stat=internet_users_stat.drop([('sum', 0) ], axis=1)"
   ]
  },
  {
   "cell_type": "code",
   "execution_count": 39,
   "metadata": {
    "scrolled": false
   },
   "outputs": [
    {
     "data": {
      "text/plain": [
       "MultiIndex([('count',  1),\n",
       "            ('count',  2),\n",
       "            ('count',  3),\n",
       "            ('count',  4),\n",
       "            ('count',  5),\n",
       "            ('count',  6),\n",
       "            ('count',  7),\n",
       "            ('count',  8),\n",
       "            ('count',  9),\n",
       "            ('count', 10),\n",
       "            ('count', 11),\n",
       "            ('count', 12),\n",
       "            (  'sum',  1),\n",
       "            (  'sum',  2),\n",
       "            (  'sum',  3),\n",
       "            (  'sum',  4),\n",
       "            (  'sum',  5),\n",
       "            (  'sum',  6),\n",
       "            (  'sum',  7),\n",
       "            (  'sum',  8),\n",
       "            (  'sum',  9),\n",
       "            (  'sum', 10),\n",
       "            (  'sum', 11),\n",
       "            (  'sum', 12)],\n",
       "           names=[None, 'month'])"
      ]
     },
     "execution_count": 39,
     "metadata": {},
     "output_type": "execute_result"
    }
   ],
   "source": [
    "calls_users_stat.columns"
   ]
  },
  {
   "cell_type": "code",
   "execution_count": 40,
   "metadata": {},
   "outputs": [
    {
     "data": {
      "text/html": [
       "<div>\n",
       "<style scoped>\n",
       "    .dataframe tbody tr th:only-of-type {\n",
       "        vertical-align: middle;\n",
       "    }\n",
       "\n",
       "    .dataframe tbody tr th {\n",
       "        vertical-align: top;\n",
       "    }\n",
       "\n",
       "    .dataframe thead tr th {\n",
       "        text-align: left;\n",
       "    }\n",
       "\n",
       "    .dataframe thead tr:last-of-type th {\n",
       "        text-align: right;\n",
       "    }\n",
       "</style>\n",
       "<table border=\"1\" class=\"dataframe\">\n",
       "  <thead>\n",
       "    <tr>\n",
       "      <th></th>\n",
       "      <th colspan=\"12\" halign=\"left\">count</th>\n",
       "    </tr>\n",
       "    <tr>\n",
       "      <th>month</th>\n",
       "      <th>1</th>\n",
       "      <th>2</th>\n",
       "      <th>3</th>\n",
       "      <th>4</th>\n",
       "      <th>5</th>\n",
       "      <th>6</th>\n",
       "      <th>7</th>\n",
       "      <th>8</th>\n",
       "      <th>9</th>\n",
       "      <th>10</th>\n",
       "      <th>11</th>\n",
       "      <th>12</th>\n",
       "    </tr>\n",
       "    <tr>\n",
       "      <th>user_id</th>\n",
       "      <th></th>\n",
       "      <th></th>\n",
       "      <th></th>\n",
       "      <th></th>\n",
       "      <th></th>\n",
       "      <th></th>\n",
       "      <th></th>\n",
       "      <th></th>\n",
       "      <th></th>\n",
       "      <th></th>\n",
       "      <th></th>\n",
       "      <th></th>\n",
       "    </tr>\n",
       "  </thead>\n",
       "  <tbody>\n",
       "    <tr>\n",
       "      <th>1000</th>\n",
       "      <td>NaN</td>\n",
       "      <td>NaN</td>\n",
       "      <td>NaN</td>\n",
       "      <td>NaN</td>\n",
       "      <td>22.0</td>\n",
       "      <td>60.0</td>\n",
       "      <td>75.0</td>\n",
       "      <td>81.0</td>\n",
       "      <td>57.0</td>\n",
       "      <td>73.0</td>\n",
       "      <td>58.0</td>\n",
       "      <td>70.0</td>\n",
       "    </tr>\n",
       "    <tr>\n",
       "      <th>1001</th>\n",
       "      <td>NaN</td>\n",
       "      <td>NaN</td>\n",
       "      <td>NaN</td>\n",
       "      <td>NaN</td>\n",
       "      <td>NaN</td>\n",
       "      <td>NaN</td>\n",
       "      <td>NaN</td>\n",
       "      <td>NaN</td>\n",
       "      <td>NaN</td>\n",
       "      <td>NaN</td>\n",
       "      <td>NaN</td>\n",
       "      <td>NaN</td>\n",
       "    </tr>\n",
       "  </tbody>\n",
       "</table>\n",
       "</div>"
      ],
      "text/plain": [
       "        count                                                            \n",
       "month      1   2   3   4     5     6     7     8     9     10    11    12\n",
       "user_id                                                                  \n",
       "1000      NaN NaN NaN NaN  22.0  60.0  75.0  81.0  57.0  73.0  58.0  70.0\n",
       "1001      NaN NaN NaN NaN   NaN   NaN   NaN   NaN   NaN   NaN   NaN   NaN"
      ]
     },
     "execution_count": 40,
     "metadata": {},
     "output_type": "execute_result"
    }
   ],
   "source": [
    "messages_users_stat.head(2)"
   ]
  },
  {
   "cell_type": "code",
   "execution_count": 41,
   "metadata": {},
   "outputs": [
    {
     "data": {
      "text/html": [
       "<div>\n",
       "<style scoped>\n",
       "    .dataframe tbody tr th:only-of-type {\n",
       "        vertical-align: middle;\n",
       "    }\n",
       "\n",
       "    .dataframe tbody tr th {\n",
       "        vertical-align: top;\n",
       "    }\n",
       "\n",
       "    .dataframe thead tr th {\n",
       "        text-align: left;\n",
       "    }\n",
       "\n",
       "    .dataframe thead tr:last-of-type th {\n",
       "        text-align: right;\n",
       "    }\n",
       "</style>\n",
       "<table border=\"1\" class=\"dataframe\">\n",
       "  <thead>\n",
       "    <tr>\n",
       "      <th></th>\n",
       "      <th colspan=\"12\" halign=\"left\">sum</th>\n",
       "    </tr>\n",
       "    <tr>\n",
       "      <th>month</th>\n",
       "      <th>1</th>\n",
       "      <th>2</th>\n",
       "      <th>3</th>\n",
       "      <th>4</th>\n",
       "      <th>5</th>\n",
       "      <th>6</th>\n",
       "      <th>7</th>\n",
       "      <th>8</th>\n",
       "      <th>9</th>\n",
       "      <th>10</th>\n",
       "      <th>11</th>\n",
       "      <th>12</th>\n",
       "    </tr>\n",
       "    <tr>\n",
       "      <th>user_id</th>\n",
       "      <th></th>\n",
       "      <th></th>\n",
       "      <th></th>\n",
       "      <th></th>\n",
       "      <th></th>\n",
       "      <th></th>\n",
       "      <th></th>\n",
       "      <th></th>\n",
       "      <th></th>\n",
       "      <th></th>\n",
       "      <th></th>\n",
       "      <th></th>\n",
       "    </tr>\n",
       "  </thead>\n",
       "  <tbody>\n",
       "    <tr>\n",
       "      <th>1000</th>\n",
       "      <td>NaN</td>\n",
       "      <td>NaN</td>\n",
       "      <td>NaN</td>\n",
       "      <td>NaN</td>\n",
       "      <td>2253.49</td>\n",
       "      <td>23233.77</td>\n",
       "      <td>14003.64</td>\n",
       "      <td>14055.93</td>\n",
       "      <td>14568.91</td>\n",
       "      <td>14702.49</td>\n",
       "      <td>14756.47</td>\n",
       "      <td>9817.61</td>\n",
       "    </tr>\n",
       "    <tr>\n",
       "      <th>1001</th>\n",
       "      <td>NaN</td>\n",
       "      <td>NaN</td>\n",
       "      <td>NaN</td>\n",
       "      <td>NaN</td>\n",
       "      <td>NaN</td>\n",
       "      <td>NaN</td>\n",
       "      <td>NaN</td>\n",
       "      <td>NaN</td>\n",
       "      <td>NaN</td>\n",
       "      <td>NaN</td>\n",
       "      <td>18429.34</td>\n",
       "      <td>14036.66</td>\n",
       "    </tr>\n",
       "  </tbody>\n",
       "</table>\n",
       "</div>"
      ],
      "text/plain": [
       "        sum                                                               \\\n",
       "month    1   2   3   4        5         6         7         8         9    \n",
       "user_id                                                                    \n",
       "1000    NaN NaN NaN NaN  2253.49  23233.77  14003.64  14055.93  14568.91   \n",
       "1001    NaN NaN NaN NaN      NaN       NaN       NaN       NaN       NaN   \n",
       "\n",
       "                                       \n",
       "month          10        11        12  \n",
       "user_id                                \n",
       "1000     14702.49  14756.47   9817.61  \n",
       "1001          NaN  18429.34  14036.66  "
      ]
     },
     "execution_count": 41,
     "metadata": {},
     "output_type": "execute_result"
    }
   ],
   "source": [
    "internet_users_stat.head(2)"
   ]
  },
  {
   "cell_type": "markdown",
   "metadata": {},
   "source": [
    "### Присоединим к таблицам 'calls_users_stat', 'messages_users_stat' и 'internet_users_stat' столбцы 'churn_month' и 'reg_month'"
   ]
  },
  {
   "cell_type": "code",
   "execution_count": 42,
   "metadata": {
    "scrolled": true
   },
   "outputs": [
    {
     "name": "stderr",
     "output_type": "stream",
     "text": [
      "/opt/conda/lib/python3.9/site-packages/pandas/core/reshape/merge.py:648: UserWarning: merging between different levels can give an unintended result (2 levels on the left,1 on the right)\n",
      "  warnings.warn(msg, UserWarning)\n"
     ]
    },
    {
     "data": {
      "text/html": [
       "<div>\n",
       "<style scoped>\n",
       "    .dataframe tbody tr th:only-of-type {\n",
       "        vertical-align: middle;\n",
       "    }\n",
       "\n",
       "    .dataframe tbody tr th {\n",
       "        vertical-align: top;\n",
       "    }\n",
       "\n",
       "    .dataframe thead th {\n",
       "        text-align: right;\n",
       "    }\n",
       "</style>\n",
       "<table border=\"1\" class=\"dataframe\">\n",
       "  <thead>\n",
       "    <tr style=\"text-align: right;\">\n",
       "      <th></th>\n",
       "      <th>user_id</th>\n",
       "      <th>(count, 1)</th>\n",
       "      <th>(count, 2)</th>\n",
       "      <th>(count, 3)</th>\n",
       "      <th>(count, 4)</th>\n",
       "      <th>(count, 5)</th>\n",
       "      <th>(count, 6)</th>\n",
       "      <th>(count, 7)</th>\n",
       "      <th>(count, 8)</th>\n",
       "      <th>(count, 9)</th>\n",
       "      <th>...</th>\n",
       "      <th>(sum, 5)</th>\n",
       "      <th>(sum, 6)</th>\n",
       "      <th>(sum, 7)</th>\n",
       "      <th>(sum, 8)</th>\n",
       "      <th>(sum, 9)</th>\n",
       "      <th>(sum, 10)</th>\n",
       "      <th>(sum, 11)</th>\n",
       "      <th>(sum, 12)</th>\n",
       "      <th>reg_month</th>\n",
       "      <th>churn_month</th>\n",
       "    </tr>\n",
       "  </thead>\n",
       "  <tbody>\n",
       "    <tr>\n",
       "      <th>0</th>\n",
       "      <td>1000</td>\n",
       "      <td>NaN</td>\n",
       "      <td>NaN</td>\n",
       "      <td>NaN</td>\n",
       "      <td>NaN</td>\n",
       "      <td>17.0</td>\n",
       "      <td>28.0</td>\n",
       "      <td>41.0</td>\n",
       "      <td>42.0</td>\n",
       "      <td>46.0</td>\n",
       "      <td>...</td>\n",
       "      <td>150.06</td>\n",
       "      <td>158.9</td>\n",
       "      <td>318.8</td>\n",
       "      <td>389.87</td>\n",
       "      <td>440.14</td>\n",
       "      <td>328.45</td>\n",
       "      <td>319.04</td>\n",
       "      <td>312.98</td>\n",
       "      <td>5</td>\n",
       "      <td>12</td>\n",
       "    </tr>\n",
       "    <tr>\n",
       "      <th>1</th>\n",
       "      <td>1001</td>\n",
       "      <td>NaN</td>\n",
       "      <td>NaN</td>\n",
       "      <td>NaN</td>\n",
       "      <td>NaN</td>\n",
       "      <td>NaN</td>\n",
       "      <td>NaN</td>\n",
       "      <td>NaN</td>\n",
       "      <td>NaN</td>\n",
       "      <td>NaN</td>\n",
       "      <td>...</td>\n",
       "      <td>NaN</td>\n",
       "      <td>NaN</td>\n",
       "      <td>NaN</td>\n",
       "      <td>NaN</td>\n",
       "      <td>NaN</td>\n",
       "      <td>NaN</td>\n",
       "      <td>408.12</td>\n",
       "      <td>391.34</td>\n",
       "      <td>11</td>\n",
       "      <td>12</td>\n",
       "    </tr>\n",
       "  </tbody>\n",
       "</table>\n",
       "<p>2 rows × 27 columns</p>\n",
       "</div>"
      ],
      "text/plain": [
       "   user_id  (count, 1)  (count, 2)  (count, 3)  (count, 4)  (count, 5)  \\\n",
       "0     1000         NaN         NaN         NaN         NaN        17.0   \n",
       "1     1001         NaN         NaN         NaN         NaN         NaN   \n",
       "\n",
       "   (count, 6)  (count, 7)  (count, 8)  (count, 9)  ...  (sum, 5)  (sum, 6)  \\\n",
       "0        28.0        41.0        42.0        46.0  ...    150.06     158.9   \n",
       "1         NaN         NaN         NaN         NaN  ...       NaN       NaN   \n",
       "\n",
       "   (sum, 7)  (sum, 8)  (sum, 9)  (sum, 10)  (sum, 11)  (sum, 12)  reg_month  \\\n",
       "0     318.8    389.87    440.14     328.45     319.04     312.98          5   \n",
       "1       NaN       NaN       NaN        NaN     408.12     391.34         11   \n",
       "\n",
       "   churn_month  \n",
       "0           12  \n",
       "1           12  \n",
       "\n",
       "[2 rows x 27 columns]"
      ]
     },
     "execution_count": 42,
     "metadata": {},
     "output_type": "execute_result"
    }
   ],
   "source": [
    "calls_users_stat=calls_users_stat.merge(users[['user_id','reg_month','churn_month']], on = 'user_id', how='outer')\n",
    "calls_users_stat.head(2)"
   ]
  },
  {
   "cell_type": "code",
   "execution_count": 43,
   "metadata": {},
   "outputs": [
    {
     "name": "stderr",
     "output_type": "stream",
     "text": [
      "/opt/conda/lib/python3.9/site-packages/pandas/core/reshape/merge.py:648: UserWarning: merging between different levels can give an unintended result (2 levels on the left,1 on the right)\n",
      "  warnings.warn(msg, UserWarning)\n"
     ]
    },
    {
     "data": {
      "text/html": [
       "<div>\n",
       "<style scoped>\n",
       "    .dataframe tbody tr th:only-of-type {\n",
       "        vertical-align: middle;\n",
       "    }\n",
       "\n",
       "    .dataframe tbody tr th {\n",
       "        vertical-align: top;\n",
       "    }\n",
       "\n",
       "    .dataframe thead th {\n",
       "        text-align: right;\n",
       "    }\n",
       "</style>\n",
       "<table border=\"1\" class=\"dataframe\">\n",
       "  <thead>\n",
       "    <tr style=\"text-align: right;\">\n",
       "      <th></th>\n",
       "      <th>user_id</th>\n",
       "      <th>(count, 1)</th>\n",
       "      <th>(count, 2)</th>\n",
       "      <th>(count, 3)</th>\n",
       "      <th>(count, 4)</th>\n",
       "      <th>(count, 5)</th>\n",
       "      <th>(count, 6)</th>\n",
       "      <th>(count, 7)</th>\n",
       "      <th>(count, 8)</th>\n",
       "      <th>(count, 9)</th>\n",
       "      <th>(count, 10)</th>\n",
       "      <th>(count, 11)</th>\n",
       "      <th>(count, 12)</th>\n",
       "      <th>reg_month</th>\n",
       "      <th>churn_month</th>\n",
       "    </tr>\n",
       "  </thead>\n",
       "  <tbody>\n",
       "    <tr>\n",
       "      <th>0</th>\n",
       "      <td>1000</td>\n",
       "      <td>NaN</td>\n",
       "      <td>NaN</td>\n",
       "      <td>NaN</td>\n",
       "      <td>NaN</td>\n",
       "      <td>22.0</td>\n",
       "      <td>60.0</td>\n",
       "      <td>75.0</td>\n",
       "      <td>81.0</td>\n",
       "      <td>57.0</td>\n",
       "      <td>73.0</td>\n",
       "      <td>58.0</td>\n",
       "      <td>70.0</td>\n",
       "      <td>5</td>\n",
       "      <td>12</td>\n",
       "    </tr>\n",
       "    <tr>\n",
       "      <th>1</th>\n",
       "      <td>1001</td>\n",
       "      <td>NaN</td>\n",
       "      <td>NaN</td>\n",
       "      <td>NaN</td>\n",
       "      <td>NaN</td>\n",
       "      <td>NaN</td>\n",
       "      <td>NaN</td>\n",
       "      <td>NaN</td>\n",
       "      <td>NaN</td>\n",
       "      <td>NaN</td>\n",
       "      <td>NaN</td>\n",
       "      <td>NaN</td>\n",
       "      <td>NaN</td>\n",
       "      <td>11</td>\n",
       "      <td>12</td>\n",
       "    </tr>\n",
       "  </tbody>\n",
       "</table>\n",
       "</div>"
      ],
      "text/plain": [
       "   user_id  (count, 1)  (count, 2)  (count, 3)  (count, 4)  (count, 5)  \\\n",
       "0     1000         NaN         NaN         NaN         NaN        22.0   \n",
       "1     1001         NaN         NaN         NaN         NaN         NaN   \n",
       "\n",
       "   (count, 6)  (count, 7)  (count, 8)  (count, 9)  (count, 10)  (count, 11)  \\\n",
       "0        60.0        75.0        81.0        57.0         73.0         58.0   \n",
       "1         NaN         NaN         NaN         NaN          NaN          NaN   \n",
       "\n",
       "   (count, 12)  reg_month  churn_month  \n",
       "0         70.0          5           12  \n",
       "1          NaN         11           12  "
      ]
     },
     "execution_count": 43,
     "metadata": {},
     "output_type": "execute_result"
    }
   ],
   "source": [
    "messages_users_stat=messages_users_stat.merge(users[['user_id','reg_month','churn_month']], on = 'user_id', how='outer')\n",
    "messages_users_stat.head(2)"
   ]
  },
  {
   "cell_type": "code",
   "execution_count": 44,
   "metadata": {
    "scrolled": false
   },
   "outputs": [
    {
     "name": "stderr",
     "output_type": "stream",
     "text": [
      "/opt/conda/lib/python3.9/site-packages/pandas/core/reshape/merge.py:648: UserWarning: merging between different levels can give an unintended result (2 levels on the left,1 on the right)\n",
      "  warnings.warn(msg, UserWarning)\n"
     ]
    },
    {
     "data": {
      "text/html": [
       "<div>\n",
       "<style scoped>\n",
       "    .dataframe tbody tr th:only-of-type {\n",
       "        vertical-align: middle;\n",
       "    }\n",
       "\n",
       "    .dataframe tbody tr th {\n",
       "        vertical-align: top;\n",
       "    }\n",
       "\n",
       "    .dataframe thead th {\n",
       "        text-align: right;\n",
       "    }\n",
       "</style>\n",
       "<table border=\"1\" class=\"dataframe\">\n",
       "  <thead>\n",
       "    <tr style=\"text-align: right;\">\n",
       "      <th></th>\n",
       "      <th>user_id</th>\n",
       "      <th>(sum, 1)</th>\n",
       "      <th>(sum, 2)</th>\n",
       "      <th>(sum, 3)</th>\n",
       "      <th>(sum, 4)</th>\n",
       "      <th>(sum, 5)</th>\n",
       "      <th>(sum, 6)</th>\n",
       "      <th>(sum, 7)</th>\n",
       "      <th>(sum, 8)</th>\n",
       "      <th>(sum, 9)</th>\n",
       "      <th>(sum, 10)</th>\n",
       "      <th>(sum, 11)</th>\n",
       "      <th>(sum, 12)</th>\n",
       "      <th>reg_month</th>\n",
       "      <th>churn_month</th>\n",
       "    </tr>\n",
       "  </thead>\n",
       "  <tbody>\n",
       "    <tr>\n",
       "      <th>0</th>\n",
       "      <td>1000</td>\n",
       "      <td>NaN</td>\n",
       "      <td>NaN</td>\n",
       "      <td>NaN</td>\n",
       "      <td>NaN</td>\n",
       "      <td>2253.49</td>\n",
       "      <td>23233.77</td>\n",
       "      <td>14003.64</td>\n",
       "      <td>14055.93</td>\n",
       "      <td>14568.91</td>\n",
       "      <td>14702.49</td>\n",
       "      <td>14756.47</td>\n",
       "      <td>9817.61</td>\n",
       "      <td>5</td>\n",
       "      <td>12</td>\n",
       "    </tr>\n",
       "    <tr>\n",
       "      <th>1</th>\n",
       "      <td>1001</td>\n",
       "      <td>NaN</td>\n",
       "      <td>NaN</td>\n",
       "      <td>NaN</td>\n",
       "      <td>NaN</td>\n",
       "      <td>NaN</td>\n",
       "      <td>NaN</td>\n",
       "      <td>NaN</td>\n",
       "      <td>NaN</td>\n",
       "      <td>NaN</td>\n",
       "      <td>NaN</td>\n",
       "      <td>18429.34</td>\n",
       "      <td>14036.66</td>\n",
       "      <td>11</td>\n",
       "      <td>12</td>\n",
       "    </tr>\n",
       "  </tbody>\n",
       "</table>\n",
       "</div>"
      ],
      "text/plain": [
       "   user_id  (sum, 1)  (sum, 2)  (sum, 3)  (sum, 4)  (sum, 5)  (sum, 6)  \\\n",
       "0     1000       NaN       NaN       NaN       NaN   2253.49  23233.77   \n",
       "1     1001       NaN       NaN       NaN       NaN       NaN       NaN   \n",
       "\n",
       "   (sum, 7)  (sum, 8)  (sum, 9)  (sum, 10)  (sum, 11)  (sum, 12)  reg_month  \\\n",
       "0  14003.64  14055.93  14568.91   14702.49   14756.47    9817.61          5   \n",
       "1       NaN       NaN       NaN        NaN   18429.34   14036.66         11   \n",
       "\n",
       "   churn_month  \n",
       "0           12  \n",
       "1           12  "
      ]
     },
     "execution_count": 44,
     "metadata": {},
     "output_type": "execute_result"
    }
   ],
   "source": [
    "internet_users_stat=internet_users_stat.merge(users[['user_id','reg_month','churn_month']], on = 'user_id', how='outer')\n",
    "internet_users_stat.head(2)"
   ]
  },
  {
   "cell_type": "markdown",
   "metadata": {},
   "source": [
    "### В таблицах 'calls_users_stat', 'messages_users_stat' и 'internet_users_stat' поставим для пользователей, которые были подключены к тарифу, но не пользовались услугой, ноль вместо NaN (в период подключения к тарифу - месяцы между 'reg_month' и 'churn_month' включительно)"
   ]
  },
  {
   "cell_type": "code",
   "execution_count": 45,
   "metadata": {},
   "outputs": [],
   "source": [
    "for i in range(1,13):\n",
    "    calls_users_stat.loc[(calls_users_stat[('count', i)].isna())&(calls_users_stat['reg_month']<=i)& \\\n",
    "                         (calls_users_stat['churn_month']>=i),[('count', i)]] = 0\n",
    "    calls_users_stat.loc[(calls_users_stat[('sum', i)].isna())&(calls_users_stat['reg_month']<=i)& \\\n",
    "                         (calls_users_stat['churn_month']>=i),[('sum', i)]] = 0\n",
    "    messages_users_stat.loc[(messages_users_stat[('count', i)].isna())&(messages_users_stat['reg_month']<=i)& \\\n",
    "                            (messages_users_stat['churn_month']>=i),[('count', i)]] = 0\n",
    "    internet_users_stat.loc[(internet_users_stat[('sum', i)].isna())&(internet_users_stat['reg_month']<=i)& \\\n",
    "                            (internet_users_stat['churn_month']>=i),[('sum', i)]] = 0"
   ]
  },
  {
   "cell_type": "markdown",
   "metadata": {},
   "source": [
    "### Проверим результат"
   ]
  },
  {
   "cell_type": "code",
   "execution_count": 46,
   "metadata": {
    "scrolled": true
   },
   "outputs": [
    {
     "data": {
      "text/html": [
       "<div>\n",
       "<style scoped>\n",
       "    .dataframe tbody tr th:only-of-type {\n",
       "        vertical-align: middle;\n",
       "    }\n",
       "\n",
       "    .dataframe tbody tr th {\n",
       "        vertical-align: top;\n",
       "    }\n",
       "\n",
       "    .dataframe thead th {\n",
       "        text-align: right;\n",
       "    }\n",
       "</style>\n",
       "<table border=\"1\" class=\"dataframe\">\n",
       "  <thead>\n",
       "    <tr style=\"text-align: right;\">\n",
       "      <th></th>\n",
       "      <th>user_id</th>\n",
       "      <th>(count, 1)</th>\n",
       "      <th>(count, 2)</th>\n",
       "      <th>(count, 3)</th>\n",
       "      <th>(count, 4)</th>\n",
       "      <th>(count, 5)</th>\n",
       "      <th>(count, 6)</th>\n",
       "      <th>(count, 7)</th>\n",
       "      <th>(count, 8)</th>\n",
       "      <th>(count, 9)</th>\n",
       "      <th>...</th>\n",
       "      <th>(sum, 5)</th>\n",
       "      <th>(sum, 6)</th>\n",
       "      <th>(sum, 7)</th>\n",
       "      <th>(sum, 8)</th>\n",
       "      <th>(sum, 9)</th>\n",
       "      <th>(sum, 10)</th>\n",
       "      <th>(sum, 11)</th>\n",
       "      <th>(sum, 12)</th>\n",
       "      <th>reg_month</th>\n",
       "      <th>churn_month</th>\n",
       "    </tr>\n",
       "  </thead>\n",
       "  <tbody>\n",
       "    <tr>\n",
       "      <th>489</th>\n",
       "      <td>1489</td>\n",
       "      <td>NaN</td>\n",
       "      <td>NaN</td>\n",
       "      <td>NaN</td>\n",
       "      <td>NaN</td>\n",
       "      <td>NaN</td>\n",
       "      <td>NaN</td>\n",
       "      <td>NaN</td>\n",
       "      <td>0.0</td>\n",
       "      <td>0.0</td>\n",
       "      <td>...</td>\n",
       "      <td>NaN</td>\n",
       "      <td>NaN</td>\n",
       "      <td>NaN</td>\n",
       "      <td>0.0</td>\n",
       "      <td>0.0</td>\n",
       "      <td>0.0</td>\n",
       "      <td>0.0</td>\n",
       "      <td>0.0</td>\n",
       "      <td>8</td>\n",
       "      <td>12</td>\n",
       "    </tr>\n",
       "  </tbody>\n",
       "</table>\n",
       "<p>1 rows × 27 columns</p>\n",
       "</div>"
      ],
      "text/plain": [
       "     user_id  (count, 1)  (count, 2)  (count, 3)  (count, 4)  (count, 5)  \\\n",
       "489     1489         NaN         NaN         NaN         NaN         NaN   \n",
       "\n",
       "     (count, 6)  (count, 7)  (count, 8)  (count, 9)  ...  (sum, 5)  (sum, 6)  \\\n",
       "489         NaN         NaN         0.0         0.0  ...       NaN       NaN   \n",
       "\n",
       "     (sum, 7)  (sum, 8)  (sum, 9)  (sum, 10)  (sum, 11)  (sum, 12)  reg_month  \\\n",
       "489       NaN       0.0       0.0        0.0        0.0        0.0          8   \n",
       "\n",
       "     churn_month  \n",
       "489           12  \n",
       "\n",
       "[1 rows x 27 columns]"
      ]
     },
     "execution_count": 46,
     "metadata": {},
     "output_type": "execute_result"
    }
   ],
   "source": [
    "calls_users_stat[calls_users_stat['user_id']==1489]"
   ]
  },
  {
   "cell_type": "code",
   "execution_count": 47,
   "metadata": {
    "scrolled": true
   },
   "outputs": [
    {
     "data": {
      "text/html": [
       "<div>\n",
       "<style scoped>\n",
       "    .dataframe tbody tr th:only-of-type {\n",
       "        vertical-align: middle;\n",
       "    }\n",
       "\n",
       "    .dataframe tbody tr th {\n",
       "        vertical-align: top;\n",
       "    }\n",
       "\n",
       "    .dataframe thead th {\n",
       "        text-align: right;\n",
       "    }\n",
       "</style>\n",
       "<table border=\"1\" class=\"dataframe\">\n",
       "  <thead>\n",
       "    <tr style=\"text-align: right;\">\n",
       "      <th></th>\n",
       "      <th>user_id</th>\n",
       "      <th>(count, 1)</th>\n",
       "      <th>(count, 2)</th>\n",
       "      <th>(count, 3)</th>\n",
       "      <th>(count, 4)</th>\n",
       "      <th>(count, 5)</th>\n",
       "      <th>(count, 6)</th>\n",
       "      <th>(count, 7)</th>\n",
       "      <th>(count, 8)</th>\n",
       "      <th>(count, 9)</th>\n",
       "      <th>(count, 10)</th>\n",
       "      <th>(count, 11)</th>\n",
       "      <th>(count, 12)</th>\n",
       "      <th>reg_month</th>\n",
       "      <th>churn_month</th>\n",
       "    </tr>\n",
       "  </thead>\n",
       "  <tbody>\n",
       "    <tr>\n",
       "      <th>1</th>\n",
       "      <td>1001</td>\n",
       "      <td>NaN</td>\n",
       "      <td>NaN</td>\n",
       "      <td>NaN</td>\n",
       "      <td>NaN</td>\n",
       "      <td>NaN</td>\n",
       "      <td>NaN</td>\n",
       "      <td>NaN</td>\n",
       "      <td>NaN</td>\n",
       "      <td>NaN</td>\n",
       "      <td>NaN</td>\n",
       "      <td>0.0</td>\n",
       "      <td>0.0</td>\n",
       "      <td>11</td>\n",
       "      <td>12</td>\n",
       "    </tr>\n",
       "  </tbody>\n",
       "</table>\n",
       "</div>"
      ],
      "text/plain": [
       "   user_id  (count, 1)  (count, 2)  (count, 3)  (count, 4)  (count, 5)  \\\n",
       "1     1001         NaN         NaN         NaN         NaN         NaN   \n",
       "\n",
       "   (count, 6)  (count, 7)  (count, 8)  (count, 9)  (count, 10)  (count, 11)  \\\n",
       "1         NaN         NaN         NaN         NaN          NaN          0.0   \n",
       "\n",
       "   (count, 12)  reg_month  churn_month  \n",
       "1          0.0         11           12  "
      ]
     },
     "execution_count": 47,
     "metadata": {},
     "output_type": "execute_result"
    }
   ],
   "source": [
    "messages_users_stat[messages_users_stat['user_id']==1001]"
   ]
  },
  {
   "cell_type": "code",
   "execution_count": 48,
   "metadata": {
    "scrolled": true
   },
   "outputs": [
    {
     "data": {
      "text/html": [
       "<div>\n",
       "<style scoped>\n",
       "    .dataframe tbody tr th:only-of-type {\n",
       "        vertical-align: middle;\n",
       "    }\n",
       "\n",
       "    .dataframe tbody tr th {\n",
       "        vertical-align: top;\n",
       "    }\n",
       "\n",
       "    .dataframe thead th {\n",
       "        text-align: right;\n",
       "    }\n",
       "</style>\n",
       "<table border=\"1\" class=\"dataframe\">\n",
       "  <thead>\n",
       "    <tr style=\"text-align: right;\">\n",
       "      <th></th>\n",
       "      <th>user_id</th>\n",
       "      <th>(sum, 1)</th>\n",
       "      <th>(sum, 2)</th>\n",
       "      <th>(sum, 3)</th>\n",
       "      <th>(sum, 4)</th>\n",
       "      <th>(sum, 5)</th>\n",
       "      <th>(sum, 6)</th>\n",
       "      <th>(sum, 7)</th>\n",
       "      <th>(sum, 8)</th>\n",
       "      <th>(sum, 9)</th>\n",
       "      <th>(sum, 10)</th>\n",
       "      <th>(sum, 11)</th>\n",
       "      <th>(sum, 12)</th>\n",
       "      <th>reg_month</th>\n",
       "      <th>churn_month</th>\n",
       "    </tr>\n",
       "  </thead>\n",
       "  <tbody>\n",
       "    <tr>\n",
       "      <th>273</th>\n",
       "      <td>1273</td>\n",
       "      <td>NaN</td>\n",
       "      <td>NaN</td>\n",
       "      <td>NaN</td>\n",
       "      <td>NaN</td>\n",
       "      <td>0.0</td>\n",
       "      <td>0.0</td>\n",
       "      <td>0.0</td>\n",
       "      <td>0.0</td>\n",
       "      <td>0.0</td>\n",
       "      <td>0.0</td>\n",
       "      <td>0.0</td>\n",
       "      <td>0.0</td>\n",
       "      <td>5</td>\n",
       "      <td>12</td>\n",
       "    </tr>\n",
       "  </tbody>\n",
       "</table>\n",
       "</div>"
      ],
      "text/plain": [
       "     user_id  (sum, 1)  (sum, 2)  (sum, 3)  (sum, 4)  (sum, 5)  (sum, 6)  \\\n",
       "273     1273       NaN       NaN       NaN       NaN       0.0       0.0   \n",
       "\n",
       "     (sum, 7)  (sum, 8)  (sum, 9)  (sum, 10)  (sum, 11)  (sum, 12)  reg_month  \\\n",
       "273       0.0       0.0       0.0        0.0        0.0        0.0          5   \n",
       "\n",
       "     churn_month  \n",
       "273           12  "
      ]
     },
     "execution_count": 48,
     "metadata": {},
     "output_type": "execute_result"
    }
   ],
   "source": [
    "internet_users_stat[internet_users_stat['user_id']==1273]"
   ]
  },
  {
   "cell_type": "markdown",
   "metadata": {},
   "source": [
    "### У нас получилось 3 таблицы, в которых для каждого пользователя определено\n",
    "1. Количество сделанных звонков и израсходованных минут разговора по месяцам (\"calls_users_stat\");\n",
    "2. Количество отправленных сообщений по месяцам (\"messages_users_stat\");\n",
    "3. Объем израсходованного интернет-трафика по месяцам (\"internet_users_stat\");"
   ]
  },
  {
   "cell_type": "code",
   "execution_count": 49,
   "metadata": {
    "scrolled": true
   },
   "outputs": [
    {
     "data": {
      "text/plain": [
       "[(500, 27), (500, 15), (500, 15)]"
      ]
     },
     "execution_count": 49,
     "metadata": {},
     "output_type": "execute_result"
    }
   ],
   "source": [
    "[calls_users_stat.shape,   messages_users_stat.shape,   internet_users_stat.shape]"
   ]
  },
  {
   "cell_type": "markdown",
   "metadata": {},
   "source": [
    "### Рассчитаем помесячную выручку с каждого пользователя"
   ]
  },
  {
   "cell_type": "markdown",
   "metadata": {},
   "source": [
    "### Объединим таблицы \"users\" и \"tariffs\""
   ]
  },
  {
   "cell_type": "code",
   "execution_count": 50,
   "metadata": {
    "scrolled": false
   },
   "outputs": [
    {
     "data": {
      "text/html": [
       "<div>\n",
       "<style scoped>\n",
       "    .dataframe tbody tr th:only-of-type {\n",
       "        vertical-align: middle;\n",
       "    }\n",
       "\n",
       "    .dataframe tbody tr th {\n",
       "        vertical-align: top;\n",
       "    }\n",
       "\n",
       "    .dataframe thead th {\n",
       "        text-align: right;\n",
       "    }\n",
       "</style>\n",
       "<table border=\"1\" class=\"dataframe\">\n",
       "  <thead>\n",
       "    <tr style=\"text-align: right;\">\n",
       "      <th></th>\n",
       "      <th>index</th>\n",
       "      <th>user_id</th>\n",
       "      <th>age</th>\n",
       "      <th>churn_date</th>\n",
       "      <th>city</th>\n",
       "      <th>first_name</th>\n",
       "      <th>last_name</th>\n",
       "      <th>reg_date</th>\n",
       "      <th>tariff</th>\n",
       "      <th>full_name</th>\n",
       "      <th>reg_month</th>\n",
       "      <th>churn_month</th>\n",
       "      <th>messages_included</th>\n",
       "      <th>mb_per_month_included</th>\n",
       "      <th>minutes_included</th>\n",
       "      <th>rub_monthly_fee</th>\n",
       "      <th>rub_per_gb</th>\n",
       "      <th>rub_per_message</th>\n",
       "      <th>rub_per_minute</th>\n",
       "      <th>tariff_name</th>\n",
       "    </tr>\n",
       "  </thead>\n",
       "  <tbody>\n",
       "    <tr>\n",
       "      <th>0</th>\n",
       "      <td>0</td>\n",
       "      <td>1000</td>\n",
       "      <td>52</td>\n",
       "      <td>NaT</td>\n",
       "      <td>Краснодар</td>\n",
       "      <td>Рафаил</td>\n",
       "      <td>Верещагин</td>\n",
       "      <td>2018-05-25</td>\n",
       "      <td>ultra</td>\n",
       "      <td>Рафаил Верещагин</td>\n",
       "      <td>5</td>\n",
       "      <td>12</td>\n",
       "      <td>1000</td>\n",
       "      <td>30720</td>\n",
       "      <td>3000</td>\n",
       "      <td>1950</td>\n",
       "      <td>150</td>\n",
       "      <td>1</td>\n",
       "      <td>1</td>\n",
       "      <td>ultra</td>\n",
       "    </tr>\n",
       "    <tr>\n",
       "      <th>1</th>\n",
       "      <td>149</td>\n",
       "      <td>1001</td>\n",
       "      <td>41</td>\n",
       "      <td>NaT</td>\n",
       "      <td>Москва</td>\n",
       "      <td>Иван</td>\n",
       "      <td>Ежов</td>\n",
       "      <td>2018-11-01</td>\n",
       "      <td>smart</td>\n",
       "      <td>Иван Ежов</td>\n",
       "      <td>11</td>\n",
       "      <td>12</td>\n",
       "      <td>50</td>\n",
       "      <td>15360</td>\n",
       "      <td>500</td>\n",
       "      <td>550</td>\n",
       "      <td>200</td>\n",
       "      <td>3</td>\n",
       "      <td>3</td>\n",
       "      <td>smart</td>\n",
       "    </tr>\n",
       "    <tr>\n",
       "      <th>2</th>\n",
       "      <td>150</td>\n",
       "      <td>1002</td>\n",
       "      <td>59</td>\n",
       "      <td>NaT</td>\n",
       "      <td>Стерлитамак</td>\n",
       "      <td>Евгений</td>\n",
       "      <td>Абрамович</td>\n",
       "      <td>2018-06-17</td>\n",
       "      <td>smart</td>\n",
       "      <td>Евгений Абрамович</td>\n",
       "      <td>6</td>\n",
       "      <td>12</td>\n",
       "      <td>50</td>\n",
       "      <td>15360</td>\n",
       "      <td>500</td>\n",
       "      <td>550</td>\n",
       "      <td>200</td>\n",
       "      <td>3</td>\n",
       "      <td>3</td>\n",
       "      <td>smart</td>\n",
       "    </tr>\n",
       "    <tr>\n",
       "      <th>3</th>\n",
       "      <td>1</td>\n",
       "      <td>1003</td>\n",
       "      <td>23</td>\n",
       "      <td>NaT</td>\n",
       "      <td>Москва</td>\n",
       "      <td>Белла</td>\n",
       "      <td>Белякова</td>\n",
       "      <td>2018-08-17</td>\n",
       "      <td>ultra</td>\n",
       "      <td>Белла Белякова</td>\n",
       "      <td>8</td>\n",
       "      <td>12</td>\n",
       "      <td>1000</td>\n",
       "      <td>30720</td>\n",
       "      <td>3000</td>\n",
       "      <td>1950</td>\n",
       "      <td>150</td>\n",
       "      <td>1</td>\n",
       "      <td>1</td>\n",
       "      <td>ultra</td>\n",
       "    </tr>\n",
       "    <tr>\n",
       "      <th>4</th>\n",
       "      <td>2</td>\n",
       "      <td>1004</td>\n",
       "      <td>68</td>\n",
       "      <td>NaT</td>\n",
       "      <td>Новокузнецк</td>\n",
       "      <td>Татьяна</td>\n",
       "      <td>Авдеенко</td>\n",
       "      <td>2018-05-14</td>\n",
       "      <td>ultra</td>\n",
       "      <td>Татьяна Авдеенко</td>\n",
       "      <td>5</td>\n",
       "      <td>12</td>\n",
       "      <td>1000</td>\n",
       "      <td>30720</td>\n",
       "      <td>3000</td>\n",
       "      <td>1950</td>\n",
       "      <td>150</td>\n",
       "      <td>1</td>\n",
       "      <td>1</td>\n",
       "      <td>ultra</td>\n",
       "    </tr>\n",
       "  </tbody>\n",
       "</table>\n",
       "</div>"
      ],
      "text/plain": [
       "   index  user_id  age churn_date         city first_name  last_name  \\\n",
       "0      0     1000   52        NaT    Краснодар     Рафаил  Верещагин   \n",
       "1    149     1001   41        NaT       Москва       Иван       Ежов   \n",
       "2    150     1002   59        NaT  Стерлитамак    Евгений  Абрамович   \n",
       "3      1     1003   23        NaT       Москва      Белла   Белякова   \n",
       "4      2     1004   68        NaT  Новокузнецк    Татьяна   Авдеенко   \n",
       "\n",
       "    reg_date tariff          full_name  reg_month  churn_month  \\\n",
       "0 2018-05-25  ultra   Рафаил Верещагин          5           12   \n",
       "1 2018-11-01  smart          Иван Ежов         11           12   \n",
       "2 2018-06-17  smart  Евгений Абрамович          6           12   \n",
       "3 2018-08-17  ultra     Белла Белякова          8           12   \n",
       "4 2018-05-14  ultra   Татьяна Авдеенко          5           12   \n",
       "\n",
       "   messages_included  mb_per_month_included  minutes_included  \\\n",
       "0               1000                  30720              3000   \n",
       "1                 50                  15360               500   \n",
       "2                 50                  15360               500   \n",
       "3               1000                  30720              3000   \n",
       "4               1000                  30720              3000   \n",
       "\n",
       "   rub_monthly_fee  rub_per_gb  rub_per_message  rub_per_minute tariff_name  \n",
       "0             1950         150                1               1       ultra  \n",
       "1              550         200                3               3       smart  \n",
       "2              550         200                3               3       smart  \n",
       "3             1950         150                1               1       ultra  \n",
       "4             1950         150                1               1       ultra  "
      ]
     },
     "execution_count": 50,
     "metadata": {},
     "output_type": "execute_result"
    }
   ],
   "source": [
    "full_users=users.merge(tariffs, left_on='tariff', right_on='tariff_name', how='outer')\n",
    "full_users=full_users.sort_values(by='user_id').reset_index()\n",
    "full_users.head()"
   ]
  },
  {
   "cell_type": "markdown",
   "metadata": {},
   "source": [
    "### Таблица с выручкой будет иметь такие же названия столбцов, как и таблица \"internet_users_stat\""
   ]
  },
  {
   "cell_type": "code",
   "execution_count": 51,
   "metadata": {},
   "outputs": [],
   "source": [
    "every_month_profit=internet_users_stat.copy()"
   ]
  },
  {
   "cell_type": "markdown",
   "metadata": {},
   "source": [
    "### Заполним таблицу \"every_month_profit\" актуальными данными"
   ]
  },
  {
   "cell_type": "code",
   "execution_count": 52,
   "metadata": {},
   "outputs": [],
   "source": [
    "for i in range(1,13):\n",
    "    # Проверяем, превысили ли минуты, смс и интернет предлагаемые тарифом лимиты\n",
    "    minutes_over=calls_users_stat.iloc[:,i+12]-full_users['minutes_included']\n",
    "    messages_over=messages_users_stat.iloc[:,i]-full_users['messages_included']\n",
    "    internet_over=internet_users_stat.iloc[:,i]-full_users['mb_per_month_included']\n",
    "    minutes_messages_internet=pd.DataFrame( {'minuts': minutes_over, 'mess': messages_over,'internet': internet_over})\n",
    "    # Если лимиты не превышены, то считать допплату за минуты, смс и интернет не нужно - будет только абонентская плата\n",
    "    minutes_messages_internet.loc[minutes_messages_internet['minuts']<0, 'minuts'] = 0\n",
    "    minutes_messages_internet.loc[minutes_messages_internet['mess']<0, 'mess'] = 0\n",
    "    minutes_messages_internet.loc[minutes_messages_internet['internet']<0, 'internet'] = 0\n",
    "    # Расчет помесячной выручки по формуле\n",
    "    every_month_profit.iloc[:,i]=(minutes_messages_internet['minuts']*full_users['rub_per_minute']+ \\\n",
    "                                  minutes_messages_internet['mess']*full_users['rub_per_message'] + \\\n",
    "                                  minutes_messages_internet['internet']/1000*full_users['rub_per_gb'] \\\n",
    "                                  + full_users['rub_monthly_fee']).round(2)"
   ]
  },
  {
   "cell_type": "markdown",
   "metadata": {},
   "source": [
    "### Таблица \"every_month_profit\" содержит информацию о помесячной выручке с каждого пользователя"
   ]
  },
  {
   "cell_type": "code",
   "execution_count": 53,
   "metadata": {},
   "outputs": [
    {
     "data": {
      "text/html": [
       "<div>\n",
       "<style scoped>\n",
       "    .dataframe tbody tr th:only-of-type {\n",
       "        vertical-align: middle;\n",
       "    }\n",
       "\n",
       "    .dataframe tbody tr th {\n",
       "        vertical-align: top;\n",
       "    }\n",
       "\n",
       "    .dataframe thead th {\n",
       "        text-align: right;\n",
       "    }\n",
       "</style>\n",
       "<table border=\"1\" class=\"dataframe\">\n",
       "  <thead>\n",
       "    <tr style=\"text-align: right;\">\n",
       "      <th></th>\n",
       "      <th>user_id</th>\n",
       "      <th>(sum, 1)</th>\n",
       "      <th>(sum, 2)</th>\n",
       "      <th>(sum, 3)</th>\n",
       "      <th>(sum, 4)</th>\n",
       "      <th>(sum, 5)</th>\n",
       "      <th>(sum, 6)</th>\n",
       "      <th>(sum, 7)</th>\n",
       "      <th>(sum, 8)</th>\n",
       "      <th>(sum, 9)</th>\n",
       "      <th>(sum, 10)</th>\n",
       "      <th>(sum, 11)</th>\n",
       "      <th>(sum, 12)</th>\n",
       "      <th>reg_month</th>\n",
       "      <th>churn_month</th>\n",
       "    </tr>\n",
       "  </thead>\n",
       "  <tbody>\n",
       "    <tr>\n",
       "      <th>0</th>\n",
       "      <td>1000</td>\n",
       "      <td>NaN</td>\n",
       "      <td>NaN</td>\n",
       "      <td>NaN</td>\n",
       "      <td>NaN</td>\n",
       "      <td>1950.00</td>\n",
       "      <td>1950.00</td>\n",
       "      <td>1950.00</td>\n",
       "      <td>1950.00</td>\n",
       "      <td>1950.00</td>\n",
       "      <td>1950.00</td>\n",
       "      <td>1950.00</td>\n",
       "      <td>1950.00</td>\n",
       "      <td>5</td>\n",
       "      <td>12</td>\n",
       "    </tr>\n",
       "    <tr>\n",
       "      <th>1</th>\n",
       "      <td>1001</td>\n",
       "      <td>NaN</td>\n",
       "      <td>NaN</td>\n",
       "      <td>NaN</td>\n",
       "      <td>NaN</td>\n",
       "      <td>NaN</td>\n",
       "      <td>NaN</td>\n",
       "      <td>NaN</td>\n",
       "      <td>NaN</td>\n",
       "      <td>NaN</td>\n",
       "      <td>NaN</td>\n",
       "      <td>1163.87</td>\n",
       "      <td>550.00</td>\n",
       "      <td>11</td>\n",
       "      <td>12</td>\n",
       "    </tr>\n",
       "    <tr>\n",
       "      <th>2</th>\n",
       "      <td>1002</td>\n",
       "      <td>NaN</td>\n",
       "      <td>NaN</td>\n",
       "      <td>NaN</td>\n",
       "      <td>NaN</td>\n",
       "      <td>NaN</td>\n",
       "      <td>550.00</td>\n",
       "      <td>994.02</td>\n",
       "      <td>1541.85</td>\n",
       "      <td>816.22</td>\n",
       "      <td>550.00</td>\n",
       "      <td>1195.46</td>\n",
       "      <td>1100.75</td>\n",
       "      <td>6</td>\n",
       "      <td>12</td>\n",
       "    </tr>\n",
       "    <tr>\n",
       "      <th>3</th>\n",
       "      <td>1003</td>\n",
       "      <td>NaN</td>\n",
       "      <td>NaN</td>\n",
       "      <td>NaN</td>\n",
       "      <td>NaN</td>\n",
       "      <td>NaN</td>\n",
       "      <td>NaN</td>\n",
       "      <td>NaN</td>\n",
       "      <td>1950.00</td>\n",
       "      <td>1950.00</td>\n",
       "      <td>1950.00</td>\n",
       "      <td>1950.00</td>\n",
       "      <td>1950.00</td>\n",
       "      <td>8</td>\n",
       "      <td>12</td>\n",
       "    </tr>\n",
       "    <tr>\n",
       "      <th>4</th>\n",
       "      <td>1004</td>\n",
       "      <td>NaN</td>\n",
       "      <td>NaN</td>\n",
       "      <td>NaN</td>\n",
       "      <td>NaN</td>\n",
       "      <td>1950.00</td>\n",
       "      <td>1950.00</td>\n",
       "      <td>1950.00</td>\n",
       "      <td>1950.00</td>\n",
       "      <td>1950.00</td>\n",
       "      <td>1950.00</td>\n",
       "      <td>1950.00</td>\n",
       "      <td>1950.00</td>\n",
       "      <td>5</td>\n",
       "      <td>12</td>\n",
       "    </tr>\n",
       "    <tr>\n",
       "      <th>...</th>\n",
       "      <td>...</td>\n",
       "      <td>...</td>\n",
       "      <td>...</td>\n",
       "      <td>...</td>\n",
       "      <td>...</td>\n",
       "      <td>...</td>\n",
       "      <td>...</td>\n",
       "      <td>...</td>\n",
       "      <td>...</td>\n",
       "      <td>...</td>\n",
       "      <td>...</td>\n",
       "      <td>...</td>\n",
       "      <td>...</td>\n",
       "      <td>...</td>\n",
       "      <td>...</td>\n",
       "    </tr>\n",
       "    <tr>\n",
       "      <th>495</th>\n",
       "      <td>1495</td>\n",
       "      <td>NaN</td>\n",
       "      <td>NaN</td>\n",
       "      <td>NaN</td>\n",
       "      <td>NaN</td>\n",
       "      <td>NaN</td>\n",
       "      <td>NaN</td>\n",
       "      <td>NaN</td>\n",
       "      <td>1950.00</td>\n",
       "      <td>2302.14</td>\n",
       "      <td>1950.00</td>\n",
       "      <td>3182.87</td>\n",
       "      <td>1950.00</td>\n",
       "      <td>8</td>\n",
       "      <td>12</td>\n",
       "    </tr>\n",
       "    <tr>\n",
       "      <th>496</th>\n",
       "      <td>1496</td>\n",
       "      <td>550.0</td>\n",
       "      <td>3360.16</td>\n",
       "      <td>2535.65</td>\n",
       "      <td>1692.93</td>\n",
       "      <td>2219.95</td>\n",
       "      <td>1592.49</td>\n",
       "      <td>2501.13</td>\n",
       "      <td>2184.01</td>\n",
       "      <td>2864.93</td>\n",
       "      <td>3114.63</td>\n",
       "      <td>2890.34</td>\n",
       "      <td>1628.23</td>\n",
       "      <td>1</td>\n",
       "      <td>12</td>\n",
       "    </tr>\n",
       "    <tr>\n",
       "      <th>497</th>\n",
       "      <td>1497</td>\n",
       "      <td>NaN</td>\n",
       "      <td>NaN</td>\n",
       "      <td>NaN</td>\n",
       "      <td>NaN</td>\n",
       "      <td>NaN</td>\n",
       "      <td>NaN</td>\n",
       "      <td>NaN</td>\n",
       "      <td>NaN</td>\n",
       "      <td>NaN</td>\n",
       "      <td>550.00</td>\n",
       "      <td>550.00</td>\n",
       "      <td>1507.71</td>\n",
       "      <td>10</td>\n",
       "      <td>12</td>\n",
       "    </tr>\n",
       "    <tr>\n",
       "      <th>498</th>\n",
       "      <td>1498</td>\n",
       "      <td>NaN</td>\n",
       "      <td>NaN</td>\n",
       "      <td>NaN</td>\n",
       "      <td>NaN</td>\n",
       "      <td>NaN</td>\n",
       "      <td>NaN</td>\n",
       "      <td>550.00</td>\n",
       "      <td>2361.04</td>\n",
       "      <td>1904.88</td>\n",
       "      <td>1593.87</td>\n",
       "      <td>NaN</td>\n",
       "      <td>NaN</td>\n",
       "      <td>7</td>\n",
       "      <td>10</td>\n",
       "    </tr>\n",
       "    <tr>\n",
       "      <th>499</th>\n",
       "      <td>1499</td>\n",
       "      <td>NaN</td>\n",
       "      <td>NaN</td>\n",
       "      <td>NaN</td>\n",
       "      <td>NaN</td>\n",
       "      <td>NaN</td>\n",
       "      <td>NaN</td>\n",
       "      <td>NaN</td>\n",
       "      <td>NaN</td>\n",
       "      <td>550.00</td>\n",
       "      <td>1035.70</td>\n",
       "      <td>1327.16</td>\n",
       "      <td>598.00</td>\n",
       "      <td>9</td>\n",
       "      <td>12</td>\n",
       "    </tr>\n",
       "  </tbody>\n",
       "</table>\n",
       "<p>500 rows × 15 columns</p>\n",
       "</div>"
      ],
      "text/plain": [
       "     user_id  (sum, 1)  (sum, 2)  (sum, 3)  (sum, 4)  (sum, 5)  (sum, 6)  \\\n",
       "0       1000       NaN       NaN       NaN       NaN   1950.00   1950.00   \n",
       "1       1001       NaN       NaN       NaN       NaN       NaN       NaN   \n",
       "2       1002       NaN       NaN       NaN       NaN       NaN    550.00   \n",
       "3       1003       NaN       NaN       NaN       NaN       NaN       NaN   \n",
       "4       1004       NaN       NaN       NaN       NaN   1950.00   1950.00   \n",
       "..       ...       ...       ...       ...       ...       ...       ...   \n",
       "495     1495       NaN       NaN       NaN       NaN       NaN       NaN   \n",
       "496     1496     550.0   3360.16   2535.65   1692.93   2219.95   1592.49   \n",
       "497     1497       NaN       NaN       NaN       NaN       NaN       NaN   \n",
       "498     1498       NaN       NaN       NaN       NaN       NaN       NaN   \n",
       "499     1499       NaN       NaN       NaN       NaN       NaN       NaN   \n",
       "\n",
       "     (sum, 7)  (sum, 8)  (sum, 9)  (sum, 10)  (sum, 11)  (sum, 12)  reg_month  \\\n",
       "0     1950.00   1950.00   1950.00    1950.00    1950.00    1950.00          5   \n",
       "1         NaN       NaN       NaN        NaN    1163.87     550.00         11   \n",
       "2      994.02   1541.85    816.22     550.00    1195.46    1100.75          6   \n",
       "3         NaN   1950.00   1950.00    1950.00    1950.00    1950.00          8   \n",
       "4     1950.00   1950.00   1950.00    1950.00    1950.00    1950.00          5   \n",
       "..        ...       ...       ...        ...        ...        ...        ...   \n",
       "495       NaN   1950.00   2302.14    1950.00    3182.87    1950.00          8   \n",
       "496   2501.13   2184.01   2864.93    3114.63    2890.34    1628.23          1   \n",
       "497       NaN       NaN       NaN     550.00     550.00    1507.71         10   \n",
       "498    550.00   2361.04   1904.88    1593.87        NaN        NaN          7   \n",
       "499       NaN       NaN    550.00    1035.70    1327.16     598.00          9   \n",
       "\n",
       "     churn_month  \n",
       "0             12  \n",
       "1             12  \n",
       "2             12  \n",
       "3             12  \n",
       "4             12  \n",
       "..           ...  \n",
       "495           12  \n",
       "496           12  \n",
       "497           12  \n",
       "498           10  \n",
       "499           12  \n",
       "\n",
       "[500 rows x 15 columns]"
      ]
     },
     "execution_count": 53,
     "metadata": {},
     "output_type": "execute_result"
    }
   ],
   "source": [
    "every_month_profit"
   ]
  },
  {
   "cell_type": "markdown",
   "metadata": {},
   "source": [
    "## Вывод\n",
    "1. Был преобразован тип данных из object в datetime64 в столбцах таблиц:\n",
    "    1. 'call_date' в таблице \"calls\"\n",
    "    2. 'session_date' в таблице \"internet\"\n",
    "    3. 'message_date' в таблице \"messages\"\n",
    "    4.  \"churn_date\" и \"reg_date\" в таблице \"users\"\n",
    "2. В данных не было обнаружено очевидных ошибок, требующих корректировки\n",
    "3. Для более удобной работы в дальнейшем в таблицу \"users\" были добавлены столбцы с порядковыми номерами месяцев для  даты регистрации и прекращения пользования тарифом, а также в столбце \"churn_month\" заменены NaN на 12, что позволило изменить тип данных в этом столбце из float64 на int64 и определить периоды пользования тарифами клиентами в 2018 году.\n",
    "4. Сформированы таблицы со следующими данными для каждого пользователя:\n",
    "    1. Количество сделанных звонков и израсходованных минут разговора по месяцам (\"calls_users_stat\");\n",
    "    2. Количество отправленных сообщений по месяцам (\"messages_users_stat\");\n",
    "    3. Объем израсходованного интернет-трафика по месяцам (\"internet_users_stat\");\n",
    "    4. Помесячная выручка с каждого пользователя (\"every_month_profit\")."
   ]
  },
  {
   "cell_type": "markdown",
   "metadata": {},
   "source": [
    " "
   ]
  },
  {
   "cell_type": "markdown",
   "metadata": {},
   "source": [
    "## Шаг 3. Анализ данных<a id=\"step3\"></a> "
   ]
  },
  {
   "cell_type": "markdown",
   "metadata": {},
   "source": [
    "### Определим сколько минут разговора, сколько сообщений и какой объём интернет-трафика требуется пользователям каждого тарифа в месяц.\n",
    "Для этого: \n",
    "1. Создадим две вспомогательные таблицы - в каждой перечень id-пользователей для конкретного тарифа\n",
    "2. Разобъем каждую из таблиц \"calls_users_stat\",   \"messages_users_stat\",   \"internet_users_stat\" на две по видам тарифа.\n",
    "3. Посчитаем среднее количество, дисперсию и стандартное отклонение для минут разговора, количества сообщений и объёма интернет-трафика, требуемых пользователям каждого тарифа ежемесячно - для этого создадим три таблицы - отдельно для звонков, сообщений и интернет-трафика."
   ]
  },
  {
   "cell_type": "markdown",
   "metadata": {},
   "source": [
    "### Создадим две вспомогательные таблицы для тарифов \"smart\" и \"ultra\""
   ]
  },
  {
   "cell_type": "code",
   "execution_count": 54,
   "metadata": {},
   "outputs": [],
   "source": [
    "smart_users=users[users['tariff']=='smart']['user_id']"
   ]
  },
  {
   "cell_type": "code",
   "execution_count": 55,
   "metadata": {},
   "outputs": [
    {
     "data": {
      "text/plain": [
       "(351,)"
      ]
     },
     "execution_count": 55,
     "metadata": {},
     "output_type": "execute_result"
    }
   ],
   "source": [
    "smart_users.shape"
   ]
  },
  {
   "cell_type": "code",
   "execution_count": 56,
   "metadata": {},
   "outputs": [],
   "source": [
    "ultra_users=users[users['tariff']=='ultra']['user_id']"
   ]
  },
  {
   "cell_type": "code",
   "execution_count": 57,
   "metadata": {},
   "outputs": [
    {
     "data": {
      "text/plain": [
       "(149,)"
      ]
     },
     "execution_count": 57,
     "metadata": {},
     "output_type": "execute_result"
    }
   ],
   "source": [
    "ultra_users.shape"
   ]
  },
  {
   "cell_type": "markdown",
   "metadata": {},
   "source": [
    "### В нашем распоряжении данные по 351 пользователю тарифа \"smart\" и 149 пользователям тарифа \"ultra\""
   ]
  },
  {
   "cell_type": "markdown",
   "metadata": {},
   "source": [
    "### Таблица - распределение количества звонков и минут по месяцам для каждого пользователя, подключенного к тарифу \"smart\""
   ]
  },
  {
   "cell_type": "code",
   "execution_count": 58,
   "metadata": {},
   "outputs": [
    {
     "data": {
      "text/plain": [
       "(351, 26)"
      ]
     },
     "execution_count": 58,
     "metadata": {},
     "output_type": "execute_result"
    }
   ],
   "source": [
    "calls_users_smart=calls_users_stat.merge(smart_users, on='user_id', how='inner').set_index('user_id')\n",
    "calls_users_smart.shape"
   ]
  },
  {
   "cell_type": "code",
   "execution_count": 59,
   "metadata": {
    "scrolled": false
   },
   "outputs": [
    {
     "data": {
      "text/html": [
       "<div>\n",
       "<style scoped>\n",
       "    .dataframe tbody tr th:only-of-type {\n",
       "        vertical-align: middle;\n",
       "    }\n",
       "\n",
       "    .dataframe tbody tr th {\n",
       "        vertical-align: top;\n",
       "    }\n",
       "\n",
       "    .dataframe thead th {\n",
       "        text-align: right;\n",
       "    }\n",
       "</style>\n",
       "<table border=\"1\" class=\"dataframe\">\n",
       "  <thead>\n",
       "    <tr style=\"text-align: right;\">\n",
       "      <th></th>\n",
       "      <th>(count, 1)</th>\n",
       "      <th>(count, 2)</th>\n",
       "      <th>(count, 3)</th>\n",
       "      <th>(count, 4)</th>\n",
       "      <th>(count, 5)</th>\n",
       "      <th>(count, 6)</th>\n",
       "      <th>(count, 7)</th>\n",
       "      <th>(count, 8)</th>\n",
       "      <th>(count, 9)</th>\n",
       "      <th>(count, 10)</th>\n",
       "      <th>...</th>\n",
       "      <th>(sum, 5)</th>\n",
       "      <th>(sum, 6)</th>\n",
       "      <th>(sum, 7)</th>\n",
       "      <th>(sum, 8)</th>\n",
       "      <th>(sum, 9)</th>\n",
       "      <th>(sum, 10)</th>\n",
       "      <th>(sum, 11)</th>\n",
       "      <th>(sum, 12)</th>\n",
       "      <th>reg_month</th>\n",
       "      <th>churn_month</th>\n",
       "    </tr>\n",
       "    <tr>\n",
       "      <th>user_id</th>\n",
       "      <th></th>\n",
       "      <th></th>\n",
       "      <th></th>\n",
       "      <th></th>\n",
       "      <th></th>\n",
       "      <th></th>\n",
       "      <th></th>\n",
       "      <th></th>\n",
       "      <th></th>\n",
       "      <th></th>\n",
       "      <th></th>\n",
       "      <th></th>\n",
       "      <th></th>\n",
       "      <th></th>\n",
       "      <th></th>\n",
       "      <th></th>\n",
       "      <th></th>\n",
       "      <th></th>\n",
       "      <th></th>\n",
       "      <th></th>\n",
       "      <th></th>\n",
       "    </tr>\n",
       "  </thead>\n",
       "  <tbody>\n",
       "    <tr>\n",
       "      <th>1001</th>\n",
       "      <td>NaN</td>\n",
       "      <td>NaN</td>\n",
       "      <td>NaN</td>\n",
       "      <td>NaN</td>\n",
       "      <td>NaN</td>\n",
       "      <td>NaN</td>\n",
       "      <td>NaN</td>\n",
       "      <td>NaN</td>\n",
       "      <td>NaN</td>\n",
       "      <td>NaN</td>\n",
       "      <td>...</td>\n",
       "      <td>NaN</td>\n",
       "      <td>NaN</td>\n",
       "      <td>NaN</td>\n",
       "      <td>NaN</td>\n",
       "      <td>NaN</td>\n",
       "      <td>NaN</td>\n",
       "      <td>408.12</td>\n",
       "      <td>391.34</td>\n",
       "      <td>11</td>\n",
       "      <td>12</td>\n",
       "    </tr>\n",
       "    <tr>\n",
       "      <th>1002</th>\n",
       "      <td>NaN</td>\n",
       "      <td>NaN</td>\n",
       "      <td>NaN</td>\n",
       "      <td>NaN</td>\n",
       "      <td>NaN</td>\n",
       "      <td>14.0</td>\n",
       "      <td>21.0</td>\n",
       "      <td>37.0</td>\n",
       "      <td>25.0</td>\n",
       "      <td>24.0</td>\n",
       "      <td>...</td>\n",
       "      <td>NaN</td>\n",
       "      <td>110.37</td>\n",
       "      <td>204.75</td>\n",
       "      <td>269.71</td>\n",
       "      <td>195.85</td>\n",
       "      <td>199.48</td>\n",
       "      <td>228.03</td>\n",
       "      <td>222.98</td>\n",
       "      <td>6</td>\n",
       "      <td>12</td>\n",
       "    </tr>\n",
       "    <tr>\n",
       "      <th>1005</th>\n",
       "      <td>11.0</td>\n",
       "      <td>55.0</td>\n",
       "      <td>63.0</td>\n",
       "      <td>77.0</td>\n",
       "      <td>62.0</td>\n",
       "      <td>69.0</td>\n",
       "      <td>62.0</td>\n",
       "      <td>64.0</td>\n",
       "      <td>57.0</td>\n",
       "      <td>78.0</td>\n",
       "      <td>...</td>\n",
       "      <td>565.62</td>\n",
       "      <td>577.57</td>\n",
       "      <td>536.43</td>\n",
       "      <td>586.79</td>\n",
       "      <td>447.17</td>\n",
       "      <td>684.89</td>\n",
       "      <td>523.34</td>\n",
       "      <td>559.43</td>\n",
       "      <td>1</td>\n",
       "      <td>12</td>\n",
       "    </tr>\n",
       "    <tr>\n",
       "      <th>1006</th>\n",
       "      <td>NaN</td>\n",
       "      <td>3.0</td>\n",
       "      <td>36.0</td>\n",
       "      <td>38.0</td>\n",
       "      <td>45.0</td>\n",
       "      <td>48.0</td>\n",
       "      <td>38.0</td>\n",
       "      <td>32.0</td>\n",
       "      <td>47.0</td>\n",
       "      <td>35.0</td>\n",
       "      <td>...</td>\n",
       "      <td>346.36</td>\n",
       "      <td>455.06</td>\n",
       "      <td>299.83</td>\n",
       "      <td>258.56</td>\n",
       "      <td>334.12</td>\n",
       "      <td>249.93</td>\n",
       "      <td>348.31</td>\n",
       "      <td>356.53</td>\n",
       "      <td>2</td>\n",
       "      <td>12</td>\n",
       "    </tr>\n",
       "    <tr>\n",
       "      <th>1007</th>\n",
       "      <td>NaN</td>\n",
       "      <td>NaN</td>\n",
       "      <td>NaN</td>\n",
       "      <td>21.0</td>\n",
       "      <td>57.0</td>\n",
       "      <td>55.0</td>\n",
       "      <td>57.0</td>\n",
       "      <td>49.0</td>\n",
       "      <td>68.0</td>\n",
       "      <td>53.0</td>\n",
       "      <td>...</td>\n",
       "      <td>447.99</td>\n",
       "      <td>518.96</td>\n",
       "      <td>552.01</td>\n",
       "      <td>431.81</td>\n",
       "      <td>619.92</td>\n",
       "      <td>437.26</td>\n",
       "      <td>546.68</td>\n",
       "      <td>397.78</td>\n",
       "      <td>4</td>\n",
       "      <td>12</td>\n",
       "    </tr>\n",
       "  </tbody>\n",
       "</table>\n",
       "<p>5 rows × 26 columns</p>\n",
       "</div>"
      ],
      "text/plain": [
       "         (count, 1)  (count, 2)  (count, 3)  (count, 4)  (count, 5)  \\\n",
       "user_id                                                               \n",
       "1001            NaN         NaN         NaN         NaN         NaN   \n",
       "1002            NaN         NaN         NaN         NaN         NaN   \n",
       "1005           11.0        55.0        63.0        77.0        62.0   \n",
       "1006            NaN         3.0        36.0        38.0        45.0   \n",
       "1007            NaN         NaN         NaN        21.0        57.0   \n",
       "\n",
       "         (count, 6)  (count, 7)  (count, 8)  (count, 9)  (count, 10)  ...  \\\n",
       "user_id                                                               ...   \n",
       "1001            NaN         NaN         NaN         NaN          NaN  ...   \n",
       "1002           14.0        21.0        37.0        25.0         24.0  ...   \n",
       "1005           69.0        62.0        64.0        57.0         78.0  ...   \n",
       "1006           48.0        38.0        32.0        47.0         35.0  ...   \n",
       "1007           55.0        57.0        49.0        68.0         53.0  ...   \n",
       "\n",
       "         (sum, 5)  (sum, 6)  (sum, 7)  (sum, 8)  (sum, 9)  (sum, 10)  \\\n",
       "user_id                                                                \n",
       "1001          NaN       NaN       NaN       NaN       NaN        NaN   \n",
       "1002          NaN    110.37    204.75    269.71    195.85     199.48   \n",
       "1005       565.62    577.57    536.43    586.79    447.17     684.89   \n",
       "1006       346.36    455.06    299.83    258.56    334.12     249.93   \n",
       "1007       447.99    518.96    552.01    431.81    619.92     437.26   \n",
       "\n",
       "         (sum, 11)  (sum, 12)  reg_month  churn_month  \n",
       "user_id                                                \n",
       "1001        408.12     391.34         11           12  \n",
       "1002        228.03     222.98          6           12  \n",
       "1005        523.34     559.43          1           12  \n",
       "1006        348.31     356.53          2           12  \n",
       "1007        546.68     397.78          4           12  \n",
       "\n",
       "[5 rows x 26 columns]"
      ]
     },
     "execution_count": 59,
     "metadata": {},
     "output_type": "execute_result"
    }
   ],
   "source": [
    "calls_users_smart.head()"
   ]
  },
  {
   "cell_type": "markdown",
   "metadata": {},
   "source": [
    "### Таблица - распределение количества звонков и минут по месяцам для каждого пользователя, подключенного к тарифу \"ultra\""
   ]
  },
  {
   "cell_type": "code",
   "execution_count": 60,
   "metadata": {},
   "outputs": [
    {
     "data": {
      "text/plain": [
       "(149, 26)"
      ]
     },
     "execution_count": 60,
     "metadata": {},
     "output_type": "execute_result"
    }
   ],
   "source": [
    "calls_users_ultra=calls_users_stat.merge(ultra_users, on='user_id', how='inner').set_index('user_id')\n",
    "calls_users_ultra.shape"
   ]
  },
  {
   "cell_type": "code",
   "execution_count": 61,
   "metadata": {},
   "outputs": [
    {
     "data": {
      "text/html": [
       "<div>\n",
       "<style scoped>\n",
       "    .dataframe tbody tr th:only-of-type {\n",
       "        vertical-align: middle;\n",
       "    }\n",
       "\n",
       "    .dataframe tbody tr th {\n",
       "        vertical-align: top;\n",
       "    }\n",
       "\n",
       "    .dataframe thead th {\n",
       "        text-align: right;\n",
       "    }\n",
       "</style>\n",
       "<table border=\"1\" class=\"dataframe\">\n",
       "  <thead>\n",
       "    <tr style=\"text-align: right;\">\n",
       "      <th></th>\n",
       "      <th>(count, 1)</th>\n",
       "      <th>(count, 2)</th>\n",
       "      <th>(count, 3)</th>\n",
       "      <th>(count, 4)</th>\n",
       "      <th>(count, 5)</th>\n",
       "      <th>(count, 6)</th>\n",
       "      <th>(count, 7)</th>\n",
       "      <th>(count, 8)</th>\n",
       "      <th>(count, 9)</th>\n",
       "      <th>(count, 10)</th>\n",
       "      <th>...</th>\n",
       "      <th>(sum, 5)</th>\n",
       "      <th>(sum, 6)</th>\n",
       "      <th>(sum, 7)</th>\n",
       "      <th>(sum, 8)</th>\n",
       "      <th>(sum, 9)</th>\n",
       "      <th>(sum, 10)</th>\n",
       "      <th>(sum, 11)</th>\n",
       "      <th>(sum, 12)</th>\n",
       "      <th>reg_month</th>\n",
       "      <th>churn_month</th>\n",
       "    </tr>\n",
       "    <tr>\n",
       "      <th>user_id</th>\n",
       "      <th></th>\n",
       "      <th></th>\n",
       "      <th></th>\n",
       "      <th></th>\n",
       "      <th></th>\n",
       "      <th></th>\n",
       "      <th></th>\n",
       "      <th></th>\n",
       "      <th></th>\n",
       "      <th></th>\n",
       "      <th></th>\n",
       "      <th></th>\n",
       "      <th></th>\n",
       "      <th></th>\n",
       "      <th></th>\n",
       "      <th></th>\n",
       "      <th></th>\n",
       "      <th></th>\n",
       "      <th></th>\n",
       "      <th></th>\n",
       "      <th></th>\n",
       "    </tr>\n",
       "  </thead>\n",
       "  <tbody>\n",
       "    <tr>\n",
       "      <th>1000</th>\n",
       "      <td>NaN</td>\n",
       "      <td>NaN</td>\n",
       "      <td>NaN</td>\n",
       "      <td>NaN</td>\n",
       "      <td>17.0</td>\n",
       "      <td>28.0</td>\n",
       "      <td>41.0</td>\n",
       "      <td>42.0</td>\n",
       "      <td>46.0</td>\n",
       "      <td>44.0</td>\n",
       "      <td>...</td>\n",
       "      <td>150.06</td>\n",
       "      <td>158.90</td>\n",
       "      <td>318.80</td>\n",
       "      <td>389.87</td>\n",
       "      <td>440.14</td>\n",
       "      <td>328.45</td>\n",
       "      <td>319.04</td>\n",
       "      <td>312.98</td>\n",
       "      <td>5</td>\n",
       "      <td>12</td>\n",
       "    </tr>\n",
       "    <tr>\n",
       "      <th>1003</th>\n",
       "      <td>NaN</td>\n",
       "      <td>NaN</td>\n",
       "      <td>NaN</td>\n",
       "      <td>NaN</td>\n",
       "      <td>NaN</td>\n",
       "      <td>NaN</td>\n",
       "      <td>NaN</td>\n",
       "      <td>43.0</td>\n",
       "      <td>105.0</td>\n",
       "      <td>97.0</td>\n",
       "      <td>...</td>\n",
       "      <td>NaN</td>\n",
       "      <td>NaN</td>\n",
       "      <td>NaN</td>\n",
       "      <td>355.67</td>\n",
       "      <td>904.89</td>\n",
       "      <td>809.07</td>\n",
       "      <td>775.39</td>\n",
       "      <td>755.50</td>\n",
       "      <td>8</td>\n",
       "      <td>12</td>\n",
       "    </tr>\n",
       "    <tr>\n",
       "      <th>1004</th>\n",
       "      <td>NaN</td>\n",
       "      <td>NaN</td>\n",
       "      <td>NaN</td>\n",
       "      <td>NaN</td>\n",
       "      <td>7.0</td>\n",
       "      <td>25.0</td>\n",
       "      <td>20.0</td>\n",
       "      <td>18.0</td>\n",
       "      <td>18.0</td>\n",
       "      <td>21.0</td>\n",
       "      <td>...</td>\n",
       "      <td>32.29</td>\n",
       "      <td>159.14</td>\n",
       "      <td>124.42</td>\n",
       "      <td>128.01</td>\n",
       "      <td>110.57</td>\n",
       "      <td>133.61</td>\n",
       "      <td>109.72</td>\n",
       "      <td>123.45</td>\n",
       "      <td>5</td>\n",
       "      <td>12</td>\n",
       "    </tr>\n",
       "    <tr>\n",
       "      <th>1013</th>\n",
       "      <td>NaN</td>\n",
       "      <td>NaN</td>\n",
       "      <td>NaN</td>\n",
       "      <td>NaN</td>\n",
       "      <td>NaN</td>\n",
       "      <td>NaN</td>\n",
       "      <td>NaN</td>\n",
       "      <td>NaN</td>\n",
       "      <td>NaN</td>\n",
       "      <td>NaN</td>\n",
       "      <td>...</td>\n",
       "      <td>NaN</td>\n",
       "      <td>NaN</td>\n",
       "      <td>NaN</td>\n",
       "      <td>NaN</td>\n",
       "      <td>NaN</td>\n",
       "      <td>NaN</td>\n",
       "      <td>349.95</td>\n",
       "      <td>537.83</td>\n",
       "      <td>11</td>\n",
       "      <td>12</td>\n",
       "    </tr>\n",
       "    <tr>\n",
       "      <th>1016</th>\n",
       "      <td>NaN</td>\n",
       "      <td>NaN</td>\n",
       "      <td>NaN</td>\n",
       "      <td>NaN</td>\n",
       "      <td>NaN</td>\n",
       "      <td>NaN</td>\n",
       "      <td>NaN</td>\n",
       "      <td>NaN</td>\n",
       "      <td>NaN</td>\n",
       "      <td>NaN</td>\n",
       "      <td>...</td>\n",
       "      <td>NaN</td>\n",
       "      <td>NaN</td>\n",
       "      <td>NaN</td>\n",
       "      <td>NaN</td>\n",
       "      <td>NaN</td>\n",
       "      <td>NaN</td>\n",
       "      <td>26.05</td>\n",
       "      <td>88.79</td>\n",
       "      <td>11</td>\n",
       "      <td>12</td>\n",
       "    </tr>\n",
       "  </tbody>\n",
       "</table>\n",
       "<p>5 rows × 26 columns</p>\n",
       "</div>"
      ],
      "text/plain": [
       "         (count, 1)  (count, 2)  (count, 3)  (count, 4)  (count, 5)  \\\n",
       "user_id                                                               \n",
       "1000            NaN         NaN         NaN         NaN        17.0   \n",
       "1003            NaN         NaN         NaN         NaN         NaN   \n",
       "1004            NaN         NaN         NaN         NaN         7.0   \n",
       "1013            NaN         NaN         NaN         NaN         NaN   \n",
       "1016            NaN         NaN         NaN         NaN         NaN   \n",
       "\n",
       "         (count, 6)  (count, 7)  (count, 8)  (count, 9)  (count, 10)  ...  \\\n",
       "user_id                                                               ...   \n",
       "1000           28.0        41.0        42.0        46.0         44.0  ...   \n",
       "1003            NaN         NaN        43.0       105.0         97.0  ...   \n",
       "1004           25.0        20.0        18.0        18.0         21.0  ...   \n",
       "1013            NaN         NaN         NaN         NaN          NaN  ...   \n",
       "1016            NaN         NaN         NaN         NaN          NaN  ...   \n",
       "\n",
       "         (sum, 5)  (sum, 6)  (sum, 7)  (sum, 8)  (sum, 9)  (sum, 10)  \\\n",
       "user_id                                                                \n",
       "1000       150.06    158.90    318.80    389.87    440.14     328.45   \n",
       "1003          NaN       NaN       NaN    355.67    904.89     809.07   \n",
       "1004        32.29    159.14    124.42    128.01    110.57     133.61   \n",
       "1013          NaN       NaN       NaN       NaN       NaN        NaN   \n",
       "1016          NaN       NaN       NaN       NaN       NaN        NaN   \n",
       "\n",
       "         (sum, 11)  (sum, 12)  reg_month  churn_month  \n",
       "user_id                                                \n",
       "1000        319.04     312.98          5           12  \n",
       "1003        775.39     755.50          8           12  \n",
       "1004        109.72     123.45          5           12  \n",
       "1013        349.95     537.83         11           12  \n",
       "1016         26.05      88.79         11           12  \n",
       "\n",
       "[5 rows x 26 columns]"
      ]
     },
     "execution_count": 61,
     "metadata": {},
     "output_type": "execute_result"
    }
   ],
   "source": [
    "calls_users_ultra.head()"
   ]
  },
  {
   "cell_type": "markdown",
   "metadata": {},
   "source": [
    "### Таблица распределения количества сообщений по месяцам для каждого пользователя, подключенного к тарифу \"smart\""
   ]
  },
  {
   "cell_type": "code",
   "execution_count": 62,
   "metadata": {},
   "outputs": [
    {
     "data": {
      "text/plain": [
       "(351, 14)"
      ]
     },
     "execution_count": 62,
     "metadata": {},
     "output_type": "execute_result"
    }
   ],
   "source": [
    "messages_users_smart=messages_users_stat.merge(smart_users, on='user_id', how='inner').set_index('user_id')\n",
    "messages_users_smart.shape"
   ]
  },
  {
   "cell_type": "code",
   "execution_count": 63,
   "metadata": {},
   "outputs": [
    {
     "data": {
      "text/html": [
       "<div>\n",
       "<style scoped>\n",
       "    .dataframe tbody tr th:only-of-type {\n",
       "        vertical-align: middle;\n",
       "    }\n",
       "\n",
       "    .dataframe tbody tr th {\n",
       "        vertical-align: top;\n",
       "    }\n",
       "\n",
       "    .dataframe thead th {\n",
       "        text-align: right;\n",
       "    }\n",
       "</style>\n",
       "<table border=\"1\" class=\"dataframe\">\n",
       "  <thead>\n",
       "    <tr style=\"text-align: right;\">\n",
       "      <th></th>\n",
       "      <th>(count, 1)</th>\n",
       "      <th>(count, 2)</th>\n",
       "      <th>(count, 3)</th>\n",
       "      <th>(count, 4)</th>\n",
       "      <th>(count, 5)</th>\n",
       "      <th>(count, 6)</th>\n",
       "      <th>(count, 7)</th>\n",
       "      <th>(count, 8)</th>\n",
       "      <th>(count, 9)</th>\n",
       "      <th>(count, 10)</th>\n",
       "      <th>(count, 11)</th>\n",
       "      <th>(count, 12)</th>\n",
       "      <th>reg_month</th>\n",
       "      <th>churn_month</th>\n",
       "    </tr>\n",
       "    <tr>\n",
       "      <th>user_id</th>\n",
       "      <th></th>\n",
       "      <th></th>\n",
       "      <th></th>\n",
       "      <th></th>\n",
       "      <th></th>\n",
       "      <th></th>\n",
       "      <th></th>\n",
       "      <th></th>\n",
       "      <th></th>\n",
       "      <th></th>\n",
       "      <th></th>\n",
       "      <th></th>\n",
       "      <th></th>\n",
       "      <th></th>\n",
       "    </tr>\n",
       "  </thead>\n",
       "  <tbody>\n",
       "    <tr>\n",
       "      <th>1001</th>\n",
       "      <td>NaN</td>\n",
       "      <td>NaN</td>\n",
       "      <td>NaN</td>\n",
       "      <td>NaN</td>\n",
       "      <td>NaN</td>\n",
       "      <td>NaN</td>\n",
       "      <td>NaN</td>\n",
       "      <td>NaN</td>\n",
       "      <td>NaN</td>\n",
       "      <td>NaN</td>\n",
       "      <td>0.0</td>\n",
       "      <td>0.0</td>\n",
       "      <td>11</td>\n",
       "      <td>12</td>\n",
       "    </tr>\n",
       "    <tr>\n",
       "      <th>1002</th>\n",
       "      <td>NaN</td>\n",
       "      <td>NaN</td>\n",
       "      <td>NaN</td>\n",
       "      <td>NaN</td>\n",
       "      <td>NaN</td>\n",
       "      <td>4.0</td>\n",
       "      <td>11.0</td>\n",
       "      <td>13.0</td>\n",
       "      <td>4.0</td>\n",
       "      <td>10.0</td>\n",
       "      <td>16.0</td>\n",
       "      <td>12.0</td>\n",
       "      <td>6</td>\n",
       "      <td>12</td>\n",
       "    </tr>\n",
       "    <tr>\n",
       "      <th>1005</th>\n",
       "      <td>7.0</td>\n",
       "      <td>38.0</td>\n",
       "      <td>56.0</td>\n",
       "      <td>41.0</td>\n",
       "      <td>42.0</td>\n",
       "      <td>47.0</td>\n",
       "      <td>56.0</td>\n",
       "      <td>64.0</td>\n",
       "      <td>52.0</td>\n",
       "      <td>44.0</td>\n",
       "      <td>51.0</td>\n",
       "      <td>54.0</td>\n",
       "      <td>1</td>\n",
       "      <td>12</td>\n",
       "    </tr>\n",
       "    <tr>\n",
       "      <th>1006</th>\n",
       "      <td>NaN</td>\n",
       "      <td>0.0</td>\n",
       "      <td>0.0</td>\n",
       "      <td>0.0</td>\n",
       "      <td>0.0</td>\n",
       "      <td>0.0</td>\n",
       "      <td>0.0</td>\n",
       "      <td>0.0</td>\n",
       "      <td>0.0</td>\n",
       "      <td>0.0</td>\n",
       "      <td>0.0</td>\n",
       "      <td>0.0</td>\n",
       "      <td>2</td>\n",
       "      <td>12</td>\n",
       "    </tr>\n",
       "    <tr>\n",
       "      <th>1007</th>\n",
       "      <td>NaN</td>\n",
       "      <td>NaN</td>\n",
       "      <td>NaN</td>\n",
       "      <td>11.0</td>\n",
       "      <td>39.0</td>\n",
       "      <td>26.0</td>\n",
       "      <td>26.0</td>\n",
       "      <td>27.0</td>\n",
       "      <td>31.0</td>\n",
       "      <td>18.0</td>\n",
       "      <td>21.0</td>\n",
       "      <td>26.0</td>\n",
       "      <td>4</td>\n",
       "      <td>12</td>\n",
       "    </tr>\n",
       "  </tbody>\n",
       "</table>\n",
       "</div>"
      ],
      "text/plain": [
       "         (count, 1)  (count, 2)  (count, 3)  (count, 4)  (count, 5)  \\\n",
       "user_id                                                               \n",
       "1001            NaN         NaN         NaN         NaN         NaN   \n",
       "1002            NaN         NaN         NaN         NaN         NaN   \n",
       "1005            7.0        38.0        56.0        41.0        42.0   \n",
       "1006            NaN         0.0         0.0         0.0         0.0   \n",
       "1007            NaN         NaN         NaN        11.0        39.0   \n",
       "\n",
       "         (count, 6)  (count, 7)  (count, 8)  (count, 9)  (count, 10)  \\\n",
       "user_id                                                                \n",
       "1001            NaN         NaN         NaN         NaN          NaN   \n",
       "1002            4.0        11.0        13.0         4.0         10.0   \n",
       "1005           47.0        56.0        64.0        52.0         44.0   \n",
       "1006            0.0         0.0         0.0         0.0          0.0   \n",
       "1007           26.0        26.0        27.0        31.0         18.0   \n",
       "\n",
       "         (count, 11)  (count, 12)  reg_month  churn_month  \n",
       "user_id                                                    \n",
       "1001             0.0          0.0         11           12  \n",
       "1002            16.0         12.0          6           12  \n",
       "1005            51.0         54.0          1           12  \n",
       "1006             0.0          0.0          2           12  \n",
       "1007            21.0         26.0          4           12  "
      ]
     },
     "execution_count": 63,
     "metadata": {},
     "output_type": "execute_result"
    }
   ],
   "source": [
    "messages_users_smart.head()"
   ]
  },
  {
   "cell_type": "markdown",
   "metadata": {},
   "source": [
    "### Таблица распределения количества сообщений по месяцам для каждого пользователя, подключенного к тарифу \"ultra\""
   ]
  },
  {
   "cell_type": "code",
   "execution_count": 64,
   "metadata": {},
   "outputs": [
    {
     "data": {
      "text/plain": [
       "(149, 14)"
      ]
     },
     "execution_count": 64,
     "metadata": {},
     "output_type": "execute_result"
    }
   ],
   "source": [
    "messages_users_ultra=messages_users_stat.merge(ultra_users, on='user_id', how='inner').set_index('user_id')\n",
    "messages_users_ultra.shape"
   ]
  },
  {
   "cell_type": "code",
   "execution_count": 65,
   "metadata": {},
   "outputs": [
    {
     "data": {
      "text/html": [
       "<div>\n",
       "<style scoped>\n",
       "    .dataframe tbody tr th:only-of-type {\n",
       "        vertical-align: middle;\n",
       "    }\n",
       "\n",
       "    .dataframe tbody tr th {\n",
       "        vertical-align: top;\n",
       "    }\n",
       "\n",
       "    .dataframe thead th {\n",
       "        text-align: right;\n",
       "    }\n",
       "</style>\n",
       "<table border=\"1\" class=\"dataframe\">\n",
       "  <thead>\n",
       "    <tr style=\"text-align: right;\">\n",
       "      <th></th>\n",
       "      <th>(count, 1)</th>\n",
       "      <th>(count, 2)</th>\n",
       "      <th>(count, 3)</th>\n",
       "      <th>(count, 4)</th>\n",
       "      <th>(count, 5)</th>\n",
       "      <th>(count, 6)</th>\n",
       "      <th>(count, 7)</th>\n",
       "      <th>(count, 8)</th>\n",
       "      <th>(count, 9)</th>\n",
       "      <th>(count, 10)</th>\n",
       "      <th>(count, 11)</th>\n",
       "      <th>(count, 12)</th>\n",
       "      <th>reg_month</th>\n",
       "      <th>churn_month</th>\n",
       "    </tr>\n",
       "    <tr>\n",
       "      <th>user_id</th>\n",
       "      <th></th>\n",
       "      <th></th>\n",
       "      <th></th>\n",
       "      <th></th>\n",
       "      <th></th>\n",
       "      <th></th>\n",
       "      <th></th>\n",
       "      <th></th>\n",
       "      <th></th>\n",
       "      <th></th>\n",
       "      <th></th>\n",
       "      <th></th>\n",
       "      <th></th>\n",
       "      <th></th>\n",
       "    </tr>\n",
       "  </thead>\n",
       "  <tbody>\n",
       "    <tr>\n",
       "      <th>1000</th>\n",
       "      <td>NaN</td>\n",
       "      <td>NaN</td>\n",
       "      <td>NaN</td>\n",
       "      <td>NaN</td>\n",
       "      <td>22.0</td>\n",
       "      <td>60.0</td>\n",
       "      <td>75.0</td>\n",
       "      <td>81.0</td>\n",
       "      <td>57.0</td>\n",
       "      <td>73.0</td>\n",
       "      <td>58.0</td>\n",
       "      <td>70.0</td>\n",
       "      <td>5</td>\n",
       "      <td>12</td>\n",
       "    </tr>\n",
       "    <tr>\n",
       "      <th>1003</th>\n",
       "      <td>NaN</td>\n",
       "      <td>NaN</td>\n",
       "      <td>NaN</td>\n",
       "      <td>NaN</td>\n",
       "      <td>NaN</td>\n",
       "      <td>NaN</td>\n",
       "      <td>NaN</td>\n",
       "      <td>37.0</td>\n",
       "      <td>91.0</td>\n",
       "      <td>83.0</td>\n",
       "      <td>94.0</td>\n",
       "      <td>75.0</td>\n",
       "      <td>8</td>\n",
       "      <td>12</td>\n",
       "    </tr>\n",
       "    <tr>\n",
       "      <th>1004</th>\n",
       "      <td>NaN</td>\n",
       "      <td>NaN</td>\n",
       "      <td>NaN</td>\n",
       "      <td>NaN</td>\n",
       "      <td>95.0</td>\n",
       "      <td>134.0</td>\n",
       "      <td>181.0</td>\n",
       "      <td>151.0</td>\n",
       "      <td>146.0</td>\n",
       "      <td>165.0</td>\n",
       "      <td>158.0</td>\n",
       "      <td>162.0</td>\n",
       "      <td>5</td>\n",
       "      <td>12</td>\n",
       "    </tr>\n",
       "    <tr>\n",
       "      <th>1013</th>\n",
       "      <td>NaN</td>\n",
       "      <td>NaN</td>\n",
       "      <td>NaN</td>\n",
       "      <td>NaN</td>\n",
       "      <td>NaN</td>\n",
       "      <td>NaN</td>\n",
       "      <td>NaN</td>\n",
       "      <td>NaN</td>\n",
       "      <td>NaN</td>\n",
       "      <td>NaN</td>\n",
       "      <td>17.0</td>\n",
       "      <td>25.0</td>\n",
       "      <td>11</td>\n",
       "      <td>12</td>\n",
       "    </tr>\n",
       "    <tr>\n",
       "      <th>1016</th>\n",
       "      <td>NaN</td>\n",
       "      <td>NaN</td>\n",
       "      <td>NaN</td>\n",
       "      <td>NaN</td>\n",
       "      <td>NaN</td>\n",
       "      <td>NaN</td>\n",
       "      <td>NaN</td>\n",
       "      <td>NaN</td>\n",
       "      <td>NaN</td>\n",
       "      <td>NaN</td>\n",
       "      <td>39.0</td>\n",
       "      <td>103.0</td>\n",
       "      <td>11</td>\n",
       "      <td>12</td>\n",
       "    </tr>\n",
       "  </tbody>\n",
       "</table>\n",
       "</div>"
      ],
      "text/plain": [
       "         (count, 1)  (count, 2)  (count, 3)  (count, 4)  (count, 5)  \\\n",
       "user_id                                                               \n",
       "1000            NaN         NaN         NaN         NaN        22.0   \n",
       "1003            NaN         NaN         NaN         NaN         NaN   \n",
       "1004            NaN         NaN         NaN         NaN        95.0   \n",
       "1013            NaN         NaN         NaN         NaN         NaN   \n",
       "1016            NaN         NaN         NaN         NaN         NaN   \n",
       "\n",
       "         (count, 6)  (count, 7)  (count, 8)  (count, 9)  (count, 10)  \\\n",
       "user_id                                                                \n",
       "1000           60.0        75.0        81.0        57.0         73.0   \n",
       "1003            NaN         NaN        37.0        91.0         83.0   \n",
       "1004          134.0       181.0       151.0       146.0        165.0   \n",
       "1013            NaN         NaN         NaN         NaN          NaN   \n",
       "1016            NaN         NaN         NaN         NaN          NaN   \n",
       "\n",
       "         (count, 11)  (count, 12)  reg_month  churn_month  \n",
       "user_id                                                    \n",
       "1000            58.0         70.0          5           12  \n",
       "1003            94.0         75.0          8           12  \n",
       "1004           158.0        162.0          5           12  \n",
       "1013            17.0         25.0         11           12  \n",
       "1016            39.0        103.0         11           12  "
      ]
     },
     "execution_count": 65,
     "metadata": {},
     "output_type": "execute_result"
    }
   ],
   "source": [
    "messages_users_ultra.head()"
   ]
  },
  {
   "cell_type": "markdown",
   "metadata": {},
   "source": [
    "### Таблица распределения объёма интернет-трафика по месяцам для каждого пользователя, подключенного к тарифу \"smart\""
   ]
  },
  {
   "cell_type": "code",
   "execution_count": 66,
   "metadata": {},
   "outputs": [
    {
     "data": {
      "text/plain": [
       "(351, 14)"
      ]
     },
     "execution_count": 66,
     "metadata": {},
     "output_type": "execute_result"
    }
   ],
   "source": [
    "internet_users_smart=internet_users_stat.merge(smart_users, on='user_id', how='inner').set_index('user_id')\n",
    "internet_users_smart.shape"
   ]
  },
  {
   "cell_type": "code",
   "execution_count": 67,
   "metadata": {},
   "outputs": [
    {
     "data": {
      "text/html": [
       "<div>\n",
       "<style scoped>\n",
       "    .dataframe tbody tr th:only-of-type {\n",
       "        vertical-align: middle;\n",
       "    }\n",
       "\n",
       "    .dataframe tbody tr th {\n",
       "        vertical-align: top;\n",
       "    }\n",
       "\n",
       "    .dataframe thead th {\n",
       "        text-align: right;\n",
       "    }\n",
       "</style>\n",
       "<table border=\"1\" class=\"dataframe\">\n",
       "  <thead>\n",
       "    <tr style=\"text-align: right;\">\n",
       "      <th></th>\n",
       "      <th>(sum, 1)</th>\n",
       "      <th>(sum, 2)</th>\n",
       "      <th>(sum, 3)</th>\n",
       "      <th>(sum, 4)</th>\n",
       "      <th>(sum, 5)</th>\n",
       "      <th>(sum, 6)</th>\n",
       "      <th>(sum, 7)</th>\n",
       "      <th>(sum, 8)</th>\n",
       "      <th>(sum, 9)</th>\n",
       "      <th>(sum, 10)</th>\n",
       "      <th>(sum, 11)</th>\n",
       "      <th>(sum, 12)</th>\n",
       "      <th>reg_month</th>\n",
       "      <th>churn_month</th>\n",
       "    </tr>\n",
       "    <tr>\n",
       "      <th>user_id</th>\n",
       "      <th></th>\n",
       "      <th></th>\n",
       "      <th></th>\n",
       "      <th></th>\n",
       "      <th></th>\n",
       "      <th></th>\n",
       "      <th></th>\n",
       "      <th></th>\n",
       "      <th></th>\n",
       "      <th></th>\n",
       "      <th></th>\n",
       "      <th></th>\n",
       "      <th></th>\n",
       "      <th></th>\n",
       "    </tr>\n",
       "  </thead>\n",
       "  <tbody>\n",
       "    <tr>\n",
       "      <th>1001</th>\n",
       "      <td>NaN</td>\n",
       "      <td>NaN</td>\n",
       "      <td>NaN</td>\n",
       "      <td>NaN</td>\n",
       "      <td>NaN</td>\n",
       "      <td>NaN</td>\n",
       "      <td>NaN</td>\n",
       "      <td>NaN</td>\n",
       "      <td>NaN</td>\n",
       "      <td>NaN</td>\n",
       "      <td>18429.34</td>\n",
       "      <td>14036.66</td>\n",
       "      <td>11</td>\n",
       "      <td>12</td>\n",
       "    </tr>\n",
       "    <tr>\n",
       "      <th>1002</th>\n",
       "      <td>NaN</td>\n",
       "      <td>NaN</td>\n",
       "      <td>NaN</td>\n",
       "      <td>NaN</td>\n",
       "      <td>NaN</td>\n",
       "      <td>10856.82</td>\n",
       "      <td>17580.10</td>\n",
       "      <td>20319.26</td>\n",
       "      <td>16691.08</td>\n",
       "      <td>13888.25</td>\n",
       "      <td>18587.28</td>\n",
       "      <td>18113.73</td>\n",
       "      <td>6</td>\n",
       "      <td>12</td>\n",
       "    </tr>\n",
       "    <tr>\n",
       "      <th>1005</th>\n",
       "      <td>2727.97</td>\n",
       "      <td>7383.93</td>\n",
       "      <td>11104.25</td>\n",
       "      <td>9351.72</td>\n",
       "      <td>7865.53</td>\n",
       "      <td>9863.19</td>\n",
       "      <td>7694.56</td>\n",
       "      <td>7543.63</td>\n",
       "      <td>7016.46</td>\n",
       "      <td>7800.93</td>\n",
       "      <td>12666.95</td>\n",
       "      <td>8668.19</td>\n",
       "      <td>1</td>\n",
       "      <td>12</td>\n",
       "    </tr>\n",
       "    <tr>\n",
       "      <th>1006</th>\n",
       "      <td>NaN</td>\n",
       "      <td>1392.15</td>\n",
       "      <td>17287.93</td>\n",
       "      <td>13936.70</td>\n",
       "      <td>12965.41</td>\n",
       "      <td>12371.66</td>\n",
       "      <td>19977.60</td>\n",
       "      <td>19303.71</td>\n",
       "      <td>15521.53</td>\n",
       "      <td>19696.60</td>\n",
       "      <td>13259.41</td>\n",
       "      <td>18476.11</td>\n",
       "      <td>2</td>\n",
       "      <td>12</td>\n",
       "    </tr>\n",
       "    <tr>\n",
       "      <th>1007</th>\n",
       "      <td>NaN</td>\n",
       "      <td>NaN</td>\n",
       "      <td>NaN</td>\n",
       "      <td>8022.76</td>\n",
       "      <td>17687.27</td>\n",
       "      <td>13654.52</td>\n",
       "      <td>15656.66</td>\n",
       "      <td>20700.40</td>\n",
       "      <td>12613.05</td>\n",
       "      <td>14427.33</td>\n",
       "      <td>16369.61</td>\n",
       "      <td>12494.07</td>\n",
       "      <td>4</td>\n",
       "      <td>12</td>\n",
       "    </tr>\n",
       "  </tbody>\n",
       "</table>\n",
       "</div>"
      ],
      "text/plain": [
       "         (sum, 1)  (sum, 2)  (sum, 3)  (sum, 4)  (sum, 5)  (sum, 6)  (sum, 7)  \\\n",
       "user_id                                                                         \n",
       "1001          NaN       NaN       NaN       NaN       NaN       NaN       NaN   \n",
       "1002          NaN       NaN       NaN       NaN       NaN  10856.82  17580.10   \n",
       "1005      2727.97   7383.93  11104.25   9351.72   7865.53   9863.19   7694.56   \n",
       "1006          NaN   1392.15  17287.93  13936.70  12965.41  12371.66  19977.60   \n",
       "1007          NaN       NaN       NaN   8022.76  17687.27  13654.52  15656.66   \n",
       "\n",
       "         (sum, 8)  (sum, 9)  (sum, 10)  (sum, 11)  (sum, 12)  reg_month  \\\n",
       "user_id                                                                   \n",
       "1001          NaN       NaN        NaN   18429.34   14036.66         11   \n",
       "1002     20319.26  16691.08   13888.25   18587.28   18113.73          6   \n",
       "1005      7543.63   7016.46    7800.93   12666.95    8668.19          1   \n",
       "1006     19303.71  15521.53   19696.60   13259.41   18476.11          2   \n",
       "1007     20700.40  12613.05   14427.33   16369.61   12494.07          4   \n",
       "\n",
       "         churn_month  \n",
       "user_id               \n",
       "1001              12  \n",
       "1002              12  \n",
       "1005              12  \n",
       "1006              12  \n",
       "1007              12  "
      ]
     },
     "execution_count": 67,
     "metadata": {},
     "output_type": "execute_result"
    }
   ],
   "source": [
    "internet_users_smart.head()"
   ]
  },
  {
   "cell_type": "markdown",
   "metadata": {},
   "source": [
    "### Таблица распределения объёма интернет-трафика по месяцам для каждого пользователя, подключенного к тарифу \"ultra\""
   ]
  },
  {
   "cell_type": "code",
   "execution_count": 68,
   "metadata": {},
   "outputs": [
    {
     "data": {
      "text/plain": [
       "(149, 14)"
      ]
     },
     "execution_count": 68,
     "metadata": {},
     "output_type": "execute_result"
    }
   ],
   "source": [
    "internet_users_ultra=internet_users_stat.merge(ultra_users, on='user_id', how='inner').set_index('user_id')\n",
    "internet_users_ultra.shape"
   ]
  },
  {
   "cell_type": "code",
   "execution_count": 69,
   "metadata": {
    "scrolled": true
   },
   "outputs": [
    {
     "data": {
      "text/html": [
       "<div>\n",
       "<style scoped>\n",
       "    .dataframe tbody tr th:only-of-type {\n",
       "        vertical-align: middle;\n",
       "    }\n",
       "\n",
       "    .dataframe tbody tr th {\n",
       "        vertical-align: top;\n",
       "    }\n",
       "\n",
       "    .dataframe thead th {\n",
       "        text-align: right;\n",
       "    }\n",
       "</style>\n",
       "<table border=\"1\" class=\"dataframe\">\n",
       "  <thead>\n",
       "    <tr style=\"text-align: right;\">\n",
       "      <th></th>\n",
       "      <th>(sum, 1)</th>\n",
       "      <th>(sum, 2)</th>\n",
       "      <th>(sum, 3)</th>\n",
       "      <th>(sum, 4)</th>\n",
       "      <th>(sum, 5)</th>\n",
       "      <th>(sum, 6)</th>\n",
       "      <th>(sum, 7)</th>\n",
       "      <th>(sum, 8)</th>\n",
       "      <th>(sum, 9)</th>\n",
       "      <th>(sum, 10)</th>\n",
       "      <th>(sum, 11)</th>\n",
       "      <th>(sum, 12)</th>\n",
       "      <th>reg_month</th>\n",
       "      <th>churn_month</th>\n",
       "    </tr>\n",
       "    <tr>\n",
       "      <th>user_id</th>\n",
       "      <th></th>\n",
       "      <th></th>\n",
       "      <th></th>\n",
       "      <th></th>\n",
       "      <th></th>\n",
       "      <th></th>\n",
       "      <th></th>\n",
       "      <th></th>\n",
       "      <th></th>\n",
       "      <th></th>\n",
       "      <th></th>\n",
       "      <th></th>\n",
       "      <th></th>\n",
       "      <th></th>\n",
       "    </tr>\n",
       "  </thead>\n",
       "  <tbody>\n",
       "    <tr>\n",
       "      <th>1000</th>\n",
       "      <td>NaN</td>\n",
       "      <td>NaN</td>\n",
       "      <td>NaN</td>\n",
       "      <td>NaN</td>\n",
       "      <td>2253.49</td>\n",
       "      <td>23233.77</td>\n",
       "      <td>14003.64</td>\n",
       "      <td>14055.93</td>\n",
       "      <td>14568.91</td>\n",
       "      <td>14702.49</td>\n",
       "      <td>14756.47</td>\n",
       "      <td>9817.61</td>\n",
       "      <td>5</td>\n",
       "      <td>12</td>\n",
       "    </tr>\n",
       "    <tr>\n",
       "      <th>1003</th>\n",
       "      <td>NaN</td>\n",
       "      <td>NaN</td>\n",
       "      <td>NaN</td>\n",
       "      <td>NaN</td>\n",
       "      <td>NaN</td>\n",
       "      <td>NaN</td>\n",
       "      <td>NaN</td>\n",
       "      <td>8565.21</td>\n",
       "      <td>12468.87</td>\n",
       "      <td>14768.14</td>\n",
       "      <td>11356.89</td>\n",
       "      <td>10121.53</td>\n",
       "      <td>8</td>\n",
       "      <td>12</td>\n",
       "    </tr>\n",
       "    <tr>\n",
       "      <th>1004</th>\n",
       "      <td>NaN</td>\n",
       "      <td>NaN</td>\n",
       "      <td>NaN</td>\n",
       "      <td>NaN</td>\n",
       "      <td>13403.98</td>\n",
       "      <td>17600.02</td>\n",
       "      <td>22229.58</td>\n",
       "      <td>28584.37</td>\n",
       "      <td>15109.03</td>\n",
       "      <td>18475.44</td>\n",
       "      <td>15616.02</td>\n",
       "      <td>18021.04</td>\n",
       "      <td>5</td>\n",
       "      <td>12</td>\n",
       "    </tr>\n",
       "    <tr>\n",
       "      <th>1013</th>\n",
       "      <td>NaN</td>\n",
       "      <td>NaN</td>\n",
       "      <td>NaN</td>\n",
       "      <td>NaN</td>\n",
       "      <td>NaN</td>\n",
       "      <td>NaN</td>\n",
       "      <td>NaN</td>\n",
       "      <td>NaN</td>\n",
       "      <td>NaN</td>\n",
       "      <td>NaN</td>\n",
       "      <td>9780.03</td>\n",
       "      <td>20737.13</td>\n",
       "      <td>11</td>\n",
       "      <td>12</td>\n",
       "    </tr>\n",
       "    <tr>\n",
       "      <th>1016</th>\n",
       "      <td>NaN</td>\n",
       "      <td>NaN</td>\n",
       "      <td>NaN</td>\n",
       "      <td>NaN</td>\n",
       "      <td>NaN</td>\n",
       "      <td>NaN</td>\n",
       "      <td>NaN</td>\n",
       "      <td>NaN</td>\n",
       "      <td>NaN</td>\n",
       "      <td>NaN</td>\n",
       "      <td>7382.23</td>\n",
       "      <td>19428.21</td>\n",
       "      <td>11</td>\n",
       "      <td>12</td>\n",
       "    </tr>\n",
       "  </tbody>\n",
       "</table>\n",
       "</div>"
      ],
      "text/plain": [
       "         (sum, 1)  (sum, 2)  (sum, 3)  (sum, 4)  (sum, 5)  (sum, 6)  (sum, 7)  \\\n",
       "user_id                                                                         \n",
       "1000          NaN       NaN       NaN       NaN   2253.49  23233.77  14003.64   \n",
       "1003          NaN       NaN       NaN       NaN       NaN       NaN       NaN   \n",
       "1004          NaN       NaN       NaN       NaN  13403.98  17600.02  22229.58   \n",
       "1013          NaN       NaN       NaN       NaN       NaN       NaN       NaN   \n",
       "1016          NaN       NaN       NaN       NaN       NaN       NaN       NaN   \n",
       "\n",
       "         (sum, 8)  (sum, 9)  (sum, 10)  (sum, 11)  (sum, 12)  reg_month  \\\n",
       "user_id                                                                   \n",
       "1000     14055.93  14568.91   14702.49   14756.47    9817.61          5   \n",
       "1003      8565.21  12468.87   14768.14   11356.89   10121.53          8   \n",
       "1004     28584.37  15109.03   18475.44   15616.02   18021.04          5   \n",
       "1013          NaN       NaN        NaN    9780.03   20737.13         11   \n",
       "1016          NaN       NaN        NaN    7382.23   19428.21         11   \n",
       "\n",
       "         churn_month  \n",
       "user_id               \n",
       "1000              12  \n",
       "1003              12  \n",
       "1004              12  \n",
       "1013              12  \n",
       "1016              12  "
      ]
     },
     "execution_count": 69,
     "metadata": {},
     "output_type": "execute_result"
    }
   ],
   "source": [
    "internet_users_ultra.head()"
   ]
  },
  {
   "cell_type": "code",
   "execution_count": null,
   "metadata": {},
   "outputs": [],
   "source": []
  },
  {
   "cell_type": "markdown",
   "metadata": {},
   "source": [
    "### Создадим сводную таблицу, куда занесем данные о среднем количестве, дисперсии и стандартном отклонении для минут разговора, используемых пользователями каждого тарифа ежемесячно"
   ]
  },
  {
   "cell_type": "code",
   "execution_count": 70,
   "metadata": {
    "scrolled": true
   },
   "outputs": [
    {
     "data": {
      "text/html": [
       "<div>\n",
       "<style scoped>\n",
       "    .dataframe tbody tr th:only-of-type {\n",
       "        vertical-align: middle;\n",
       "    }\n",
       "\n",
       "    .dataframe tbody tr th {\n",
       "        vertical-align: top;\n",
       "    }\n",
       "\n",
       "    .dataframe thead th {\n",
       "        text-align: right;\n",
       "    }\n",
       "</style>\n",
       "<table border=\"1\" class=\"dataframe\">\n",
       "  <thead>\n",
       "    <tr style=\"text-align: right;\">\n",
       "      <th></th>\n",
       "      <th>months</th>\n",
       "    </tr>\n",
       "  </thead>\n",
       "  <tbody>\n",
       "    <tr>\n",
       "      <th>0</th>\n",
       "      <td>1</td>\n",
       "    </tr>\n",
       "    <tr>\n",
       "      <th>1</th>\n",
       "      <td>2</td>\n",
       "    </tr>\n",
       "    <tr>\n",
       "      <th>2</th>\n",
       "      <td>3</td>\n",
       "    </tr>\n",
       "    <tr>\n",
       "      <th>3</th>\n",
       "      <td>4</td>\n",
       "    </tr>\n",
       "    <tr>\n",
       "      <th>4</th>\n",
       "      <td>5</td>\n",
       "    </tr>\n",
       "    <tr>\n",
       "      <th>5</th>\n",
       "      <td>6</td>\n",
       "    </tr>\n",
       "    <tr>\n",
       "      <th>6</th>\n",
       "      <td>7</td>\n",
       "    </tr>\n",
       "    <tr>\n",
       "      <th>7</th>\n",
       "      <td>8</td>\n",
       "    </tr>\n",
       "    <tr>\n",
       "      <th>8</th>\n",
       "      <td>9</td>\n",
       "    </tr>\n",
       "    <tr>\n",
       "      <th>9</th>\n",
       "      <td>10</td>\n",
       "    </tr>\n",
       "    <tr>\n",
       "      <th>10</th>\n",
       "      <td>11</td>\n",
       "    </tr>\n",
       "    <tr>\n",
       "      <th>11</th>\n",
       "      <td>12</td>\n",
       "    </tr>\n",
       "  </tbody>\n",
       "</table>\n",
       "</div>"
      ],
      "text/plain": [
       "    months\n",
       "0        1\n",
       "1        2\n",
       "2        3\n",
       "3        4\n",
       "4        5\n",
       "5        6\n",
       "6        7\n",
       "7        8\n",
       "8        9\n",
       "9       10\n",
       "10      11\n",
       "11      12"
      ]
     },
     "execution_count": 70,
     "metadata": {},
     "output_type": "execute_result"
    }
   ],
   "source": [
    "sum_table_calls=pd.DataFrame( {'months': range(1,13)})\n",
    "sum_table_calls"
   ]
  },
  {
   "cell_type": "markdown",
   "metadata": {},
   "source": [
    "### Рассчитаем средние значения минут по месяцам для тарифов \"smart\" и \"ultra\""
   ]
  },
  {
   "cell_type": "code",
   "execution_count": 71,
   "metadata": {},
   "outputs": [],
   "source": [
    "sum_table_calls['mean_minutes_smart']=calls_users_smart.iloc[:,range(12,24)].mean(axis=0).reset_index().iloc[:,1].round(0).astype(int)"
   ]
  },
  {
   "cell_type": "code",
   "execution_count": 72,
   "metadata": {},
   "outputs": [],
   "source": [
    "sum_table_calls['mean_minutes_ultra']=calls_users_ultra.iloc[:,range(12,24)].mean(axis=0).reset_index().iloc[:,1].round(0).astype(int)"
   ]
  },
  {
   "cell_type": "markdown",
   "metadata": {},
   "source": [
    "### Рассчитаем дисперсию для минут по месяцам для тарифов \"smart\" и \"ultra\""
   ]
  },
  {
   "cell_type": "code",
   "execution_count": 73,
   "metadata": {},
   "outputs": [],
   "source": [
    "sum_table_calls['var_minutes_smart']=calls_users_smart.iloc[:,range(12,24)].var(axis=0, ddof=1).reset_index().iloc[:,1].round(0).astype(int)"
   ]
  },
  {
   "cell_type": "code",
   "execution_count": 74,
   "metadata": {},
   "outputs": [],
   "source": [
    "sum_table_calls['var_minutes_ultra']=calls_users_ultra.iloc[:,range(12,24)].var(axis=0, ddof=1).reset_index().iloc[:,1].round(0).astype(int)"
   ]
  },
  {
   "cell_type": "markdown",
   "metadata": {},
   "source": [
    "### Рассчитаем стандартное отклонение для минут по месяцам для тарифов \"smart\" и \"ultra\""
   ]
  },
  {
   "cell_type": "code",
   "execution_count": 75,
   "metadata": {},
   "outputs": [],
   "source": [
    "sum_table_calls['std_minutes_smart']=calls_users_smart.iloc[:,range(12,24)].std(axis=0, ddof=1).reset_index().iloc[:,1].round(0).astype(int)"
   ]
  },
  {
   "cell_type": "code",
   "execution_count": 76,
   "metadata": {},
   "outputs": [],
   "source": [
    "sum_table_calls['std_minutes_ultra']=calls_users_ultra.iloc[:,range(12,24)].std(axis=0, ddof=1).reset_index().iloc[:,1].round(0).astype(int)"
   ]
  },
  {
   "cell_type": "markdown",
   "metadata": {},
   "source": [
    "### Таблица, которая содержит информацию о среднем, дисперсии и стандартном отклонении минут разговора для каждого тарифа с разбивкой по месяцам имеет вид"
   ]
  },
  {
   "cell_type": "code",
   "execution_count": 77,
   "metadata": {},
   "outputs": [
    {
     "data": {
      "text/html": [
       "<div>\n",
       "<style scoped>\n",
       "    .dataframe tbody tr th:only-of-type {\n",
       "        vertical-align: middle;\n",
       "    }\n",
       "\n",
       "    .dataframe tbody tr th {\n",
       "        vertical-align: top;\n",
       "    }\n",
       "\n",
       "    .dataframe thead th {\n",
       "        text-align: right;\n",
       "    }\n",
       "</style>\n",
       "<table border=\"1\" class=\"dataframe\">\n",
       "  <thead>\n",
       "    <tr style=\"text-align: right;\">\n",
       "      <th></th>\n",
       "      <th>months</th>\n",
       "      <th>mean_minutes_smart</th>\n",
       "      <th>mean_minutes_ultra</th>\n",
       "      <th>var_minutes_smart</th>\n",
       "      <th>var_minutes_ultra</th>\n",
       "      <th>std_minutes_smart</th>\n",
       "      <th>std_minutes_ultra</th>\n",
       "    </tr>\n",
       "  </thead>\n",
       "  <tbody>\n",
       "    <tr>\n",
       "      <th>0</th>\n",
       "      <td>1</td>\n",
       "      <td>193</td>\n",
       "      <td>405</td>\n",
       "      <td>21412</td>\n",
       "      <td>64833</td>\n",
       "      <td>146</td>\n",
       "      <td>255</td>\n",
       "    </tr>\n",
       "    <tr>\n",
       "      <th>1</th>\n",
       "      <td>2</td>\n",
       "      <td>283</td>\n",
       "      <td>281</td>\n",
       "      <td>32753</td>\n",
       "      <td>78926</td>\n",
       "      <td>181</td>\n",
       "      <td>281</td>\n",
       "    </tr>\n",
       "    <tr>\n",
       "      <th>2</th>\n",
       "      <td>3</td>\n",
       "      <td>368</td>\n",
       "      <td>462</td>\n",
       "      <td>32956</td>\n",
       "      <td>99657</td>\n",
       "      <td>182</td>\n",
       "      <td>316</td>\n",
       "    </tr>\n",
       "    <tr>\n",
       "      <th>3</th>\n",
       "      <td>4</td>\n",
       "      <td>346</td>\n",
       "      <td>432</td>\n",
       "      <td>31012</td>\n",
       "      <td>64018</td>\n",
       "      <td>176</td>\n",
       "      <td>253</td>\n",
       "    </tr>\n",
       "    <tr>\n",
       "      <th>4</th>\n",
       "      <td>5</td>\n",
       "      <td>365</td>\n",
       "      <td>482</td>\n",
       "      <td>31168</td>\n",
       "      <td>74783</td>\n",
       "      <td>177</td>\n",
       "      <td>273</td>\n",
       "    </tr>\n",
       "    <tr>\n",
       "      <th>5</th>\n",
       "      <td>6</td>\n",
       "      <td>373</td>\n",
       "      <td>453</td>\n",
       "      <td>27446</td>\n",
       "      <td>82082</td>\n",
       "      <td>166</td>\n",
       "      <td>286</td>\n",
       "    </tr>\n",
       "    <tr>\n",
       "      <th>6</th>\n",
       "      <td>7</td>\n",
       "      <td>385</td>\n",
       "      <td>515</td>\n",
       "      <td>28815</td>\n",
       "      <td>84171</td>\n",
       "      <td>170</td>\n",
       "      <td>290</td>\n",
       "    </tr>\n",
       "    <tr>\n",
       "      <th>7</th>\n",
       "      <td>8</td>\n",
       "      <td>398</td>\n",
       "      <td>482</td>\n",
       "      <td>31131</td>\n",
       "      <td>87186</td>\n",
       "      <td>176</td>\n",
       "      <td>295</td>\n",
       "    </tr>\n",
       "    <tr>\n",
       "      <th>8</th>\n",
       "      <td>9</td>\n",
       "      <td>405</td>\n",
       "      <td>509</td>\n",
       "      <td>30027</td>\n",
       "      <td>94081</td>\n",
       "      <td>173</td>\n",
       "      <td>307</td>\n",
       "    </tr>\n",
       "    <tr>\n",
       "      <th>9</th>\n",
       "      <td>10</td>\n",
       "      <td>402</td>\n",
       "      <td>527</td>\n",
       "      <td>31679</td>\n",
       "      <td>94883</td>\n",
       "      <td>178</td>\n",
       "      <td>308</td>\n",
       "    </tr>\n",
       "    <tr>\n",
       "      <th>10</th>\n",
       "      <td>11</td>\n",
       "      <td>411</td>\n",
       "      <td>511</td>\n",
       "      <td>28252</td>\n",
       "      <td>86139</td>\n",
       "      <td>168</td>\n",
       "      <td>293</td>\n",
       "    </tr>\n",
       "    <tr>\n",
       "      <th>11</th>\n",
       "      <td>12</td>\n",
       "      <td>450</td>\n",
       "      <td>556</td>\n",
       "      <td>36015</td>\n",
       "      <td>105782</td>\n",
       "      <td>190</td>\n",
       "      <td>325</td>\n",
       "    </tr>\n",
       "  </tbody>\n",
       "</table>\n",
       "</div>"
      ],
      "text/plain": [
       "    months  mean_minutes_smart  mean_minutes_ultra  var_minutes_smart  \\\n",
       "0        1                 193                 405              21412   \n",
       "1        2                 283                 281              32753   \n",
       "2        3                 368                 462              32956   \n",
       "3        4                 346                 432              31012   \n",
       "4        5                 365                 482              31168   \n",
       "5        6                 373                 453              27446   \n",
       "6        7                 385                 515              28815   \n",
       "7        8                 398                 482              31131   \n",
       "8        9                 405                 509              30027   \n",
       "9       10                 402                 527              31679   \n",
       "10      11                 411                 511              28252   \n",
       "11      12                 450                 556              36015   \n",
       "\n",
       "    var_minutes_ultra  std_minutes_smart  std_minutes_ultra  \n",
       "0               64833                146                255  \n",
       "1               78926                181                281  \n",
       "2               99657                182                316  \n",
       "3               64018                176                253  \n",
       "4               74783                177                273  \n",
       "5               82082                166                286  \n",
       "6               84171                170                290  \n",
       "7               87186                176                295  \n",
       "8               94081                173                307  \n",
       "9               94883                178                308  \n",
       "10              86139                168                293  \n",
       "11             105782                190                325  "
      ]
     },
     "execution_count": 77,
     "metadata": {},
     "output_type": "execute_result"
    }
   ],
   "source": [
    "sum_table_calls"
   ]
  },
  {
   "cell_type": "markdown",
   "metadata": {},
   "source": [
    "### Создадим сводную таблицу, куда занесем данные о среднем количестве, дисперсии и стандартном отклонении для количества сообщений, требуемых пользователям каждого тарифа ежемесячно"
   ]
  },
  {
   "cell_type": "code",
   "execution_count": 78,
   "metadata": {},
   "outputs": [],
   "source": [
    "sum_table_messages=pd.DataFrame( {'months': range(1,13)})"
   ]
  },
  {
   "cell_type": "markdown",
   "metadata": {},
   "source": [
    "### Рассчитаем средние значения числа сообщений по месяцам для тарифов \"smart\" и \"ultra\""
   ]
  },
  {
   "cell_type": "code",
   "execution_count": 79,
   "metadata": {},
   "outputs": [],
   "source": [
    "sum_table_messages['mean_messages_smart']=messages_users_smart.iloc[:,range(0,12)].mean(axis=0).reset_index().iloc[:,1].round(0).astype(int)"
   ]
  },
  {
   "cell_type": "code",
   "execution_count": 80,
   "metadata": {},
   "outputs": [],
   "source": [
    "sum_table_messages['mean_messages_ultra']=messages_users_ultra.iloc[:,range(0,12)].mean(axis=0).reset_index().iloc[:,1].round(0).astype(int)"
   ]
  },
  {
   "cell_type": "markdown",
   "metadata": {},
   "source": [
    "### Рассчитаем дисперсию для сообщений по месяцам для тарифов \"smart\" и \"ultra\""
   ]
  },
  {
   "cell_type": "code",
   "execution_count": 81,
   "metadata": {},
   "outputs": [],
   "source": [
    "sum_table_messages['var_messages_smart']=messages_users_smart.iloc[:,range(0,12)].var(axis=0, ddof=1).reset_index().iloc[:,1].round(0).astype(int)"
   ]
  },
  {
   "cell_type": "code",
   "execution_count": 82,
   "metadata": {},
   "outputs": [],
   "source": [
    "sum_table_messages['var_messages_ultra']=messages_users_ultra.iloc[:,range(0,12)].var(axis=0, ddof=1).reset_index().iloc[:,1].round(0).astype(int)"
   ]
  },
  {
   "cell_type": "markdown",
   "metadata": {},
   "source": [
    "### Рассчитаем стандартное отклонение для сообщений по месяцам для тарифов \"smart\" и \"ultra\""
   ]
  },
  {
   "cell_type": "code",
   "execution_count": 83,
   "metadata": {},
   "outputs": [],
   "source": [
    "sum_table_messages['std_messages_smart']=messages_users_smart.iloc[:,range(0,12)].std(axis=0, ddof=1).reset_index().iloc[:,1].round(0).astype(int)"
   ]
  },
  {
   "cell_type": "code",
   "execution_count": 84,
   "metadata": {},
   "outputs": [],
   "source": [
    "sum_table_messages['std_messages_ultra']=messages_users_ultra.iloc[:,range(0,12)].std(axis=0, ddof=1).reset_index().iloc[:,1].round(0).astype(int)"
   ]
  },
  {
   "cell_type": "markdown",
   "metadata": {},
   "source": [
    "### Таблица, которая содержит информацию о среднем, дисперсии и стандартном отклонении числа сообщений для каждого тарифа с разбивкой по месяцам имеет вид"
   ]
  },
  {
   "cell_type": "code",
   "execution_count": 85,
   "metadata": {},
   "outputs": [
    {
     "data": {
      "text/html": [
       "<div>\n",
       "<style scoped>\n",
       "    .dataframe tbody tr th:only-of-type {\n",
       "        vertical-align: middle;\n",
       "    }\n",
       "\n",
       "    .dataframe tbody tr th {\n",
       "        vertical-align: top;\n",
       "    }\n",
       "\n",
       "    .dataframe thead th {\n",
       "        text-align: right;\n",
       "    }\n",
       "</style>\n",
       "<table border=\"1\" class=\"dataframe\">\n",
       "  <thead>\n",
       "    <tr style=\"text-align: right;\">\n",
       "      <th></th>\n",
       "      <th>months</th>\n",
       "      <th>mean_messages_smart</th>\n",
       "      <th>mean_messages_ultra</th>\n",
       "      <th>var_messages_smart</th>\n",
       "      <th>var_messages_ultra</th>\n",
       "      <th>std_messages_smart</th>\n",
       "      <th>std_messages_ultra</th>\n",
       "    </tr>\n",
       "  </thead>\n",
       "  <tbody>\n",
       "    <tr>\n",
       "      <th>0</th>\n",
       "      <td>1</td>\n",
       "      <td>18</td>\n",
       "      <td>34</td>\n",
       "      <td>262</td>\n",
       "      <td>941</td>\n",
       "      <td>16</td>\n",
       "      <td>31</td>\n",
       "    </tr>\n",
       "    <tr>\n",
       "      <th>1</th>\n",
       "      <td>2</td>\n",
       "      <td>24</td>\n",
       "      <td>22</td>\n",
       "      <td>473</td>\n",
       "      <td>717</td>\n",
       "      <td>22</td>\n",
       "      <td>27</td>\n",
       "    </tr>\n",
       "    <tr>\n",
       "      <th>2</th>\n",
       "      <td>3</td>\n",
       "      <td>32</td>\n",
       "      <td>32</td>\n",
       "      <td>718</td>\n",
       "      <td>1732</td>\n",
       "      <td>27</td>\n",
       "      <td>42</td>\n",
       "    </tr>\n",
       "    <tr>\n",
       "      <th>3</th>\n",
       "      <td>4</td>\n",
       "      <td>31</td>\n",
       "      <td>32</td>\n",
       "      <td>602</td>\n",
       "      <td>1407</td>\n",
       "      <td>25</td>\n",
       "      <td>38</td>\n",
       "    </tr>\n",
       "    <tr>\n",
       "      <th>4</th>\n",
       "      <td>5</td>\n",
       "      <td>34</td>\n",
       "      <td>38</td>\n",
       "      <td>731</td>\n",
       "      <td>1625</td>\n",
       "      <td>27</td>\n",
       "      <td>40</td>\n",
       "    </tr>\n",
       "    <tr>\n",
       "      <th>5</th>\n",
       "      <td>6</td>\n",
       "      <td>33</td>\n",
       "      <td>42</td>\n",
       "      <td>807</td>\n",
       "      <td>1986</td>\n",
       "      <td>28</td>\n",
       "      <td>45</td>\n",
       "    </tr>\n",
       "    <tr>\n",
       "      <th>6</th>\n",
       "      <td>7</td>\n",
       "      <td>34</td>\n",
       "      <td>50</td>\n",
       "      <td>800</td>\n",
       "      <td>2372</td>\n",
       "      <td>28</td>\n",
       "      <td>49</td>\n",
       "    </tr>\n",
       "    <tr>\n",
       "      <th>7</th>\n",
       "      <td>8</td>\n",
       "      <td>34</td>\n",
       "      <td>48</td>\n",
       "      <td>838</td>\n",
       "      <td>2172</td>\n",
       "      <td>29</td>\n",
       "      <td>47</td>\n",
       "    </tr>\n",
       "    <tr>\n",
       "      <th>8</th>\n",
       "      <td>9</td>\n",
       "      <td>34</td>\n",
       "      <td>52</td>\n",
       "      <td>791</td>\n",
       "      <td>2153</td>\n",
       "      <td>28</td>\n",
       "      <td>46</td>\n",
       "    </tr>\n",
       "    <tr>\n",
       "      <th>9</th>\n",
       "      <td>10</td>\n",
       "      <td>34</td>\n",
       "      <td>58</td>\n",
       "      <td>816</td>\n",
       "      <td>2697</td>\n",
       "      <td>29</td>\n",
       "      <td>52</td>\n",
       "    </tr>\n",
       "    <tr>\n",
       "      <th>10</th>\n",
       "      <td>11</td>\n",
       "      <td>34</td>\n",
       "      <td>56</td>\n",
       "      <td>806</td>\n",
       "      <td>2477</td>\n",
       "      <td>28</td>\n",
       "      <td>50</td>\n",
       "    </tr>\n",
       "    <tr>\n",
       "      <th>11</th>\n",
       "      <td>12</td>\n",
       "      <td>36</td>\n",
       "      <td>60</td>\n",
       "      <td>936</td>\n",
       "      <td>2689</td>\n",
       "      <td>31</td>\n",
       "      <td>52</td>\n",
       "    </tr>\n",
       "  </tbody>\n",
       "</table>\n",
       "</div>"
      ],
      "text/plain": [
       "    months  mean_messages_smart  mean_messages_ultra  var_messages_smart  \\\n",
       "0        1                   18                   34                 262   \n",
       "1        2                   24                   22                 473   \n",
       "2        3                   32                   32                 718   \n",
       "3        4                   31                   32                 602   \n",
       "4        5                   34                   38                 731   \n",
       "5        6                   33                   42                 807   \n",
       "6        7                   34                   50                 800   \n",
       "7        8                   34                   48                 838   \n",
       "8        9                   34                   52                 791   \n",
       "9       10                   34                   58                 816   \n",
       "10      11                   34                   56                 806   \n",
       "11      12                   36                   60                 936   \n",
       "\n",
       "    var_messages_ultra  std_messages_smart  std_messages_ultra  \n",
       "0                  941                  16                  31  \n",
       "1                  717                  22                  27  \n",
       "2                 1732                  27                  42  \n",
       "3                 1407                  25                  38  \n",
       "4                 1625                  27                  40  \n",
       "5                 1986                  28                  45  \n",
       "6                 2372                  28                  49  \n",
       "7                 2172                  29                  47  \n",
       "8                 2153                  28                  46  \n",
       "9                 2697                  29                  52  \n",
       "10                2477                  28                  50  \n",
       "11                2689                  31                  52  "
      ]
     },
     "execution_count": 85,
     "metadata": {},
     "output_type": "execute_result"
    }
   ],
   "source": [
    "sum_table_messages"
   ]
  },
  {
   "cell_type": "markdown",
   "metadata": {},
   "source": [
    "### Создадим сводную таблицу, куда занесем данные о среднем количестве, дисперсии и стандартном отклонении для объёма интернет-трафика, требуемого пользователям каждого тарифа ежемесячно"
   ]
  },
  {
   "cell_type": "code",
   "execution_count": 86,
   "metadata": {},
   "outputs": [],
   "source": [
    "sum_table_internet=pd.DataFrame( {'months': range(1,13)})"
   ]
  },
  {
   "cell_type": "markdown",
   "metadata": {},
   "source": [
    "### Рассчитаем средние значения объёма интернет-трафика по месяцам для тарифов \"smart\" и \"ultra\""
   ]
  },
  {
   "cell_type": "code",
   "execution_count": 87,
   "metadata": {},
   "outputs": [],
   "source": [
    "sum_table_internet['mean_internet_smart']=internet_users_smart.iloc[:,range(0,12)].mean(axis=0).reset_index().iloc[:,1].round(0).astype(int)"
   ]
  },
  {
   "cell_type": "code",
   "execution_count": 88,
   "metadata": {},
   "outputs": [],
   "source": [
    "sum_table_internet['mean_internet_ultra']=internet_users_ultra.iloc[:,range(0,12)].mean(axis=0).reset_index().iloc[:,1].round(0).astype(int)"
   ]
  },
  {
   "cell_type": "markdown",
   "metadata": {},
   "source": [
    "### Рассчитаем дисперсию для объёма интернет-трафика по месяцам для тарифов \"smart\" и \"ultra\""
   ]
  },
  {
   "cell_type": "code",
   "execution_count": 89,
   "metadata": {},
   "outputs": [],
   "source": [
    "sum_table_internet['var_internet_smart']=internet_users_smart.iloc[:,range(0,12)].var(axis=0, ddof=1).reset_index().iloc[:,1].round(0).astype(int)"
   ]
  },
  {
   "cell_type": "code",
   "execution_count": 90,
   "metadata": {},
   "outputs": [],
   "source": [
    "sum_table_internet['var_internet_ultra']=internet_users_ultra.iloc[:,range(0,12)].var(axis=0, ddof=1).reset_index().iloc[:,1].round(0).astype(int)"
   ]
  },
  {
   "cell_type": "markdown",
   "metadata": {},
   "source": [
    "### Рассчитаем стандартное отклонение для объёма интернет-трафика по месяцам для тарифов \"smart\" и \"ultra\""
   ]
  },
  {
   "cell_type": "code",
   "execution_count": 91,
   "metadata": {},
   "outputs": [],
   "source": [
    "sum_table_internet['std_internet_smart']=internet_users_smart.iloc[:,range(0,12)].std(axis=0, ddof=1).reset_index().iloc[:,1].round(0).astype(int)"
   ]
  },
  {
   "cell_type": "code",
   "execution_count": 92,
   "metadata": {},
   "outputs": [],
   "source": [
    "sum_table_internet['std_internet_ultra']=internet_users_ultra.iloc[:,range(0,12)].std(axis=0, ddof=1).reset_index().iloc[:,1].round(0).astype(int)"
   ]
  },
  {
   "cell_type": "markdown",
   "metadata": {},
   "source": [
    "### Таблица, которая содержит информацию о среднем, дисперсии и стандартном отклонении объёма интернет-трафика (MБайт) для каждого тарифа с разбивкой по месяцам имеет вид"
   ]
  },
  {
   "cell_type": "code",
   "execution_count": 93,
   "metadata": {},
   "outputs": [
    {
     "data": {
      "text/html": [
       "<div>\n",
       "<style scoped>\n",
       "    .dataframe tbody tr th:only-of-type {\n",
       "        vertical-align: middle;\n",
       "    }\n",
       "\n",
       "    .dataframe tbody tr th {\n",
       "        vertical-align: top;\n",
       "    }\n",
       "\n",
       "    .dataframe thead th {\n",
       "        text-align: right;\n",
       "    }\n",
       "</style>\n",
       "<table border=\"1\" class=\"dataframe\">\n",
       "  <thead>\n",
       "    <tr style=\"text-align: right;\">\n",
       "      <th></th>\n",
       "      <th>months</th>\n",
       "      <th>mean_internet_smart</th>\n",
       "      <th>mean_internet_ultra</th>\n",
       "      <th>var_internet_smart</th>\n",
       "      <th>var_internet_ultra</th>\n",
       "      <th>std_internet_smart</th>\n",
       "      <th>std_internet_ultra</th>\n",
       "    </tr>\n",
       "  </thead>\n",
       "  <tbody>\n",
       "    <tr>\n",
       "      <th>0</th>\n",
       "      <td>1</td>\n",
       "      <td>8514</td>\n",
       "      <td>13141</td>\n",
       "      <td>41533913</td>\n",
       "      <td>47132988</td>\n",
       "      <td>6445</td>\n",
       "      <td>6865</td>\n",
       "    </tr>\n",
       "    <tr>\n",
       "      <th>1</th>\n",
       "      <td>2</td>\n",
       "      <td>11597</td>\n",
       "      <td>11776</td>\n",
       "      <td>39029430</td>\n",
       "      <td>113308444</td>\n",
       "      <td>6247</td>\n",
       "      <td>10645</td>\n",
       "    </tr>\n",
       "    <tr>\n",
       "      <th>2</th>\n",
       "      <td>3</td>\n",
       "      <td>15104</td>\n",
       "      <td>17536</td>\n",
       "      <td>33968353</td>\n",
       "      <td>119941614</td>\n",
       "      <td>5828</td>\n",
       "      <td>10952</td>\n",
       "    </tr>\n",
       "    <tr>\n",
       "      <th>3</th>\n",
       "      <td>4</td>\n",
       "      <td>13462</td>\n",
       "      <td>16828</td>\n",
       "      <td>32470043</td>\n",
       "      <td>94452155</td>\n",
       "      <td>5698</td>\n",
       "      <td>9719</td>\n",
       "    </tr>\n",
       "    <tr>\n",
       "      <th>4</th>\n",
       "      <td>5</td>\n",
       "      <td>15805</td>\n",
       "      <td>19363</td>\n",
       "      <td>35739255</td>\n",
       "      <td>100924330</td>\n",
       "      <td>5978</td>\n",
       "      <td>10046</td>\n",
       "    </tr>\n",
       "    <tr>\n",
       "      <th>5</th>\n",
       "      <td>6</td>\n",
       "      <td>15795</td>\n",
       "      <td>18925</td>\n",
       "      <td>33537483</td>\n",
       "      <td>86357572</td>\n",
       "      <td>5791</td>\n",
       "      <td>9293</td>\n",
       "    </tr>\n",
       "    <tr>\n",
       "      <th>6</th>\n",
       "      <td>7</td>\n",
       "      <td>15743</td>\n",
       "      <td>20496</td>\n",
       "      <td>34776431</td>\n",
       "      <td>101308192</td>\n",
       "      <td>5897</td>\n",
       "      <td>10065</td>\n",
       "    </tr>\n",
       "    <tr>\n",
       "      <th>7</th>\n",
       "      <td>8</td>\n",
       "      <td>16611</td>\n",
       "      <td>19576</td>\n",
       "      <td>31287233</td>\n",
       "      <td>109758234</td>\n",
       "      <td>5593</td>\n",
       "      <td>10477</td>\n",
       "    </tr>\n",
       "    <tr>\n",
       "      <th>8</th>\n",
       "      <td>9</td>\n",
       "      <td>16304</td>\n",
       "      <td>19204</td>\n",
       "      <td>26999619</td>\n",
       "      <td>89985871</td>\n",
       "      <td>5196</td>\n",
       "      <td>9486</td>\n",
       "    </tr>\n",
       "    <tr>\n",
       "      <th>9</th>\n",
       "      <td>10</td>\n",
       "      <td>16757</td>\n",
       "      <td>20045</td>\n",
       "      <td>34332387</td>\n",
       "      <td>96101000</td>\n",
       "      <td>5859</td>\n",
       "      <td>9803</td>\n",
       "    </tr>\n",
       "    <tr>\n",
       "      <th>10</th>\n",
       "      <td>11</td>\n",
       "      <td>16896</td>\n",
       "      <td>19787</td>\n",
       "      <td>28518520</td>\n",
       "      <td>98158938</td>\n",
       "      <td>5340</td>\n",
       "      <td>9908</td>\n",
       "    </tr>\n",
       "    <tr>\n",
       "      <th>11</th>\n",
       "      <td>12</td>\n",
       "      <td>18060</td>\n",
       "      <td>21638</td>\n",
       "      <td>31944479</td>\n",
       "      <td>110328454</td>\n",
       "      <td>5652</td>\n",
       "      <td>10504</td>\n",
       "    </tr>\n",
       "  </tbody>\n",
       "</table>\n",
       "</div>"
      ],
      "text/plain": [
       "    months  mean_internet_smart  mean_internet_ultra  var_internet_smart  \\\n",
       "0        1                 8514                13141            41533913   \n",
       "1        2                11597                11776            39029430   \n",
       "2        3                15104                17536            33968353   \n",
       "3        4                13462                16828            32470043   \n",
       "4        5                15805                19363            35739255   \n",
       "5        6                15795                18925            33537483   \n",
       "6        7                15743                20496            34776431   \n",
       "7        8                16611                19576            31287233   \n",
       "8        9                16304                19204            26999619   \n",
       "9       10                16757                20045            34332387   \n",
       "10      11                16896                19787            28518520   \n",
       "11      12                18060                21638            31944479   \n",
       "\n",
       "    var_internet_ultra  std_internet_smart  std_internet_ultra  \n",
       "0             47132988                6445                6865  \n",
       "1            113308444                6247               10645  \n",
       "2            119941614                5828               10952  \n",
       "3             94452155                5698                9719  \n",
       "4            100924330                5978               10046  \n",
       "5             86357572                5791                9293  \n",
       "6            101308192                5897               10065  \n",
       "7            109758234                5593               10477  \n",
       "8             89985871                5196                9486  \n",
       "9             96101000                5859                9803  \n",
       "10            98158938                5340                9908  \n",
       "11           110328454                5652               10504  "
      ]
     },
     "execution_count": 93,
     "metadata": {},
     "output_type": "execute_result"
    }
   ],
   "source": [
    "sum_table_internet"
   ]
  },
  {
   "cell_type": "markdown",
   "metadata": {},
   "source": [
    "### Построим гистограммы по количеству минут, которые на звонки тратит ежемесячно каждый пользователь - для этого \"вытянем\" в один столбец данные по суммарным ежемесячным звонкам для каждого пользователя таблиц \"calls_users_smart\" и \"calls_users_ultra\""
   ]
  },
  {
   "cell_type": "code",
   "execution_count": 94,
   "metadata": {
    "scrolled": true
   },
   "outputs": [
    {
     "data": {
      "image/png": "[encoded data removed]",
      "text/plain": [
       "<Figure size 432x288 with 1 Axes>"
      ]
     },
     "metadata": {
      "needs_background": "light"
     },
     "output_type": "display_data"
    },
    {
     "data": {
      "image/png": "[encoded data removed]",
      "text/plain": [
       "<Figure size 432x288 with 1 Axes>"
      ]
     },
     "metadata": {
      "needs_background": "light"
     },
     "output_type": "display_data"
    }
   ],
   "source": [
    "calls_users_smart.iloc[:, 12:24].stack().hist(bins=50)\n",
    "plt.xlabel('Суммарная длительность всех звонков за месяц на одного пользователя, мин')\n",
    "plt.ylabel('Частота')\n",
    "plt.title('Гистограмма распределения используемых пользователями\\nминут звонков в месяц на тарифе \"smart\"')\n",
    "plt.show()\n",
    "calls_users_ultra.iloc[:, 12:24].stack().hist(bins=50)\n",
    "plt.xlabel('Суммарная длительность всех звонков за месяц на одного пользователя, мин')\n",
    "plt.ylabel('Частота')\n",
    "plt.title('Гистограмма распределения используемых пользователями\\nминут звонков в месяц на тарифе \"ultra\"')\n",
    "plt.show()"
   ]
  },
  {
   "cell_type": "markdown",
   "metadata": {},
   "source": [
    "### Числовые значения распределений, представленных на гистограммах"
   ]
  },
  {
   "cell_type": "code",
   "execution_count": 95,
   "metadata": {},
   "outputs": [
    {
     "data": {
      "text/plain": [
       "min          0.000000\n",
       "max       1354.220000\n",
       "mean       394.250152\n",
       "var      32441.629949\n",
       "std        180.115602\n",
       "count     2230.000000\n",
       "dtype: float64"
      ]
     },
     "execution_count": 95,
     "metadata": {},
     "output_type": "execute_result"
    }
   ],
   "source": [
    "calls_users_smart.iloc[:, 12:24].stack().agg(['min', 'max', 'mean','var','std','count'])"
   ]
  },
  {
   "cell_type": "code",
   "execution_count": 96,
   "metadata": {
    "scrolled": true
   },
   "outputs": [
    {
     "data": {
      "text/plain": [
       "min          0.000000\n",
       "max       1578.060000\n",
       "mean       496.564097\n",
       "var      90101.773195\n",
       "std        300.169574\n",
       "count      986.000000\n",
       "dtype: float64"
      ]
     },
     "execution_count": 96,
     "metadata": {},
     "output_type": "execute_result"
    }
   ],
   "source": [
    "calls_users_ultra.iloc[:, 12:24].stack().agg(['min', 'max', 'mean','var','std','count'])"
   ]
  },
  {
   "cell_type": "code",
   "execution_count": 97,
   "metadata": {
    "scrolled": true
   },
   "outputs": [
    {
     "name": "stdout",
     "output_type": "stream",
     "text": [
      "623 случая, когда 194 пользователя тарифа \"smart\" или 55 % подключившихся в 2018 году превышали 500 минут разговора в месяц, входящих в пакет.\n"
     ]
    }
   ],
   "source": [
    "temp_smart_calls=calls_users_smart.iloc[:, 12:24].reset_index().melt(id_vars=['user_id'])\n",
    "print(temp_smart_calls[temp_smart_calls['value']>500]['user_id'].count(),'случая, когда', \\\n",
    "      temp_smart_calls[temp_smart_calls['value']>500]['user_id'].nunique(),'пользователя тарифа \"smart\" или',\\\n",
    "      round(temp_smart_calls[temp_smart_calls['value']>500]['user_id'].nunique()/temp_smart_calls['user_id'].nunique()*100),\\\n",
    "      '% подключившихся в 2018 году превышали 500 минут разговора в месяц, входящих в пакет.')"
   ]
  },
  {
   "cell_type": "code",
   "execution_count": 98,
   "metadata": {},
   "outputs": [
    {
     "name": "stdout",
     "output_type": "stream",
     "text": [
      "2 пользователя или 0.57 % от всех подключившихся к тарифу \"smart\" вообще не пользовались звонками в 2018 году\n"
     ]
    }
   ],
   "source": [
    "temp_smart_calls_0=temp_smart_calls.groupby('user_id').sum().reset_index()\n",
    "print(temp_smart_calls_0[temp_smart_calls_0['value']==0]['user_id'].count(),\\\n",
    "      'пользователя или', round(temp_smart_calls_0[temp_smart_calls_0['value']==0]['user_id'].count()/temp_smart_calls_0['user_id'].count()*100,2),\\\n",
    "      '% от всех подключившихся к тарифу \"smart\" вообще не пользовались звонками в 2018 году')"
   ]
  },
  {
   "cell_type": "code",
   "execution_count": 99,
   "metadata": {},
   "outputs": [
    {
     "name": "stdout",
     "output_type": "stream",
     "text": [
      "6 пользователя или 4.03 % от всех подключившихся к тарифу \"ultra\" вообще не пользовались звонками в 2018 году\n"
     ]
    }
   ],
   "source": [
    "temp_ultra_calls_0=calls_users_ultra.iloc[:, 12:24].reset_index().melt(id_vars=['user_id']).groupby('user_id').sum().reset_index()\n",
    "print(temp_ultra_calls_0[temp_ultra_calls_0['value']==0]['user_id'].count(),\\\n",
    "      'пользователя или', round(temp_ultra_calls_0[temp_ultra_calls_0['value']==0]['user_id'].count()/temp_ultra_calls_0['user_id'].count()*100,2),\\\n",
    "      '% от всех подключившихся к тарифу \"ultra\" вообще не пользовались звонками в 2018 году')"
   ]
  },
  {
   "cell_type": "markdown",
   "metadata": {},
   "source": [
    "### Построим графики средних значений, меняющиxся по месяцам, для тарифов \"smart\" и \"ultra\""
   ]
  },
  {
   "cell_type": "code",
   "execution_count": 100,
   "metadata": {
    "scrolled": false
   },
   "outputs": [
    {
     "data": {
      "image/png": "[encoded data removed]",
      "text/plain": [
       "<Figure size 648x360 with 1 Axes>"
      ]
     },
     "metadata": {
      "needs_background": "light"
     },
     "output_type": "display_data"
    }
   ],
   "source": [
    "sum_table_calls.plot(x='months',y=['mean_minutes_smart','mean_minutes_ultra'],kind='line',grid = True, xlim=(0,13), figsize=(9,5),label=['smart','ultra'])\n",
    "plt.ylabel('Средние значения суммарной длительность\\nзвонков пользователей за месяц, мин.')\n",
    "plt.xlabel('Месяцы')\n",
    "plt.title('Изменение средних ежемесячных значений\\nиспользуемых пользователями минут звонков\\nв течении года на тарифах \"smart\" и \"ultra\"')\n",
    "plt.show()"
   ]
  },
  {
   "cell_type": "markdown",
   "metadata": {},
   "source": [
    "### На графиках видно, что\n",
    "1. Средние значения звонков у обоих тарифов растут в течении года - это связано с тем, что выборка взята по пользователям подключившимся в 2018 году - далеко не все из них подключились в первый месяц года.\n",
    "2. Пользователи тарифа \"ultra\" в среднем разговаривают по телефону дольше (около 500 мин/мес), чем пользователи тарифа \"smart\"(около 400 мин/мес) - это видно и на гистограммах распределения звонков на графиках выше.\n",
    "3. Гистограмма распределения звонков для тарифа \"smart\" более узкая, чем для тарифа \"ultra\", что соответствует рассчитанному в таблице \"sum_table_calls\" стандартному отклонению - для тарифа \"smart\" оно меньше, чем для тарифа \"ultra\" - разброс затрачиваемых в месяц минут разговора у пользователей тарифа \"ultra\" больше, чем у тарифа  \"smart\". Это, видимо, связано с тем, что в тариф \"ultra\" включено 3000 минут разговора, а в тариф  \"smart\" только 500 минут, поэтому пользователи тарифа \"ultra\" ни в чем себе не отказывают, при этом в среднем тратят в разы меньше минут, чем у них есть в распоряжении, а пользователи тарифа  \"smart\" стараются не превышать имеющееся ограничение в 500 минут. В то же время для 55% пользователей тарифа \"smart\" имели место случаи превышения лимита звонков по тарифу в 500 минут.\n",
    "4. Есть пользователи тарифов \"ultra\" и \"smart\", которые месяцами вообще не используют тариф для звонков - 6 и 2 человека соответственно - возможно, покупают для того, чтобы пользоваться мобильным интернетом."
   ]
  },
  {
   "cell_type": "markdown",
   "metadata": {},
   "source": [
    "### Построим гистограммы по количеству сообщений, которые ежемесячно отправляет каждый пользователь - для этого \"вытянем\" в один столбец данные таблиц \"messages_users_smart\" и \"messages_users_ultra\""
   ]
  },
  {
   "cell_type": "code",
   "execution_count": 101,
   "metadata": {
    "scrolled": false
   },
   "outputs": [
    {
     "data": {
      "image/png": "[encoded data removed]",
      "text/plain": [
       "<Figure size 432x288 with 1 Axes>"
      ]
     },
     "metadata": {
      "needs_background": "light"
     },
     "output_type": "display_data"
    },
    {
     "data": {
      "image/png": "[encoded data removed]",
      "text/plain": [
       "<Figure size 432x288 with 1 Axes>"
      ]
     },
     "metadata": {
      "needs_background": "light"
     },
     "output_type": "display_data"
    }
   ],
   "source": [
    "messages_users_smart.iloc[:, 0:12].stack().hist(bins=40)\n",
    "plt.xlabel('Суммарное количество всех сообщений за месяц\\nна одного пользователя')\n",
    "plt.ylabel('Частота')\n",
    "plt.title('Гистограмма распределения количества сообщений,\\nкоторые отправляет каждый пользователь каждый месяц\\nна тарифе \"smart\"')\n",
    "plt.show()\n",
    "messages_users_ultra.iloc[:, 0:12].stack().hist(bins=40)\n",
    "plt.xlabel('Суммарное количество всех сообщений за месяц\\nна одного пользователя')\n",
    "plt.ylabel('Частота')\n",
    "plt.title('Гистограмма распределения количества сообщений,\\nкоторые отправляет каждый пользователь каждый месяц\\nна тарифе \"ultra\"')\n",
    "plt.show()"
   ]
  },
  {
   "cell_type": "markdown",
   "metadata": {},
   "source": [
    "### Числовые значения распределений, представленных на гистограммах"
   ]
  },
  {
   "cell_type": "code",
   "execution_count": 102,
   "metadata": {},
   "outputs": [
    {
     "data": {
      "text/plain": [
       "min         0.000000\n",
       "max       143.000000\n",
       "mean       33.369058\n",
       "var       796.955256\n",
       "std        28.230396\n",
       "count    2230.000000\n",
       "dtype: float64"
      ]
     },
     "execution_count": 102,
     "metadata": {},
     "output_type": "execute_result"
    }
   ],
   "source": [
    "messages_users_smart.iloc[:, 0:12].stack().agg(['min', 'max', 'mean','var','std','count'])"
   ]
  },
  {
   "cell_type": "code",
   "execution_count": 103,
   "metadata": {},
   "outputs": [
    {
     "data": {
      "text/plain": [
       "min         0.000000\n",
       "max       224.000000\n",
       "mean       49.313387\n",
       "var      2285.417425\n",
       "std        47.806040\n",
       "count     986.000000\n",
       "dtype: float64"
      ]
     },
     "execution_count": 103,
     "metadata": {},
     "output_type": "execute_result"
    }
   ],
   "source": [
    "messages_users_ultra.iloc[:, 0:12].stack().agg(['min', 'max', 'mean','var','std','count'])"
   ]
  },
  {
   "cell_type": "code",
   "execution_count": 104,
   "metadata": {},
   "outputs": [
    {
     "name": "stdout",
     "output_type": "stream",
     "text": [
      "564 случая, когда 125 пользователей тарифа \"smart\" или 36 % подключившихся в 2018 году превысили лимит в 50 смс в месяц, входящих в пакет.\n"
     ]
    }
   ],
   "source": [
    "temp_smart_messages=messages_users_smart.iloc[:, 0:12].reset_index().melt(id_vars=['user_id'])\n",
    "print(temp_smart_messages[temp_smart_messages['value']>50]['user_id'].count(),'случая, когда', \\\n",
    "      temp_smart_messages[temp_smart_messages['value']>50]['user_id'].nunique(),'пользователей тарифа \"smart\" или',\\\n",
    "      round(temp_smart_messages[temp_smart_messages['value']>50]['user_id'].nunique()/temp_smart_messages['user_id'].nunique()*100),\\\n",
    "      '% подключившихся в 2018 году превысили лимит в 50 смс в месяц, входящих в пакет.')"
   ]
  },
  {
   "cell_type": "code",
   "execution_count": 105,
   "metadata": {},
   "outputs": [
    {
     "name": "stdout",
     "output_type": "stream",
     "text": [
      "49 пользователей или 14 % от всех подключившихся к тарифу \"smart\" вообще не отправляли смс в 2018 году\n"
     ]
    }
   ],
   "source": [
    "temp_smart_messages_0=temp_smart_messages.groupby('user_id').sum().reset_index()\n",
    "print(temp_smart_messages_0[temp_smart_messages_0['value']==0]['user_id'].count(),\\\n",
    "      'пользователей или', round(temp_smart_messages_0[temp_smart_messages_0['value']==0]['user_id'].count()/temp_smart_messages_0['user_id'].count()*100),\\\n",
    "      '% от всех подключившихся к тарифу \"smart\" вообще не отправляли смс в 2018 году')"
   ]
  },
  {
   "cell_type": "code",
   "execution_count": 106,
   "metadata": {},
   "outputs": [
    {
     "name": "stdout",
     "output_type": "stream",
     "text": [
      "25 пользователей или 17 % от всех подключившихся к тарифу \"ultra\" вообще не отправляли смс в 2018 году\n"
     ]
    }
   ],
   "source": [
    "temp_ultra_messages_0=messages_users_ultra.iloc[:, 0:12].reset_index().melt(id_vars=['user_id']).groupby('user_id').sum().reset_index()\n",
    "print(temp_ultra_messages_0[temp_ultra_messages_0['value']==0]['user_id'].count(),\\\n",
    "      'пользователей или', round(temp_ultra_messages_0[temp_ultra_messages_0['value']==0]['user_id'].count()/temp_ultra_messages_0['user_id'].count()*100),\\\n",
    "      '% от всех подключившихся к тарифу \"ultra\" вообще не отправляли смс в 2018 году')"
   ]
  },
  {
   "cell_type": "markdown",
   "metadata": {},
   "source": [
    "### Построим графики средних значений, меняющиxся по месяцам, для тарифов \"smart\" и \"ultra\""
   ]
  },
  {
   "cell_type": "code",
   "execution_count": 107,
   "metadata": {
    "scrolled": true
   },
   "outputs": [
    {
     "data": {
      "image/png": "[encoded data removed]",
      "text/plain": [
       "<Figure size 648x360 with 1 Axes>"
      ]
     },
     "metadata": {
      "needs_background": "light"
     },
     "output_type": "display_data"
    }
   ],
   "source": [
    "sum_table_messages.plot(x='months',y=['mean_messages_smart','mean_messages_ultra'],kind='line',grid = True, xlim=(0,13), figsize=(9,5),label=['smart','ultra'])\n",
    "plt.ylabel('Средние значения количества сообщений\\nотправляемых пользователями за месяц.')\n",
    "plt.xlabel('Месяцы')\n",
    "plt.title('Изменение средних ежемесячных значений\\nколичества сообщений, отправляемых пользователями,\\nв течении года на тарифах \"smart\" и \"ultra\"')\n",
    "plt.show()"
   ]
  },
  {
   "cell_type": "markdown",
   "metadata": {},
   "source": [
    "### На графиках видно, что\n",
    "1. Отправка сообщений не пользуется большим спросом - как видно на гистограммах, есть пользователи, которые в течении месяцев не пользуются данной услугой. Из всех подключившихся в 2018 году услугой смс-рассылки вообще не пользовались 14 и 17% клиентов тарифов \"smart\" и \"ultra\" соответственно.\n",
    "2. Средние значения числа сообщений у обоих тарифов растут в течении года - это связано с тем, что выборка взята по пользователям подключившимся в 2018 году - далеко не все из них подключились в первый месяц года.\n",
    "3. Пользователи тарифа \"ultra\" в среднем отправляют больше сообщений (к концу года число сообщений стремится к 60 в месяц), чем пользователи тарифа \"smart\"(не превышает 40 сообщений в месяц). Это, видимо, связано с тем, что в тариф \"ultra\" включено 1000 сообщений, а в тариф  \"smart\" только 50 сообщений, поэтому пользователи тарифа \"ultra\" ни в чем себе не отказывают, при этом в среднем отправляют в разы меньше сообщений, чем у них есть в распоряжении, а пользователи тарифа  \"smart\" стараются не превышать имеющееся ограничение в 50 сообщений. В то же время для 36% пользователей тарифа \"smart\" имели место случаи превышения лимита смс по тарифу в 50 смс."
   ]
  },
  {
   "cell_type": "markdown",
   "metadata": {},
   "source": [
    "### Построим гистограммы по объему интернет-трафика, который ежемесячно тратит каждый пользователь - для этого \"вытянем\" в один столбец данные таблиц \"internet_users_smart\" и \"internet_users_ultra\""
   ]
  },
  {
   "cell_type": "code",
   "execution_count": 108,
   "metadata": {
    "scrolled": true
   },
   "outputs": [
    {
     "data": {
      "image/png": "[encoded data removed]",
      "text/plain": [
       "<Figure size 432x288 with 1 Axes>"
      ]
     },
     "metadata": {
      "needs_background": "light"
     },
     "output_type": "display_data"
    },
    {
     "data": {
      "image/png": "[encoded data removed]",
      "text/plain": [
       "<Figure size 432x288 with 1 Axes>"
      ]
     },
     "metadata": {
      "needs_background": "light"
     },
     "output_type": "display_data"
    }
   ],
   "source": [
    "internet_users_smart.iloc[:, 0:12].stack().hist(bins=40)\n",
    "plt.xlabel('Суммарный объем всего интернет-трафика за месяц,\\nкоторый тратит один пользователь, МБ')\n",
    "plt.ylabel('Частота')\n",
    "plt.title('Гистограмма распределения объема интернет-трафика,\\nкоторый тратит каждый пользователь каждый месяц\\nна тарифе \"smart\"')\n",
    "plt.show()\n",
    "internet_users_ultra.iloc[:, 0:12].stack().hist(bins=40)\n",
    "plt.xlabel('Суммарный объем всего интернет-трафика за месяц,\\nкоторый тратит один пользователь, МБ')\n",
    "plt.ylabel('Частота')\n",
    "plt.title('Гистограмма распределения объема интернет-трафика,\\nкоторый тратит каждый пользователь каждый месяц\\nна тарифе \"ultra\"')\n",
    "plt.show()"
   ]
  },
  {
   "cell_type": "markdown",
   "metadata": {},
   "source": [
    "### Числовые значения распределений, представленных на гистограммах, ГБ"
   ]
  },
  {
   "cell_type": "code",
   "execution_count": 109,
   "metadata": {},
   "outputs": [
    {
     "data": {
      "text/plain": [
       "min          0.000000\n",
       "max         38.552450\n",
       "mean        16.201119\n",
       "var      34564.843481\n",
       "std          5.879187\n",
       "count        2.230000\n",
       "dtype: float64"
      ]
     },
     "execution_count": 109,
     "metadata": {},
     "output_type": "execute_result"
    }
   ],
   "source": [
    "internet_users_smart.iloc[:, 0:12].stack().agg(['min', 'max', 'mean','var','std','count'])/1000"
   ]
  },
  {
   "cell_type": "code",
   "execution_count": 110,
   "metadata": {},
   "outputs": [
    {
     "data": {
      "text/plain": [
       "min           0.000000\n",
       "max          49.745690\n",
       "mean         19.449060\n",
       "var      102032.129465\n",
       "std          10.101095\n",
       "count         0.986000\n",
       "dtype: float64"
      ]
     },
     "execution_count": 110,
     "metadata": {},
     "output_type": "execute_result"
    }
   ],
   "source": [
    "internet_users_ultra.iloc[:, 0:12].stack().agg(['min', 'max', 'mean','var','std','count'])/1000"
   ]
  },
  {
   "cell_type": "code",
   "execution_count": 111,
   "metadata": {},
   "outputs": [
    {
     "name": "stdout",
     "output_type": "stream",
     "text": [
      "1347 случая, когда 314 пользователей тарифа \"smart\" или 89 % подключившихся в 2018 году превысили лимит в 15 ГБ в месяц, входящих в пакет.\n"
     ]
    }
   ],
   "source": [
    "temp_smart_internet=internet_users_smart.iloc[:, 0:12].reset_index().melt(id_vars=['user_id'])\n",
    "print(temp_smart_internet[temp_smart_internet['value']>15000]['user_id'].count(),'случая, когда', \\\n",
    "      temp_smart_internet[temp_smart_internet['value']>15000]['user_id'].nunique(),'пользователей тарифа \"smart\" или',\\\n",
    "      round(temp_smart_internet[temp_smart_internet['value']>15000]['user_id'].nunique()/temp_smart_internet['user_id'].nunique()*100),\\\n",
    "      '% подключившихся в 2018 году превысили лимит в 15 ГБ в месяц, входящих в пакет.')"
   ]
  },
  {
   "cell_type": "code",
   "execution_count": 112,
   "metadata": {},
   "outputs": [
    {
     "name": "stdout",
     "output_type": "stream",
     "text": [
      "148 случая, когда 46 пользователей тарифа \"ultra\" или 31 % подключившихся в 2018 году превысили лимит в 30 ГБ в месяц, входящих в пакет.\n"
     ]
    }
   ],
   "source": [
    "temp_ultra_internet=internet_users_ultra.iloc[:, 0:12].reset_index().melt(id_vars=['user_id'])\n",
    "print(temp_ultra_internet[temp_ultra_internet['value']>30000]['user_id'].count(),'случая, когда', \\\n",
    "      temp_ultra_internet[temp_ultra_internet['value']>30000]['user_id'].nunique(),'пользователей тарифа \"ultra\" или',\\\n",
    "      round(temp_ultra_internet[temp_ultra_internet['value']>30000]['user_id'].nunique()/temp_ultra_internet['user_id'].nunique()*100),\\\n",
    "      '% подключившихся в 2018 году превысили лимит в 30 ГБ в месяц, входящих в пакет.')"
   ]
  },
  {
   "cell_type": "markdown",
   "metadata": {},
   "source": [
    "### Построим графики средних значений, меняющиxся по месяцам, для тарифов \"smart\" и \"ultra\""
   ]
  },
  {
   "cell_type": "code",
   "execution_count": 113,
   "metadata": {
    "scrolled": false
   },
   "outputs": [
    {
     "data": {
      "image/png": "[encoded data removed]",
      "text/plain": [
       "<Figure size 648x360 with 1 Axes>"
      ]
     },
     "metadata": {
      "needs_background": "light"
     },
     "output_type": "display_data"
    }
   ],
   "source": [
    "sum_table_internet.plot(x='months',y=['mean_internet_smart','mean_internet_ultra'],kind='line',grid = True, xlim=(0,13), figsize=(9,5),label=['smart','ultra'])\n",
    "plt.ylabel('Средние значения объема интернет-трафика,\\nкоторый тратят пользователи за месяц.')\n",
    "plt.xlabel('Месяцы')\n",
    "plt.title('Изменение средних ежемесячных значений объема интернет-трафика,\\nкоторый тратят пользователи в течении года\\nна тарифах \"smart\" и \"ultra\"')\n",
    "plt.show()"
   ]
  },
  {
   "cell_type": "markdown",
   "metadata": {},
   "source": [
    "### На графиках видно, что\n",
    "1. Средние значения объема интернет-трафика у обоих тарифов растут в течении года - это связано с тем, что выборка взята по пользователям подключившимся в 2018 году - далеко не все из них подключились в первый месяц года.\n",
    "2. Пользователи тарифа \"ultra\" в среднем тратят больше интернета (около 19 ГБ), чем пользователи тарифа \"smart\"(около 16 ГБ) - это видно и на гистограммах распределения объемов интернет-трафика. Очевидно, это связано с объемом интернета, входящим в тариф - 15 ГБ в тарифе \"smart\" и 30 гБ в тарифе \"ultra\"\n",
    "3. На обоих тарифах части пользователям не хватает включенного в тариф объема интернет-трафика, и они доплачивают за дополнительный. На тарифе \"smart\" почти все пользователи сталкивались с ситуацией нехватки интернет-трафика в рамках лимита в 15 ГБ(89%), а на тарифе \"ultra\" у 31% пользователей имели место случаи превышения лимита по интернет-трафику."
   ]
  },
  {
   "cell_type": "markdown",
   "metadata": {},
   "source": [
    " "
   ]
  },
  {
   "cell_type": "markdown",
   "metadata": {},
   "source": [
    "## Выводы\n",
    "1.  Были рассчитаны среднее количество, дисперсия и стандартное отклонение для минут разговора, числа сообщений и  объёма интернет-трафика по месяцам для тарифов \"smart\" и \"ultra\"\n",
    "2. Средние значения длительности звонков, количества сообщений и объема интернет-трафика у обоих тарифов растут в течении года - это связано с тем, что выборка взята по пользователям, подключившимся в 2018 году - далеко не все из них подключились в первый месяц года.\n",
    "3. Пользователи тарифа \"ultra\" в среднем разговаривают по телефону дольше (около 500 мин/мес против 400 мин/мес), отправляют больше сообщений (49 смс/мес против 33 смс/мес) и используют больший объем интернет-трафика (19 ГБ против 16 ГБ), чем пользователи тарифа \"smart\", при этом в случае звонков и смс лимит по тарифу оказывается сильно больше, чем требуется клиентам - в 2018 году максимальная месячная суммарная длительность звонков была 1578 мин, а максимальное число отправленных в месяц смс 224. Очевидно, что это связано с тем, что лимиты по тарифу \"ultra\" заметно больше, чем по тарифу \"smart\": 3000 минут разговора против 500, 1000 смс против 50 и 30 ГБ интернет-трафика против 50 ГБ. \n",
    "4. На обоих тарифах есть пользователи, которые месяцами вообще не используют тариф для звонков (\"smart\" - 0,6%, \"ultra\" - 4%) или рассылки смс (\"smart\" - 14%, \"ultra\" - 17%) - возможно, покупают для того, чтобы пользоваться только мобильным интернетом.\n",
    "5. На обоих тарифах части пользователям не хватает включенного в тариф объема интернет-трафика, и они доплачивают за дополнительный, однако на тарифе \"smart\" такая нехватка интернета имеет место в случае большего числа пользователей - 89% против 31% пользователей тарифа \"ultra\".\n",
    "6. Пользователи тарифа \"ultra\", хотя и пользуются услугами связи с бОльшим размахом, чем пользователи тарифа \"smart\", однако в среднем они используют объемы, входящих туда услуг, меньше, чем на 65% по интернет-трафику (19ГБ/30ГБ=0,63), на 17% по звонкам(500 мин/3000 мин = 0,17) и на 5% по смс (49/1000=0,05).\n",
    "7. Для 55% пользователей тарифа \"smart\" имели место случаи превышения лимита звонков по тарифу в 500 минут, для 36% - превышения лимита смс по тарифу в 50 смс, для 89% - нехватки интернет-трафика в рамках лимита в 15 ГБ.\n",
    "8. В феврале (месяц №2) на тарифе \"ultra\" был заметный спад в количестве звонков, сообщений и используемого интернет-трафика - возможно, в этом месяце случилась какая-нибудь техническая неполадка со связью, коснувшаяся пользователей данного тарифа."
   ]
  },
  {
   "cell_type": "markdown",
   "metadata": {},
   "source": [
    " "
   ]
  },
  {
   "cell_type": "markdown",
   "metadata": {},
   "source": [
    "## Шаг 4. Проверка гипотез<a id=\"step4\"></a> "
   ]
  },
  {
   "cell_type": "markdown",
   "metadata": {},
   "source": [
    "###  Проверим гипотезу: средняя выручка пользователей тарифов «Ультра» и «Смарт» различается.\n",
    "Соответственно \n",
    "\n",
    "    1. Н0: средняя выручка пользователей тарифов «Ультра» и «Смарт» не различается (равна)\n",
    "    2. Н1: средняя выручка пользователей тарифов «Ультра» и «Смарт» различается (не равна)"
   ]
  },
  {
   "cell_type": "markdown",
   "metadata": {},
   "source": [
    "### Разобъем таблицу \"every_month_profit\" на две по видам тарифа."
   ]
  },
  {
   "cell_type": "code",
   "execution_count": 114,
   "metadata": {},
   "outputs": [
    {
     "data": {
      "text/html": [
       "<div>\n",
       "<style scoped>\n",
       "    .dataframe tbody tr th:only-of-type {\n",
       "        vertical-align: middle;\n",
       "    }\n",
       "\n",
       "    .dataframe tbody tr th {\n",
       "        vertical-align: top;\n",
       "    }\n",
       "\n",
       "    .dataframe thead th {\n",
       "        text-align: right;\n",
       "    }\n",
       "</style>\n",
       "<table border=\"1\" class=\"dataframe\">\n",
       "  <thead>\n",
       "    <tr style=\"text-align: right;\">\n",
       "      <th></th>\n",
       "      <th>(sum, 1)</th>\n",
       "      <th>(sum, 2)</th>\n",
       "      <th>(sum, 3)</th>\n",
       "      <th>(sum, 4)</th>\n",
       "      <th>(sum, 5)</th>\n",
       "      <th>(sum, 6)</th>\n",
       "      <th>(sum, 7)</th>\n",
       "      <th>(sum, 8)</th>\n",
       "      <th>(sum, 9)</th>\n",
       "      <th>(sum, 10)</th>\n",
       "      <th>(sum, 11)</th>\n",
       "      <th>(sum, 12)</th>\n",
       "      <th>reg_month</th>\n",
       "      <th>churn_month</th>\n",
       "    </tr>\n",
       "    <tr>\n",
       "      <th>user_id</th>\n",
       "      <th></th>\n",
       "      <th></th>\n",
       "      <th></th>\n",
       "      <th></th>\n",
       "      <th></th>\n",
       "      <th></th>\n",
       "      <th></th>\n",
       "      <th></th>\n",
       "      <th></th>\n",
       "      <th></th>\n",
       "      <th></th>\n",
       "      <th></th>\n",
       "      <th></th>\n",
       "      <th></th>\n",
       "    </tr>\n",
       "  </thead>\n",
       "  <tbody>\n",
       "    <tr>\n",
       "      <th>1001</th>\n",
       "      <td>NaN</td>\n",
       "      <td>NaN</td>\n",
       "      <td>NaN</td>\n",
       "      <td>NaN</td>\n",
       "      <td>NaN</td>\n",
       "      <td>NaN</td>\n",
       "      <td>NaN</td>\n",
       "      <td>NaN</td>\n",
       "      <td>NaN</td>\n",
       "      <td>NaN</td>\n",
       "      <td>1163.87</td>\n",
       "      <td>550.00</td>\n",
       "      <td>11</td>\n",
       "      <td>12</td>\n",
       "    </tr>\n",
       "    <tr>\n",
       "      <th>1002</th>\n",
       "      <td>NaN</td>\n",
       "      <td>NaN</td>\n",
       "      <td>NaN</td>\n",
       "      <td>NaN</td>\n",
       "      <td>NaN</td>\n",
       "      <td>550.00</td>\n",
       "      <td>994.02</td>\n",
       "      <td>1541.85</td>\n",
       "      <td>816.22</td>\n",
       "      <td>550.00</td>\n",
       "      <td>1195.46</td>\n",
       "      <td>1100.75</td>\n",
       "      <td>6</td>\n",
       "      <td>12</td>\n",
       "    </tr>\n",
       "    <tr>\n",
       "      <th>1005</th>\n",
       "      <td>550.0</td>\n",
       "      <td>550.0</td>\n",
       "      <td>788.62</td>\n",
       "      <td>1060.6</td>\n",
       "      <td>746.86</td>\n",
       "      <td>782.71</td>\n",
       "      <td>677.29</td>\n",
       "      <td>852.37</td>\n",
       "      <td>556.00</td>\n",
       "      <td>1104.67</td>\n",
       "      <td>623.02</td>\n",
       "      <td>740.29</td>\n",
       "      <td>1</td>\n",
       "      <td>12</td>\n",
       "    </tr>\n",
       "  </tbody>\n",
       "</table>\n",
       "</div>"
      ],
      "text/plain": [
       "         (sum, 1)  (sum, 2)  (sum, 3)  (sum, 4)  (sum, 5)  (sum, 6)  (sum, 7)  \\\n",
       "user_id                                                                         \n",
       "1001          NaN       NaN       NaN       NaN       NaN       NaN       NaN   \n",
       "1002          NaN       NaN       NaN       NaN       NaN    550.00    994.02   \n",
       "1005        550.0     550.0    788.62    1060.6    746.86    782.71    677.29   \n",
       "\n",
       "         (sum, 8)  (sum, 9)  (sum, 10)  (sum, 11)  (sum, 12)  reg_month  \\\n",
       "user_id                                                                   \n",
       "1001          NaN       NaN        NaN    1163.87     550.00         11   \n",
       "1002      1541.85    816.22     550.00    1195.46    1100.75          6   \n",
       "1005       852.37    556.00    1104.67     623.02     740.29          1   \n",
       "\n",
       "         churn_month  \n",
       "user_id               \n",
       "1001              12  \n",
       "1002              12  \n",
       "1005              12  "
      ]
     },
     "execution_count": 114,
     "metadata": {},
     "output_type": "execute_result"
    }
   ],
   "source": [
    "profit_smart=every_month_profit.merge(smart_users, on='user_id', how='inner').set_index('user_id')\n",
    "profit_smart.head(3)"
   ]
  },
  {
   "cell_type": "code",
   "execution_count": 115,
   "metadata": {
    "scrolled": true
   },
   "outputs": [
    {
     "data": {
      "text/html": [
       "<div>\n",
       "<style scoped>\n",
       "    .dataframe tbody tr th:only-of-type {\n",
       "        vertical-align: middle;\n",
       "    }\n",
       "\n",
       "    .dataframe tbody tr th {\n",
       "        vertical-align: top;\n",
       "    }\n",
       "\n",
       "    .dataframe thead th {\n",
       "        text-align: right;\n",
       "    }\n",
       "</style>\n",
       "<table border=\"1\" class=\"dataframe\">\n",
       "  <thead>\n",
       "    <tr style=\"text-align: right;\">\n",
       "      <th></th>\n",
       "      <th>(sum, 1)</th>\n",
       "      <th>(sum, 2)</th>\n",
       "      <th>(sum, 3)</th>\n",
       "      <th>(sum, 4)</th>\n",
       "      <th>(sum, 5)</th>\n",
       "      <th>(sum, 6)</th>\n",
       "      <th>(sum, 7)</th>\n",
       "      <th>(sum, 8)</th>\n",
       "      <th>(sum, 9)</th>\n",
       "      <th>(sum, 10)</th>\n",
       "      <th>(sum, 11)</th>\n",
       "      <th>(sum, 12)</th>\n",
       "      <th>reg_month</th>\n",
       "      <th>churn_month</th>\n",
       "    </tr>\n",
       "    <tr>\n",
       "      <th>user_id</th>\n",
       "      <th></th>\n",
       "      <th></th>\n",
       "      <th></th>\n",
       "      <th></th>\n",
       "      <th></th>\n",
       "      <th></th>\n",
       "      <th></th>\n",
       "      <th></th>\n",
       "      <th></th>\n",
       "      <th></th>\n",
       "      <th></th>\n",
       "      <th></th>\n",
       "      <th></th>\n",
       "      <th></th>\n",
       "    </tr>\n",
       "  </thead>\n",
       "  <tbody>\n",
       "    <tr>\n",
       "      <th>1000</th>\n",
       "      <td>NaN</td>\n",
       "      <td>NaN</td>\n",
       "      <td>NaN</td>\n",
       "      <td>NaN</td>\n",
       "      <td>1950.0</td>\n",
       "      <td>1950.0</td>\n",
       "      <td>1950.0</td>\n",
       "      <td>1950.0</td>\n",
       "      <td>1950.0</td>\n",
       "      <td>1950.0</td>\n",
       "      <td>1950.0</td>\n",
       "      <td>1950.0</td>\n",
       "      <td>5</td>\n",
       "      <td>12</td>\n",
       "    </tr>\n",
       "    <tr>\n",
       "      <th>1003</th>\n",
       "      <td>NaN</td>\n",
       "      <td>NaN</td>\n",
       "      <td>NaN</td>\n",
       "      <td>NaN</td>\n",
       "      <td>NaN</td>\n",
       "      <td>NaN</td>\n",
       "      <td>NaN</td>\n",
       "      <td>1950.0</td>\n",
       "      <td>1950.0</td>\n",
       "      <td>1950.0</td>\n",
       "      <td>1950.0</td>\n",
       "      <td>1950.0</td>\n",
       "      <td>8</td>\n",
       "      <td>12</td>\n",
       "    </tr>\n",
       "    <tr>\n",
       "      <th>1004</th>\n",
       "      <td>NaN</td>\n",
       "      <td>NaN</td>\n",
       "      <td>NaN</td>\n",
       "      <td>NaN</td>\n",
       "      <td>1950.0</td>\n",
       "      <td>1950.0</td>\n",
       "      <td>1950.0</td>\n",
       "      <td>1950.0</td>\n",
       "      <td>1950.0</td>\n",
       "      <td>1950.0</td>\n",
       "      <td>1950.0</td>\n",
       "      <td>1950.0</td>\n",
       "      <td>5</td>\n",
       "      <td>12</td>\n",
       "    </tr>\n",
       "  </tbody>\n",
       "</table>\n",
       "</div>"
      ],
      "text/plain": [
       "         (sum, 1)  (sum, 2)  (sum, 3)  (sum, 4)  (sum, 5)  (sum, 6)  (sum, 7)  \\\n",
       "user_id                                                                         \n",
       "1000          NaN       NaN       NaN       NaN    1950.0    1950.0    1950.0   \n",
       "1003          NaN       NaN       NaN       NaN       NaN       NaN       NaN   \n",
       "1004          NaN       NaN       NaN       NaN    1950.0    1950.0    1950.0   \n",
       "\n",
       "         (sum, 8)  (sum, 9)  (sum, 10)  (sum, 11)  (sum, 12)  reg_month  \\\n",
       "user_id                                                                   \n",
       "1000       1950.0    1950.0     1950.0     1950.0     1950.0          5   \n",
       "1003       1950.0    1950.0     1950.0     1950.0     1950.0          8   \n",
       "1004       1950.0    1950.0     1950.0     1950.0     1950.0          5   \n",
       "\n",
       "         churn_month  \n",
       "user_id               \n",
       "1000              12  \n",
       "1003              12  \n",
       "1004              12  "
      ]
     },
     "execution_count": 115,
     "metadata": {},
     "output_type": "execute_result"
    }
   ],
   "source": [
    "profit_ultra=every_month_profit.merge(ultra_users, on='user_id', how='inner').set_index('user_id')\n",
    "profit_ultra.head(3)"
   ]
  },
  {
   "cell_type": "markdown",
   "metadata": {},
   "source": [
    "### \"Вытянем\" в один столбец данные таблиц \"profit_smart\" и \"profit_ultra\", чтоб создать выборки по всем месячным выручкам со всех клиентов тарифов"
   ]
  },
  {
   "cell_type": "code",
   "execution_count": 116,
   "metadata": {},
   "outputs": [
    {
     "data": {
      "text/plain": [
       "(2230,)"
      ]
     },
     "execution_count": 116,
     "metadata": {},
     "output_type": "execute_result"
    }
   ],
   "source": [
    "array_smart=profit_smart.iloc[:, 0:12].stack()\n",
    "array_smart.shape"
   ]
  },
  {
   "cell_type": "code",
   "execution_count": 117,
   "metadata": {
    "scrolled": false
   },
   "outputs": [
    {
     "data": {
      "text/plain": [
       "(986,)"
      ]
     },
     "execution_count": 117,
     "metadata": {},
     "output_type": "execute_result"
    }
   ],
   "source": [
    "array_ultra=profit_ultra.iloc[:, 0:12].stack()\n",
    "array_ultra.shape"
   ]
  },
  {
   "cell_type": "markdown",
   "metadata": {},
   "source": [
    "### Визуализируем распределение каждой выборки с помощью гистограмм и точечных диаграмм."
   ]
  },
  {
   "cell_type": "code",
   "execution_count": 118,
   "metadata": {
    "scrolled": true
   },
   "outputs": [
    {
     "name": "stderr",
     "output_type": "stream",
     "text": [
      "/opt/conda/lib/python3.9/site-packages/seaborn/distributions.py:2557: FutureWarning: `distplot` is a deprecated function and will be removed in a future version. Please adapt your code to use either `displot` (a figure-level function with similar flexibility) or `histplot` (an axes-level function for histograms).\n",
      "  warnings.warn(msg, FutureWarning)\n"
     ]
    },
    {
     "data": {
      "image/png": "[encoded data removed]",
      "text/plain": [
       "<Figure size 720x360 with 1 Axes>"
      ]
     },
     "metadata": {
      "needs_background": "light"
     },
     "output_type": "display_data"
    },
    {
     "name": "stderr",
     "output_type": "stream",
     "text": [
      "/opt/conda/lib/python3.9/site-packages/seaborn/distributions.py:2557: FutureWarning: `distplot` is a deprecated function and will be removed in a future version. Please adapt your code to use either `displot` (a figure-level function with similar flexibility) or `histplot` (an axes-level function for histograms).\n",
      "  warnings.warn(msg, FutureWarning)\n"
     ]
    },
    {
     "data": {
      "image/png": "[encoded data removed]",
      "text/plain": [
       "<Figure size 720x360 with 1 Axes>"
      ]
     },
     "metadata": {
      "needs_background": "light"
     },
     "output_type": "display_data"
    }
   ],
   "source": [
    "plt.figure(figsize=(10,5))\n",
    "sns.distplot(array_smart.tolist())\n",
    "plt.xlabel('Средняя выручка за месяц с 1 клиента')\n",
    "plt.ylabel('Плотность вероятности')\n",
    "plt.title('Гистограмма распределения средней ежемесячной выручки с клиентов на тарифе \"smart\"')\n",
    "plt.grid()\n",
    "plt.show()\n",
    "plt.figure(figsize=(10,5))\n",
    "sns.distplot(array_ultra.tolist())\n",
    "plt.xlabel('Средняя выручка за месяц с 1 клиента')\n",
    "plt.ylabel('Плотность вероятности')\n",
    "plt.title('Гистограмма распределения средней ежемесячной выручки с клиентов на тарифе \"ultra\"')\n",
    "plt.grid()\n",
    "plt.show()"
   ]
  },
  {
   "cell_type": "code",
   "execution_count": 119,
   "metadata": {},
   "outputs": [
    {
     "data": {
      "image/png": "[encoded data removed]",
      "text/plain": [
       "<Figure size 720x360 with 1 Axes>"
      ]
     },
     "metadata": {
      "needs_background": "light"
     },
     "output_type": "display_data"
    },
    {
     "data": {
      "image/png": "[encoded data removed]",
      "text/plain": [
       "<Figure size 720x360 with 1 Axes>"
      ]
     },
     "metadata": {
      "needs_background": "light"
     },
     "output_type": "display_data"
    }
   ],
   "source": [
    "x_values = pd.Series(range(0,len(array_smart)))\n",
    "plt.figure(figsize=(10,5))\n",
    "plt.scatter(x_values, array_smart) \n",
    "plt.ylabel('Выручка')\n",
    "plt.xlabel('Номер отсчета по порядку')\n",
    "plt.title('Средняя выручка за месяц с 1 клиента на тарифе \"smart\"')\n",
    "plt.grid()\n",
    "plt.show()\n",
    "x_values = pd.Series(range(0,len(array_ultra)))\n",
    "plt.figure(figsize=(10,5))\n",
    "plt.scatter(x_values, array_ultra) \n",
    "plt.ylabel('Выручка')\n",
    "plt.xlabel('Номер отсчета по порядку')\n",
    "plt.title('Средняя выручка за месяц с 1 клиента на тарифе \"ultra\"')\n",
    "plt.grid()\n",
    "plt.show()"
   ]
  },
  {
   "cell_type": "markdown",
   "metadata": {},
   "source": [
    "### Как видно на графиках, большинство пользователей тарифа \"ultra\" наибольшее количество месяцев вписывается в стоимость тарифа и не платит больше 1950 руб/месяц. Что касается тарифа \"smart\", то среди его пользователей число людей, вынужденных помимо стоимости тарифа в 550 руб доплачивать за превышение лимитов, больше. \n",
    "### Интересно также, что отдельные клиенты в отдельные месяцы приносили выручки больше на дешевом тарифе \"smart\"(более 5000 руб/мес), чем какие-либо клиенты на дорогом тарифе \"ultra\".\n",
    "### Гистограммы распределения выборок имеют вид, не соответствующий нормальному распределению, поэтому невозможно использовать параметрические критерии при оценке выборок."
   ]
  },
  {
   "cell_type": "markdown",
   "metadata": {},
   "source": [
    "### О том, что выборки не распределены нормально, говорит и проверка их с помощью критерия Шапиро-Уилка"
   ]
  },
  {
   "cell_type": "code",
   "execution_count": 120,
   "metadata": {
    "scrolled": false
   },
   "outputs": [
    {
     "name": "stdout",
     "output_type": "stream",
     "text": [
      "Проверка на нормальность распределения средней ежемесячной выручки с клиентов на тарифе \"smart\":\n",
      "p-значение:  7.006492321624085e-45\n",
      "Отвергаем нулевую гипотезу: распределение не нормально\n",
      "\n",
      "Проверка на нормальность распределения средней ежемесячной выручки с клиентов на тарифе \"ultra\":\n",
      "p-значение:  0.0\n",
      "Отвергаем нулевую гипотезу: распределение не нормально\n"
     ]
    }
   ],
   "source": [
    "alpha = 0.05  \n",
    "print('Проверка на нормальность распределения средней ежемесячной выручки с клиентов на тарифе \"smart\":')\n",
    "results = st.shapiro(array_smart)\n",
    "p_value = results[1]  \n",
    "\n",
    "print('p-значение: ', p_value)\n",
    "\n",
    "if p_value < alpha:\n",
    "    print('Отвергаем нулевую гипотезу: распределение не нормально')\n",
    "else:\n",
    "    print('Не получилось отвергнуть нулевую гипотезу, всё нормально')\n",
    "print()    \n",
    "print('Проверка на нормальность распределения средней ежемесячной выручки с клиентов на тарифе \"ultra\":')\n",
    "results = st.shapiro(array_ultra)\n",
    "p_value = results[1]  \n",
    "\n",
    "print('p-значение: ', p_value)\n",
    "\n",
    "if p_value < alpha:\n",
    "    print('Отвергаем нулевую гипотезу: распределение не нормально')\n",
    "else:\n",
    "    print('Не получилось отвергнуть нулевую гипотезу, всё нормально')"
   ]
  },
  {
   "cell_type": "markdown",
   "metadata": {},
   "source": [
    "### Для проверки гипотез используем непараметрический U-критерий Манна-Уитни.\n",
    "### Зададим уровень значимости в стандартные 5% "
   ]
  },
  {
   "cell_type": "code",
   "execution_count": 121,
   "metadata": {},
   "outputs": [
    {
     "name": "stdout",
     "output_type": "stream",
     "text": [
      "p-значение:  4.168309405361863e-222\n",
      "Отвергаем нулевую гипотезу: разница статистически значима\n"
     ]
    }
   ],
   "source": [
    "alpha = 0.05  \n",
    "results = st.mannwhitneyu(array_smart,array_ultra)\n",
    "\n",
    "print('p-значение: ', results.pvalue)\n",
    "\n",
    "if results.pvalue < alpha:\n",
    "    print('Отвергаем нулевую гипотезу: разница статистически значима')\n",
    "else:\n",
    "    print('Не получилось отвергнуть нулевую гипотезу, вывод о различии сделать нельзя') "
   ]
  },
  {
   "cell_type": "markdown",
   "metadata": {},
   "source": [
    "### Вероятность случайно получить разные значения средних для данных выборок минимальна 4*10^(-222) - следовательно, мы отвергаем нулевую гипотезу о том, что средняя выручка пользователей тарифов «Ультра» и «Смарт» не различается (равна)"
   ]
  },
  {
   "cell_type": "markdown",
   "metadata": {},
   "source": [
    "### Определим среднее и медиану, а также их доверительные интервалы для рассматриваемых выборок. Доверительные интервалы найдем с помощью метода bootstrap."
   ]
  },
  {
   "cell_type": "code",
   "execution_count": 122,
   "metadata": {},
   "outputs": [
    {
     "name": "stdout",
     "output_type": "stream",
     "text": [
      "Среднее значение выручки, тариф \"smart\": 1210.2\n",
      "Доверительный интервал для среднего, тариф \"smart\": [ 1178.4 , 1243.1 ]\n"
     ]
    }
   ],
   "source": [
    "print('Среднее значение выручки, тариф \"smart\":',array_smart.mean().round(1))\n",
    "data=(array_smart,)\n",
    "bootstrap_smart_mean = bootstrap(data, np.mean, confidence_level=0.95, random_state=1, method='percentile')\n",
    "print('Доверительный интервал для среднего, тариф \"smart\":','[',bootstrap_smart_mean.confidence_interval.low.round(1),\\\n",
    "      ',',bootstrap_smart_mean.confidence_interval.high.round(1),']')"
   ]
  },
  {
   "cell_type": "code",
   "execution_count": 123,
   "metadata": {},
   "outputs": [
    {
     "name": "stdout",
     "output_type": "stream",
     "text": [
      "Среднее значение выручки, тариф \"ultra\": 2062.4\n",
      "Доверительный интервал для среднего, тариф \"ultra\": [ 2040.5 , 2086.3 ]\n"
     ]
    }
   ],
   "source": [
    "print('Среднее значение выручки, тариф \"ultra\":',array_ultra.mean().round(1))\n",
    "data=(array_ultra,)\n",
    "bootstrap_ultra_mean = bootstrap(data, np.mean, confidence_level=0.95, random_state=1, method='percentile')\n",
    "print('Доверительный интервал для среднего, тариф \"ultra\":','[',bootstrap_ultra_mean.confidence_interval.low.round(1),\\\n",
    "      ',',bootstrap_ultra_mean.confidence_interval.high.round(1),']')"
   ]
  },
  {
   "cell_type": "code",
   "execution_count": 124,
   "metadata": {},
   "outputs": [
    {
     "name": "stdout",
     "output_type": "stream",
     "text": [
      "Медианное значение выручки, тариф \"smart\": 932.8\n",
      "Доверительный интервал для медианы, тариф \"smart\": [ 885.9 , 968.0 ]\n"
     ]
    }
   ],
   "source": [
    "print('Медианное значение выручки, тариф \"smart\":',array_smart.median().round(1))\n",
    "data=(array_smart,)\n",
    "bootstrap_smart_median = bootstrap(data, np.median, confidence_level=0.95, random_state=1, method='percentile')\n",
    "print('Доверительный интервал для медианы, тариф \"smart\":','[',bootstrap_smart_median.confidence_interval.low.round(1),\\\n",
    "      ',',bootstrap_smart_median.confidence_interval.high.round(1),']')"
   ]
  },
  {
   "cell_type": "code",
   "execution_count": 125,
   "metadata": {},
   "outputs": [
    {
     "name": "stdout",
     "output_type": "stream",
     "text": [
      "Медианное значение выручки, тариф \"ultra\": 1950.0\n",
      "Доверительный интервал для медианы, тариф \"ultra\": [ 1950.0 , 1950.0 ]\n"
     ]
    }
   ],
   "source": [
    "print('Медианное значение выручки, тариф \"ultra\":',array_ultra.median().round(1))\n",
    "data=(array_ultra,)\n",
    "bootstrap_ultra_median = bootstrap(data, np.median, confidence_level=0.95, random_state=1, method='percentile')\n",
    "print('Доверительный интервал для медианы, тариф \"ultra\":','[',bootstrap_ultra_median.confidence_interval.low.round(1),\\\n",
    "      ',',bootstrap_ultra_median.confidence_interval.high.round(1),']')"
   ]
  },
  {
   "cell_type": "markdown",
   "metadata": {},
   "source": [
    "### В результате проверки гипотезы нам пришлось отвергнуть гипотезу о том, что средняя выручка пользователей тарифов «Ультра» и «Смарт» не различается. Если судить по рассчитанным средним значениям, доверительные интервалы которых не пересекаются, выручка от тарифа «Ультра» оказывается почти в 2 раза больше, чем от тарифа «Смарт» , следовательно, тариф  «Ультра» приносит больше денег."
   ]
  },
  {
   "cell_type": "markdown",
   "metadata": {},
   "source": [
    "###  Проверим гипотезу: средняя выручка пользователей из Москвы отличается от выручки пользователей из других регионов.\n",
    "Соответственно \n",
    "\n",
    "    1. Н0: средняя выручка пользователей из Москвы равна средней выручке пользователей из других регионов\n",
    "    2. Н1: средняя выручка пользователей из Москвы не равна средней выручке пользователей из других регионов"
   ]
  },
  {
   "cell_type": "markdown",
   "metadata": {},
   "source": [
    "### Создадим две вспомогательные таблицы для пользователей из Москвы и из других городов."
   ]
  },
  {
   "cell_type": "code",
   "execution_count": 126,
   "metadata": {},
   "outputs": [],
   "source": [
    "Moscow_users=users[users['city']=='Москва']['user_id']\n",
    "other_cities_users=users[users['city']!='Москва']['user_id']"
   ]
  },
  {
   "cell_type": "markdown",
   "metadata": {},
   "source": [
    "### Разобъем таблицу \"every_month_profit\" на две по городам: пользователи из Москвы и из других городов."
   ]
  },
  {
   "cell_type": "code",
   "execution_count": 127,
   "metadata": {},
   "outputs": [
    {
     "data": {
      "text/plain": [
       "(99, 14)"
      ]
     },
     "execution_count": 127,
     "metadata": {},
     "output_type": "execute_result"
    }
   ],
   "source": [
    "profit_Moscow=every_month_profit.merge(Moscow_users, on='user_id', how='inner').set_index('user_id')\n",
    "profit_Moscow.shape"
   ]
  },
  {
   "cell_type": "code",
   "execution_count": 128,
   "metadata": {},
   "outputs": [
    {
     "data": {
      "text/plain": [
       "(401, 14)"
      ]
     },
     "execution_count": 128,
     "metadata": {},
     "output_type": "execute_result"
    }
   ],
   "source": [
    "profit_other_cities=every_month_profit.merge(other_cities_users, on='user_id', how='inner').set_index('user_id')\n",
    "profit_other_cities.shape"
   ]
  },
  {
   "cell_type": "markdown",
   "metadata": {},
   "source": [
    "### \"Вытянем\" в один столбец данные таблиц \"profit_Moscow\" и \"profit_other_cities\", чтоб создать выборки по всем месячным выручкам со всех клиентов "
   ]
  },
  {
   "cell_type": "code",
   "execution_count": 129,
   "metadata": {},
   "outputs": [
    {
     "data": {
      "text/plain": [
       "(611,)"
      ]
     },
     "execution_count": 129,
     "metadata": {},
     "output_type": "execute_result"
    }
   ],
   "source": [
    "array_Moscow=profit_Moscow.iloc[:, 0:12].stack()\n",
    "array_Moscow.shape"
   ]
  },
  {
   "cell_type": "code",
   "execution_count": 130,
   "metadata": {},
   "outputs": [
    {
     "data": {
      "text/plain": [
       "(2605,)"
      ]
     },
     "execution_count": 130,
     "metadata": {},
     "output_type": "execute_result"
    }
   ],
   "source": [
    "array_other_cities=profit_other_cities.iloc[:, 0:12].stack()\n",
    "array_other_cities.shape"
   ]
  },
  {
   "cell_type": "markdown",
   "metadata": {},
   "source": [
    "### Визуализируем распределение каждой выборки с помощью гистограмм и точечных диаграмм."
   ]
  },
  {
   "cell_type": "code",
   "execution_count": 131,
   "metadata": {},
   "outputs": [
    {
     "name": "stderr",
     "output_type": "stream",
     "text": [
      "/opt/conda/lib/python3.9/site-packages/seaborn/distributions.py:2557: FutureWarning: `distplot` is a deprecated function and will be removed in a future version. Please adapt your code to use either `displot` (a figure-level function with similar flexibility) or `histplot` (an axes-level function for histograms).\n",
      "  warnings.warn(msg, FutureWarning)\n"
     ]
    },
    {
     "data": {
      "image/png": "[encoded data removed]",
      "text/plain": [
       "<Figure size 720x360 with 1 Axes>"
      ]
     },
     "metadata": {
      "needs_background": "light"
     },
     "output_type": "display_data"
    },
    {
     "name": "stderr",
     "output_type": "stream",
     "text": [
      "/opt/conda/lib/python3.9/site-packages/seaborn/distributions.py:2557: FutureWarning: `distplot` is a deprecated function and will be removed in a future version. Please adapt your code to use either `displot` (a figure-level function with similar flexibility) or `histplot` (an axes-level function for histograms).\n",
      "  warnings.warn(msg, FutureWarning)\n"
     ]
    },
    {
     "data": {
      "image/png": "[encoded data removed]",
      "text/plain": [
       "<Figure size 720x360 with 1 Axes>"
      ]
     },
     "metadata": {
      "needs_background": "light"
     },
     "output_type": "display_data"
    }
   ],
   "source": [
    "plt.figure(figsize=(10,5))\n",
    "sns.distplot(array_Moscow.tolist())\n",
    "plt.xlabel('Средняя выручка за месяц с 1 клиента')\n",
    "plt.ylabel('Плотность вероятности')\n",
    "plt.title('Гистограмма распределения средней ежемесячной выручки с клиентов из Москвы')\n",
    "plt.grid()\n",
    "plt.show()\n",
    "plt.figure(figsize=(10,5))\n",
    "sns.distplot(array_other_cities.tolist())\n",
    "plt.xlabel('Средняя выручка за месяц с 1 клиента')\n",
    "plt.ylabel('Плотность вероятности')\n",
    "plt.title('Гистограмма распределения средней ежемесячной выручки с клиентов из других регионов')\n",
    "plt.grid()\n",
    "plt.show()"
   ]
  },
  {
   "cell_type": "code",
   "execution_count": 132,
   "metadata": {},
   "outputs": [
    {
     "data": {
      "image/png": "[encoded data removed]",
      "text/plain": [
       "<Figure size 720x360 with 1 Axes>"
      ]
     },
     "metadata": {
      "needs_background": "light"
     },
     "output_type": "display_data"
    },
    {
     "data": {
      "image/png": "[encoded data removed]",
      "text/plain": [
       "<Figure size 720x360 with 1 Axes>"
      ]
     },
     "metadata": {
      "needs_background": "light"
     },
     "output_type": "display_data"
    }
   ],
   "source": [
    "x_values = pd.Series(range(0,len(array_Moscow)))\n",
    "plt.figure(figsize=(10,5))\n",
    "plt.scatter(x_values, array_Moscow) \n",
    "plt.ylabel('Выручка')\n",
    "plt.xlabel('Номер отсчета по порядку')\n",
    "plt.title('Средняя выручка за месяц с 1 клиента из Москвы')\n",
    "plt.grid()\n",
    "plt.show()\n",
    "x_values = pd.Series(range(0,len(array_other_cities)))\n",
    "plt.figure(figsize=(10,5))\n",
    "plt.scatter(x_values, array_other_cities) \n",
    "plt.ylabel('Выручка')\n",
    "plt.xlabel('Номер отсчета по порядку')\n",
    "plt.title('Средняя выручка за месяц с 1 клиента из другого региона')\n",
    "plt.grid()\n",
    "plt.show()"
   ]
  },
  {
   "cell_type": "markdown",
   "metadata": {},
   "source": [
    "### Гистограммы распределения выборок имеют вид, не соответствующий нормальному распределению, поэтому невозможно использовать параметрические критерии при оценке выборок."
   ]
  },
  {
   "cell_type": "markdown",
   "metadata": {},
   "source": [
    "### О том, что выборки не распределены нормально, говорит и проверка их с помощью критерия Шапиро-Уилка"
   ]
  },
  {
   "cell_type": "code",
   "execution_count": 133,
   "metadata": {},
   "outputs": [
    {
     "name": "stdout",
     "output_type": "stream",
     "text": [
      "Проверка на нормальность распределения средней ежемесячной выручки с клиентов из Москвы:\n",
      "p-значение:  2.0975532882020303e-20\n",
      "Отвергаем нулевую гипотезу: распределение не нормально\n",
      "\n",
      "Проверка на нормальность распределения средней ежемесячной выручки с клиентов из других регионов:\n",
      "p-значение:  1.200114043801703e-40\n",
      "Отвергаем нулевую гипотезу: распределение не нормально\n"
     ]
    }
   ],
   "source": [
    "alpha = 0.05  \n",
    "print('Проверка на нормальность распределения средней ежемесячной выручки с клиентов из Москвы:')\n",
    "results = st.shapiro(array_Moscow)\n",
    "p_value = results[1]  \n",
    "\n",
    "print('p-значение: ', p_value)\n",
    "\n",
    "if p_value < alpha:\n",
    "    print('Отвергаем нулевую гипотезу: распределение не нормально')\n",
    "else:\n",
    "    print('Не получилось отвергнуть нулевую гипотезу, всё нормально')\n",
    "print()    \n",
    "print('Проверка на нормальность распределения средней ежемесячной выручки с клиентов из других регионов:')\n",
    "results = st.shapiro(array_other_cities)\n",
    "p_value = results[1]  \n",
    "\n",
    "print('p-значение: ', p_value)\n",
    "\n",
    "if p_value < alpha:\n",
    "    print('Отвергаем нулевую гипотезу: распределение не нормально')\n",
    "else:\n",
    "    print('Не получилось отвергнуть нулевую гипотезу, всё нормально')"
   ]
  },
  {
   "cell_type": "markdown",
   "metadata": {},
   "source": [
    "### Для проверки гипотез используем непараметрический U-критерий Манна-Уитни.\n",
    "### Зададим уровень значимости в стандартные 5% "
   ]
  },
  {
   "cell_type": "code",
   "execution_count": 134,
   "metadata": {},
   "outputs": [
    {
     "name": "stdout",
     "output_type": "stream",
     "text": [
      "p-значение:  0.2562275732990378\n",
      "Не получилось отвергнуть нулевую гипотезу, вывод о различии сделать нельзя\n"
     ]
    }
   ],
   "source": [
    "alpha = 0.05  \n",
    "results = st.mannwhitneyu(array_Moscow, array_other_cities)\n",
    "\n",
    "print('p-значение: ', results.pvalue)\n",
    "\n",
    "if results.pvalue < alpha:\n",
    "    print('Отвергаем нулевую гипотезу: разница статистически значима')\n",
    "else:\n",
    "    print('Не получилось отвергнуть нулевую гипотезу, вывод о различии сделать нельзя') "
   ]
  },
  {
   "cell_type": "markdown",
   "metadata": {},
   "source": [
    "### Вероятность случайно получить разные значения средних для данных выборок почти 26% (>5%) - следовательно, мы не можем отвергнуть нулевую гипотезу о том, что средняя выручка пользователей из Москвы равна средней выручке пользователей из других регионов"
   ]
  },
  {
   "cell_type": "markdown",
   "metadata": {},
   "source": [
    "### Определим среднее и медиану, а также их доверительные интервалы для рассматриваемых выборок. Доверительные интервалы найдем с помощью метода bootstrap."
   ]
  },
  {
   "cell_type": "code",
   "execution_count": 135,
   "metadata": {},
   "outputs": [
    {
     "name": "stdout",
     "output_type": "stream",
     "text": [
      "Среднее значение выручки, Москва: 1493.7\n",
      "Доверительный интервал для среднего, Москва: [ 1435.5 , 1552.7 ]\n"
     ]
    }
   ],
   "source": [
    "print('Среднее значение выручки, Москва:',array_Moscow.mean().round(1))\n",
    "data=(array_Moscow,)\n",
    "bootstrap_Moscow_mean = bootstrap(data, np.mean, confidence_level=0.95, random_state=1, method='percentile')\n",
    "print('Доверительный интервал для среднего, Москва:','[',bootstrap_Moscow_mean.confidence_interval.low.round(1),\\\n",
    "      ',',bootstrap_Moscow_mean.confidence_interval.high.round(1),']')"
   ]
  },
  {
   "cell_type": "code",
   "execution_count": 136,
   "metadata": {},
   "outputs": [
    {
     "name": "stdout",
     "output_type": "stream",
     "text": [
      "Среднее значение выручки, другие регионы: 1466.3\n",
      "Доверительный интервал для среднего, другие регионы: [ 1435.8 , 1496.3 ]\n"
     ]
    }
   ],
   "source": [
    "print('Среднее значение выручки, другие регионы:',array_other_cities.mean().round(1))\n",
    "data=(array_other_cities,)\n",
    "bootstrap_other_cities_mean = bootstrap(data, np.mean, confidence_level=0.95, random_state=1, method='percentile')\n",
    "print('Доверительный интервал для среднего, другие регионы:','[',bootstrap_other_cities_mean.confidence_interval.low.round(1),\\\n",
    "      ',',bootstrap_other_cities_mean.confidence_interval.high.round(1),']')"
   ]
  },
  {
   "cell_type": "code",
   "execution_count": 137,
   "metadata": {},
   "outputs": [
    {
     "name": "stdout",
     "output_type": "stream",
     "text": [
      "Медианное значение выручки, Москва: 1662.8\n",
      "Доверительный интервал для медианы, Москва: [ 1528.9 , 1881.2 ]\n"
     ]
    }
   ],
   "source": [
    "print('Медианное значение выручки, Москва:',array_Moscow.median().round(1))\n",
    "data=(array_Moscow,)\n",
    "bootstrap_Moscow_median = bootstrap(data, np.median, confidence_level=0.95, random_state=1, method='percentile')\n",
    "print('Доверительный интервал для медианы, Москва:','[',bootstrap_Moscow_median.confidence_interval.low.round(1),\\\n",
    "      ',',bootstrap_Moscow_median.confidence_interval.high.round(1),']')"
   ]
  },
  {
   "cell_type": "code",
   "execution_count": 138,
   "metadata": {},
   "outputs": [
    {
     "name": "stdout",
     "output_type": "stream",
     "text": [
      "Медианное значение выручки, другие регионы: 1488.3\n",
      "Доверительный интервал для медианы, другие регионы: [ 1407.1 , 1591.1 ]\n"
     ]
    }
   ],
   "source": [
    "print('Медианное значение выручки, другие регионы:',array_other_cities.median().round(1))\n",
    "data=(array_other_cities,)\n",
    "bootstrap_other_cities_median = bootstrap(data, np.median, confidence_level=0.95, random_state=1, method='percentile')\n",
    "print('Доверительный интервал для медианы, другие регионы:','[',bootstrap_other_cities_median.confidence_interval.low.round(1),\\\n",
    "      ',',bootstrap_other_cities_median.confidence_interval.high.round(1),']')"
   ]
  },
  {
   "cell_type": "markdown",
   "metadata": {},
   "source": [
    "### В результате проверки гипотезы мы не смогли отвергнуть гипотезу о том, что средняя выручка пользователей из Москвы равна средней выручке пользователей из других регионов. Рассчитанные средние значения, доверительные интервалы которых имеют пересечения, подтверждают этот вывод."
   ]
  },
  {
   "cell_type": "markdown",
   "metadata": {},
   "source": [
    "## Выводы\n",
    "1. В результате проверки гипотезы о средней выручке пользователей тарифов «Ультра» и «Смарт», проведенной с помощью U-критерия Манна-Уитни, была отвергнута нулевая гипотеза о том, что средняя выручка пользователей тарифов «Ультра» и «Смарт» не различается (равна). Если судить по рассчитанным средним значениям выручка от тарифа «Ультра» оказывается почти в 2 раза больше, чем от тарифа «Смарт» , таким образом с большой вероятностью, тариф  «Ультра» приносит больше денег.\n",
    "2. В результате проверки гипотезы о средней выручке пользователей из Москвы и из других регионов, проведенной с помощью U-критерия Манна-Уитни, не удалось отвергнуть нулевую гипотезу о том, что средняя выручка пользователей из Москвы равна средней выручке пользователей из других регионов."
   ]
  },
  {
   "cell_type": "markdown",
   "metadata": {},
   "source": [
    " "
   ]
  },
  {
   "cell_type": "markdown",
   "metadata": {},
   "source": [
    "## Шаг 5. Общий вывод<a id=\"step5\"></a> \n",
    "1. Для анализа было представлено 5 таблиц с данными по пользователям двух тарифов \"smart\" и \"ultra\":\n",
    "    1. \"calls\" - информация о дате и длительности звонков, совершенных пользователями\n",
    "    2. \"internet\" - данные о датах выхода в интернет и объеме использованного пользователями интернет-трафика\n",
    "    3. \"messages\" - информация об отправленных пользователями сообщениях\n",
    "    4. \"tariffs\" - условия тарифов \"smart\" и \"ultra\" \n",
    "    5. \"users\" - информация о пользователях тарифов\n",
    "2. В исходных таблицах хранится информация о действиях пользователей с 1 января по 31 декабря 2018 года - всего за 365 дней.\n",
    "3. Хотя в базе данных (таблице \"users\") содержится информация о 500 различных пользователях, не все пользователи пользуются одновременно всеми услугами:\n",
    "    1. данные по звонкам есть только для 492 пользователей\n",
    "    2. данные по смс есть только для 426 пользователей\n",
    "    3. данные по использованию интернета есть только для 497 пользователей\n",
    "4. В процессе подготовки данных был преобразован тип данных из object в datetime64 в столбцах таблиц:\n",
    "    1. 'call_date' в таблице \"calls\"\n",
    "    2. 'session_date' в таблице \"internet\"\n",
    "    3. 'message_date' в таблице \"messages\"\n",
    "    4.  \"churn_date\" и \"reg_date\" в таблице \"users\"\n",
    "5. В данных не было обнаружено очевидных ошибок, требующих корректировки\n",
    "6. В ходе выполнения проекта были сформированы таблицы со следующими данными для каждого пользователя:\n",
    "    1. Количество сделанных звонков и израсходованных минут разговора по месяцам (\"calls_users_stat\");\n",
    "    2. Количество отправленных сообщений по месяцам (\"messages_users_stat\");\n",
    "    3. Объем израсходованного интернет-трафика по месяцам (\"internet_users_stat\");\n",
    "    4. Помесячная выручка с каждого пользователя (\"every_month_profit\").\n",
    "7.  Были рассчитаны среднее количество, дисперсия и стандартное отклонение для минут разговора, числа сообщений и  объёма интернет-трафика по месяцам для тарифов \"smart\" и \"ultra\", построены гистограммы распределения ежемесячных затрат пользователей по данным показателям. Анализ графиков позволил сделать следующие выводы:\n",
    "    1. Средние значения длительности звонков, количества сообщений и объема интернет-трафика у обоих тарифов растут в течении года - это связано с тем, что выборка взята по пользователям, подключившимся в 2018 году - далеко не все из них подключились в первый месяц года.\n",
    "    2. Пользователи тарифа \"ultra\" в среднем разговаривают по телефону дольше (около 500 мин/мес против 400 мин/мес), отправляют больше сообщений (49 смс/мес против 33 смс/мес) и используют больший объем интернет-трафика (19 ГБ против 16 ГБ), чем пользователи тарифа \"smart\", при этом в случае звонков и смс лимит по тарифу оказывается сильно больше, чем требуется клиентам - в 2018 году максимальная месячная суммарная длительность звонков была 1578 мин, а максимальное число отправленных в месяц смс 224. Очевидно, что это связано с тем, что лимиты по тарифу \"ultra\" заметно больше, чем по тарифу \"smart\": 3000 минут разговора против 500, 1000 смс против 50 и 30 ГБ интернет-трафика против 50 ГБ. \n",
    "    3. На обоих тарифах есть пользователи, которые месяцами вообще не используют тариф для звонков (\"smart\" - 0,6%, \"ultra\" - 4%) или рассылки смс (\"smart\" - 14%, \"ultra\" - 17%) - возможно, покупают для того, чтобы пользоваться только мобильным интернетом.\n",
    "    4. На обоих тарифах части пользователям не хватает включенного в тариф объема интернет-трафика, и они доплачивают за дополнительный, однако на тарифе \"smart\" такая нехватка интернета имеет место в случае большего числа пользователей - 89% против 31% пользователей тарифа \"ultra\".\n",
    "    5. Пользователи тарифа \"ultra\", хотя и пользуются услугами связи с бОльшим размахом, чем пользователи тарифа \"smart\", однако в среднем они используют объемы, входящих туда услуг, меньше, чем на 65% по интернет-трафику (19ГБ/30ГБ=0,63), на 17% по звонкам(500 мин/3000 мин = 0,17) и на 5% по смс (49/1000=0,05).\n",
    "    6. Для 55% пользователей тарифа \"smart\" имели место случаи превышения лимита звонков по тарифу в 500 минут, для 36% - превышения лимита смс по тарифу в 50 смс, для 89% - нехватки интернет-трафика в рамках лимита в 15 ГБ.\n",
    "    7. В феврале (месяц №2) на тарифе \"ultra\" был заметный спад в количестве звонков, сообщений и используемого интернет-трафика - возможно, в этом месяце случилась какая-нибудь техническая неполадка со связью, коснувшаяся пользователей данного тарифа.       \n",
    "8. Была проверена гипотеза о средней выручке пользователей тарифов «Ультра» и «Смарт» - в результате нулевая гипотеза о том, что средняя выручка пользователей тарифов «Ультра» и «Смарт» не различается (равна) была отвергнута. Если судить по рассчитанным средним значениям выручка от тарифа «Ультра» оказывается почти в 2 раза больше, чем от тарифа «Смарт» , таким образом с большой вероятностью, тариф  «Ультра» приносит больше денег.\n",
    "9. Была проверена гипотеза о средней выручке пользователей из Москвы и из других регионов - в результате не удалось отвергнуть нулевую гипотезу о том, что средняя выручка пользователей из Москвы равна средней выручке пользователей из других регионов.\n",
    "10. Исходя из приведенного выше анализа можно рекомендовать коммерческому департаменту скорректировать рекламный бюджет в сторону тарифа «Ультра», т.к. он приносит больше денег компании и может в большей степени удовлетворить нужды пользователей тарифа «Смарт», выходящих за лимиты пакета."
   ]
  },
  {
   "cell_type": "code",
   "execution_count": null,
   "metadata": {},
   "outputs": [],
   "source": []
  }
 ],
 "metadata": {
  "ExecuteTimeLog": [
   {
    "duration": 3,
    "start_time": "2022-06-22T08:16:59.557Z"
   },
   {
    "duration": 1224,
    "start_time": "2022-06-22T08:25:32.982Z"
   },
   {
    "duration": 105,
    "start_time": "2022-06-22T08:50:33.339Z"
   },
   {
    "duration": 8,
    "start_time": "2022-06-22T08:50:49.584Z"
   },
   {
    "duration": 10,
    "start_time": "2022-06-22T08:51:08.764Z"
   },
   {
    "duration": 6,
    "start_time": "2022-06-22T08:53:09.671Z"
   },
   {
    "duration": 45,
    "start_time": "2022-06-22T08:54:57.099Z"
   },
   {
    "duration": 1431,
    "start_time": "2022-06-22T11:19:28.908Z"
   },
   {
    "duration": 625,
    "start_time": "2022-06-22T11:19:30.342Z"
   },
   {
    "duration": 159,
    "start_time": "2022-06-22T11:19:30.968Z"
   },
   {
    "duration": 534,
    "start_time": "2022-06-22T11:19:31.132Z"
   },
   {
    "duration": 117,
    "start_time": "2022-06-22T11:19:31.667Z"
   },
   {
    "duration": 209,
    "start_time": "2022-06-22T11:19:31.786Z"
   },
   {
    "duration": 116,
    "start_time": "2022-06-22T11:19:31.996Z"
   },
   {
    "duration": 86,
    "start_time": "2022-06-22T11:19:32.113Z"
   },
   {
    "duration": 94,
    "start_time": "2022-06-22T11:19:32.200Z"
   },
   {
    "duration": 20,
    "start_time": "2022-06-22T11:19:32.297Z"
   },
   {
    "duration": 7,
    "start_time": "2022-06-22T11:19:32.319Z"
   },
   {
    "duration": 38,
    "start_time": "2022-06-22T11:19:32.327Z"
   },
   {
    "duration": 15,
    "start_time": "2022-06-22T11:19:32.367Z"
   },
   {
    "duration": 5,
    "start_time": "2022-06-22T11:19:32.383Z"
   },
   {
    "duration": 34,
    "start_time": "2022-06-22T11:19:32.389Z"
   },
   {
    "duration": 30,
    "start_time": "2022-06-22T11:19:32.425Z"
   },
   {
    "duration": 29,
    "start_time": "2022-06-22T11:19:32.458Z"
   },
   {
    "duration": 26,
    "start_time": "2022-06-22T11:19:32.489Z"
   },
   {
    "duration": 42,
    "start_time": "2022-06-22T11:19:32.517Z"
   },
   {
    "duration": 14,
    "start_time": "2022-06-22T11:19:32.562Z"
   },
   {
    "duration": 4,
    "start_time": "2022-06-22T11:19:32.578Z"
   },
   {
    "duration": 7,
    "start_time": "2022-06-22T11:19:32.583Z"
   },
   {
    "duration": 11,
    "start_time": "2022-06-22T11:19:32.591Z"
   },
   {
    "duration": 29,
    "start_time": "2022-06-22T11:19:32.603Z"
   },
   {
    "duration": 29,
    "start_time": "2022-06-22T11:19:32.635Z"
   },
   {
    "duration": 6,
    "start_time": "2022-06-22T11:19:32.666Z"
   },
   {
    "duration": 153,
    "start_time": "2022-06-22T11:19:41.589Z"
   },
   {
    "duration": 13,
    "start_time": "2022-06-22T11:19:58.489Z"
   },
   {
    "duration": 46,
    "start_time": "2022-06-22T11:21:00.870Z"
   },
   {
    "duration": 23,
    "start_time": "2022-06-22T11:21:13.739Z"
   },
   {
    "duration": 59,
    "start_time": "2022-06-22T11:28:26.590Z"
   },
   {
    "duration": 39,
    "start_time": "2022-06-22T11:28:28.791Z"
   },
   {
    "duration": 36,
    "start_time": "2022-06-22T11:28:29.679Z"
   },
   {
    "duration": 21,
    "start_time": "2022-06-22T11:28:38.453Z"
   },
   {
    "duration": 38,
    "start_time": "2022-06-22T11:28:59.140Z"
   },
   {
    "duration": 9,
    "start_time": "2022-06-22T11:29:20.079Z"
   },
   {
    "duration": 3,
    "start_time": "2022-06-22T11:59:23.975Z"
   },
   {
    "duration": 193,
    "start_time": "2022-06-22T11:59:23.989Z"
   },
   {
    "duration": 167,
    "start_time": "2022-06-22T11:59:24.184Z"
   },
   {
    "duration": 176,
    "start_time": "2022-06-22T11:59:24.354Z"
   },
   {
    "duration": 89,
    "start_time": "2022-06-22T11:59:24.532Z"
   },
   {
    "duration": 109,
    "start_time": "2022-06-22T11:59:24.629Z"
   },
   {
    "duration": 72,
    "start_time": "2022-06-22T11:59:24.740Z"
   },
   {
    "duration": 26,
    "start_time": "2022-06-22T11:59:24.813Z"
   },
   {
    "duration": 46,
    "start_time": "2022-06-22T11:59:24.841Z"
   },
   {
    "duration": 17,
    "start_time": "2022-06-22T11:59:24.889Z"
   },
   {
    "duration": 7,
    "start_time": "2022-06-22T11:59:24.910Z"
   },
   {
    "duration": 22,
    "start_time": "2022-06-22T11:59:24.918Z"
   },
   {
    "duration": 21,
    "start_time": "2022-06-22T11:59:24.942Z"
   },
   {
    "duration": 8,
    "start_time": "2022-06-22T11:59:24.964Z"
   },
   {
    "duration": 43,
    "start_time": "2022-06-22T11:59:24.973Z"
   },
   {
    "duration": 29,
    "start_time": "2022-06-22T11:59:25.018Z"
   },
   {
    "duration": 24,
    "start_time": "2022-06-22T11:59:25.049Z"
   },
   {
    "duration": 15,
    "start_time": "2022-06-22T11:59:25.075Z"
   },
   {
    "duration": 44,
    "start_time": "2022-06-22T11:59:25.092Z"
   },
   {
    "duration": 22,
    "start_time": "2022-06-22T11:59:25.139Z"
   },
   {
    "duration": 8,
    "start_time": "2022-06-22T11:59:25.163Z"
   },
   {
    "duration": 7,
    "start_time": "2022-06-22T11:59:25.173Z"
   },
   {
    "duration": 13,
    "start_time": "2022-06-22T11:59:25.182Z"
   },
   {
    "duration": 8,
    "start_time": "2022-06-22T11:59:25.197Z"
   },
   {
    "duration": 27,
    "start_time": "2022-06-22T11:59:25.206Z"
   },
   {
    "duration": 9,
    "start_time": "2022-06-22T11:59:25.235Z"
   },
   {
    "duration": 129,
    "start_time": "2022-06-22T11:59:25.246Z"
   },
   {
    "duration": 53,
    "start_time": "2022-06-22T11:59:25.377Z"
   },
   {
    "duration": 56,
    "start_time": "2022-06-22T11:59:25.434Z"
   },
   {
    "duration": 45,
    "start_time": "2022-06-22T11:59:25.492Z"
   },
   {
    "duration": 35,
    "start_time": "2022-06-22T11:59:25.539Z"
   },
   {
    "duration": 22,
    "start_time": "2022-06-22T11:59:25.575Z"
   },
   {
    "duration": 33,
    "start_time": "2022-06-22T11:59:25.598Z"
   },
   {
    "duration": 82,
    "start_time": "2022-06-22T11:59:25.633Z"
   },
   {
    "duration": 35,
    "start_time": "2022-06-22T11:59:25.728Z"
   },
   {
    "duration": 33,
    "start_time": "2022-06-22T11:59:25.765Z"
   },
   {
    "duration": 30,
    "start_time": "2022-06-22T11:59:25.800Z"
   },
   {
    "duration": 20,
    "start_time": "2022-06-22T11:59:25.831Z"
   },
   {
    "duration": 27,
    "start_time": "2022-06-22T11:59:25.853Z"
   },
   {
    "duration": 20,
    "start_time": "2022-06-22T11:59:25.882Z"
   },
   {
    "duration": 49,
    "start_time": "2022-06-22T11:59:25.904Z"
   },
   {
    "duration": 27,
    "start_time": "2022-06-22T11:59:25.954Z"
   },
   {
    "duration": 25,
    "start_time": "2022-06-22T11:59:25.983Z"
   },
   {
    "duration": 146,
    "start_time": "2022-06-22T11:59:26.028Z"
   },
   {
    "duration": 31,
    "start_time": "2022-06-22T11:59:26.176Z"
   },
   {
    "duration": 71,
    "start_time": "2022-06-22T11:59:26.211Z"
   },
   {
    "duration": 24,
    "start_time": "2022-06-22T11:59:26.284Z"
   },
   {
    "duration": 9,
    "start_time": "2022-06-22T11:59:26.310Z"
   },
   {
    "duration": 45,
    "start_time": "2022-06-22T11:59:26.321Z"
   },
   {
    "duration": 3,
    "start_time": "2022-06-22T11:59:26.368Z"
   },
   {
    "duration": 65,
    "start_time": "2022-06-22T11:59:26.372Z"
   },
   {
    "duration": 33,
    "start_time": "2022-06-22T11:59:26.439Z"
   },
   {
    "duration": 2,
    "start_time": "2022-06-22T12:01:07.791Z"
   },
   {
    "duration": 59,
    "start_time": "2022-06-22T12:01:10.854Z"
   },
   {
    "duration": 44,
    "start_time": "2022-06-22T12:01:14.527Z"
   },
   {
    "duration": 1032,
    "start_time": "2022-06-22T12:04:27.634Z"
   },
   {
    "duration": 188,
    "start_time": "2022-06-22T12:04:28.668Z"
   },
   {
    "duration": 152,
    "start_time": "2022-06-22T12:04:28.858Z"
   },
   {
    "duration": 140,
    "start_time": "2022-06-22T12:04:29.012Z"
   },
   {
    "duration": 103,
    "start_time": "2022-06-22T12:04:29.154Z"
   },
   {
    "duration": 109,
    "start_time": "2022-06-22T12:04:29.259Z"
   },
   {
    "duration": 85,
    "start_time": "2022-06-22T12:04:29.369Z"
   },
   {
    "duration": 27,
    "start_time": "2022-06-22T12:04:29.456Z"
   },
   {
    "duration": 39,
    "start_time": "2022-06-22T12:04:29.484Z"
   },
   {
    "duration": 19,
    "start_time": "2022-06-22T12:04:29.526Z"
   },
   {
    "duration": 5,
    "start_time": "2022-06-22T12:04:29.547Z"
   },
   {
    "duration": 9,
    "start_time": "2022-06-22T12:04:29.553Z"
   },
   {
    "duration": 13,
    "start_time": "2022-06-22T12:04:29.563Z"
   },
   {
    "duration": 5,
    "start_time": "2022-06-22T12:04:29.577Z"
   },
   {
    "duration": 73,
    "start_time": "2022-06-22T12:04:29.583Z"
   },
   {
    "duration": 17,
    "start_time": "2022-06-22T12:04:29.658Z"
   },
   {
    "duration": 22,
    "start_time": "2022-06-22T12:04:29.677Z"
   },
   {
    "duration": 36,
    "start_time": "2022-06-22T12:04:29.701Z"
   },
   {
    "duration": 17,
    "start_time": "2022-06-22T12:04:29.739Z"
   },
   {
    "duration": 13,
    "start_time": "2022-06-22T12:04:29.757Z"
   },
   {
    "duration": 4,
    "start_time": "2022-06-22T12:04:29.772Z"
   },
   {
    "duration": 6,
    "start_time": "2022-06-22T12:04:29.777Z"
   },
   {
    "duration": 47,
    "start_time": "2022-06-22T12:04:29.785Z"
   },
   {
    "duration": 6,
    "start_time": "2022-06-22T12:04:29.834Z"
   },
   {
    "duration": 5,
    "start_time": "2022-06-22T12:04:29.841Z"
   },
   {
    "duration": 5,
    "start_time": "2022-06-22T12:04:29.848Z"
   },
   {
    "duration": 156,
    "start_time": "2022-06-22T12:04:29.855Z"
   },
   {
    "duration": 55,
    "start_time": "2022-06-22T12:04:30.014Z"
   },
   {
    "duration": 67,
    "start_time": "2022-06-22T12:04:30.070Z"
   },
   {
    "duration": 29,
    "start_time": "2022-06-22T12:04:30.139Z"
   },
   {
    "duration": 60,
    "start_time": "2022-06-22T12:04:30.170Z"
   },
   {
    "duration": 20,
    "start_time": "2022-06-22T12:04:30.232Z"
   },
   {
    "duration": 25,
    "start_time": "2022-06-22T12:04:30.254Z"
   },
   {
    "duration": 111,
    "start_time": "2022-06-22T12:04:30.281Z"
   },
   {
    "duration": 43,
    "start_time": "2022-06-22T12:04:30.394Z"
   },
   {
    "duration": 34,
    "start_time": "2022-06-22T12:04:30.439Z"
   },
   {
    "duration": 9,
    "start_time": "2022-06-22T12:04:30.474Z"
   },
   {
    "duration": 9,
    "start_time": "2022-06-22T12:04:30.484Z"
   },
   {
    "duration": 35,
    "start_time": "2022-06-22T12:04:30.494Z"
   },
   {
    "duration": 27,
    "start_time": "2022-06-22T12:04:30.531Z"
   },
   {
    "duration": 29,
    "start_time": "2022-06-22T12:04:30.559Z"
   },
   {
    "duration": 19,
    "start_time": "2022-06-22T12:04:30.590Z"
   },
   {
    "duration": 29,
    "start_time": "2022-06-22T12:04:30.610Z"
   },
   {
    "duration": 104,
    "start_time": "2022-06-22T12:04:30.641Z"
   },
   {
    "duration": 20,
    "start_time": "2022-06-22T12:04:30.746Z"
   },
   {
    "duration": 77,
    "start_time": "2022-06-22T12:06:51.458Z"
   },
   {
    "duration": 18,
    "start_time": "2022-06-22T12:06:54.589Z"
   },
   {
    "duration": 19,
    "start_time": "2022-06-22T12:07:09.199Z"
   },
   {
    "duration": 18,
    "start_time": "2022-06-22T12:07:16.625Z"
   },
   {
    "duration": 84,
    "start_time": "2022-06-22T12:08:42.410Z"
   },
   {
    "duration": 20,
    "start_time": "2022-06-22T12:08:49.872Z"
   },
   {
    "duration": 3,
    "start_time": "2022-06-22T12:12:08.419Z"
   },
   {
    "duration": 158,
    "start_time": "2022-06-22T12:12:08.439Z"
   },
   {
    "duration": 140,
    "start_time": "2022-06-22T12:12:08.600Z"
   },
   {
    "duration": 132,
    "start_time": "2022-06-22T12:12:08.741Z"
   },
   {
    "duration": 94,
    "start_time": "2022-06-22T12:12:08.874Z"
   },
   {
    "duration": 91,
    "start_time": "2022-06-22T12:12:08.970Z"
   },
   {
    "duration": 70,
    "start_time": "2022-06-22T12:12:09.062Z"
   },
   {
    "duration": 27,
    "start_time": "2022-06-22T12:12:09.134Z"
   },
   {
    "duration": 40,
    "start_time": "2022-06-22T12:12:09.163Z"
   },
   {
    "duration": 18,
    "start_time": "2022-06-22T12:12:09.205Z"
   },
   {
    "duration": 7,
    "start_time": "2022-06-22T12:12:09.224Z"
   },
   {
    "duration": 7,
    "start_time": "2022-06-22T12:12:09.232Z"
   },
   {
    "duration": 14,
    "start_time": "2022-06-22T12:12:09.241Z"
   },
   {
    "duration": 5,
    "start_time": "2022-06-22T12:12:09.256Z"
   },
   {
    "duration": 26,
    "start_time": "2022-06-22T12:12:09.264Z"
   },
   {
    "duration": 43,
    "start_time": "2022-06-22T12:12:09.292Z"
   },
   {
    "duration": 20,
    "start_time": "2022-06-22T12:12:09.337Z"
   },
   {
    "duration": 14,
    "start_time": "2022-06-22T12:12:09.358Z"
   },
   {
    "duration": 16,
    "start_time": "2022-06-22T12:12:09.373Z"
   },
   {
    "duration": 39,
    "start_time": "2022-06-22T12:12:09.391Z"
   },
   {
    "duration": 4,
    "start_time": "2022-06-22T12:12:09.432Z"
   },
   {
    "duration": 7,
    "start_time": "2022-06-22T12:12:09.437Z"
   },
   {
    "duration": 12,
    "start_time": "2022-06-22T12:12:09.445Z"
   },
   {
    "duration": 14,
    "start_time": "2022-06-22T12:12:09.458Z"
   },
   {
    "duration": 7,
    "start_time": "2022-06-22T12:12:09.473Z"
   },
   {
    "duration": 6,
    "start_time": "2022-06-22T12:12:09.481Z"
   },
   {
    "duration": 125,
    "start_time": "2022-06-22T12:12:09.489Z"
   },
   {
    "duration": 48,
    "start_time": "2022-06-22T12:12:09.616Z"
   },
   {
    "duration": 65,
    "start_time": "2022-06-22T12:12:09.666Z"
   },
   {
    "duration": 22,
    "start_time": "2022-06-22T12:12:09.733Z"
   },
   {
    "duration": 39,
    "start_time": "2022-06-22T12:12:09.757Z"
   },
   {
    "duration": 40,
    "start_time": "2022-06-22T12:12:09.798Z"
   },
   {
    "duration": 10,
    "start_time": "2022-06-22T12:12:09.840Z"
   },
   {
    "duration": 102,
    "start_time": "2022-06-22T12:12:09.852Z"
   },
   {
    "duration": 38,
    "start_time": "2022-06-22T12:12:09.957Z"
   },
   {
    "duration": 56,
    "start_time": "2022-06-22T12:12:09.997Z"
   },
   {
    "duration": 9,
    "start_time": "2022-06-22T12:12:10.055Z"
   },
   {
    "duration": 7,
    "start_time": "2022-06-22T12:12:10.065Z"
   },
   {
    "duration": 22,
    "start_time": "2022-06-22T12:12:10.074Z"
   },
   {
    "duration": 38,
    "start_time": "2022-06-22T12:12:10.098Z"
   },
   {
    "duration": 32,
    "start_time": "2022-06-22T12:12:10.138Z"
   },
   {
    "duration": 22,
    "start_time": "2022-06-22T12:12:10.173Z"
   },
   {
    "duration": 36,
    "start_time": "2022-06-22T12:12:10.197Z"
   },
   {
    "duration": 82,
    "start_time": "2022-06-22T12:12:27.403Z"
   },
   {
    "duration": 22,
    "start_time": "2022-06-22T12:12:29.873Z"
   },
   {
    "duration": 18,
    "start_time": "2022-06-22T12:12:39.934Z"
   },
   {
    "duration": 24,
    "start_time": "2022-06-22T12:12:44.740Z"
   },
   {
    "duration": 6,
    "start_time": "2022-06-22T12:17:15.145Z"
   },
   {
    "duration": 4,
    "start_time": "2022-06-22T12:18:06.517Z"
   },
   {
    "duration": 4,
    "start_time": "2022-06-22T12:18:20.348Z"
   },
   {
    "duration": 3,
    "start_time": "2022-06-22T12:18:36.802Z"
   },
   {
    "duration": 4,
    "start_time": "2022-06-22T12:19:05.740Z"
   },
   {
    "duration": 5,
    "start_time": "2022-06-22T12:19:20.998Z"
   },
   {
    "duration": 91,
    "start_time": "2022-06-22T12:19:37.004Z"
   },
   {
    "duration": 1098,
    "start_time": "2022-06-22T12:21:48.065Z"
   },
   {
    "duration": 195,
    "start_time": "2022-06-22T12:21:49.165Z"
   },
   {
    "duration": 191,
    "start_time": "2022-06-22T12:21:49.362Z"
   },
   {
    "duration": 154,
    "start_time": "2022-06-22T12:21:49.555Z"
   },
   {
    "duration": 102,
    "start_time": "2022-06-22T12:21:49.710Z"
   },
   {
    "duration": 141,
    "start_time": "2022-06-22T12:21:49.814Z"
   },
   {
    "duration": 82,
    "start_time": "2022-06-22T12:21:49.957Z"
   },
   {
    "duration": 26,
    "start_time": "2022-06-22T12:21:50.041Z"
   },
   {
    "duration": 38,
    "start_time": "2022-06-22T12:21:50.068Z"
   },
   {
    "duration": 21,
    "start_time": "2022-06-22T12:21:50.109Z"
   },
   {
    "duration": 6,
    "start_time": "2022-06-22T12:21:50.132Z"
   },
   {
    "duration": 13,
    "start_time": "2022-06-22T12:21:50.140Z"
   },
   {
    "duration": 20,
    "start_time": "2022-06-22T12:21:50.155Z"
   },
   {
    "duration": 5,
    "start_time": "2022-06-22T12:21:50.177Z"
   },
   {
    "duration": 59,
    "start_time": "2022-06-22T12:21:50.184Z"
   },
   {
    "duration": 18,
    "start_time": "2022-06-22T12:21:50.244Z"
   },
   {
    "duration": 21,
    "start_time": "2022-06-22T12:21:50.263Z"
   },
   {
    "duration": 15,
    "start_time": "2022-06-22T12:21:50.286Z"
   },
   {
    "duration": 41,
    "start_time": "2022-06-22T12:21:50.303Z"
   },
   {
    "duration": 14,
    "start_time": "2022-06-22T12:21:50.346Z"
   },
   {
    "duration": 12,
    "start_time": "2022-06-22T12:21:50.361Z"
   },
   {
    "duration": 8,
    "start_time": "2022-06-22T12:21:50.374Z"
   },
   {
    "duration": 16,
    "start_time": "2022-06-22T12:21:50.384Z"
   },
   {
    "duration": 34,
    "start_time": "2022-06-22T12:21:50.402Z"
   },
   {
    "duration": 12,
    "start_time": "2022-06-22T12:21:50.439Z"
   },
   {
    "duration": 6,
    "start_time": "2022-06-22T12:21:50.453Z"
   },
   {
    "duration": 155,
    "start_time": "2022-06-22T12:21:50.461Z"
   },
   {
    "duration": 67,
    "start_time": "2022-06-22T12:21:50.620Z"
   },
   {
    "duration": 76,
    "start_time": "2022-06-22T12:21:50.689Z"
   },
   {
    "duration": 30,
    "start_time": "2022-06-22T12:21:50.767Z"
   },
   {
    "duration": 59,
    "start_time": "2022-06-22T12:21:50.798Z"
   },
   {
    "duration": 19,
    "start_time": "2022-06-22T12:21:50.859Z"
   },
   {
    "duration": 10,
    "start_time": "2022-06-22T12:21:50.879Z"
   },
   {
    "duration": 114,
    "start_time": "2022-06-22T12:21:50.890Z"
   },
   {
    "duration": 45,
    "start_time": "2022-06-22T12:21:51.006Z"
   },
   {
    "duration": 35,
    "start_time": "2022-06-22T12:21:51.053Z"
   },
   {
    "duration": 8,
    "start_time": "2022-06-22T12:21:51.090Z"
   },
   {
    "duration": 5,
    "start_time": "2022-06-22T12:21:51.100Z"
   },
   {
    "duration": 17,
    "start_time": "2022-06-22T12:21:51.130Z"
   },
   {
    "duration": 40,
    "start_time": "2022-06-22T12:21:51.148Z"
   },
   {
    "duration": 36,
    "start_time": "2022-06-22T12:21:51.190Z"
   },
   {
    "duration": 19,
    "start_time": "2022-06-22T12:21:51.228Z"
   },
   {
    "duration": 22,
    "start_time": "2022-06-22T12:21:51.248Z"
   },
   {
    "duration": 105,
    "start_time": "2022-06-22T12:22:29.430Z"
   },
   {
    "duration": 19,
    "start_time": "2022-06-22T12:22:47.074Z"
   },
   {
    "duration": 8,
    "start_time": "2022-06-22T12:24:56.272Z"
   },
   {
    "duration": 23,
    "start_time": "2022-06-22T12:29:32.628Z"
   },
   {
    "duration": 89,
    "start_time": "2022-06-22T12:29:43.692Z"
   },
   {
    "duration": 19,
    "start_time": "2022-06-22T12:29:49.135Z"
   },
   {
    "duration": 4,
    "start_time": "2022-06-22T12:35:49.746Z"
   },
   {
    "duration": 180,
    "start_time": "2022-06-22T12:35:49.777Z"
   },
   {
    "duration": 136,
    "start_time": "2022-06-22T12:35:49.959Z"
   },
   {
    "duration": 143,
    "start_time": "2022-06-22T12:35:50.097Z"
   },
   {
    "duration": 99,
    "start_time": "2022-06-22T12:35:50.241Z"
   },
   {
    "duration": 92,
    "start_time": "2022-06-22T12:35:50.342Z"
   },
   {
    "duration": 74,
    "start_time": "2022-06-22T12:35:50.436Z"
   },
   {
    "duration": 29,
    "start_time": "2022-06-22T12:35:50.512Z"
   },
   {
    "duration": 38,
    "start_time": "2022-06-22T12:35:50.542Z"
   },
   {
    "duration": 18,
    "start_time": "2022-06-22T12:35:50.581Z"
   },
   {
    "duration": 6,
    "start_time": "2022-06-22T12:35:50.600Z"
   },
   {
    "duration": 10,
    "start_time": "2022-06-22T12:35:50.607Z"
   },
   {
    "duration": 20,
    "start_time": "2022-06-22T12:35:50.618Z"
   },
   {
    "duration": 6,
    "start_time": "2022-06-22T12:35:50.640Z"
   },
   {
    "duration": 32,
    "start_time": "2022-06-22T12:35:50.649Z"
   },
   {
    "duration": 18,
    "start_time": "2022-06-22T12:35:50.683Z"
   },
   {
    "duration": 40,
    "start_time": "2022-06-22T12:35:50.702Z"
   },
   {
    "duration": 15,
    "start_time": "2022-06-22T12:35:50.744Z"
   },
   {
    "duration": 17,
    "start_time": "2022-06-22T12:35:50.760Z"
   },
   {
    "duration": 13,
    "start_time": "2022-06-22T12:35:50.779Z"
   },
   {
    "duration": 4,
    "start_time": "2022-06-22T12:35:50.793Z"
   },
   {
    "duration": 31,
    "start_time": "2022-06-22T12:35:50.798Z"
   },
   {
    "duration": 12,
    "start_time": "2022-06-22T12:35:50.831Z"
   },
   {
    "duration": 6,
    "start_time": "2022-06-22T12:35:50.845Z"
   },
   {
    "duration": 7,
    "start_time": "2022-06-22T12:35:50.852Z"
   },
   {
    "duration": 6,
    "start_time": "2022-06-22T12:35:50.861Z"
   },
   {
    "duration": 125,
    "start_time": "2022-06-22T12:35:50.869Z"
   },
   {
    "duration": 53,
    "start_time": "2022-06-22T12:35:50.996Z"
   },
   {
    "duration": 52,
    "start_time": "2022-06-22T12:35:51.051Z"
   },
   {
    "duration": 31,
    "start_time": "2022-06-22T12:35:51.105Z"
   },
   {
    "duration": 32,
    "start_time": "2022-06-22T12:35:51.137Z"
   },
   {
    "duration": 24,
    "start_time": "2022-06-22T12:35:51.171Z"
   },
   {
    "duration": 36,
    "start_time": "2022-06-22T12:35:51.197Z"
   },
   {
    "duration": 75,
    "start_time": "2022-06-22T12:35:51.234Z"
   },
   {
    "duration": 43,
    "start_time": "2022-06-22T12:35:51.311Z"
   },
   {
    "duration": 31,
    "start_time": "2022-06-22T12:35:51.356Z"
   },
   {
    "duration": 7,
    "start_time": "2022-06-22T12:35:51.389Z"
   },
   {
    "duration": 31,
    "start_time": "2022-06-22T12:35:51.397Z"
   },
   {
    "duration": 38,
    "start_time": "2022-06-22T12:35:51.429Z"
   },
   {
    "duration": 41,
    "start_time": "2022-06-22T12:35:51.469Z"
   },
   {
    "duration": 40,
    "start_time": "2022-06-22T12:35:51.511Z"
   },
   {
    "duration": 24,
    "start_time": "2022-06-22T12:35:51.554Z"
   },
   {
    "duration": 27,
    "start_time": "2022-06-22T12:35:51.580Z"
   },
   {
    "duration": 85,
    "start_time": "2022-06-22T12:36:03.797Z"
   },
   {
    "duration": 20,
    "start_time": "2022-06-22T12:36:08.263Z"
   },
   {
    "duration": 3,
    "start_time": "2022-06-22T12:37:31.067Z"
   },
   {
    "duration": 172,
    "start_time": "2022-06-22T12:37:31.086Z"
   },
   {
    "duration": 145,
    "start_time": "2022-06-22T12:37:31.260Z"
   },
   {
    "duration": 145,
    "start_time": "2022-06-22T12:37:31.407Z"
   },
   {
    "duration": 94,
    "start_time": "2022-06-22T12:37:31.554Z"
   },
   {
    "duration": 93,
    "start_time": "2022-06-22T12:37:31.650Z"
   },
   {
    "duration": 72,
    "start_time": "2022-06-22T12:37:31.744Z"
   },
   {
    "duration": 25,
    "start_time": "2022-06-22T12:37:31.818Z"
   },
   {
    "duration": 38,
    "start_time": "2022-06-22T12:37:31.845Z"
   },
   {
    "duration": 18,
    "start_time": "2022-06-22T12:37:31.884Z"
   },
   {
    "duration": 6,
    "start_time": "2022-06-22T12:37:31.903Z"
   },
   {
    "duration": 21,
    "start_time": "2022-06-22T12:37:31.910Z"
   },
   {
    "duration": 15,
    "start_time": "2022-06-22T12:37:31.932Z"
   },
   {
    "duration": 11,
    "start_time": "2022-06-22T12:37:31.949Z"
   },
   {
    "duration": 29,
    "start_time": "2022-06-22T12:37:31.963Z"
   },
   {
    "duration": 37,
    "start_time": "2022-06-22T12:37:31.993Z"
   },
   {
    "duration": 22,
    "start_time": "2022-06-22T12:37:32.032Z"
   },
   {
    "duration": 17,
    "start_time": "2022-06-22T12:37:32.055Z"
   },
   {
    "duration": 21,
    "start_time": "2022-06-22T12:37:32.073Z"
   },
   {
    "duration": 40,
    "start_time": "2022-06-22T12:37:32.095Z"
   },
   {
    "duration": 5,
    "start_time": "2022-06-22T12:37:32.136Z"
   },
   {
    "duration": 8,
    "start_time": "2022-06-22T12:37:32.143Z"
   },
   {
    "duration": 16,
    "start_time": "2022-06-22T12:37:32.153Z"
   },
   {
    "duration": 11,
    "start_time": "2022-06-22T12:37:32.171Z"
   },
   {
    "duration": 9,
    "start_time": "2022-06-22T12:37:32.183Z"
   },
   {
    "duration": 6,
    "start_time": "2022-06-22T12:37:32.194Z"
   },
   {
    "duration": 134,
    "start_time": "2022-06-22T12:37:32.201Z"
   },
   {
    "duration": 50,
    "start_time": "2022-06-22T12:37:32.337Z"
   },
   {
    "duration": 64,
    "start_time": "2022-06-22T12:37:32.389Z"
   },
   {
    "duration": 23,
    "start_time": "2022-06-22T12:37:32.455Z"
   },
   {
    "duration": 50,
    "start_time": "2022-06-22T12:37:32.480Z"
   },
   {
    "duration": 22,
    "start_time": "2022-06-22T12:37:32.532Z"
   },
   {
    "duration": 11,
    "start_time": "2022-06-22T12:37:32.555Z"
   },
   {
    "duration": 103,
    "start_time": "2022-06-22T12:37:32.567Z"
   },
   {
    "duration": 34,
    "start_time": "2022-06-22T12:37:32.672Z"
   },
   {
    "duration": 51,
    "start_time": "2022-06-22T12:37:32.707Z"
   },
   {
    "duration": 7,
    "start_time": "2022-06-22T12:37:32.759Z"
   },
   {
    "duration": 10,
    "start_time": "2022-06-22T12:37:32.767Z"
   },
   {
    "duration": 19,
    "start_time": "2022-06-22T12:37:32.778Z"
   },
   {
    "duration": 31,
    "start_time": "2022-06-22T12:37:32.798Z"
   },
   {
    "duration": 25,
    "start_time": "2022-06-22T12:37:32.831Z"
   },
   {
    "duration": 19,
    "start_time": "2022-06-22T12:37:32.858Z"
   },
   {
    "duration": 17,
    "start_time": "2022-06-22T12:37:32.879Z"
   },
   {
    "duration": 18,
    "start_time": "2022-06-22T12:38:07.697Z"
   },
   {
    "duration": 20,
    "start_time": "2022-06-22T12:43:34.773Z"
   },
   {
    "duration": 18,
    "start_time": "2022-06-22T12:46:50.065Z"
   },
   {
    "duration": 12,
    "start_time": "2022-06-22T12:47:14.623Z"
   },
   {
    "duration": 2,
    "start_time": "2022-06-22T12:48:19.542Z"
   },
   {
    "duration": 158,
    "start_time": "2022-06-22T12:48:19.562Z"
   },
   {
    "duration": 134,
    "start_time": "2022-06-22T12:48:19.721Z"
   },
   {
    "duration": 133,
    "start_time": "2022-06-22T12:48:19.857Z"
   },
   {
    "duration": 97,
    "start_time": "2022-06-22T12:48:19.992Z"
   },
   {
    "duration": 86,
    "start_time": "2022-06-22T12:48:20.092Z"
   },
   {
    "duration": 79,
    "start_time": "2022-06-22T12:48:20.180Z"
   },
   {
    "duration": 25,
    "start_time": "2022-06-22T12:48:20.261Z"
   },
   {
    "duration": 39,
    "start_time": "2022-06-22T12:48:20.287Z"
   },
   {
    "duration": 19,
    "start_time": "2022-06-22T12:48:20.327Z"
   },
   {
    "duration": 5,
    "start_time": "2022-06-22T12:48:20.347Z"
   },
   {
    "duration": 9,
    "start_time": "2022-06-22T12:48:20.353Z"
   },
   {
    "duration": 12,
    "start_time": "2022-06-22T12:48:20.363Z"
   },
   {
    "duration": 9,
    "start_time": "2022-06-22T12:48:20.376Z"
   },
   {
    "duration": 57,
    "start_time": "2022-06-22T12:48:20.387Z"
   },
   {
    "duration": 15,
    "start_time": "2022-06-22T12:48:20.445Z"
   },
   {
    "duration": 21,
    "start_time": "2022-06-22T12:48:20.462Z"
   },
   {
    "duration": 14,
    "start_time": "2022-06-22T12:48:20.485Z"
   },
   {
    "duration": 18,
    "start_time": "2022-06-22T12:48:20.528Z"
   },
   {
    "duration": 13,
    "start_time": "2022-06-22T12:48:20.548Z"
   },
   {
    "duration": 4,
    "start_time": "2022-06-22T12:48:20.563Z"
   },
   {
    "duration": 11,
    "start_time": "2022-06-22T12:48:20.568Z"
   },
   {
    "duration": 13,
    "start_time": "2022-06-22T12:48:20.581Z"
   },
   {
    "duration": 6,
    "start_time": "2022-06-22T12:48:20.595Z"
   },
   {
    "duration": 27,
    "start_time": "2022-06-22T12:48:20.602Z"
   },
   {
    "duration": 5,
    "start_time": "2022-06-22T12:48:20.630Z"
   },
   {
    "duration": 114,
    "start_time": "2022-06-22T12:48:20.636Z"
   },
   {
    "duration": 48,
    "start_time": "2022-06-22T12:48:20.752Z"
   },
   {
    "duration": 62,
    "start_time": "2022-06-22T12:48:20.802Z"
   },
   {
    "duration": 26,
    "start_time": "2022-06-22T12:48:20.866Z"
   },
   {
    "duration": 44,
    "start_time": "2022-06-22T12:48:20.894Z"
   },
   {
    "duration": 21,
    "start_time": "2022-06-22T12:48:20.939Z"
   },
   {
    "duration": 10,
    "start_time": "2022-06-22T12:48:20.962Z"
   },
   {
    "duration": 104,
    "start_time": "2022-06-22T12:48:20.974Z"
   },
   {
    "duration": 49,
    "start_time": "2022-06-22T12:48:21.080Z"
   },
   {
    "duration": 34,
    "start_time": "2022-06-22T12:48:21.131Z"
   },
   {
    "duration": 10,
    "start_time": "2022-06-22T12:48:21.167Z"
   },
   {
    "duration": 21,
    "start_time": "2022-06-22T12:48:21.180Z"
   },
   {
    "duration": 19,
    "start_time": "2022-06-22T12:48:21.203Z"
   },
   {
    "duration": 15,
    "start_time": "2022-06-22T12:48:21.230Z"
   },
   {
    "duration": 27,
    "start_time": "2022-06-22T12:48:21.246Z"
   },
   {
    "duration": 19,
    "start_time": "2022-06-22T12:48:21.277Z"
   },
   {
    "duration": 46,
    "start_time": "2022-06-22T12:48:21.297Z"
   },
   {
    "duration": 106,
    "start_time": "2022-06-22T12:48:35.723Z"
   },
   {
    "duration": 22,
    "start_time": "2022-06-22T12:48:37.687Z"
   },
   {
    "duration": 15,
    "start_time": "2022-06-22T12:48:41.420Z"
   },
   {
    "duration": 15,
    "start_time": "2022-06-22T12:48:42.611Z"
   },
   {
    "duration": 2,
    "start_time": "2022-06-22T12:50:44.509Z"
   },
   {
    "duration": 164,
    "start_time": "2022-06-22T12:50:44.530Z"
   },
   {
    "duration": 147,
    "start_time": "2022-06-22T12:50:44.696Z"
   },
   {
    "duration": 145,
    "start_time": "2022-06-22T12:50:44.845Z"
   },
   {
    "duration": 104,
    "start_time": "2022-06-22T12:50:44.991Z"
   },
   {
    "duration": 94,
    "start_time": "2022-06-22T12:50:45.097Z"
   },
   {
    "duration": 76,
    "start_time": "2022-06-22T12:50:45.192Z"
   },
   {
    "duration": 25,
    "start_time": "2022-06-22T12:50:45.269Z"
   },
   {
    "duration": 38,
    "start_time": "2022-06-22T12:50:45.296Z"
   },
   {
    "duration": 20,
    "start_time": "2022-06-22T12:50:45.336Z"
   },
   {
    "duration": 5,
    "start_time": "2022-06-22T12:50:45.358Z"
   },
   {
    "duration": 9,
    "start_time": "2022-06-22T12:50:45.364Z"
   },
   {
    "duration": 11,
    "start_time": "2022-06-22T12:50:45.375Z"
   },
   {
    "duration": 7,
    "start_time": "2022-06-22T12:50:45.388Z"
   },
   {
    "duration": 57,
    "start_time": "2022-06-22T12:50:45.397Z"
   },
   {
    "duration": 16,
    "start_time": "2022-06-22T12:50:45.456Z"
   },
   {
    "duration": 30,
    "start_time": "2022-06-22T12:50:45.473Z"
   },
   {
    "duration": 39,
    "start_time": "2022-06-22T12:50:45.505Z"
   },
   {
    "duration": 26,
    "start_time": "2022-06-22T12:50:45.546Z"
   },
   {
    "duration": 19,
    "start_time": "2022-06-22T12:50:45.574Z"
   },
   {
    "duration": 6,
    "start_time": "2022-06-22T12:50:45.594Z"
   },
   {
    "duration": 6,
    "start_time": "2022-06-22T12:50:45.602Z"
   },
   {
    "duration": 42,
    "start_time": "2022-06-22T12:50:45.609Z"
   },
   {
    "duration": 6,
    "start_time": "2022-06-22T12:50:45.653Z"
   },
   {
    "duration": 5,
    "start_time": "2022-06-22T12:50:45.661Z"
   },
   {
    "duration": 5,
    "start_time": "2022-06-22T12:50:45.667Z"
   },
   {
    "duration": 113,
    "start_time": "2022-06-22T12:50:45.673Z"
   },
   {
    "duration": 66,
    "start_time": "2022-06-22T12:50:45.788Z"
   },
   {
    "duration": 41,
    "start_time": "2022-06-22T12:50:45.855Z"
   },
   {
    "duration": 32,
    "start_time": "2022-06-22T12:50:45.898Z"
   },
   {
    "duration": 43,
    "start_time": "2022-06-22T12:50:45.931Z"
   },
   {
    "duration": 20,
    "start_time": "2022-06-22T12:50:45.975Z"
   },
   {
    "duration": 9,
    "start_time": "2022-06-22T12:50:45.996Z"
   },
   {
    "duration": 86,
    "start_time": "2022-06-22T12:50:46.029Z"
   },
   {
    "duration": 48,
    "start_time": "2022-06-22T12:50:46.117Z"
   },
   {
    "duration": 36,
    "start_time": "2022-06-22T12:50:46.167Z"
   },
   {
    "duration": 30,
    "start_time": "2022-06-22T12:50:46.205Z"
   },
   {
    "duration": 27,
    "start_time": "2022-06-22T12:50:46.237Z"
   },
   {
    "duration": 22,
    "start_time": "2022-06-22T12:50:46.266Z"
   },
   {
    "duration": 23,
    "start_time": "2022-06-22T12:50:46.290Z"
   },
   {
    "duration": 46,
    "start_time": "2022-06-22T12:50:46.316Z"
   },
   {
    "duration": 24,
    "start_time": "2022-06-22T12:50:46.365Z"
   },
   {
    "duration": 21,
    "start_time": "2022-06-22T12:50:46.390Z"
   },
   {
    "duration": 141,
    "start_time": "2022-06-22T12:50:46.413Z"
   },
   {
    "duration": 24,
    "start_time": "2022-06-22T12:50:46.555Z"
   },
   {
    "duration": 24,
    "start_time": "2022-06-22T12:50:46.582Z"
   },
   {
    "duration": 31,
    "start_time": "2022-06-22T12:50:46.607Z"
   },
   {
    "duration": 4,
    "start_time": "2022-06-22T12:51:37.828Z"
   },
   {
    "duration": 19,
    "start_time": "2022-06-22T12:51:50.627Z"
   },
   {
    "duration": 3,
    "start_time": "2022-06-22T12:52:13.452Z"
   },
   {
    "duration": 63,
    "start_time": "2022-06-22T12:52:35.156Z"
   },
   {
    "duration": 21,
    "start_time": "2022-06-22T12:52:38.268Z"
   },
   {
    "duration": 1233,
    "start_time": "2022-06-23T06:46:34.856Z"
   },
   {
    "duration": 265,
    "start_time": "2022-06-23T06:46:36.091Z"
   },
   {
    "duration": 168,
    "start_time": "2022-06-23T06:46:36.358Z"
   },
   {
    "duration": 328,
    "start_time": "2022-06-23T06:46:36.528Z"
   },
   {
    "duration": 103,
    "start_time": "2022-06-23T06:46:36.857Z"
   },
   {
    "duration": 322,
    "start_time": "2022-06-23T06:46:36.962Z"
   },
   {
    "duration": 101,
    "start_time": "2022-06-23T06:46:37.285Z"
   },
   {
    "duration": 83,
    "start_time": "2022-06-23T06:46:37.388Z"
   },
   {
    "duration": 69,
    "start_time": "2022-06-23T06:46:37.473Z"
   },
   {
    "duration": 19,
    "start_time": "2022-06-23T06:46:37.546Z"
   },
   {
    "duration": 6,
    "start_time": "2022-06-23T06:46:37.566Z"
   },
   {
    "duration": 10,
    "start_time": "2022-06-23T06:46:37.574Z"
   },
   {
    "duration": 41,
    "start_time": "2022-06-23T06:46:37.586Z"
   },
   {
    "duration": 6,
    "start_time": "2022-06-23T06:46:37.629Z"
   },
   {
    "duration": 42,
    "start_time": "2022-06-23T06:46:37.637Z"
   },
   {
    "duration": 20,
    "start_time": "2022-06-23T06:46:37.681Z"
   },
   {
    "duration": 46,
    "start_time": "2022-06-23T06:46:37.703Z"
   },
   {
    "duration": 18,
    "start_time": "2022-06-23T06:46:37.751Z"
   },
   {
    "duration": 21,
    "start_time": "2022-06-23T06:46:37.771Z"
   },
   {
    "duration": 38,
    "start_time": "2022-06-23T06:46:37.793Z"
   },
   {
    "duration": 6,
    "start_time": "2022-06-23T06:46:37.833Z"
   },
   {
    "duration": 15,
    "start_time": "2022-06-23T06:46:37.841Z"
   },
   {
    "duration": 18,
    "start_time": "2022-06-23T06:46:37.859Z"
   },
   {
    "duration": 10,
    "start_time": "2022-06-23T06:46:37.878Z"
   },
   {
    "duration": 9,
    "start_time": "2022-06-23T06:46:37.889Z"
   },
   {
    "duration": 8,
    "start_time": "2022-06-23T06:46:37.899Z"
   },
   {
    "duration": 165,
    "start_time": "2022-06-23T06:46:37.909Z"
   },
   {
    "duration": 60,
    "start_time": "2022-06-23T06:46:38.080Z"
   },
   {
    "duration": 66,
    "start_time": "2022-06-23T06:46:38.142Z"
   },
   {
    "duration": 40,
    "start_time": "2022-06-23T06:46:38.210Z"
   },
   {
    "duration": 49,
    "start_time": "2022-06-23T06:46:38.251Z"
   },
   {
    "duration": 39,
    "start_time": "2022-06-23T06:46:38.302Z"
   },
   {
    "duration": 12,
    "start_time": "2022-06-23T06:46:38.343Z"
   },
   {
    "duration": 107,
    "start_time": "2022-06-23T06:46:38.357Z"
   },
   {
    "duration": 37,
    "start_time": "2022-06-23T06:46:38.465Z"
   },
   {
    "duration": 52,
    "start_time": "2022-06-23T06:46:38.504Z"
   },
   {
    "duration": 8,
    "start_time": "2022-06-23T06:46:38.557Z"
   },
   {
    "duration": 12,
    "start_time": "2022-06-23T06:46:38.567Z"
   },
   {
    "duration": 21,
    "start_time": "2022-06-23T06:46:38.581Z"
   },
   {
    "duration": 25,
    "start_time": "2022-06-23T06:46:38.603Z"
   },
   {
    "duration": 32,
    "start_time": "2022-06-23T06:46:38.630Z"
   },
   {
    "duration": 19,
    "start_time": "2022-06-23T06:46:38.664Z"
   },
   {
    "duration": 19,
    "start_time": "2022-06-23T06:46:38.684Z"
   },
   {
    "duration": 141,
    "start_time": "2022-06-23T06:46:38.705Z"
   },
   {
    "duration": 19,
    "start_time": "2022-06-23T06:46:38.848Z"
   },
   {
    "duration": 45,
    "start_time": "2022-06-23T06:46:38.868Z"
   },
   {
    "duration": 31,
    "start_time": "2022-06-23T06:46:38.914Z"
   },
   {
    "duration": 11,
    "start_time": "2022-06-23T06:46:38.947Z"
   },
   {
    "duration": 52,
    "start_time": "2022-06-23T06:46:38.960Z"
   },
   {
    "duration": 3,
    "start_time": "2022-06-23T06:46:39.014Z"
   },
   {
    "duration": 89,
    "start_time": "2022-06-23T06:46:39.018Z"
   },
   {
    "duration": 46,
    "start_time": "2022-06-23T06:46:39.109Z"
   },
   {
    "duration": 3,
    "start_time": "2022-06-23T06:49:31.084Z"
   },
   {
    "duration": 236,
    "start_time": "2022-06-23T06:49:31.106Z"
   },
   {
    "duration": 225,
    "start_time": "2022-06-23T06:49:31.344Z"
   },
   {
    "duration": 178,
    "start_time": "2022-06-23T06:49:31.570Z"
   },
   {
    "duration": 134,
    "start_time": "2022-06-23T06:49:31.750Z"
   },
   {
    "duration": 111,
    "start_time": "2022-06-23T06:49:31.886Z"
   },
   {
    "duration": 106,
    "start_time": "2022-06-23T06:49:31.999Z"
   },
   {
    "duration": 32,
    "start_time": "2022-06-23T06:49:32.107Z"
   },
   {
    "duration": 59,
    "start_time": "2022-06-23T06:49:32.141Z"
   },
   {
    "duration": 20,
    "start_time": "2022-06-23T06:49:32.201Z"
   },
   {
    "duration": 6,
    "start_time": "2022-06-23T06:49:32.224Z"
   },
   {
    "duration": 15,
    "start_time": "2022-06-23T06:49:32.233Z"
   },
   {
    "duration": 19,
    "start_time": "2022-06-23T06:49:32.250Z"
   },
   {
    "duration": 15,
    "start_time": "2022-06-23T06:49:32.271Z"
   },
   {
    "duration": 53,
    "start_time": "2022-06-23T06:49:32.288Z"
   },
   {
    "duration": 20,
    "start_time": "2022-06-23T06:49:32.343Z"
   },
   {
    "duration": 24,
    "start_time": "2022-06-23T06:49:32.364Z"
   },
   {
    "duration": 39,
    "start_time": "2022-06-23T06:49:32.390Z"
   },
   {
    "duration": 32,
    "start_time": "2022-06-23T06:49:32.431Z"
   },
   {
    "duration": 17,
    "start_time": "2022-06-23T06:49:32.465Z"
   },
   {
    "duration": 15,
    "start_time": "2022-06-23T06:49:32.484Z"
   },
   {
    "duration": 12,
    "start_time": "2022-06-23T06:49:32.501Z"
   },
   {
    "duration": 16,
    "start_time": "2022-06-23T06:49:32.514Z"
   },
   {
    "duration": 18,
    "start_time": "2022-06-23T06:49:32.532Z"
   },
   {
    "duration": 7,
    "start_time": "2022-06-23T06:49:32.551Z"
   },
   {
    "duration": 12,
    "start_time": "2022-06-23T06:49:32.560Z"
   },
   {
    "duration": 156,
    "start_time": "2022-06-23T06:49:32.574Z"
   },
   {
    "duration": 56,
    "start_time": "2022-06-23T06:49:32.732Z"
   },
   {
    "duration": 72,
    "start_time": "2022-06-23T06:49:32.792Z"
   },
   {
    "duration": 27,
    "start_time": "2022-06-23T06:49:32.866Z"
   },
   {
    "duration": 65,
    "start_time": "2022-06-23T06:49:32.895Z"
   },
   {
    "duration": 34,
    "start_time": "2022-06-23T06:49:32.963Z"
   },
   {
    "duration": 34,
    "start_time": "2022-06-23T06:49:32.999Z"
   },
   {
    "duration": 105,
    "start_time": "2022-06-23T06:49:33.035Z"
   },
   {
    "duration": 42,
    "start_time": "2022-06-23T06:49:33.142Z"
   },
   {
    "duration": 56,
    "start_time": "2022-06-23T06:49:33.186Z"
   },
   {
    "duration": 9,
    "start_time": "2022-06-23T06:49:33.244Z"
   },
   {
    "duration": 8,
    "start_time": "2022-06-23T06:49:33.257Z"
   },
   {
    "duration": 27,
    "start_time": "2022-06-23T06:49:33.267Z"
   },
   {
    "duration": 31,
    "start_time": "2022-06-23T06:49:33.296Z"
   },
   {
    "duration": 28,
    "start_time": "2022-06-23T06:49:33.329Z"
   },
   {
    "duration": 22,
    "start_time": "2022-06-23T06:49:33.359Z"
   },
   {
    "duration": 45,
    "start_time": "2022-06-23T06:49:33.383Z"
   },
   {
    "duration": 139,
    "start_time": "2022-06-23T06:49:33.430Z"
   },
   {
    "duration": 31,
    "start_time": "2022-06-23T06:49:33.571Z"
   },
   {
    "duration": 34,
    "start_time": "2022-06-23T06:49:33.604Z"
   },
   {
    "duration": 17,
    "start_time": "2022-06-23T06:49:33.640Z"
   },
   {
    "duration": 14,
    "start_time": "2022-06-23T06:49:33.659Z"
   },
   {
    "duration": 29,
    "start_time": "2022-06-23T06:49:33.675Z"
   },
   {
    "duration": 3,
    "start_time": "2022-06-23T06:49:33.705Z"
   },
   {
    "duration": 83,
    "start_time": "2022-06-23T06:49:33.710Z"
   },
   {
    "duration": 51,
    "start_time": "2022-06-23T06:49:33.796Z"
   },
   {
    "duration": 4,
    "start_time": "2022-06-23T06:49:33.849Z"
   },
   {
    "duration": 16,
    "start_time": "2022-06-23T06:49:33.854Z"
   },
   {
    "duration": 8,
    "start_time": "2022-06-23T06:49:33.871Z"
   },
   {
    "duration": 6,
    "start_time": "2022-06-23T06:49:33.880Z"
   },
   {
    "duration": 17,
    "start_time": "2022-06-23T06:49:33.887Z"
   },
   {
    "duration": 58,
    "start_time": "2022-06-23T06:49:33.905Z"
   },
   {
    "duration": 10,
    "start_time": "2022-06-23T06:49:33.965Z"
   },
   {
    "duration": 25,
    "start_time": "2022-06-23T06:49:33.977Z"
   },
   {
    "duration": 24,
    "start_time": "2022-06-23T06:49:34.004Z"
   },
   {
    "duration": 27,
    "start_time": "2022-06-23T06:49:34.029Z"
   },
   {
    "duration": 10,
    "start_time": "2022-06-23T06:49:34.058Z"
   },
   {
    "duration": 28,
    "start_time": "2022-06-23T06:49:34.069Z"
   },
   {
    "duration": 34,
    "start_time": "2022-06-23T06:49:34.099Z"
   },
   {
    "duration": 26,
    "start_time": "2022-06-23T06:49:34.134Z"
   },
   {
    "duration": 10,
    "start_time": "2022-06-23T06:49:34.161Z"
   },
   {
    "duration": 20,
    "start_time": "2022-06-23T06:49:34.173Z"
   },
   {
    "duration": 13,
    "start_time": "2022-06-23T06:49:34.195Z"
   },
   {
    "duration": 24,
    "start_time": "2022-06-23T06:49:34.210Z"
   },
   {
    "duration": 9,
    "start_time": "2022-06-23T06:49:34.236Z"
   },
   {
    "duration": 8,
    "start_time": "2022-06-23T06:49:34.246Z"
   },
   {
    "duration": 10,
    "start_time": "2022-06-23T06:49:34.256Z"
   },
   {
    "duration": 13,
    "start_time": "2022-06-23T06:49:34.268Z"
   },
   {
    "duration": 17,
    "start_time": "2022-06-23T06:49:34.282Z"
   },
   {
    "duration": 30,
    "start_time": "2022-06-23T06:49:34.301Z"
   },
   {
    "duration": 10,
    "start_time": "2022-06-23T06:49:34.333Z"
   },
   {
    "duration": 8,
    "start_time": "2022-06-23T06:49:34.345Z"
   },
   {
    "duration": 7,
    "start_time": "2022-06-23T06:49:34.355Z"
   },
   {
    "duration": 8,
    "start_time": "2022-06-23T06:49:34.363Z"
   },
   {
    "duration": 19,
    "start_time": "2022-06-23T06:49:34.375Z"
   },
   {
    "duration": 15,
    "start_time": "2022-06-23T06:49:34.397Z"
   },
   {
    "duration": 9,
    "start_time": "2022-06-23T06:49:34.429Z"
   },
   {
    "duration": 44,
    "start_time": "2022-06-23T06:49:34.440Z"
   },
   {
    "duration": 18,
    "start_time": "2022-06-23T06:49:34.486Z"
   },
   {
    "duration": 21,
    "start_time": "2022-06-23T06:49:34.507Z"
   },
   {
    "duration": 15,
    "start_time": "2022-06-23T06:49:34.530Z"
   },
   {
    "duration": 21,
    "start_time": "2022-06-23T06:49:34.548Z"
   },
   {
    "duration": 23,
    "start_time": "2022-06-23T06:49:34.571Z"
   },
   {
    "duration": 12,
    "start_time": "2022-06-23T06:49:34.596Z"
   },
   {
    "duration": 9,
    "start_time": "2022-06-23T06:49:34.610Z"
   },
   {
    "duration": 32,
    "start_time": "2022-06-23T06:49:34.621Z"
   },
   {
    "duration": 462,
    "start_time": "2022-06-23T06:49:34.656Z"
   },
   {
    "duration": 193,
    "start_time": "2022-06-23T06:49:35.120Z"
   },
   {
    "duration": 397,
    "start_time": "2022-06-23T06:49:35.315Z"
   },
   {
    "duration": 185,
    "start_time": "2022-06-23T06:49:35.714Z"
   },
   {
    "duration": 403,
    "start_time": "2022-06-23T06:49:35.901Z"
   },
   {
    "duration": 283,
    "start_time": "2022-06-23T06:49:36.306Z"
   },
   {
    "duration": 21,
    "start_time": "2022-06-23T06:49:36.591Z"
   },
   {
    "duration": 31,
    "start_time": "2022-06-23T06:49:36.614Z"
   },
   {
    "duration": 6,
    "start_time": "2022-06-23T06:49:36.646Z"
   },
   {
    "duration": 7,
    "start_time": "2022-06-23T06:49:36.654Z"
   },
   {
    "duration": 4,
    "start_time": "2022-06-23T06:49:36.662Z"
   },
   {
    "duration": 7,
    "start_time": "2022-06-23T06:49:36.667Z"
   },
   {
    "duration": 7,
    "start_time": "2022-06-23T06:49:36.675Z"
   },
   {
    "duration": 9,
    "start_time": "2022-06-23T06:49:36.683Z"
   },
   {
    "duration": 36,
    "start_time": "2022-06-23T06:49:36.693Z"
   },
   {
    "duration": 9,
    "start_time": "2022-06-23T06:49:36.731Z"
   },
   {
    "duration": 24,
    "start_time": "2022-06-23T06:49:36.741Z"
   },
   {
    "duration": 16,
    "start_time": "2022-06-23T06:49:36.767Z"
   },
   {
    "duration": 39,
    "start_time": "2022-06-23T06:49:36.784Z"
   },
   {
    "duration": 10,
    "start_time": "2022-06-23T06:49:36.825Z"
   },
   {
    "duration": 5,
    "start_time": "2022-06-23T06:49:36.837Z"
   },
   {
    "duration": 12,
    "start_time": "2022-06-23T06:49:36.844Z"
   },
   {
    "duration": 9,
    "start_time": "2022-06-23T06:49:36.857Z"
   },
   {
    "duration": 9,
    "start_time": "2022-06-23T06:49:36.867Z"
   },
   {
    "duration": 9,
    "start_time": "2022-06-23T07:03:41.132Z"
   },
   {
    "duration": 8,
    "start_time": "2022-06-23T07:04:16.822Z"
   },
   {
    "duration": 8,
    "start_time": "2022-06-23T07:04:46.030Z"
   },
   {
    "duration": 99,
    "start_time": "2022-06-23T07:05:13.991Z"
   },
   {
    "duration": 8,
    "start_time": "2022-06-23T07:06:17.294Z"
   },
   {
    "duration": 9,
    "start_time": "2022-06-23T07:06:41.887Z"
   },
   {
    "duration": 9,
    "start_time": "2022-06-23T07:07:44.294Z"
   },
   {
    "duration": 10,
    "start_time": "2022-06-23T07:10:09.113Z"
   },
   {
    "duration": 9,
    "start_time": "2022-06-23T07:10:59.796Z"
   },
   {
    "duration": 12,
    "start_time": "2022-06-23T07:11:10.338Z"
   },
   {
    "duration": 12,
    "start_time": "2022-06-23T07:11:31.906Z"
   },
   {
    "duration": 8,
    "start_time": "2022-06-23T07:11:53.275Z"
   },
   {
    "duration": 10,
    "start_time": "2022-06-23T07:12:56.795Z"
   },
   {
    "duration": 11,
    "start_time": "2022-06-23T07:14:12.037Z"
   },
   {
    "duration": 10,
    "start_time": "2022-06-23T07:14:22.412Z"
   },
   {
    "duration": 10,
    "start_time": "2022-06-23T07:14:30.397Z"
   },
   {
    "duration": 11,
    "start_time": "2022-06-23T07:14:44.780Z"
   },
   {
    "duration": 10,
    "start_time": "2022-06-23T07:14:57.242Z"
   },
   {
    "duration": 18,
    "start_time": "2022-06-23T07:17:00.407Z"
   },
   {
    "duration": 16,
    "start_time": "2022-06-23T07:17:13.791Z"
   },
   {
    "duration": 18,
    "start_time": "2022-06-23T07:17:19.095Z"
   },
   {
    "duration": 7,
    "start_time": "2022-06-23T07:17:47.297Z"
   },
   {
    "duration": 27,
    "start_time": "2022-06-23T07:20:29.408Z"
   },
   {
    "duration": 6,
    "start_time": "2022-06-23T07:20:47.487Z"
   },
   {
    "duration": 10,
    "start_time": "2022-06-23T07:21:24.642Z"
   },
   {
    "duration": 11,
    "start_time": "2022-06-23T07:21:32.008Z"
   },
   {
    "duration": 8,
    "start_time": "2022-06-23T07:21:42.938Z"
   },
   {
    "duration": 34,
    "start_time": "2022-06-23T07:22:35.282Z"
   },
   {
    "duration": 18,
    "start_time": "2022-06-23T07:27:28.878Z"
   },
   {
    "duration": 13,
    "start_time": "2022-06-23T07:27:40.004Z"
   },
   {
    "duration": 28,
    "start_time": "2022-06-23T07:27:49.120Z"
   },
   {
    "duration": 10,
    "start_time": "2022-06-23T07:28:20.322Z"
   },
   {
    "duration": 14,
    "start_time": "2022-06-23T07:28:40.966Z"
   },
   {
    "duration": 17,
    "start_time": "2022-06-23T07:28:54.647Z"
   },
   {
    "duration": 16,
    "start_time": "2022-06-23T07:30:54.585Z"
   },
   {
    "duration": 22,
    "start_time": "2022-06-23T07:32:15.147Z"
   },
   {
    "duration": 19,
    "start_time": "2022-06-23T07:32:39.265Z"
   },
   {
    "duration": 13,
    "start_time": "2022-06-23T07:34:03.554Z"
   },
   {
    "duration": 16,
    "start_time": "2022-06-23T07:34:35.332Z"
   },
   {
    "duration": 10,
    "start_time": "2022-06-23T07:34:58.954Z"
   },
   {
    "duration": 18,
    "start_time": "2022-06-23T07:36:33.196Z"
   },
   {
    "duration": 14,
    "start_time": "2022-06-23T07:36:49.284Z"
   },
   {
    "duration": 13,
    "start_time": "2022-06-23T07:37:14.463Z"
   },
   {
    "duration": 12,
    "start_time": "2022-06-23T07:38:08.469Z"
   },
   {
    "duration": 9,
    "start_time": "2022-06-23T07:41:17.518Z"
   },
   {
    "duration": 9,
    "start_time": "2022-06-23T07:41:29.063Z"
   },
   {
    "duration": 68,
    "start_time": "2022-06-23T07:46:05.926Z"
   },
   {
    "duration": 12,
    "start_time": "2022-06-23T07:46:20.651Z"
   },
   {
    "duration": 11,
    "start_time": "2022-06-23T07:46:44.890Z"
   },
   {
    "duration": 15,
    "start_time": "2022-06-23T07:47:54.257Z"
   },
   {
    "duration": 13,
    "start_time": "2022-06-23T07:51:53.406Z"
   },
   {
    "duration": 11,
    "start_time": "2022-06-23T07:52:48.751Z"
   },
   {
    "duration": 34,
    "start_time": "2022-06-23T07:53:50.025Z"
   },
   {
    "duration": 12,
    "start_time": "2022-06-23T07:55:09.666Z"
   },
   {
    "duration": 15,
    "start_time": "2022-06-23T07:56:32.386Z"
   },
   {
    "duration": 4,
    "start_time": "2022-06-23T07:58:36.488Z"
   },
   {
    "duration": 14,
    "start_time": "2022-06-23T08:07:50.769Z"
   },
   {
    "duration": 10,
    "start_time": "2022-06-23T08:07:51.715Z"
   },
   {
    "duration": 17,
    "start_time": "2022-06-23T08:09:11.212Z"
   },
   {
    "duration": 14,
    "start_time": "2022-06-23T08:10:11.678Z"
   },
   {
    "duration": 4,
    "start_time": "2022-06-23T08:10:49.591Z"
   },
   {
    "duration": 5,
    "start_time": "2022-06-23T08:10:57.543Z"
   },
   {
    "duration": 14,
    "start_time": "2022-06-23T08:11:16.951Z"
   },
   {
    "duration": 15,
    "start_time": "2022-06-23T08:11:38.117Z"
   },
   {
    "duration": 8,
    "start_time": "2022-06-23T08:13:34.121Z"
   },
   {
    "duration": 19,
    "start_time": "2022-06-23T08:14:33.428Z"
   },
   {
    "duration": 16,
    "start_time": "2022-06-23T08:15:40.590Z"
   },
   {
    "duration": 18,
    "start_time": "2022-06-23T08:16:11.943Z"
   },
   {
    "duration": 17,
    "start_time": "2022-06-23T08:17:10.470Z"
   },
   {
    "duration": 15,
    "start_time": "2022-06-23T08:17:23.583Z"
   },
   {
    "duration": 15,
    "start_time": "2022-06-23T08:17:45.439Z"
   },
   {
    "duration": 12,
    "start_time": "2022-06-23T08:17:59.491Z"
   },
   {
    "duration": 20,
    "start_time": "2022-06-23T08:19:06.585Z"
   },
   {
    "duration": 58,
    "start_time": "2022-06-23T08:21:51.035Z"
   },
   {
    "duration": 13,
    "start_time": "2022-06-23T08:21:57.377Z"
   },
   {
    "duration": 20,
    "start_time": "2022-06-23T08:22:30.428Z"
   },
   {
    "duration": 15,
    "start_time": "2022-06-23T08:24:31.495Z"
   },
   {
    "duration": 5,
    "start_time": "2022-06-23T08:24:45.155Z"
   },
   {
    "duration": 16,
    "start_time": "2022-06-23T08:26:06.439Z"
   },
   {
    "duration": 16,
    "start_time": "2022-06-23T08:26:14.805Z"
   },
   {
    "duration": 5,
    "start_time": "2022-06-23T08:26:27.519Z"
   },
   {
    "duration": 6,
    "start_time": "2022-06-23T08:26:33.877Z"
   },
   {
    "duration": 12,
    "start_time": "2022-06-23T08:28:53.704Z"
   },
   {
    "duration": 15,
    "start_time": "2022-06-23T08:29:12.280Z"
   },
   {
    "duration": 11,
    "start_time": "2022-06-23T08:37:59.258Z"
   },
   {
    "duration": 24,
    "start_time": "2022-06-23T08:38:00.232Z"
   },
   {
    "duration": 10,
    "start_time": "2022-06-23T08:38:27.817Z"
   },
   {
    "duration": 14,
    "start_time": "2022-06-23T08:38:55.835Z"
   },
   {
    "duration": 77,
    "start_time": "2022-06-23T08:40:00.217Z"
   },
   {
    "duration": 13,
    "start_time": "2022-06-23T08:40:19.947Z"
   },
   {
    "duration": 411,
    "start_time": "2022-06-23T08:40:28.739Z"
   },
   {
    "duration": 14,
    "start_time": "2022-06-23T08:44:53.375Z"
   },
   {
    "duration": 3,
    "start_time": "2022-06-23T08:45:15.959Z"
   },
   {
    "duration": 12,
    "start_time": "2022-06-23T08:46:59.494Z"
   },
   {
    "duration": 4,
    "start_time": "2022-06-23T08:47:36.120Z"
   },
   {
    "duration": 55,
    "start_time": "2022-06-23T10:45:51.816Z"
   },
   {
    "duration": 1272,
    "start_time": "2022-06-23T10:46:11.418Z"
   },
   {
    "duration": 328,
    "start_time": "2022-06-23T10:46:12.692Z"
   },
   {
    "duration": 256,
    "start_time": "2022-06-23T10:46:13.023Z"
   },
   {
    "duration": 615,
    "start_time": "2022-06-23T10:46:13.283Z"
   },
   {
    "duration": 132,
    "start_time": "2022-06-23T10:46:13.900Z"
   },
   {
    "duration": 866,
    "start_time": "2022-06-23T10:46:14.034Z"
   },
   {
    "duration": 91,
    "start_time": "2022-06-23T10:46:14.902Z"
   },
   {
    "duration": 86,
    "start_time": "2022-06-23T10:46:14.995Z"
   },
   {
    "duration": 85,
    "start_time": "2022-06-23T10:46:15.083Z"
   },
   {
    "duration": 27,
    "start_time": "2022-06-23T10:46:15.174Z"
   },
   {
    "duration": 7,
    "start_time": "2022-06-23T10:46:15.203Z"
   },
   {
    "duration": 8,
    "start_time": "2022-06-23T10:46:15.212Z"
   },
   {
    "duration": 47,
    "start_time": "2022-06-23T10:46:15.222Z"
   },
   {
    "duration": 6,
    "start_time": "2022-06-23T10:46:15.271Z"
   },
   {
    "duration": 57,
    "start_time": "2022-06-23T10:46:15.279Z"
   },
   {
    "duration": 25,
    "start_time": "2022-06-23T10:46:15.338Z"
   },
   {
    "duration": 38,
    "start_time": "2022-06-23T10:46:15.367Z"
   },
   {
    "duration": 17,
    "start_time": "2022-06-23T10:46:15.407Z"
   },
   {
    "duration": 27,
    "start_time": "2022-06-23T10:46:15.425Z"
   },
   {
    "duration": 21,
    "start_time": "2022-06-23T10:46:15.453Z"
   },
   {
    "duration": 14,
    "start_time": "2022-06-23T10:46:15.480Z"
   },
   {
    "duration": 10,
    "start_time": "2022-06-23T10:46:15.495Z"
   },
   {
    "duration": 16,
    "start_time": "2022-06-23T10:46:15.506Z"
   },
   {
    "duration": 11,
    "start_time": "2022-06-23T10:46:15.524Z"
   },
   {
    "duration": 11,
    "start_time": "2022-06-23T10:46:15.537Z"
   },
   {
    "duration": 36,
    "start_time": "2022-06-23T10:46:15.550Z"
   },
   {
    "duration": 161,
    "start_time": "2022-06-23T10:46:15.588Z"
   },
   {
    "duration": 58,
    "start_time": "2022-06-23T10:46:15.755Z"
   },
   {
    "duration": 75,
    "start_time": "2022-06-23T10:46:15.815Z"
   },
   {
    "duration": 29,
    "start_time": "2022-06-23T10:46:15.892Z"
   },
   {
    "duration": 60,
    "start_time": "2022-06-23T10:46:15.923Z"
   },
   {
    "duration": 22,
    "start_time": "2022-06-23T10:46:15.985Z"
   },
   {
    "duration": 10,
    "start_time": "2022-06-23T10:46:16.009Z"
   },
   {
    "duration": 115,
    "start_time": "2022-06-23T10:46:16.020Z"
   },
   {
    "duration": 57,
    "start_time": "2022-06-23T10:46:16.137Z"
   },
   {
    "duration": 63,
    "start_time": "2022-06-23T10:46:16.196Z"
   },
   {
    "duration": 9,
    "start_time": "2022-06-23T10:46:16.261Z"
   },
   {
    "duration": 23,
    "start_time": "2022-06-23T10:46:16.272Z"
   },
   {
    "duration": 27,
    "start_time": "2022-06-23T10:46:16.297Z"
   },
   {
    "duration": 22,
    "start_time": "2022-06-23T10:46:16.327Z"
   },
   {
    "duration": 68,
    "start_time": "2022-06-23T10:46:16.357Z"
   },
   {
    "duration": 33,
    "start_time": "2022-06-23T10:46:16.428Z"
   },
   {
    "duration": 43,
    "start_time": "2022-06-23T10:46:16.466Z"
   },
   {
    "duration": 142,
    "start_time": "2022-06-23T10:46:16.511Z"
   },
   {
    "duration": 35,
    "start_time": "2022-06-23T10:46:16.655Z"
   },
   {
    "duration": 16,
    "start_time": "2022-06-23T10:46:16.692Z"
   },
   {
    "duration": 21,
    "start_time": "2022-06-23T10:46:16.710Z"
   },
   {
    "duration": 27,
    "start_time": "2022-06-23T10:46:16.733Z"
   },
   {
    "duration": 43,
    "start_time": "2022-06-23T10:46:16.762Z"
   },
   {
    "duration": 3,
    "start_time": "2022-06-23T10:46:16.807Z"
   },
   {
    "duration": 95,
    "start_time": "2022-06-23T10:46:16.812Z"
   },
   {
    "duration": 24,
    "start_time": "2022-06-23T10:46:16.909Z"
   },
   {
    "duration": 7,
    "start_time": "2022-06-23T10:46:16.935Z"
   },
   {
    "duration": 4,
    "start_time": "2022-06-23T10:46:16.950Z"
   },
   {
    "duration": 40,
    "start_time": "2022-06-23T10:46:16.956Z"
   },
   {
    "duration": 13,
    "start_time": "2022-06-23T10:46:16.997Z"
   },
   {
    "duration": 15,
    "start_time": "2022-06-23T10:46:17.012Z"
   },
   {
    "duration": 42,
    "start_time": "2022-06-23T10:46:17.028Z"
   },
   {
    "duration": 25,
    "start_time": "2022-06-23T10:46:17.072Z"
   },
   {
    "duration": 35,
    "start_time": "2022-06-23T10:46:17.098Z"
   },
   {
    "duration": 15,
    "start_time": "2022-06-23T10:46:17.135Z"
   },
   {
    "duration": 65,
    "start_time": "2022-06-23T10:46:17.154Z"
   },
   {
    "duration": 9,
    "start_time": "2022-06-23T10:46:17.222Z"
   },
   {
    "duration": 27,
    "start_time": "2022-06-23T10:46:17.233Z"
   },
   {
    "duration": 43,
    "start_time": "2022-06-23T10:46:17.262Z"
   },
   {
    "duration": 25,
    "start_time": "2022-06-23T10:46:17.307Z"
   },
   {
    "duration": 12,
    "start_time": "2022-06-23T10:46:17.334Z"
   },
   {
    "duration": 57,
    "start_time": "2022-06-23T10:46:17.348Z"
   },
   {
    "duration": 11,
    "start_time": "2022-06-23T10:46:17.407Z"
   },
   {
    "duration": 11,
    "start_time": "2022-06-23T10:46:17.420Z"
   },
   {
    "duration": 14,
    "start_time": "2022-06-23T10:46:17.432Z"
   },
   {
    "duration": 46,
    "start_time": "2022-06-23T10:46:17.447Z"
   },
   {
    "duration": 10,
    "start_time": "2022-06-23T10:46:17.495Z"
   },
   {
    "duration": 13,
    "start_time": "2022-06-23T10:46:17.507Z"
   },
   {
    "duration": 13,
    "start_time": "2022-06-23T10:46:17.522Z"
   },
   {
    "duration": 21,
    "start_time": "2022-06-23T10:46:17.537Z"
   },
   {
    "duration": 29,
    "start_time": "2022-06-23T10:46:17.561Z"
   },
   {
    "duration": 11,
    "start_time": "2022-06-23T10:46:17.593Z"
   },
   {
    "duration": 8,
    "start_time": "2022-06-23T10:46:17.606Z"
   },
   {
    "duration": 12,
    "start_time": "2022-06-23T10:46:17.616Z"
   },
   {
    "duration": 9,
    "start_time": "2022-06-23T10:46:17.630Z"
   },
   {
    "duration": 13,
    "start_time": "2022-06-23T10:46:17.646Z"
   },
   {
    "duration": 27,
    "start_time": "2022-06-23T10:46:17.661Z"
   },
   {
    "duration": 13,
    "start_time": "2022-06-23T10:46:17.690Z"
   },
   {
    "duration": 7,
    "start_time": "2022-06-23T10:46:17.705Z"
   },
   {
    "duration": 12,
    "start_time": "2022-06-23T10:46:17.713Z"
   },
   {
    "duration": 13,
    "start_time": "2022-06-23T10:46:17.727Z"
   },
   {
    "duration": 9,
    "start_time": "2022-06-23T10:46:17.742Z"
   },
   {
    "duration": 37,
    "start_time": "2022-06-23T10:46:17.754Z"
   },
   {
    "duration": 10,
    "start_time": "2022-06-23T10:46:17.793Z"
   },
   {
    "duration": 8,
    "start_time": "2022-06-23T10:46:17.804Z"
   },
   {
    "duration": 8,
    "start_time": "2022-06-23T10:46:17.814Z"
   },
   {
    "duration": 516,
    "start_time": "2022-06-23T10:46:17.824Z"
   },
   {
    "duration": 22,
    "start_time": "2022-06-23T10:46:18.341Z"
   },
   {
    "duration": 29,
    "start_time": "2022-06-23T10:46:18.365Z"
   },
   {
    "duration": 13,
    "start_time": "2022-06-23T10:46:18.395Z"
   },
   {
    "duration": 8,
    "start_time": "2022-06-23T10:46:18.410Z"
   },
   {
    "duration": 225,
    "start_time": "2022-06-23T10:46:18.420Z"
   },
   {
    "duration": 461,
    "start_time": "2022-06-23T10:46:18.647Z"
   },
   {
    "duration": 9,
    "start_time": "2022-06-23T10:46:19.109Z"
   },
   {
    "duration": 10,
    "start_time": "2022-06-23T10:46:19.119Z"
   },
   {
    "duration": 41,
    "start_time": "2022-06-23T10:46:19.131Z"
   },
   {
    "duration": 24,
    "start_time": "2022-06-23T10:46:19.173Z"
   },
   {
    "duration": 12,
    "start_time": "2022-06-23T10:46:19.199Z"
   },
   {
    "duration": 229,
    "start_time": "2022-06-23T10:46:19.213Z"
   },
   {
    "duration": 483,
    "start_time": "2022-06-23T10:46:19.444Z"
   },
   {
    "duration": 10,
    "start_time": "2022-06-23T10:46:19.928Z"
   },
   {
    "duration": 30,
    "start_time": "2022-06-23T10:46:19.939Z"
   },
   {
    "duration": 25,
    "start_time": "2022-06-23T10:46:19.971Z"
   },
   {
    "duration": 12,
    "start_time": "2022-06-23T10:46:19.998Z"
   },
   {
    "duration": 346,
    "start_time": "2022-06-23T10:46:20.011Z"
   },
   {
    "duration": 33,
    "start_time": "2022-06-23T10:46:20.365Z"
   },
   {
    "duration": 28,
    "start_time": "2022-06-23T10:46:20.400Z"
   },
   {
    "duration": 10,
    "start_time": "2022-06-23T10:46:20.430Z"
   },
   {
    "duration": 33,
    "start_time": "2022-06-23T10:46:20.452Z"
   },
   {
    "duration": 4,
    "start_time": "2022-06-23T10:46:20.486Z"
   },
   {
    "duration": 8,
    "start_time": "2022-06-23T10:46:20.491Z"
   },
   {
    "duration": 6,
    "start_time": "2022-06-23T10:46:20.501Z"
   },
   {
    "duration": 9,
    "start_time": "2022-06-23T10:46:20.508Z"
   },
   {
    "duration": 6,
    "start_time": "2022-06-23T10:46:20.519Z"
   },
   {
    "duration": 6,
    "start_time": "2022-06-23T10:46:20.527Z"
   },
   {
    "duration": 30,
    "start_time": "2022-06-23T10:46:20.534Z"
   },
   {
    "duration": 22,
    "start_time": "2022-06-23T10:46:20.566Z"
   },
   {
    "duration": 20,
    "start_time": "2022-06-23T10:46:20.589Z"
   },
   {
    "duration": 9,
    "start_time": "2022-06-23T10:46:20.611Z"
   },
   {
    "duration": 13,
    "start_time": "2022-06-23T10:46:20.621Z"
   },
   {
    "duration": 7,
    "start_time": "2022-06-23T10:46:20.635Z"
   },
   {
    "duration": 17,
    "start_time": "2022-06-23T10:46:20.644Z"
   },
   {
    "duration": 28,
    "start_time": "2022-06-23T10:46:20.662Z"
   },
   {
    "duration": 4,
    "start_time": "2022-06-23T10:47:34.425Z"
   },
   {
    "duration": 11,
    "start_time": "2022-06-23T10:47:55.425Z"
   },
   {
    "duration": 14,
    "start_time": "2022-06-23T10:48:26.056Z"
   },
   {
    "duration": 14,
    "start_time": "2022-06-23T10:50:38.207Z"
   },
   {
    "duration": 14,
    "start_time": "2022-06-23T10:51:10.411Z"
   },
   {
    "duration": 4,
    "start_time": "2022-06-23T10:51:50.102Z"
   },
   {
    "duration": 28,
    "start_time": "2022-06-23T10:53:04.337Z"
   },
   {
    "duration": 11,
    "start_time": "2022-06-23T10:53:47.305Z"
   },
   {
    "duration": 5,
    "start_time": "2022-06-23T10:54:12.393Z"
   },
   {
    "duration": 10,
    "start_time": "2022-06-23T10:55:15.625Z"
   },
   {
    "duration": 10,
    "start_time": "2022-06-23T10:55:40.115Z"
   },
   {
    "duration": 5,
    "start_time": "2022-06-23T11:25:53.680Z"
   },
   {
    "duration": 6,
    "start_time": "2022-06-23T11:26:27.398Z"
   },
   {
    "duration": 5,
    "start_time": "2022-06-23T11:26:48.285Z"
   },
   {
    "duration": 8,
    "start_time": "2022-06-23T11:26:58.070Z"
   },
   {
    "duration": 84,
    "start_time": "2022-06-23T11:56:47.011Z"
   },
   {
    "duration": 97,
    "start_time": "2022-06-23T11:57:17.451Z"
   },
   {
    "duration": 500,
    "start_time": "2022-06-23T11:57:27.697Z"
   },
   {
    "duration": 294,
    "start_time": "2022-06-23T12:01:14.331Z"
   },
   {
    "duration": 451,
    "start_time": "2022-06-23T12:03:17.600Z"
   },
   {
    "duration": 550,
    "start_time": "2022-06-23T12:03:40.438Z"
   },
   {
    "duration": 23,
    "start_time": "2022-06-23T12:04:02.377Z"
   },
   {
    "duration": 578,
    "start_time": "2022-06-23T12:05:28.041Z"
   },
   {
    "duration": 475,
    "start_time": "2022-06-23T12:05:46.393Z"
   },
   {
    "duration": 492,
    "start_time": "2022-06-23T12:06:09.177Z"
   },
   {
    "duration": 420,
    "start_time": "2022-06-23T12:07:03.221Z"
   },
   {
    "duration": 552,
    "start_time": "2022-06-23T12:09:13.290Z"
   },
   {
    "duration": 22,
    "start_time": "2022-06-23T12:10:22.662Z"
   },
   {
    "duration": 607,
    "start_time": "2022-06-23T12:10:50.973Z"
   },
   {
    "duration": 564,
    "start_time": "2022-06-23T12:11:11.868Z"
   },
   {
    "duration": 6,
    "start_time": "2022-06-23T12:23:18.630Z"
   },
   {
    "duration": 5,
    "start_time": "2022-06-23T12:25:42.739Z"
   },
   {
    "duration": 10,
    "start_time": "2022-06-23T12:26:39.781Z"
   },
   {
    "duration": 16,
    "start_time": "2022-06-23T12:26:53.105Z"
   },
   {
    "duration": 13,
    "start_time": "2022-06-23T12:27:36.976Z"
   },
   {
    "duration": 14,
    "start_time": "2022-06-23T12:27:52.909Z"
   },
   {
    "duration": 7,
    "start_time": "2022-06-23T12:28:05.403Z"
   },
   {
    "duration": 7,
    "start_time": "2022-06-23T12:28:29.608Z"
   },
   {
    "duration": 106,
    "start_time": "2022-06-23T12:29:46.547Z"
   },
   {
    "duration": 11,
    "start_time": "2022-06-23T12:29:57.546Z"
   },
   {
    "duration": 5,
    "start_time": "2022-06-23T12:32:19.270Z"
   },
   {
    "duration": 1419,
    "start_time": "2022-06-23T14:17:07.851Z"
   },
   {
    "duration": 276,
    "start_time": "2022-06-23T14:17:09.272Z"
   },
   {
    "duration": 160,
    "start_time": "2022-06-23T14:17:09.550Z"
   },
   {
    "duration": 324,
    "start_time": "2022-06-23T14:17:09.713Z"
   },
   {
    "duration": 103,
    "start_time": "2022-06-23T14:17:10.038Z"
   },
   {
    "duration": 678,
    "start_time": "2022-06-23T14:17:10.143Z"
   },
   {
    "duration": 76,
    "start_time": "2022-06-23T14:17:10.823Z"
   },
   {
    "duration": 83,
    "start_time": "2022-06-23T14:17:10.901Z"
   },
   {
    "duration": 69,
    "start_time": "2022-06-23T14:17:10.986Z"
   },
   {
    "duration": 19,
    "start_time": "2022-06-23T14:17:11.058Z"
   },
   {
    "duration": 5,
    "start_time": "2022-06-23T14:17:11.078Z"
   },
   {
    "duration": 15,
    "start_time": "2022-06-23T14:17:11.085Z"
   },
   {
    "duration": 19,
    "start_time": "2022-06-23T14:17:11.102Z"
   },
   {
    "duration": 6,
    "start_time": "2022-06-23T14:17:11.122Z"
   },
   {
    "duration": 52,
    "start_time": "2022-06-23T14:17:11.130Z"
   },
   {
    "duration": 19,
    "start_time": "2022-06-23T14:17:11.184Z"
   },
   {
    "duration": 22,
    "start_time": "2022-06-23T14:17:11.205Z"
   },
   {
    "duration": 20,
    "start_time": "2022-06-23T14:17:11.229Z"
   },
   {
    "duration": 20,
    "start_time": "2022-06-23T14:17:11.250Z"
   },
   {
    "duration": 19,
    "start_time": "2022-06-23T14:17:11.272Z"
   },
   {
    "duration": 12,
    "start_time": "2022-06-23T14:17:11.292Z"
   },
   {
    "duration": 8,
    "start_time": "2022-06-23T14:17:11.306Z"
   },
   {
    "duration": 18,
    "start_time": "2022-06-23T14:17:11.316Z"
   },
   {
    "duration": 7,
    "start_time": "2022-06-23T14:17:11.336Z"
   },
   {
    "duration": 6,
    "start_time": "2022-06-23T14:17:11.345Z"
   },
   {
    "duration": 10,
    "start_time": "2022-06-23T14:17:11.353Z"
   },
   {
    "duration": 170,
    "start_time": "2022-06-23T14:17:11.364Z"
   },
   {
    "duration": 58,
    "start_time": "2022-06-23T14:17:11.541Z"
   },
   {
    "duration": 74,
    "start_time": "2022-06-23T14:17:11.602Z"
   },
   {
    "duration": 22,
    "start_time": "2022-06-23T14:17:11.678Z"
   },
   {
    "duration": 45,
    "start_time": "2022-06-23T14:17:11.702Z"
   },
   {
    "duration": 18,
    "start_time": "2022-06-23T14:17:11.749Z"
   },
   {
    "duration": 12,
    "start_time": "2022-06-23T14:17:11.769Z"
   },
   {
    "duration": 102,
    "start_time": "2022-06-23T14:17:11.783Z"
   },
   {
    "duration": 43,
    "start_time": "2022-06-23T14:17:11.886Z"
   },
   {
    "duration": 33,
    "start_time": "2022-06-23T14:17:11.930Z"
   },
   {
    "duration": 6,
    "start_time": "2022-06-23T14:17:11.965Z"
   },
   {
    "duration": 26,
    "start_time": "2022-06-23T14:17:11.973Z"
   },
   {
    "duration": 48,
    "start_time": "2022-06-23T14:17:12.000Z"
   },
   {
    "duration": 24,
    "start_time": "2022-06-23T14:17:12.050Z"
   },
   {
    "duration": 38,
    "start_time": "2022-06-23T14:17:12.075Z"
   },
   {
    "duration": 20,
    "start_time": "2022-06-23T14:17:12.115Z"
   },
   {
    "duration": 19,
    "start_time": "2022-06-23T14:17:12.137Z"
   },
   {
    "duration": 124,
    "start_time": "2022-06-23T14:17:12.158Z"
   },
   {
    "duration": 21,
    "start_time": "2022-06-23T14:17:12.284Z"
   },
   {
    "duration": 31,
    "start_time": "2022-06-23T14:17:12.308Z"
   },
   {
    "duration": 17,
    "start_time": "2022-06-23T14:17:12.341Z"
   },
   {
    "duration": 10,
    "start_time": "2022-06-23T14:17:12.360Z"
   },
   {
    "duration": 21,
    "start_time": "2022-06-23T14:17:12.372Z"
   },
   {
    "duration": 2,
    "start_time": "2022-06-23T14:17:12.395Z"
   },
   {
    "duration": 78,
    "start_time": "2022-06-23T14:17:12.399Z"
   },
   {
    "duration": 25,
    "start_time": "2022-06-23T14:17:12.479Z"
   },
   {
    "duration": 22,
    "start_time": "2022-06-23T14:17:12.505Z"
   },
   {
    "duration": 10,
    "start_time": "2022-06-23T14:17:12.528Z"
   },
   {
    "duration": 7,
    "start_time": "2022-06-23T14:17:12.540Z"
   },
   {
    "duration": 7,
    "start_time": "2022-06-23T14:17:12.549Z"
   },
   {
    "duration": 13,
    "start_time": "2022-06-23T14:17:12.557Z"
   },
   {
    "duration": 24,
    "start_time": "2022-06-23T14:17:12.571Z"
   },
   {
    "duration": 10,
    "start_time": "2022-06-23T14:17:12.597Z"
   },
   {
    "duration": 31,
    "start_time": "2022-06-23T14:17:12.609Z"
   },
   {
    "duration": 12,
    "start_time": "2022-06-23T14:17:12.641Z"
   },
   {
    "duration": 20,
    "start_time": "2022-06-23T14:17:12.655Z"
   },
   {
    "duration": 8,
    "start_time": "2022-06-23T14:17:12.677Z"
   },
   {
    "duration": 20,
    "start_time": "2022-06-23T14:17:12.686Z"
   },
   {
    "duration": 24,
    "start_time": "2022-06-23T14:17:12.707Z"
   },
   {
    "duration": 22,
    "start_time": "2022-06-23T14:17:12.732Z"
   },
   {
    "duration": 11,
    "start_time": "2022-06-23T14:17:12.755Z"
   },
   {
    "duration": 22,
    "start_time": "2022-06-23T14:17:12.768Z"
   },
   {
    "duration": 10,
    "start_time": "2022-06-23T14:17:12.792Z"
   },
   {
    "duration": 11,
    "start_time": "2022-06-23T14:17:12.804Z"
   },
   {
    "duration": 15,
    "start_time": "2022-06-23T14:17:12.816Z"
   },
   {
    "duration": 19,
    "start_time": "2022-06-23T14:17:12.833Z"
   },
   {
    "duration": 9,
    "start_time": "2022-06-23T14:17:12.853Z"
   },
   {
    "duration": 10,
    "start_time": "2022-06-23T14:17:12.863Z"
   },
   {
    "duration": 7,
    "start_time": "2022-06-23T14:17:12.875Z"
   },
   {
    "duration": 16,
    "start_time": "2022-06-23T14:17:12.883Z"
   },
   {
    "duration": 7,
    "start_time": "2022-06-23T14:17:12.900Z"
   },
   {
    "duration": 23,
    "start_time": "2022-06-23T14:17:12.908Z"
   },
   {
    "duration": 14,
    "start_time": "2022-06-23T14:17:12.932Z"
   },
   {
    "duration": 13,
    "start_time": "2022-06-23T14:17:12.947Z"
   },
   {
    "duration": 11,
    "start_time": "2022-06-23T14:17:12.961Z"
   },
   {
    "duration": 5,
    "start_time": "2022-06-23T14:17:12.978Z"
   },
   {
    "duration": 8,
    "start_time": "2022-06-23T14:17:12.985Z"
   },
   {
    "duration": 13,
    "start_time": "2022-06-23T14:17:12.994Z"
   },
   {
    "duration": 7,
    "start_time": "2022-06-23T14:17:13.008Z"
   },
   {
    "duration": 9,
    "start_time": "2022-06-23T14:17:13.017Z"
   },
   {
    "duration": 9,
    "start_time": "2022-06-23T14:17:13.027Z"
   },
   {
    "duration": 7,
    "start_time": "2022-06-23T14:17:13.037Z"
   },
   {
    "duration": 9,
    "start_time": "2022-06-23T14:17:13.046Z"
   },
   {
    "duration": 10,
    "start_time": "2022-06-23T14:17:13.057Z"
   },
   {
    "duration": 6,
    "start_time": "2022-06-23T14:17:13.069Z"
   },
   {
    "duration": 15,
    "start_time": "2022-06-23T14:17:13.076Z"
   },
   {
    "duration": 430,
    "start_time": "2022-06-23T14:17:13.092Z"
   },
   {
    "duration": 7,
    "start_time": "2022-06-23T14:17:13.527Z"
   },
   {
    "duration": 9,
    "start_time": "2022-06-23T14:17:13.536Z"
   },
   {
    "duration": 13,
    "start_time": "2022-06-23T14:17:13.546Z"
   },
   {
    "duration": 8,
    "start_time": "2022-06-23T14:17:13.561Z"
   },
   {
    "duration": 13,
    "start_time": "2022-06-23T14:17:13.570Z"
   },
   {
    "duration": 212,
    "start_time": "2022-06-23T14:17:13.584Z"
   },
   {
    "duration": 385,
    "start_time": "2022-06-23T14:17:13.798Z"
   },
   {
    "duration": 9,
    "start_time": "2022-06-23T14:17:14.184Z"
   },
   {
    "duration": 42,
    "start_time": "2022-06-23T14:17:14.195Z"
   },
   {
    "duration": 11,
    "start_time": "2022-06-23T14:17:14.239Z"
   },
   {
    "duration": 9,
    "start_time": "2022-06-23T14:17:14.252Z"
   },
   {
    "duration": 29,
    "start_time": "2022-06-23T14:17:14.262Z"
   },
   {
    "duration": 176,
    "start_time": "2022-06-23T14:17:14.293Z"
   },
   {
    "duration": 494,
    "start_time": "2022-06-23T14:17:14.470Z"
   },
   {
    "duration": 9,
    "start_time": "2022-06-23T14:17:14.966Z"
   },
   {
    "duration": 10,
    "start_time": "2022-06-23T14:17:14.977Z"
   },
   {
    "duration": 26,
    "start_time": "2022-06-23T14:17:14.988Z"
   },
   {
    "duration": 15,
    "start_time": "2022-06-23T14:17:15.028Z"
   },
   {
    "duration": 200,
    "start_time": "2022-06-23T14:17:15.044Z"
   },
   {
    "duration": 20,
    "start_time": "2022-06-23T14:17:15.246Z"
   },
   {
    "duration": 19,
    "start_time": "2022-06-23T14:17:15.268Z"
   },
   {
    "duration": 5,
    "start_time": "2022-06-23T14:17:15.289Z"
   },
   {
    "duration": 34,
    "start_time": "2022-06-23T14:17:15.295Z"
   },
   {
    "duration": 421,
    "start_time": "2022-06-23T14:17:15.331Z"
   },
   {
    "duration": 5,
    "start_time": "2022-06-23T14:17:15.754Z"
   },
   {
    "duration": 10,
    "start_time": "2022-06-23T14:17:15.761Z"
   },
   {
    "duration": 9,
    "start_time": "2022-06-23T14:17:15.772Z"
   },
   {
    "duration": 5,
    "start_time": "2022-06-23T14:17:15.782Z"
   },
   {
    "duration": 6,
    "start_time": "2022-06-23T14:17:15.789Z"
   },
   {
    "duration": 6,
    "start_time": "2022-06-23T14:17:15.797Z"
   },
   {
    "duration": 22,
    "start_time": "2022-06-23T14:17:15.805Z"
   },
   {
    "duration": 4,
    "start_time": "2022-06-23T14:17:15.829Z"
   },
   {
    "duration": 12,
    "start_time": "2022-06-23T14:17:15.835Z"
   },
   {
    "duration": 13,
    "start_time": "2022-06-23T14:17:15.848Z"
   },
   {
    "duration": 8,
    "start_time": "2022-06-23T14:17:15.863Z"
   },
   {
    "duration": 11,
    "start_time": "2022-06-23T14:17:15.872Z"
   },
   {
    "duration": 8,
    "start_time": "2022-06-23T14:17:15.884Z"
   },
   {
    "duration": 8,
    "start_time": "2022-06-23T14:17:15.893Z"
   },
   {
    "duration": 28,
    "start_time": "2022-06-23T14:17:15.903Z"
   },
   {
    "duration": 6,
    "start_time": "2022-06-23T14:17:15.932Z"
   },
   {
    "duration": 6,
    "start_time": "2022-06-23T14:17:15.940Z"
   },
   {
    "duration": 4,
    "start_time": "2022-06-23T14:19:12.350Z"
   },
   {
    "duration": 97,
    "start_time": "2022-06-23T14:21:10.237Z"
   },
   {
    "duration": 109,
    "start_time": "2022-06-23T14:21:34.245Z"
   },
   {
    "duration": 4,
    "start_time": "2022-06-23T14:23:01.294Z"
   },
   {
    "duration": 108,
    "start_time": "2022-06-23T14:23:19.183Z"
   },
   {
    "duration": 5,
    "start_time": "2022-06-23T14:24:30.568Z"
   },
   {
    "duration": 116,
    "start_time": "2022-06-23T14:29:14.941Z"
   },
   {
    "duration": 5,
    "start_time": "2022-06-23T14:29:37.482Z"
   },
   {
    "duration": 4,
    "start_time": "2022-06-23T14:29:46.123Z"
   },
   {
    "duration": 279,
    "start_time": "2022-06-23T14:34:44.473Z"
   },
   {
    "duration": 305,
    "start_time": "2022-06-23T14:35:05.282Z"
   },
   {
    "duration": 7,
    "start_time": "2022-06-23T15:01:05.985Z"
   },
   {
    "duration": 1506,
    "start_time": "2022-06-23T18:01:09.206Z"
   },
   {
    "duration": 622,
    "start_time": "2022-06-23T18:01:10.714Z"
   },
   {
    "duration": 166,
    "start_time": "2022-06-23T18:01:11.338Z"
   },
   {
    "duration": 453,
    "start_time": "2022-06-23T18:01:11.506Z"
   },
   {
    "duration": 102,
    "start_time": "2022-06-23T18:01:11.960Z"
   },
   {
    "duration": 189,
    "start_time": "2022-06-23T18:01:12.064Z"
   },
   {
    "duration": 82,
    "start_time": "2022-06-23T18:01:12.255Z"
   },
   {
    "duration": 62,
    "start_time": "2022-06-23T18:01:12.340Z"
   },
   {
    "duration": 95,
    "start_time": "2022-06-23T18:01:12.404Z"
   },
   {
    "duration": 21,
    "start_time": "2022-06-23T18:01:12.501Z"
   },
   {
    "duration": 13,
    "start_time": "2022-06-23T18:01:12.524Z"
   },
   {
    "duration": 13,
    "start_time": "2022-06-23T18:01:12.539Z"
   },
   {
    "duration": 16,
    "start_time": "2022-06-23T18:01:12.554Z"
   },
   {
    "duration": 5,
    "start_time": "2022-06-23T18:01:12.572Z"
   },
   {
    "duration": 57,
    "start_time": "2022-06-23T18:01:12.578Z"
   },
   {
    "duration": 18,
    "start_time": "2022-06-23T18:01:12.637Z"
   },
   {
    "duration": 23,
    "start_time": "2022-06-23T18:01:12.656Z"
   },
   {
    "duration": 16,
    "start_time": "2022-06-23T18:01:12.680Z"
   },
   {
    "duration": 46,
    "start_time": "2022-06-23T18:01:12.698Z"
   },
   {
    "duration": 15,
    "start_time": "2022-06-23T18:01:12.746Z"
   },
   {
    "duration": 5,
    "start_time": "2022-06-23T18:01:12.763Z"
   },
   {
    "duration": 10,
    "start_time": "2022-06-23T18:01:12.770Z"
   },
   {
    "duration": 28,
    "start_time": "2022-06-23T18:01:12.782Z"
   },
   {
    "duration": 23,
    "start_time": "2022-06-23T18:01:12.812Z"
   },
   {
    "duration": 8,
    "start_time": "2022-06-23T18:01:12.837Z"
   },
   {
    "duration": 6,
    "start_time": "2022-06-23T18:01:12.846Z"
   },
   {
    "duration": 157,
    "start_time": "2022-06-23T18:01:12.854Z"
   },
   {
    "duration": 57,
    "start_time": "2022-06-23T18:01:13.015Z"
   },
   {
    "duration": 68,
    "start_time": "2022-06-23T18:01:13.074Z"
   },
   {
    "duration": 30,
    "start_time": "2022-06-23T18:01:13.144Z"
   },
   {
    "duration": 63,
    "start_time": "2022-06-23T18:01:13.175Z"
   },
   {
    "duration": 22,
    "start_time": "2022-06-23T18:01:13.243Z"
   },
   {
    "duration": 10,
    "start_time": "2022-06-23T18:01:13.267Z"
   },
   {
    "duration": 101,
    "start_time": "2022-06-23T18:01:13.279Z"
   },
   {
    "duration": 36,
    "start_time": "2022-06-23T18:01:13.382Z"
   },
   {
    "duration": 37,
    "start_time": "2022-06-23T18:01:13.435Z"
   },
   {
    "duration": 7,
    "start_time": "2022-06-23T18:01:13.474Z"
   },
   {
    "duration": 10,
    "start_time": "2022-06-23T18:01:13.482Z"
   },
   {
    "duration": 19,
    "start_time": "2022-06-23T18:01:13.494Z"
   },
   {
    "duration": 36,
    "start_time": "2022-06-23T18:01:13.515Z"
   },
   {
    "duration": 29,
    "start_time": "2022-06-23T18:01:13.552Z"
   },
   {
    "duration": 20,
    "start_time": "2022-06-23T18:01:13.583Z"
   },
   {
    "duration": 41,
    "start_time": "2022-06-23T18:01:13.604Z"
   },
   {
    "duration": 141,
    "start_time": "2022-06-23T18:01:13.647Z"
   },
   {
    "duration": 20,
    "start_time": "2022-06-23T18:01:13.789Z"
   },
   {
    "duration": 38,
    "start_time": "2022-06-23T18:01:13.811Z"
   },
   {
    "duration": 17,
    "start_time": "2022-06-23T18:01:13.851Z"
   },
   {
    "duration": 5,
    "start_time": "2022-06-23T18:01:13.870Z"
   },
   {
    "duration": 20,
    "start_time": "2022-06-23T18:01:13.876Z"
   },
   {
    "duration": 2,
    "start_time": "2022-06-23T18:01:13.898Z"
   },
   {
    "duration": 94,
    "start_time": "2022-06-23T18:01:13.902Z"
   },
   {
    "duration": 42,
    "start_time": "2022-06-23T18:01:13.999Z"
   },
   {
    "duration": 9,
    "start_time": "2022-06-23T18:01:14.044Z"
   },
   {
    "duration": 7,
    "start_time": "2022-06-23T18:01:14.055Z"
   },
   {
    "duration": 7,
    "start_time": "2022-06-23T18:01:14.064Z"
   },
   {
    "duration": 7,
    "start_time": "2022-06-23T18:01:14.072Z"
   },
   {
    "duration": 11,
    "start_time": "2022-06-23T18:01:14.080Z"
   },
   {
    "duration": 52,
    "start_time": "2022-06-23T18:01:14.092Z"
   },
   {
    "duration": 8,
    "start_time": "2022-06-23T18:01:14.146Z"
   },
   {
    "duration": 25,
    "start_time": "2022-06-23T18:01:14.155Z"
   },
   {
    "duration": 7,
    "start_time": "2022-06-23T18:01:14.182Z"
   },
   {
    "duration": 20,
    "start_time": "2022-06-23T18:01:14.190Z"
   },
   {
    "duration": 13,
    "start_time": "2022-06-23T18:01:14.230Z"
   },
   {
    "duration": 17,
    "start_time": "2022-06-23T18:01:14.245Z"
   },
   {
    "duration": 12,
    "start_time": "2022-06-23T18:01:14.264Z"
   },
   {
    "duration": 20,
    "start_time": "2022-06-23T18:01:14.277Z"
   },
   {
    "duration": 38,
    "start_time": "2022-06-23T18:01:14.299Z"
   },
   {
    "duration": 16,
    "start_time": "2022-06-23T18:01:14.339Z"
   },
   {
    "duration": 15,
    "start_time": "2022-06-23T18:01:14.357Z"
   },
   {
    "duration": 9,
    "start_time": "2022-06-23T18:01:14.373Z"
   },
   {
    "duration": 5,
    "start_time": "2022-06-23T18:01:14.384Z"
   },
   {
    "duration": 5,
    "start_time": "2022-06-23T18:01:14.391Z"
   },
   {
    "duration": 7,
    "start_time": "2022-06-23T18:01:14.398Z"
   },
   {
    "duration": 28,
    "start_time": "2022-06-23T18:01:14.406Z"
   },
   {
    "duration": 8,
    "start_time": "2022-06-23T18:01:14.437Z"
   },
   {
    "duration": 10,
    "start_time": "2022-06-23T18:01:14.447Z"
   },
   {
    "duration": 5,
    "start_time": "2022-06-23T18:01:14.459Z"
   },
   {
    "duration": 10,
    "start_time": "2022-06-23T18:01:14.466Z"
   },
   {
    "duration": 8,
    "start_time": "2022-06-23T18:01:14.477Z"
   },
   {
    "duration": 9,
    "start_time": "2022-06-23T18:01:14.487Z"
   },
   {
    "duration": 10,
    "start_time": "2022-06-23T18:01:14.497Z"
   },
   {
    "duration": 25,
    "start_time": "2022-06-23T18:01:14.513Z"
   },
   {
    "duration": 11,
    "start_time": "2022-06-23T18:01:14.540Z"
   },
   {
    "duration": 8,
    "start_time": "2022-06-23T18:01:14.553Z"
   },
   {
    "duration": 9,
    "start_time": "2022-06-23T18:01:14.562Z"
   },
   {
    "duration": 8,
    "start_time": "2022-06-23T18:01:14.572Z"
   },
   {
    "duration": 8,
    "start_time": "2022-06-23T18:01:14.582Z"
   },
   {
    "duration": 8,
    "start_time": "2022-06-23T18:01:14.592Z"
   },
   {
    "duration": 8,
    "start_time": "2022-06-23T18:01:14.601Z"
   },
   {
    "duration": 12,
    "start_time": "2022-06-23T18:01:14.630Z"
   },
   {
    "duration": 6,
    "start_time": "2022-06-23T18:01:14.644Z"
   },
   {
    "duration": 9,
    "start_time": "2022-06-23T18:01:14.652Z"
   },
   {
    "duration": 507,
    "start_time": "2022-06-23T18:01:14.662Z"
   },
   {
    "duration": 9,
    "start_time": "2022-06-23T18:01:15.170Z"
   },
   {
    "duration": 8,
    "start_time": "2022-06-23T18:01:15.181Z"
   },
   {
    "duration": 12,
    "start_time": "2022-06-23T18:01:15.191Z"
   },
   {
    "duration": 34,
    "start_time": "2022-06-23T18:01:15.205Z"
   },
   {
    "duration": 15,
    "start_time": "2022-06-23T18:01:15.241Z"
   },
   {
    "duration": 243,
    "start_time": "2022-06-23T18:01:15.257Z"
   },
   {
    "duration": 437,
    "start_time": "2022-06-23T18:01:15.502Z"
   },
   {
    "duration": 8,
    "start_time": "2022-06-23T18:01:15.942Z"
   },
   {
    "duration": 10,
    "start_time": "2022-06-23T18:01:15.952Z"
   },
   {
    "duration": 11,
    "start_time": "2022-06-23T18:01:15.964Z"
   },
   {
    "duration": 12,
    "start_time": "2022-06-23T18:01:15.977Z"
   },
   {
    "duration": 13,
    "start_time": "2022-06-23T18:01:15.990Z"
   },
   {
    "duration": 211,
    "start_time": "2022-06-23T18:01:16.039Z"
   },
   {
    "duration": 635,
    "start_time": "2022-06-23T18:01:16.251Z"
   },
   {
    "duration": 12,
    "start_time": "2022-06-23T18:01:16.888Z"
   },
   {
    "duration": 35,
    "start_time": "2022-06-23T18:01:16.902Z"
   },
   {
    "duration": 19,
    "start_time": "2022-06-23T18:01:16.939Z"
   },
   {
    "duration": 15,
    "start_time": "2022-06-23T18:01:16.960Z"
   },
   {
    "duration": 239,
    "start_time": "2022-06-23T18:01:16.977Z"
   },
   {
    "duration": 39,
    "start_time": "2022-06-23T18:01:17.218Z"
   },
   {
    "duration": 21,
    "start_time": "2022-06-23T18:01:17.259Z"
   },
   {
    "duration": 6,
    "start_time": "2022-06-23T18:01:17.281Z"
   },
   {
    "duration": 13,
    "start_time": "2022-06-23T18:01:17.289Z"
   },
   {
    "duration": 504,
    "start_time": "2022-06-23T18:01:17.305Z"
   },
   {
    "duration": 333,
    "start_time": "2022-06-23T18:01:17.811Z"
   },
   {
    "duration": 7,
    "start_time": "2022-06-23T18:01:18.146Z"
   },
   {
    "duration": 9,
    "start_time": "2022-06-23T18:01:18.154Z"
   },
   {
    "duration": 8,
    "start_time": "2022-06-23T18:01:18.165Z"
   },
   {
    "duration": 4,
    "start_time": "2022-06-23T18:01:18.174Z"
   },
   {
    "duration": 161,
    "start_time": "2022-06-23T18:01:18.179Z"
   },
   {
    "duration": 4,
    "start_time": "2022-06-23T18:01:18.342Z"
   },
   {
    "duration": 128,
    "start_time": "2022-06-23T18:01:18.348Z"
   },
   {
    "duration": 5,
    "start_time": "2022-06-23T18:01:18.477Z"
   },
   {
    "duration": 7,
    "start_time": "2022-06-23T18:01:18.483Z"
   },
   {
    "duration": 6,
    "start_time": "2022-06-23T18:01:18.492Z"
   },
   {
    "duration": 5,
    "start_time": "2022-06-23T18:01:18.500Z"
   },
   {
    "duration": 30,
    "start_time": "2022-06-23T18:01:18.507Z"
   },
   {
    "duration": 6,
    "start_time": "2022-06-23T18:01:18.539Z"
   },
   {
    "duration": 8,
    "start_time": "2022-06-23T18:01:18.547Z"
   },
   {
    "duration": 7,
    "start_time": "2022-06-23T18:01:18.556Z"
   },
   {
    "duration": 9,
    "start_time": "2022-06-23T18:01:18.565Z"
   },
   {
    "duration": 8,
    "start_time": "2022-06-23T18:01:18.576Z"
   },
   {
    "duration": 7,
    "start_time": "2022-06-23T18:01:18.586Z"
   },
   {
    "duration": 46,
    "start_time": "2022-06-23T18:01:18.594Z"
   },
   {
    "duration": 10,
    "start_time": "2022-06-23T18:01:18.642Z"
   },
   {
    "duration": 8,
    "start_time": "2022-06-23T18:01:18.654Z"
   },
   {
    "duration": 10,
    "start_time": "2022-06-23T18:01:18.663Z"
   },
   {
    "duration": 5,
    "start_time": "2022-06-23T18:01:18.675Z"
   },
   {
    "duration": 9,
    "start_time": "2022-06-23T18:01:18.682Z"
   },
   {
    "duration": 492,
    "start_time": "2022-06-23T18:54:25.107Z"
   },
   {
    "duration": 421,
    "start_time": "2022-06-23T18:54:50.330Z"
   },
   {
    "duration": 9,
    "start_time": "2022-06-23T18:59:07.194Z"
   },
   {
    "duration": 8,
    "start_time": "2022-06-23T19:00:52.581Z"
   },
   {
    "duration": 5,
    "start_time": "2022-06-23T19:06:03.290Z"
   },
   {
    "duration": 5,
    "start_time": "2022-06-23T19:06:04.161Z"
   },
   {
    "duration": 8,
    "start_time": "2022-06-23T19:06:04.905Z"
   },
   {
    "duration": 6,
    "start_time": "2022-06-23T19:06:05.569Z"
   },
   {
    "duration": 1269,
    "start_time": "2022-06-23T19:21:23.687Z"
   },
   {
    "duration": 228,
    "start_time": "2022-06-23T19:21:24.958Z"
   },
   {
    "duration": 227,
    "start_time": "2022-06-23T19:21:25.188Z"
   },
   {
    "duration": 182,
    "start_time": "2022-06-23T19:21:25.418Z"
   },
   {
    "duration": 140,
    "start_time": "2022-06-23T19:21:25.602Z"
   },
   {
    "duration": 150,
    "start_time": "2022-06-23T19:21:25.744Z"
   },
   {
    "duration": 119,
    "start_time": "2022-06-23T19:21:25.896Z"
   },
   {
    "duration": 53,
    "start_time": "2022-06-23T19:21:26.016Z"
   },
   {
    "duration": 46,
    "start_time": "2022-06-23T19:21:26.071Z"
   },
   {
    "duration": 25,
    "start_time": "2022-06-23T19:21:26.120Z"
   },
   {
    "duration": 8,
    "start_time": "2022-06-23T19:21:26.147Z"
   },
   {
    "duration": 29,
    "start_time": "2022-06-23T19:21:26.156Z"
   },
   {
    "duration": 20,
    "start_time": "2022-06-23T19:21:26.187Z"
   },
   {
    "duration": 17,
    "start_time": "2022-06-23T19:21:26.209Z"
   },
   {
    "duration": 38,
    "start_time": "2022-06-23T19:21:26.228Z"
   },
   {
    "duration": 25,
    "start_time": "2022-06-23T19:21:26.268Z"
   },
   {
    "duration": 57,
    "start_time": "2022-06-23T19:21:26.295Z"
   },
   {
    "duration": 25,
    "start_time": "2022-06-23T19:21:26.355Z"
   },
   {
    "duration": 20,
    "start_time": "2022-06-23T19:21:26.382Z"
   },
   {
    "duration": 25,
    "start_time": "2022-06-23T19:21:26.430Z"
   },
   {
    "duration": 6,
    "start_time": "2022-06-23T19:21:26.458Z"
   },
   {
    "duration": 19,
    "start_time": "2022-06-23T19:21:26.466Z"
   },
   {
    "duration": 20,
    "start_time": "2022-06-23T19:21:26.487Z"
   },
   {
    "duration": 18,
    "start_time": "2022-06-23T19:21:26.509Z"
   },
   {
    "duration": 30,
    "start_time": "2022-06-23T19:21:26.529Z"
   },
   {
    "duration": 29,
    "start_time": "2022-06-23T19:21:26.562Z"
   },
   {
    "duration": 193,
    "start_time": "2022-06-23T19:21:26.594Z"
   },
   {
    "duration": 69,
    "start_time": "2022-06-23T19:21:26.793Z"
   },
   {
    "duration": 81,
    "start_time": "2022-06-23T19:21:26.865Z"
   },
   {
    "duration": 30,
    "start_time": "2022-06-23T19:21:26.947Z"
   },
   {
    "duration": 66,
    "start_time": "2022-06-23T19:21:26.980Z"
   },
   {
    "duration": 26,
    "start_time": "2022-06-23T19:21:27.048Z"
   },
   {
    "duration": 13,
    "start_time": "2022-06-23T19:21:27.077Z"
   },
   {
    "duration": 126,
    "start_time": "2022-06-23T19:21:27.092Z"
   },
   {
    "duration": 60,
    "start_time": "2022-06-23T19:21:27.219Z"
   },
   {
    "duration": 47,
    "start_time": "2022-06-23T19:21:27.281Z"
   },
   {
    "duration": 9,
    "start_time": "2022-06-23T19:21:27.330Z"
   },
   {
    "duration": 12,
    "start_time": "2022-06-23T19:21:27.341Z"
   },
   {
    "duration": 19,
    "start_time": "2022-06-23T19:21:27.355Z"
   },
   {
    "duration": 19,
    "start_time": "2022-06-23T19:21:27.375Z"
   },
   {
    "duration": 52,
    "start_time": "2022-06-23T19:21:27.396Z"
   },
   {
    "duration": 23,
    "start_time": "2022-06-23T19:21:27.450Z"
   },
   {
    "duration": 21,
    "start_time": "2022-06-23T19:21:27.475Z"
   },
   {
    "duration": 178,
    "start_time": "2022-06-23T19:21:27.498Z"
   },
   {
    "duration": 21,
    "start_time": "2022-06-23T19:21:27.677Z"
   },
   {
    "duration": 38,
    "start_time": "2022-06-23T19:21:27.699Z"
   },
   {
    "duration": 22,
    "start_time": "2022-06-23T19:21:27.739Z"
   },
   {
    "duration": 6,
    "start_time": "2022-06-23T19:21:27.763Z"
   },
   {
    "duration": 23,
    "start_time": "2022-06-23T19:21:27.771Z"
   },
   {
    "duration": 3,
    "start_time": "2022-06-23T19:21:27.796Z"
   },
   {
    "duration": 86,
    "start_time": "2022-06-23T19:21:27.801Z"
   },
   {
    "duration": 38,
    "start_time": "2022-06-23T19:21:27.889Z"
   },
   {
    "duration": 9,
    "start_time": "2022-06-23T19:21:27.928Z"
   },
   {
    "duration": 16,
    "start_time": "2022-06-23T19:21:27.940Z"
   },
   {
    "duration": 8,
    "start_time": "2022-06-23T19:21:27.959Z"
   },
   {
    "duration": 11,
    "start_time": "2022-06-23T19:21:27.969Z"
   },
   {
    "duration": 11,
    "start_time": "2022-06-23T19:21:27.982Z"
   },
   {
    "duration": 46,
    "start_time": "2022-06-23T19:21:27.995Z"
   },
   {
    "duration": 12,
    "start_time": "2022-06-23T19:21:28.043Z"
   },
   {
    "duration": 31,
    "start_time": "2022-06-23T19:21:28.057Z"
   },
   {
    "duration": 9,
    "start_time": "2022-06-23T19:21:28.090Z"
   },
   {
    "duration": 61,
    "start_time": "2022-06-23T19:21:28.101Z"
   },
   {
    "duration": 8,
    "start_time": "2022-06-23T19:21:28.164Z"
   },
   {
    "duration": 27,
    "start_time": "2022-06-23T19:21:28.174Z"
   },
   {
    "duration": 32,
    "start_time": "2022-06-23T19:21:28.204Z"
   },
   {
    "duration": 32,
    "start_time": "2022-06-23T19:21:28.238Z"
   },
   {
    "duration": 9,
    "start_time": "2022-06-23T19:21:28.272Z"
   },
   {
    "duration": 24,
    "start_time": "2022-06-23T19:21:28.282Z"
   },
   {
    "duration": 26,
    "start_time": "2022-06-23T19:21:28.308Z"
   },
   {
    "duration": 23,
    "start_time": "2022-06-23T19:21:28.335Z"
   },
   {
    "duration": 16,
    "start_time": "2022-06-23T19:21:28.360Z"
   },
   {
    "duration": 10,
    "start_time": "2022-06-23T19:21:28.378Z"
   },
   {
    "duration": 10,
    "start_time": "2022-06-23T19:21:28.390Z"
   },
   {
    "duration": 26,
    "start_time": "2022-06-23T19:21:28.403Z"
   },
   {
    "duration": 10,
    "start_time": "2022-06-23T19:21:28.431Z"
   },
   {
    "duration": 13,
    "start_time": "2022-06-23T19:21:28.444Z"
   },
   {
    "duration": 8,
    "start_time": "2022-06-23T19:21:28.459Z"
   },
   {
    "duration": 10,
    "start_time": "2022-06-23T19:21:28.469Z"
   },
   {
    "duration": 8,
    "start_time": "2022-06-23T19:21:28.481Z"
   },
   {
    "duration": 9,
    "start_time": "2022-06-23T19:21:28.491Z"
   },
   {
    "duration": 31,
    "start_time": "2022-06-23T19:21:28.502Z"
   },
   {
    "duration": 13,
    "start_time": "2022-06-23T19:21:28.544Z"
   },
   {
    "duration": 9,
    "start_time": "2022-06-23T19:21:28.560Z"
   },
   {
    "duration": 11,
    "start_time": "2022-06-23T19:21:28.571Z"
   },
   {
    "duration": 6,
    "start_time": "2022-06-23T19:21:28.584Z"
   },
   {
    "duration": 33,
    "start_time": "2022-06-23T19:21:28.592Z"
   },
   {
    "duration": 9,
    "start_time": "2022-06-23T19:21:28.627Z"
   },
   {
    "duration": 21,
    "start_time": "2022-06-23T19:21:28.638Z"
   },
   {
    "duration": 10,
    "start_time": "2022-06-23T19:21:28.660Z"
   },
   {
    "duration": 11,
    "start_time": "2022-06-23T19:21:28.671Z"
   },
   {
    "duration": 9,
    "start_time": "2022-06-23T19:21:28.683Z"
   },
   {
    "duration": 12,
    "start_time": "2022-06-23T19:21:28.693Z"
   },
   {
    "duration": 606,
    "start_time": "2022-06-23T19:21:28.727Z"
   },
   {
    "duration": 11,
    "start_time": "2022-06-23T19:21:29.335Z"
   },
   {
    "duration": 24,
    "start_time": "2022-06-23T19:21:29.348Z"
   },
   {
    "duration": 17,
    "start_time": "2022-06-23T19:21:29.375Z"
   },
   {
    "duration": 32,
    "start_time": "2022-06-23T19:21:29.394Z"
   },
   {
    "duration": 45,
    "start_time": "2022-06-23T19:21:29.428Z"
   },
   {
    "duration": 211,
    "start_time": "2022-06-23T19:21:29.474Z"
   },
   {
    "duration": 560,
    "start_time": "2022-06-23T19:21:29.688Z"
   },
   {
    "duration": 12,
    "start_time": "2022-06-23T19:21:30.255Z"
   },
   {
    "duration": 12,
    "start_time": "2022-06-23T19:21:30.268Z"
   },
   {
    "duration": 16,
    "start_time": "2022-06-23T19:21:30.282Z"
   },
   {
    "duration": 37,
    "start_time": "2022-06-23T19:21:30.300Z"
   },
   {
    "duration": 49,
    "start_time": "2022-06-23T19:21:30.339Z"
   },
   {
    "duration": 230,
    "start_time": "2022-06-23T19:21:30.390Z"
   },
   {
    "duration": 578,
    "start_time": "2022-06-23T19:21:30.626Z"
   },
   {
    "duration": 21,
    "start_time": "2022-06-23T19:21:31.206Z"
   },
   {
    "duration": 13,
    "start_time": "2022-06-23T19:21:31.230Z"
   },
   {
    "duration": 29,
    "start_time": "2022-06-23T19:21:31.246Z"
   },
   {
    "duration": 16,
    "start_time": "2022-06-23T19:21:31.277Z"
   },
   {
    "duration": 251,
    "start_time": "2022-06-23T19:21:31.295Z"
   },
   {
    "duration": 24,
    "start_time": "2022-06-23T19:21:31.548Z"
   },
   {
    "duration": 21,
    "start_time": "2022-06-23T19:21:31.574Z"
   },
   {
    "duration": 50,
    "start_time": "2022-06-23T19:21:31.596Z"
   },
   {
    "duration": 8,
    "start_time": "2022-06-23T19:21:31.648Z"
   },
   {
    "duration": 462,
    "start_time": "2022-06-23T19:21:31.659Z"
   },
   {
    "duration": 393,
    "start_time": "2022-06-23T19:21:32.122Z"
   },
   {
    "duration": 12,
    "start_time": "2022-06-23T19:21:32.517Z"
   },
   {
    "duration": 19,
    "start_time": "2022-06-23T19:21:32.531Z"
   },
   {
    "duration": 6,
    "start_time": "2022-06-23T19:21:32.552Z"
   },
   {
    "duration": 10,
    "start_time": "2022-06-23T19:21:32.559Z"
   },
   {
    "duration": 10,
    "start_time": "2022-06-23T19:21:32.571Z"
   },
   {
    "duration": 7,
    "start_time": "2022-06-23T19:21:32.583Z"
   },
   {
    "duration": 33,
    "start_time": "2022-06-23T19:21:32.593Z"
   },
   {
    "duration": 12,
    "start_time": "2022-06-23T19:21:32.627Z"
   },
   {
    "duration": 17,
    "start_time": "2022-06-23T19:21:32.640Z"
   },
   {
    "duration": 7,
    "start_time": "2022-06-23T19:21:32.659Z"
   },
   {
    "duration": 8,
    "start_time": "2022-06-23T19:21:32.669Z"
   },
   {
    "duration": 495,
    "start_time": "2022-06-23T19:21:32.679Z"
   },
   {
    "duration": 352,
    "start_time": "2022-06-23T19:21:33.176Z"
   },
   {
    "duration": 9,
    "start_time": "2022-06-23T19:21:33.530Z"
   },
   {
    "duration": 15,
    "start_time": "2022-06-23T19:21:33.545Z"
   },
   {
    "duration": 8,
    "start_time": "2022-06-23T19:21:33.562Z"
   },
   {
    "duration": 7,
    "start_time": "2022-06-23T19:21:33.572Z"
   },
   {
    "duration": 11,
    "start_time": "2022-06-23T19:21:33.580Z"
   },
   {
    "duration": 41,
    "start_time": "2022-06-23T19:21:33.593Z"
   },
   {
    "duration": 1392,
    "start_time": "2022-06-26T12:31:43.807Z"
   },
   {
    "duration": 294,
    "start_time": "2022-06-26T12:31:45.200Z"
   },
   {
    "duration": 152,
    "start_time": "2022-06-26T12:31:45.495Z"
   },
   {
    "duration": 331,
    "start_time": "2022-06-26T12:31:45.649Z"
   },
   {
    "duration": 110,
    "start_time": "2022-06-26T12:31:45.983Z"
   },
   {
    "duration": 623,
    "start_time": "2022-06-26T12:31:46.094Z"
   },
   {
    "duration": 93,
    "start_time": "2022-06-26T12:31:46.719Z"
   },
   {
    "duration": 81,
    "start_time": "2022-06-26T12:31:46.813Z"
   },
   {
    "duration": 66,
    "start_time": "2022-06-26T12:31:46.896Z"
   },
   {
    "duration": 28,
    "start_time": "2022-06-26T12:31:46.965Z"
   },
   {
    "duration": 9,
    "start_time": "2022-06-26T12:31:46.995Z"
   },
   {
    "duration": 16,
    "start_time": "2022-06-26T12:31:47.006Z"
   },
   {
    "duration": 38,
    "start_time": "2022-06-26T12:31:47.024Z"
   },
   {
    "duration": 7,
    "start_time": "2022-06-26T12:31:47.064Z"
   },
   {
    "duration": 50,
    "start_time": "2022-06-26T12:31:47.072Z"
   },
   {
    "duration": 26,
    "start_time": "2022-06-26T12:31:47.124Z"
   },
   {
    "duration": 30,
    "start_time": "2022-06-26T12:31:47.158Z"
   },
   {
    "duration": 24,
    "start_time": "2022-06-26T12:31:47.190Z"
   },
   {
    "duration": 58,
    "start_time": "2022-06-26T12:31:47.216Z"
   },
   {
    "duration": 20,
    "start_time": "2022-06-26T12:31:47.287Z"
   },
   {
    "duration": 13,
    "start_time": "2022-06-26T12:31:47.309Z"
   },
   {
    "duration": 25,
    "start_time": "2022-06-26T12:31:47.324Z"
   },
   {
    "duration": 65,
    "start_time": "2022-06-26T12:31:47.350Z"
   },
   {
    "duration": 23,
    "start_time": "2022-06-26T12:31:47.418Z"
   },
   {
    "duration": 14,
    "start_time": "2022-06-26T12:31:47.443Z"
   },
   {
    "duration": 33,
    "start_time": "2022-06-26T12:31:47.467Z"
   },
   {
    "duration": 163,
    "start_time": "2022-06-26T12:31:47.502Z"
   },
   {
    "duration": 53,
    "start_time": "2022-06-26T12:31:47.672Z"
   },
   {
    "duration": 76,
    "start_time": "2022-06-26T12:31:47.727Z"
   },
   {
    "duration": 27,
    "start_time": "2022-06-26T12:31:47.805Z"
   },
   {
    "duration": 53,
    "start_time": "2022-06-26T12:31:47.834Z"
   },
   {
    "duration": 18,
    "start_time": "2022-06-26T12:31:47.889Z"
   },
   {
    "duration": 9,
    "start_time": "2022-06-26T12:31:47.909Z"
   },
   {
    "duration": 107,
    "start_time": "2022-06-26T12:31:47.919Z"
   },
   {
    "duration": 51,
    "start_time": "2022-06-26T12:31:48.028Z"
   },
   {
    "duration": 33,
    "start_time": "2022-06-26T12:31:48.081Z"
   },
   {
    "duration": 8,
    "start_time": "2022-06-26T12:31:48.116Z"
   },
   {
    "duration": 11,
    "start_time": "2022-06-26T12:31:48.126Z"
   },
   {
    "duration": 25,
    "start_time": "2022-06-26T12:31:48.158Z"
   },
   {
    "duration": 24,
    "start_time": "2022-06-26T12:31:48.185Z"
   },
   {
    "duration": 27,
    "start_time": "2022-06-26T12:31:48.211Z"
   },
   {
    "duration": 47,
    "start_time": "2022-06-26T12:31:48.239Z"
   },
   {
    "duration": 19,
    "start_time": "2022-06-26T12:31:48.287Z"
   },
   {
    "duration": 165,
    "start_time": "2022-06-26T12:31:48.308Z"
   },
   {
    "duration": 29,
    "start_time": "2022-06-26T12:31:48.475Z"
   },
   {
    "duration": 16,
    "start_time": "2022-06-26T12:31:48.506Z"
   },
   {
    "duration": 26,
    "start_time": "2022-06-26T12:31:48.523Z"
   },
   {
    "duration": 24,
    "start_time": "2022-06-26T12:31:48.551Z"
   },
   {
    "duration": 33,
    "start_time": "2022-06-26T12:31:48.577Z"
   },
   {
    "duration": 4,
    "start_time": "2022-06-26T12:31:48.612Z"
   },
   {
    "duration": 93,
    "start_time": "2022-06-26T12:31:48.618Z"
   },
   {
    "duration": 31,
    "start_time": "2022-06-26T12:31:48.713Z"
   },
   {
    "duration": 5,
    "start_time": "2022-06-26T12:31:48.759Z"
   },
   {
    "duration": 26,
    "start_time": "2022-06-26T12:31:48.765Z"
   },
   {
    "duration": 8,
    "start_time": "2022-06-26T12:31:48.793Z"
   },
   {
    "duration": 9,
    "start_time": "2022-06-26T12:31:48.802Z"
   },
   {
    "duration": 10,
    "start_time": "2022-06-26T12:31:48.813Z"
   },
   {
    "duration": 49,
    "start_time": "2022-06-26T12:31:48.825Z"
   },
   {
    "duration": 14,
    "start_time": "2022-06-26T12:31:48.876Z"
   },
   {
    "duration": 23,
    "start_time": "2022-06-26T12:31:48.892Z"
   },
   {
    "duration": 10,
    "start_time": "2022-06-26T12:31:48.917Z"
   },
   {
    "duration": 47,
    "start_time": "2022-06-26T12:31:48.929Z"
   },
   {
    "duration": 12,
    "start_time": "2022-06-26T12:31:48.978Z"
   },
   {
    "duration": 20,
    "start_time": "2022-06-26T12:31:48.991Z"
   },
   {
    "duration": 10,
    "start_time": "2022-06-26T12:31:49.012Z"
   },
   {
    "duration": 37,
    "start_time": "2022-06-26T12:31:49.024Z"
   },
   {
    "duration": 25,
    "start_time": "2022-06-26T12:31:49.065Z"
   },
   {
    "duration": 17,
    "start_time": "2022-06-26T12:31:49.092Z"
   },
   {
    "duration": 17,
    "start_time": "2022-06-26T12:31:49.111Z"
   },
   {
    "duration": 11,
    "start_time": "2022-06-26T12:31:49.130Z"
   },
   {
    "duration": 11,
    "start_time": "2022-06-26T12:31:49.142Z"
   },
   {
    "duration": 13,
    "start_time": "2022-06-26T12:31:49.154Z"
   },
   {
    "duration": 12,
    "start_time": "2022-06-26T12:31:49.169Z"
   },
   {
    "duration": 10,
    "start_time": "2022-06-26T12:31:49.184Z"
   },
   {
    "duration": 7,
    "start_time": "2022-06-26T12:31:49.196Z"
   },
   {
    "duration": 11,
    "start_time": "2022-06-26T12:31:49.204Z"
   },
   {
    "duration": 7,
    "start_time": "2022-06-26T12:31:49.216Z"
   },
   {
    "duration": 9,
    "start_time": "2022-06-26T12:31:49.224Z"
   },
   {
    "duration": 10,
    "start_time": "2022-06-26T12:31:49.259Z"
   },
   {
    "duration": 21,
    "start_time": "2022-06-26T12:31:49.272Z"
   },
   {
    "duration": 12,
    "start_time": "2022-06-26T12:31:49.295Z"
   },
   {
    "duration": 7,
    "start_time": "2022-06-26T12:31:49.314Z"
   },
   {
    "duration": 9,
    "start_time": "2022-06-26T12:31:49.322Z"
   },
   {
    "duration": 8,
    "start_time": "2022-06-26T12:31:49.333Z"
   },
   {
    "duration": 24,
    "start_time": "2022-06-26T12:31:49.343Z"
   },
   {
    "duration": 18,
    "start_time": "2022-06-26T12:31:49.373Z"
   },
   {
    "duration": 11,
    "start_time": "2022-06-26T12:31:49.393Z"
   },
   {
    "duration": 9,
    "start_time": "2022-06-26T12:31:49.405Z"
   },
   {
    "duration": 9,
    "start_time": "2022-06-26T12:31:49.415Z"
   },
   {
    "duration": 6,
    "start_time": "2022-06-26T12:31:49.426Z"
   },
   {
    "duration": 7,
    "start_time": "2022-06-26T12:31:49.434Z"
   },
   {
    "duration": 22,
    "start_time": "2022-06-26T12:31:49.442Z"
   },
   {
    "duration": 481,
    "start_time": "2022-06-26T12:31:49.467Z"
   },
   {
    "duration": 16,
    "start_time": "2022-06-26T12:31:49.950Z"
   },
   {
    "duration": 16,
    "start_time": "2022-06-26T12:31:49.969Z"
   },
   {
    "duration": 13,
    "start_time": "2022-06-26T12:31:49.987Z"
   },
   {
    "duration": 10,
    "start_time": "2022-06-26T12:31:50.001Z"
   },
   {
    "duration": 14,
    "start_time": "2022-06-26T12:31:50.013Z"
   },
   {
    "duration": 247,
    "start_time": "2022-06-26T12:31:50.029Z"
   },
   {
    "duration": 434,
    "start_time": "2022-06-26T12:31:50.279Z"
   },
   {
    "duration": 9,
    "start_time": "2022-06-26T12:31:50.715Z"
   },
   {
    "duration": 7,
    "start_time": "2022-06-26T12:31:50.726Z"
   },
   {
    "duration": 37,
    "start_time": "2022-06-26T12:31:50.735Z"
   },
   {
    "duration": 15,
    "start_time": "2022-06-26T12:31:50.775Z"
   },
   {
    "duration": 14,
    "start_time": "2022-06-26T12:31:50.792Z"
   },
   {
    "duration": 204,
    "start_time": "2022-06-26T12:31:50.807Z"
   },
   {
    "duration": 522,
    "start_time": "2022-06-26T12:31:51.013Z"
   },
   {
    "duration": 9,
    "start_time": "2022-06-26T12:31:51.537Z"
   },
   {
    "duration": 25,
    "start_time": "2022-06-26T12:31:51.548Z"
   },
   {
    "duration": 24,
    "start_time": "2022-06-26T12:31:51.575Z"
   },
   {
    "duration": 12,
    "start_time": "2022-06-26T12:31:51.601Z"
   },
   {
    "duration": 205,
    "start_time": "2022-06-26T12:31:51.615Z"
   },
   {
    "duration": 19,
    "start_time": "2022-06-26T12:31:51.821Z"
   },
   {
    "duration": 42,
    "start_time": "2022-06-26T12:31:51.842Z"
   },
   {
    "duration": 5,
    "start_time": "2022-06-26T12:31:51.887Z"
   },
   {
    "duration": 8,
    "start_time": "2022-06-26T12:31:51.894Z"
   },
   {
    "duration": 444,
    "start_time": "2022-06-26T12:31:51.904Z"
   },
   {
    "duration": 335,
    "start_time": "2022-06-26T12:31:52.350Z"
   },
   {
    "duration": 8,
    "start_time": "2022-06-26T12:31:52.687Z"
   },
   {
    "duration": 13,
    "start_time": "2022-06-26T12:31:52.697Z"
   },
   {
    "duration": 5,
    "start_time": "2022-06-26T12:31:52.712Z"
   },
   {
    "duration": 13,
    "start_time": "2022-06-26T12:31:52.718Z"
   },
   {
    "duration": 34,
    "start_time": "2022-06-26T12:31:52.733Z"
   },
   {
    "duration": 25,
    "start_time": "2022-06-26T12:31:52.769Z"
   },
   {
    "duration": 9,
    "start_time": "2022-06-26T12:31:52.796Z"
   },
   {
    "duration": 11,
    "start_time": "2022-06-26T12:31:52.806Z"
   },
   {
    "duration": 11,
    "start_time": "2022-06-26T12:31:52.819Z"
   },
   {
    "duration": 7,
    "start_time": "2022-06-26T12:31:52.832Z"
   },
   {
    "duration": 11,
    "start_time": "2022-06-26T12:31:52.841Z"
   },
   {
    "duration": 440,
    "start_time": "2022-06-26T12:31:52.853Z"
   },
   {
    "duration": 309,
    "start_time": "2022-06-26T12:31:53.296Z"
   },
   {
    "duration": 6,
    "start_time": "2022-06-26T12:31:53.606Z"
   },
   {
    "duration": 23,
    "start_time": "2022-06-26T12:31:53.613Z"
   },
   {
    "duration": 8,
    "start_time": "2022-06-26T12:31:53.638Z"
   },
   {
    "duration": 15,
    "start_time": "2022-06-26T12:31:53.647Z"
   },
   {
    "duration": 19,
    "start_time": "2022-06-26T12:31:53.664Z"
   },
   {
    "duration": 20,
    "start_time": "2022-06-26T12:31:53.684Z"
   },
   {
    "duration": 1131,
    "start_time": "2022-06-26T15:54:46.906Z"
   },
   {
    "duration": 189,
    "start_time": "2022-06-26T15:54:48.039Z"
   },
   {
    "duration": 159,
    "start_time": "2022-06-26T15:54:48.230Z"
   },
   {
    "duration": 145,
    "start_time": "2022-06-26T15:54:48.391Z"
   },
   {
    "duration": 107,
    "start_time": "2022-06-26T15:54:48.538Z"
   },
   {
    "duration": 103,
    "start_time": "2022-06-26T15:54:48.646Z"
   },
   {
    "duration": 88,
    "start_time": "2022-06-26T15:54:48.751Z"
   },
   {
    "duration": 26,
    "start_time": "2022-06-26T15:54:48.840Z"
   },
   {
    "duration": 38,
    "start_time": "2022-06-26T15:54:48.868Z"
   },
   {
    "duration": 18,
    "start_time": "2022-06-26T15:54:48.909Z"
   },
   {
    "duration": 8,
    "start_time": "2022-06-26T15:54:48.928Z"
   },
   {
    "duration": 12,
    "start_time": "2022-06-26T15:54:48.937Z"
   },
   {
    "duration": 28,
    "start_time": "2022-06-26T15:54:48.950Z"
   },
   {
    "duration": 4,
    "start_time": "2022-06-26T15:54:48.980Z"
   },
   {
    "duration": 30,
    "start_time": "2022-06-26T15:54:48.985Z"
   },
   {
    "duration": 16,
    "start_time": "2022-06-26T15:54:49.016Z"
   },
   {
    "duration": 43,
    "start_time": "2022-06-26T15:54:49.034Z"
   },
   {
    "duration": 15,
    "start_time": "2022-06-26T15:54:49.078Z"
   },
   {
    "duration": 17,
    "start_time": "2022-06-26T15:54:49.095Z"
   },
   {
    "duration": 15,
    "start_time": "2022-06-26T15:54:49.114Z"
   },
   {
    "duration": 5,
    "start_time": "2022-06-26T15:54:49.131Z"
   },
   {
    "duration": 22,
    "start_time": "2022-06-26T15:54:49.138Z"
   },
   {
    "duration": 16,
    "start_time": "2022-06-26T15:54:49.165Z"
   },
   {
    "duration": 7,
    "start_time": "2022-06-26T15:54:49.183Z"
   },
   {
    "duration": 5,
    "start_time": "2022-06-26T15:54:49.192Z"
   },
   {
    "duration": 5,
    "start_time": "2022-06-26T15:54:49.199Z"
   },
   {
    "duration": 162,
    "start_time": "2022-06-26T15:54:49.205Z"
   },
   {
    "duration": 48,
    "start_time": "2022-06-26T15:54:49.371Z"
   },
   {
    "duration": 69,
    "start_time": "2022-06-26T15:54:49.420Z"
   },
   {
    "duration": 22,
    "start_time": "2022-06-26T15:54:49.491Z"
   },
   {
    "duration": 55,
    "start_time": "2022-06-26T15:54:49.514Z"
   },
   {
    "duration": 21,
    "start_time": "2022-06-26T15:54:49.571Z"
   },
   {
    "duration": 11,
    "start_time": "2022-06-26T15:54:49.593Z"
   },
   {
    "duration": 102,
    "start_time": "2022-06-26T15:54:49.605Z"
   },
   {
    "duration": 35,
    "start_time": "2022-06-26T15:54:49.709Z"
   },
   {
    "duration": 45,
    "start_time": "2022-06-26T15:54:49.746Z"
   },
   {
    "duration": 8,
    "start_time": "2022-06-26T15:54:49.793Z"
   },
   {
    "duration": 7,
    "start_time": "2022-06-26T15:54:49.802Z"
   },
   {
    "duration": 24,
    "start_time": "2022-06-26T15:54:49.810Z"
   },
   {
    "duration": 36,
    "start_time": "2022-06-26T15:54:49.835Z"
   },
   {
    "duration": 28,
    "start_time": "2022-06-26T15:54:49.873Z"
   },
   {
    "duration": 21,
    "start_time": "2022-06-26T15:54:49.903Z"
   },
   {
    "duration": 46,
    "start_time": "2022-06-26T15:54:49.926Z"
   },
   {
    "duration": 142,
    "start_time": "2022-06-26T15:54:49.974Z"
   },
   {
    "duration": 20,
    "start_time": "2022-06-26T15:54:50.117Z"
   },
   {
    "duration": 39,
    "start_time": "2022-06-26T15:54:50.139Z"
   },
   {
    "duration": 16,
    "start_time": "2022-06-26T15:54:50.179Z"
   },
   {
    "duration": 7,
    "start_time": "2022-06-26T15:54:50.197Z"
   },
   {
    "duration": 29,
    "start_time": "2022-06-26T15:54:50.205Z"
   },
   {
    "duration": 2,
    "start_time": "2022-06-26T15:54:50.236Z"
   },
   {
    "duration": 73,
    "start_time": "2022-06-26T15:54:50.240Z"
   },
   {
    "duration": 30,
    "start_time": "2022-06-26T15:54:50.315Z"
   },
   {
    "duration": 15,
    "start_time": "2022-06-26T15:54:50.347Z"
   },
   {
    "duration": 17,
    "start_time": "2022-06-26T15:54:50.363Z"
   },
   {
    "duration": 8,
    "start_time": "2022-06-26T15:54:50.382Z"
   },
   {
    "duration": 7,
    "start_time": "2022-06-26T15:54:50.391Z"
   },
   {
    "duration": 10,
    "start_time": "2022-06-26T15:54:50.400Z"
   },
   {
    "duration": 24,
    "start_time": "2022-06-26T15:54:50.411Z"
   },
   {
    "duration": 12,
    "start_time": "2022-06-26T15:54:50.437Z"
   },
   {
    "duration": 32,
    "start_time": "2022-06-26T15:54:50.451Z"
   },
   {
    "duration": 9,
    "start_time": "2022-06-26T15:54:50.484Z"
   },
   {
    "duration": 19,
    "start_time": "2022-06-26T15:54:50.495Z"
   },
   {
    "duration": 11,
    "start_time": "2022-06-26T15:54:50.516Z"
   },
   {
    "duration": 47,
    "start_time": "2022-06-26T15:54:50.528Z"
   },
   {
    "duration": 9,
    "start_time": "2022-06-26T15:54:50.576Z"
   },
   {
    "duration": 19,
    "start_time": "2022-06-26T15:54:50.586Z"
   },
   {
    "duration": 17,
    "start_time": "2022-06-26T15:54:50.607Z"
   },
   {
    "duration": 31,
    "start_time": "2022-06-26T15:54:50.625Z"
   },
   {
    "duration": 25,
    "start_time": "2022-06-26T15:54:50.661Z"
   },
   {
    "duration": 15,
    "start_time": "2022-06-26T15:54:50.687Z"
   },
   {
    "duration": 8,
    "start_time": "2022-06-26T15:54:50.704Z"
   },
   {
    "duration": 10,
    "start_time": "2022-06-26T15:54:50.713Z"
   },
   {
    "duration": 22,
    "start_time": "2022-06-26T15:54:50.724Z"
   },
   {
    "duration": 21,
    "start_time": "2022-06-26T15:54:50.748Z"
   },
   {
    "duration": 11,
    "start_time": "2022-06-26T15:54:50.771Z"
   },
   {
    "duration": 10,
    "start_time": "2022-06-26T15:54:50.783Z"
   },
   {
    "duration": 6,
    "start_time": "2022-06-26T15:54:50.795Z"
   },
   {
    "duration": 10,
    "start_time": "2022-06-26T15:54:50.802Z"
   },
   {
    "duration": 16,
    "start_time": "2022-06-26T15:54:50.814Z"
   },
   {
    "duration": 11,
    "start_time": "2022-06-26T15:54:50.831Z"
   },
   {
    "duration": 19,
    "start_time": "2022-06-26T15:54:50.844Z"
   },
   {
    "duration": 14,
    "start_time": "2022-06-26T15:54:50.874Z"
   },
   {
    "duration": 15,
    "start_time": "2022-06-26T15:54:50.889Z"
   },
   {
    "duration": 12,
    "start_time": "2022-06-26T15:54:50.905Z"
   },
   {
    "duration": 5,
    "start_time": "2022-06-26T15:54:50.919Z"
   },
   {
    "duration": 9,
    "start_time": "2022-06-26T15:54:50.926Z"
   },
   {
    "duration": 12,
    "start_time": "2022-06-26T15:54:50.937Z"
   },
   {
    "duration": 22,
    "start_time": "2022-06-26T15:54:50.951Z"
   },
   {
    "duration": 9,
    "start_time": "2022-06-26T15:54:50.975Z"
   },
   {
    "duration": 10,
    "start_time": "2022-06-26T15:54:50.985Z"
   },
   {
    "duration": 8,
    "start_time": "2022-06-26T15:54:50.996Z"
   },
   {
    "duration": 9,
    "start_time": "2022-06-26T15:54:51.005Z"
   },
   {
    "duration": 428,
    "start_time": "2022-06-26T15:54:51.015Z"
   },
   {
    "duration": 28,
    "start_time": "2022-06-26T15:54:51.444Z"
   },
   {
    "duration": 10,
    "start_time": "2022-06-26T15:54:51.474Z"
   },
   {
    "duration": 13,
    "start_time": "2022-06-26T15:54:51.486Z"
   },
   {
    "duration": 9,
    "start_time": "2022-06-26T15:54:51.501Z"
   },
   {
    "duration": 14,
    "start_time": "2022-06-26T15:54:51.511Z"
   },
   {
    "duration": 218,
    "start_time": "2022-06-26T15:54:51.527Z"
   },
   {
    "duration": 398,
    "start_time": "2022-06-26T15:54:51.747Z"
   },
   {
    "duration": 28,
    "start_time": "2022-06-26T15:54:52.147Z"
   },
   {
    "duration": 15,
    "start_time": "2022-06-26T15:54:52.176Z"
   },
   {
    "duration": 16,
    "start_time": "2022-06-26T15:54:52.193Z"
   },
   {
    "duration": 13,
    "start_time": "2022-06-26T15:54:52.210Z"
   },
   {
    "duration": 23,
    "start_time": "2022-06-26T15:54:52.224Z"
   },
   {
    "duration": 179,
    "start_time": "2022-06-26T15:54:52.249Z"
   },
   {
    "duration": 503,
    "start_time": "2022-06-26T15:54:52.429Z"
   },
   {
    "duration": 9,
    "start_time": "2022-06-26T15:54:52.934Z"
   },
   {
    "duration": 27,
    "start_time": "2022-06-26T15:54:52.944Z"
   },
   {
    "duration": 16,
    "start_time": "2022-06-26T15:54:52.976Z"
   },
   {
    "duration": 15,
    "start_time": "2022-06-26T15:54:52.994Z"
   },
   {
    "duration": 216,
    "start_time": "2022-06-26T15:54:53.011Z"
   },
   {
    "duration": 36,
    "start_time": "2022-06-26T15:54:53.229Z"
   },
   {
    "duration": 39,
    "start_time": "2022-06-26T15:54:53.267Z"
   },
   {
    "duration": 6,
    "start_time": "2022-06-26T15:54:53.308Z"
   },
   {
    "duration": 6,
    "start_time": "2022-06-26T15:54:53.316Z"
   },
   {
    "duration": 451,
    "start_time": "2022-06-26T15:54:53.324Z"
   },
   {
    "duration": 318,
    "start_time": "2022-06-26T15:54:53.777Z"
   },
   {
    "duration": 6,
    "start_time": "2022-06-26T15:54:54.097Z"
   },
   {
    "duration": 13,
    "start_time": "2022-06-26T15:54:54.104Z"
   },
   {
    "duration": 4,
    "start_time": "2022-06-26T15:54:54.118Z"
   },
   {
    "duration": 6,
    "start_time": "2022-06-26T15:54:54.124Z"
   },
   {
    "duration": 8,
    "start_time": "2022-06-26T15:54:54.132Z"
   },
   {
    "duration": 30,
    "start_time": "2022-06-26T15:54:54.142Z"
   },
   {
    "duration": 8,
    "start_time": "2022-06-26T15:54:54.173Z"
   },
   {
    "duration": 11,
    "start_time": "2022-06-26T15:54:54.183Z"
   },
   {
    "duration": 10,
    "start_time": "2022-06-26T15:54:54.196Z"
   },
   {
    "duration": 8,
    "start_time": "2022-06-26T15:54:54.207Z"
   },
   {
    "duration": 10,
    "start_time": "2022-06-26T15:54:54.217Z"
   },
   {
    "duration": 412,
    "start_time": "2022-06-26T15:54:54.228Z"
   },
   {
    "duration": 303,
    "start_time": "2022-06-26T15:54:54.642Z"
   },
   {
    "duration": 13,
    "start_time": "2022-06-26T15:54:54.947Z"
   },
   {
    "duration": 18,
    "start_time": "2022-06-26T15:54:54.961Z"
   },
   {
    "duration": 5,
    "start_time": "2022-06-26T15:54:54.980Z"
   },
   {
    "duration": 7,
    "start_time": "2022-06-26T15:54:54.986Z"
   },
   {
    "duration": 8,
    "start_time": "2022-06-26T15:54:54.995Z"
   },
   {
    "duration": 19,
    "start_time": "2022-06-26T15:54:55.004Z"
   },
   {
    "duration": 3,
    "start_time": "2022-06-26T15:57:14.836Z"
   },
   {
    "duration": 107,
    "start_time": "2022-06-26T15:58:55.072Z"
   },
   {
    "duration": 510,
    "start_time": "2022-06-26T15:59:44.029Z"
   },
   {
    "duration": 513,
    "start_time": "2022-06-26T15:59:59.406Z"
   },
   {
    "duration": 4,
    "start_time": "2022-06-26T16:00:26.995Z"
   },
   {
    "duration": 4,
    "start_time": "2022-06-26T16:00:38.999Z"
   },
   {
    "duration": 502,
    "start_time": "2022-06-26T16:00:49.401Z"
   },
   {
    "duration": 556,
    "start_time": "2022-06-26T16:01:17.506Z"
   },
   {
    "duration": 516,
    "start_time": "2022-06-26T16:02:46.368Z"
   },
   {
    "duration": 507,
    "start_time": "2022-06-26T16:06:23.443Z"
   },
   {
    "duration": 521,
    "start_time": "2022-06-26T16:07:05.156Z"
   },
   {
    "duration": 510,
    "start_time": "2022-06-26T16:07:34.907Z"
   },
   {
    "duration": 556,
    "start_time": "2022-06-26T16:08:45.859Z"
   },
   {
    "duration": 511,
    "start_time": "2022-06-26T16:09:09.508Z"
   },
   {
    "duration": 503,
    "start_time": "2022-06-26T16:09:46.634Z"
   },
   {
    "duration": 114,
    "start_time": "2022-06-26T16:12:14.289Z"
   },
   {
    "duration": 828,
    "start_time": "2022-06-26T16:14:57.499Z"
   },
   {
    "duration": 200,
    "start_time": "2022-06-26T16:15:01.104Z"
   },
   {
    "duration": 136,
    "start_time": "2022-06-26T16:27:03.394Z"
   },
   {
    "duration": 533,
    "start_time": "2022-06-26T16:27:04.405Z"
   },
   {
    "duration": 227,
    "start_time": "2022-06-26T16:29:44.594Z"
   },
   {
    "duration": 875,
    "start_time": "2022-06-26T16:29:45.496Z"
   },
   {
    "duration": 1404,
    "start_time": "2022-06-27T18:23:41.107Z"
   },
   {
    "duration": 12,
    "start_time": "2022-06-27T18:23:42.514Z"
   },
   {
    "duration": 259,
    "start_time": "2022-06-27T18:23:42.528Z"
   },
   {
    "duration": 158,
    "start_time": "2022-06-27T18:23:42.789Z"
   },
   {
    "duration": 436,
    "start_time": "2022-06-27T18:23:42.949Z"
   },
   {
    "duration": 127,
    "start_time": "2022-06-27T18:23:43.387Z"
   },
   {
    "duration": 170,
    "start_time": "2022-06-27T18:23:43.515Z"
   },
   {
    "duration": 91,
    "start_time": "2022-06-27T18:23:43.687Z"
   },
   {
    "duration": 44,
    "start_time": "2022-06-27T18:23:43.780Z"
   },
   {
    "duration": 47,
    "start_time": "2022-06-27T18:23:43.827Z"
   },
   {
    "duration": 30,
    "start_time": "2022-06-27T18:23:43.876Z"
   },
   {
    "duration": 5,
    "start_time": "2022-06-27T18:23:43.909Z"
   },
   {
    "duration": 9,
    "start_time": "2022-06-27T18:23:43.916Z"
   },
   {
    "duration": 14,
    "start_time": "2022-06-27T18:23:43.927Z"
   },
   {
    "duration": 4,
    "start_time": "2022-06-27T18:23:43.943Z"
   },
   {
    "duration": 50,
    "start_time": "2022-06-27T18:23:43.949Z"
   },
   {
    "duration": 21,
    "start_time": "2022-06-27T18:23:44.001Z"
   },
   {
    "duration": 22,
    "start_time": "2022-06-27T18:23:44.026Z"
   },
   {
    "duration": 17,
    "start_time": "2022-06-27T18:23:44.050Z"
   },
   {
    "duration": 19,
    "start_time": "2022-06-27T18:23:44.069Z"
   },
   {
    "duration": 40,
    "start_time": "2022-06-27T18:23:44.089Z"
   },
   {
    "duration": 4,
    "start_time": "2022-06-27T18:23:44.131Z"
   },
   {
    "duration": 9,
    "start_time": "2022-06-27T18:23:44.137Z"
   },
   {
    "duration": 16,
    "start_time": "2022-06-27T18:23:44.147Z"
   },
   {
    "duration": 11,
    "start_time": "2022-06-27T18:23:44.165Z"
   },
   {
    "duration": 10,
    "start_time": "2022-06-27T18:23:44.178Z"
   },
   {
    "duration": 13,
    "start_time": "2022-06-27T18:23:44.189Z"
   },
   {
    "duration": 156,
    "start_time": "2022-06-27T18:23:44.207Z"
   },
   {
    "duration": 67,
    "start_time": "2022-06-27T18:23:44.365Z"
   },
   {
    "duration": 76,
    "start_time": "2022-06-27T18:23:44.435Z"
   },
   {
    "duration": 32,
    "start_time": "2022-06-27T18:23:44.513Z"
   },
   {
    "duration": 44,
    "start_time": "2022-06-27T18:23:44.548Z"
   },
   {
    "duration": 53,
    "start_time": "2022-06-27T18:23:44.593Z"
   },
   {
    "duration": 11,
    "start_time": "2022-06-27T18:23:44.649Z"
   },
   {
    "duration": 116,
    "start_time": "2022-06-27T18:23:44.663Z"
   },
   {
    "duration": 45,
    "start_time": "2022-06-27T18:23:44.781Z"
   },
   {
    "duration": 36,
    "start_time": "2022-06-27T18:23:44.828Z"
   },
   {
    "duration": 9,
    "start_time": "2022-06-27T18:23:44.866Z"
   },
   {
    "duration": 10,
    "start_time": "2022-06-27T18:23:44.877Z"
   },
   {
    "duration": 48,
    "start_time": "2022-06-27T18:23:44.890Z"
   },
   {
    "duration": 24,
    "start_time": "2022-06-27T18:23:44.940Z"
   },
   {
    "duration": 43,
    "start_time": "2022-06-27T18:23:44.967Z"
   },
   {
    "duration": 33,
    "start_time": "2022-06-27T18:23:45.011Z"
   },
   {
    "duration": 43,
    "start_time": "2022-06-27T18:23:45.046Z"
   },
   {
    "duration": 125,
    "start_time": "2022-06-27T18:23:45.090Z"
   },
   {
    "duration": 39,
    "start_time": "2022-06-27T18:23:45.216Z"
   },
   {
    "duration": 25,
    "start_time": "2022-06-27T18:23:45.257Z"
   },
   {
    "duration": 19,
    "start_time": "2022-06-27T18:23:45.284Z"
   },
   {
    "duration": 4,
    "start_time": "2022-06-27T18:23:45.327Z"
   },
   {
    "duration": 29,
    "start_time": "2022-06-27T18:23:45.333Z"
   },
   {
    "duration": 3,
    "start_time": "2022-06-27T18:23:45.364Z"
   },
   {
    "duration": 99,
    "start_time": "2022-06-27T18:23:45.369Z"
   },
   {
    "duration": 24,
    "start_time": "2022-06-27T18:23:45.470Z"
   },
   {
    "duration": 8,
    "start_time": "2022-06-27T18:23:45.496Z"
   },
   {
    "duration": 22,
    "start_time": "2022-06-27T18:23:45.506Z"
   },
   {
    "duration": 7,
    "start_time": "2022-06-27T18:23:45.529Z"
   },
   {
    "duration": 6,
    "start_time": "2022-06-27T18:23:45.537Z"
   },
   {
    "duration": 11,
    "start_time": "2022-06-27T18:23:45.544Z"
   },
   {
    "duration": 25,
    "start_time": "2022-06-27T18:23:45.556Z"
   },
   {
    "duration": 9,
    "start_time": "2022-06-27T18:23:45.583Z"
   },
   {
    "duration": 50,
    "start_time": "2022-06-27T18:23:45.593Z"
   },
   {
    "duration": 9,
    "start_time": "2022-06-27T18:23:45.644Z"
   },
   {
    "duration": 21,
    "start_time": "2022-06-27T18:23:45.654Z"
   },
   {
    "duration": 12,
    "start_time": "2022-06-27T18:23:45.677Z"
   },
   {
    "duration": 22,
    "start_time": "2022-06-27T18:23:45.691Z"
   },
   {
    "duration": 19,
    "start_time": "2022-06-27T18:23:45.714Z"
   },
   {
    "duration": 18,
    "start_time": "2022-06-27T18:23:45.735Z"
   },
   {
    "duration": 13,
    "start_time": "2022-06-27T18:23:45.755Z"
   },
   {
    "duration": 22,
    "start_time": "2022-06-27T18:23:45.770Z"
   },
   {
    "duration": 10,
    "start_time": "2022-06-27T18:23:45.794Z"
   },
   {
    "duration": 26,
    "start_time": "2022-06-27T18:23:45.805Z"
   },
   {
    "duration": 14,
    "start_time": "2022-06-27T18:23:45.832Z"
   },
   {
    "duration": 28,
    "start_time": "2022-06-27T18:23:45.848Z"
   },
   {
    "duration": 14,
    "start_time": "2022-06-27T18:23:45.878Z"
   },
   {
    "duration": 15,
    "start_time": "2022-06-27T18:23:45.893Z"
   },
   {
    "duration": 7,
    "start_time": "2022-06-27T18:23:45.909Z"
   },
   {
    "duration": 15,
    "start_time": "2022-06-27T18:23:45.917Z"
   },
   {
    "duration": 9,
    "start_time": "2022-06-27T18:23:45.933Z"
   },
   {
    "duration": 10,
    "start_time": "2022-06-27T18:23:45.943Z"
   },
   {
    "duration": 10,
    "start_time": "2022-06-27T18:23:45.954Z"
   },
   {
    "duration": 15,
    "start_time": "2022-06-27T18:23:45.965Z"
   },
   {
    "duration": 24,
    "start_time": "2022-06-27T18:23:45.986Z"
   },
   {
    "duration": 21,
    "start_time": "2022-06-27T18:23:46.012Z"
   },
   {
    "duration": 8,
    "start_time": "2022-06-27T18:23:46.035Z"
   },
   {
    "duration": 11,
    "start_time": "2022-06-27T18:23:46.046Z"
   },
   {
    "duration": 13,
    "start_time": "2022-06-27T18:23:46.059Z"
   },
   {
    "duration": 8,
    "start_time": "2022-06-27T18:23:46.073Z"
   },
   {
    "duration": 8,
    "start_time": "2022-06-27T18:23:46.082Z"
   },
   {
    "duration": 19,
    "start_time": "2022-06-27T18:23:46.091Z"
   },
   {
    "duration": 9,
    "start_time": "2022-06-27T18:23:46.111Z"
   },
   {
    "duration": 15,
    "start_time": "2022-06-27T18:23:46.122Z"
   },
   {
    "duration": 9,
    "start_time": "2022-06-27T18:23:46.139Z"
   },
   {
    "duration": 11,
    "start_time": "2022-06-27T18:23:46.149Z"
   },
   {
    "duration": 440,
    "start_time": "2022-06-27T18:23:46.165Z"
   },
   {
    "duration": 19,
    "start_time": "2022-06-27T18:23:46.607Z"
   },
   {
    "duration": 10,
    "start_time": "2022-06-27T18:23:46.628Z"
   },
   {
    "duration": 17,
    "start_time": "2022-06-27T18:23:46.640Z"
   },
   {
    "duration": 9,
    "start_time": "2022-06-27T18:23:46.660Z"
   },
   {
    "duration": 23,
    "start_time": "2022-06-27T18:23:46.670Z"
   },
   {
    "duration": 212,
    "start_time": "2022-06-27T18:23:46.694Z"
   },
   {
    "duration": 397,
    "start_time": "2022-06-27T18:23:46.907Z"
   },
   {
    "duration": 24,
    "start_time": "2022-06-27T18:23:47.305Z"
   },
   {
    "duration": 9,
    "start_time": "2022-06-27T18:23:47.330Z"
   },
   {
    "duration": 29,
    "start_time": "2022-06-27T18:23:47.341Z"
   },
   {
    "duration": 13,
    "start_time": "2022-06-27T18:23:47.373Z"
   },
   {
    "duration": 38,
    "start_time": "2022-06-27T18:23:47.388Z"
   },
   {
    "duration": 188,
    "start_time": "2022-06-27T18:23:47.429Z"
   },
   {
    "duration": 504,
    "start_time": "2022-06-27T18:23:47.626Z"
   },
   {
    "duration": 9,
    "start_time": "2022-06-27T18:23:48.131Z"
   },
   {
    "duration": 17,
    "start_time": "2022-06-27T18:23:48.142Z"
   },
   {
    "duration": 12,
    "start_time": "2022-06-27T18:23:48.161Z"
   },
   {
    "duration": 13,
    "start_time": "2022-06-27T18:23:48.174Z"
   },
   {
    "duration": 240,
    "start_time": "2022-06-27T18:23:48.189Z"
   },
   {
    "duration": 30,
    "start_time": "2022-06-27T18:23:48.430Z"
   },
   {
    "duration": 20,
    "start_time": "2022-06-27T18:23:48.462Z"
   },
   {
    "duration": 6,
    "start_time": "2022-06-27T18:23:48.484Z"
   },
   {
    "duration": 37,
    "start_time": "2022-06-27T18:23:48.492Z"
   },
   {
    "duration": 460,
    "start_time": "2022-06-27T18:23:48.531Z"
   },
   {
    "duration": 305,
    "start_time": "2022-06-27T18:23:48.993Z"
   },
   {
    "duration": 7,
    "start_time": "2022-06-27T18:23:49.300Z"
   },
   {
    "duration": 22,
    "start_time": "2022-06-27T18:23:49.309Z"
   },
   {
    "duration": 557,
    "start_time": "2022-06-27T18:23:49.333Z"
   },
   {
    "duration": 129,
    "start_time": "2022-06-27T18:23:49.892Z"
   },
   {
    "duration": 872,
    "start_time": "2022-06-27T18:23:50.026Z"
   },
   {
    "duration": 230,
    "start_time": "2022-06-27T18:23:50.900Z"
   },
   {
    "duration": 6,
    "start_time": "2022-06-27T18:23:51.132Z"
   },
   {
    "duration": 14,
    "start_time": "2022-06-27T18:23:51.140Z"
   },
   {
    "duration": 27,
    "start_time": "2022-06-27T18:23:51.156Z"
   },
   {
    "duration": 34,
    "start_time": "2022-06-27T18:23:51.185Z"
   },
   {
    "duration": 23,
    "start_time": "2022-06-27T18:23:51.222Z"
   },
   {
    "duration": 494,
    "start_time": "2022-06-27T18:23:51.247Z"
   },
   {
    "duration": 321,
    "start_time": "2022-06-27T18:23:51.743Z"
   },
   {
    "duration": 7,
    "start_time": "2022-06-27T18:23:52.065Z"
   },
   {
    "duration": 13,
    "start_time": "2022-06-27T18:23:52.074Z"
   },
   {
    "duration": 189,
    "start_time": "2022-06-27T18:23:52.089Z"
   },
   {
    "duration": 542,
    "start_time": "2022-06-27T18:23:52.281Z"
   },
   {
    "duration": 241,
    "start_time": "2022-06-27T18:23:52.826Z"
   },
   {
    "duration": 939,
    "start_time": "2022-06-27T18:23:53.069Z"
   }
  ],
  "kernelspec": {
   "display_name": "Python 3 (ipykernel)",
   "language": "python",
   "name": "python3"
  },
  "language_info": {
   "codemirror_mode": {
    "name": "ipython",
    "version": 3
   },
   "file_extension": ".py",
   "mimetype": "text/x-python",
   "name": "python",
   "nbconvert_exporter": "python",
   "pygments_lexer": "ipython3",
   "version": "3.9.5"
  },
  "toc": {
   "base_numbering": 1,
   "nav_menu": {},
   "number_sections": false,
   "sideBar": true,
   "skip_h1_title": false,
   "title_cell": "Table of Contents",
   "title_sidebar": "Contents",
   "toc_cell": false,
   "toc_position": {},
   "toc_section_display": true,
   "toc_window_display": false
  }
 },
 "nbformat": 4,
 "nbformat_minor": 2
}
