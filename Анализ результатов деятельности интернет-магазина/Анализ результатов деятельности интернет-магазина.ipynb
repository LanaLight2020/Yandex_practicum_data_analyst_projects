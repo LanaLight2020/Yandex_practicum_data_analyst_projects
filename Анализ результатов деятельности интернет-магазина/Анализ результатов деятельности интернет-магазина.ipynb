{
 "cells": [
  {
   "cell_type": "markdown",
   "metadata": {},
   "source": [
    "## Анализ результатов деятельности интернет-магазина\n",
    "- Используя список гипотез, подготовленный с целью увеличения выручки крупного интернет-магазина, приоритизировать гипотезы. \n",
    "- Проанализировать результаты проведенного A/B-теста.\n",
    "\n",
    "### Описание данных\n",
    "#### Данные для первой части \n",
    "#### Таблица hypothesis:\n",
    "    - Hypothesis — краткое описание гипотезы;\n",
    "    - Reach — охват пользователей по 10-балльной шкале;\n",
    "    - Impact — влияние на пользователей по 10-балльной шкале;\n",
    "    - Confidence — уверенность в гипотезе по 10-балльной шкале;\n",
    "    - Efforts — затраты ресурсов на проверку гипотезы по 10-балльной шкале. Чем больше значение Efforts, тем дороже проверка гипотезы.\n",
    "#### Данные для второй части\n",
    "#### Таблица orders:\n",
    "    - transactionId — идентификатор заказа;\n",
    "    - visitorId — идентификатор пользователя, совершившего заказ;\n",
    "    - date — дата, когда был совершён заказ;\n",
    "    - revenue — выручка заказа;\n",
    "    - group — группа A/B-теста, в которую попал заказ.\n",
    "#### Таблица visitors:\n",
    "    - date — дата;\n",
    "    - group — группа A/B-теста;\n",
    "    - visitors — количество пользователей в указанную дату в указанной группе A/B-теста"
   ]
  },
  {
   "cell_type": "code",
   "execution_count": 1,
   "metadata": {},
   "outputs": [],
   "source": [
    "import pandas as pd\n",
    "import datetime as dt\n",
    "import scipy.stats as stats\n",
    "import numpy as np\n",
    "import matplotlib.pyplot as plt\n",
    "import warnings"
   ]
  },
  {
   "cell_type": "markdown",
   "metadata": {},
   "source": [
    "## Часть 1. Приоритизация гипотез."
   ]
  },
  {
   "cell_type": "code",
   "execution_count": 2,
   "metadata": {
    "scrolled": true
   },
   "outputs": [
    {
     "name": "stdout",
     "output_type": "stream",
     "text": [
      "<class 'pandas.core.frame.DataFrame'>\n",
      "RangeIndex: 9 entries, 0 to 8\n",
      "Data columns (total 5 columns):\n",
      "Hypothesis    9 non-null object\n",
      "Reach         9 non-null int64\n",
      "Impact        9 non-null int64\n",
      "Confidence    9 non-null int64\n",
      "Efforts       9 non-null int64\n",
      "dtypes: int64(4), object(1)\n",
      "memory usage: 488.0+ bytes\n"
     ]
    },
    {
     "data": {
      "text/html": [
       "<div>\n",
       "<style scoped>\n",
       "    .dataframe tbody tr th:only-of-type {\n",
       "        vertical-align: middle;\n",
       "    }\n",
       "\n",
       "    .dataframe tbody tr th {\n",
       "        vertical-align: top;\n",
       "    }\n",
       "\n",
       "    .dataframe thead th {\n",
       "        text-align: right;\n",
       "    }\n",
       "</style>\n",
       "<table border=\"1\" class=\"dataframe\">\n",
       "  <thead>\n",
       "    <tr style=\"text-align: right;\">\n",
       "      <th></th>\n",
       "      <th>Hypothesis</th>\n",
       "      <th>Reach</th>\n",
       "      <th>Impact</th>\n",
       "      <th>Confidence</th>\n",
       "      <th>Efforts</th>\n",
       "    </tr>\n",
       "  </thead>\n",
       "  <tbody>\n",
       "    <tr>\n",
       "      <td>0</td>\n",
       "      <td>Добавить два новых канала привлечения трафика,...</td>\n",
       "      <td>3</td>\n",
       "      <td>10</td>\n",
       "      <td>8</td>\n",
       "      <td>6</td>\n",
       "    </tr>\n",
       "    <tr>\n",
       "      <td>1</td>\n",
       "      <td>Запустить собственную службу доставки, что сок...</td>\n",
       "      <td>2</td>\n",
       "      <td>5</td>\n",
       "      <td>4</td>\n",
       "      <td>10</td>\n",
       "    </tr>\n",
       "    <tr>\n",
       "      <td>2</td>\n",
       "      <td>Добавить блоки рекомендаций товаров на сайт ин...</td>\n",
       "      <td>8</td>\n",
       "      <td>3</td>\n",
       "      <td>7</td>\n",
       "      <td>3</td>\n",
       "    </tr>\n",
       "    <tr>\n",
       "      <td>3</td>\n",
       "      <td>Изменить структура категорий, что увеличит кон...</td>\n",
       "      <td>8</td>\n",
       "      <td>3</td>\n",
       "      <td>3</td>\n",
       "      <td>8</td>\n",
       "    </tr>\n",
       "    <tr>\n",
       "      <td>4</td>\n",
       "      <td>Изменить цвет фона главной страницы, чтобы уве...</td>\n",
       "      <td>3</td>\n",
       "      <td>1</td>\n",
       "      <td>1</td>\n",
       "      <td>1</td>\n",
       "    </tr>\n",
       "    <tr>\n",
       "      <td>5</td>\n",
       "      <td>Добавить страницу отзывов клиентов о магазине,...</td>\n",
       "      <td>3</td>\n",
       "      <td>2</td>\n",
       "      <td>2</td>\n",
       "      <td>3</td>\n",
       "    </tr>\n",
       "    <tr>\n",
       "      <td>6</td>\n",
       "      <td>Показать на главной странице баннеры с актуаль...</td>\n",
       "      <td>5</td>\n",
       "      <td>3</td>\n",
       "      <td>8</td>\n",
       "      <td>3</td>\n",
       "    </tr>\n",
       "    <tr>\n",
       "      <td>7</td>\n",
       "      <td>Добавить форму подписки на все основные страни...</td>\n",
       "      <td>10</td>\n",
       "      <td>7</td>\n",
       "      <td>8</td>\n",
       "      <td>5</td>\n",
       "    </tr>\n",
       "    <tr>\n",
       "      <td>8</td>\n",
       "      <td>Запустить акцию, дающую скидку на товар в день...</td>\n",
       "      <td>1</td>\n",
       "      <td>9</td>\n",
       "      <td>9</td>\n",
       "      <td>5</td>\n",
       "    </tr>\n",
       "  </tbody>\n",
       "</table>\n",
       "</div>"
      ],
      "text/plain": [
       "                                          Hypothesis  Reach  Impact  \\\n",
       "0  Добавить два новых канала привлечения трафика,...      3      10   \n",
       "1  Запустить собственную службу доставки, что сок...      2       5   \n",
       "2  Добавить блоки рекомендаций товаров на сайт ин...      8       3   \n",
       "3  Изменить структура категорий, что увеличит кон...      8       3   \n",
       "4  Изменить цвет фона главной страницы, чтобы уве...      3       1   \n",
       "5  Добавить страницу отзывов клиентов о магазине,...      3       2   \n",
       "6  Показать на главной странице баннеры с актуаль...      5       3   \n",
       "7  Добавить форму подписки на все основные страни...     10       7   \n",
       "8  Запустить акцию, дающую скидку на товар в день...      1       9   \n",
       "\n",
       "   Confidence  Efforts  \n",
       "0           8        6  \n",
       "1           4       10  \n",
       "2           7        3  \n",
       "3           3        8  \n",
       "4           1        1  \n",
       "5           2        3  \n",
       "6           8        3  \n",
       "7           8        5  \n",
       "8           9        5  "
      ]
     },
     "execution_count": 2,
     "metadata": {},
     "output_type": "execute_result"
    }
   ],
   "source": [
    "hypothesis=pd.read_csv('/datasets/hypothesis.csv')\n",
    "hypothesis.info()\n",
    "hypothesis"
   ]
  },
  {
   "cell_type": "code",
   "execution_count": 3,
   "metadata": {},
   "outputs": [
    {
     "data": {
      "text/plain": [
       "Index(['hypothesis', 'reach', 'impact', 'confidence', 'efforts'], dtype='object')"
      ]
     },
     "execution_count": 3,
     "metadata": {},
     "output_type": "execute_result"
    }
   ],
   "source": [
    "hypothesis.columns=hypothesis.columns.str.lower()  \n",
    "hypothesis.columns"
   ]
  },
  {
   "cell_type": "markdown",
   "metadata": {},
   "source": [
    "### Применим фреймворк ICE для приоритизации гипотез. Отсортируем их по убыванию приоритета"
   ]
  },
  {
   "cell_type": "code",
   "execution_count": 4,
   "metadata": {
    "scrolled": true
   },
   "outputs": [
    {
     "data": {
      "text/html": [
       "<div>\n",
       "<style scoped>\n",
       "    .dataframe tbody tr th:only-of-type {\n",
       "        vertical-align: middle;\n",
       "    }\n",
       "\n",
       "    .dataframe tbody tr th {\n",
       "        vertical-align: top;\n",
       "    }\n",
       "\n",
       "    .dataframe thead th {\n",
       "        text-align: right;\n",
       "    }\n",
       "</style>\n",
       "<table border=\"1\" class=\"dataframe\">\n",
       "  <thead>\n",
       "    <tr style=\"text-align: right;\">\n",
       "      <th></th>\n",
       "      <th>hypothesis</th>\n",
       "      <th>ICE</th>\n",
       "    </tr>\n",
       "  </thead>\n",
       "  <tbody>\n",
       "    <tr>\n",
       "      <td>8</td>\n",
       "      <td>Запустить акцию, дающую скидку на товар в день...</td>\n",
       "      <td>16.2</td>\n",
       "    </tr>\n",
       "    <tr>\n",
       "      <td>0</td>\n",
       "      <td>Добавить два новых канала привлечения трафика,...</td>\n",
       "      <td>13.3</td>\n",
       "    </tr>\n",
       "    <tr>\n",
       "      <td>7</td>\n",
       "      <td>Добавить форму подписки на все основные страни...</td>\n",
       "      <td>11.2</td>\n",
       "    </tr>\n",
       "    <tr>\n",
       "      <td>6</td>\n",
       "      <td>Показать на главной странице баннеры с актуаль...</td>\n",
       "      <td>8.0</td>\n",
       "    </tr>\n",
       "    <tr>\n",
       "      <td>2</td>\n",
       "      <td>Добавить блоки рекомендаций товаров на сайт ин...</td>\n",
       "      <td>7.0</td>\n",
       "    </tr>\n",
       "    <tr>\n",
       "      <td>1</td>\n",
       "      <td>Запустить собственную службу доставки, что сок...</td>\n",
       "      <td>2.0</td>\n",
       "    </tr>\n",
       "    <tr>\n",
       "      <td>5</td>\n",
       "      <td>Добавить страницу отзывов клиентов о магазине,...</td>\n",
       "      <td>1.3</td>\n",
       "    </tr>\n",
       "    <tr>\n",
       "      <td>3</td>\n",
       "      <td>Изменить структура категорий, что увеличит кон...</td>\n",
       "      <td>1.1</td>\n",
       "    </tr>\n",
       "    <tr>\n",
       "      <td>4</td>\n",
       "      <td>Изменить цвет фона главной страницы, чтобы уве...</td>\n",
       "      <td>1.0</td>\n",
       "    </tr>\n",
       "  </tbody>\n",
       "</table>\n",
       "</div>"
      ],
      "text/plain": [
       "                                          hypothesis   ICE\n",
       "8  Запустить акцию, дающую скидку на товар в день...  16.2\n",
       "0  Добавить два новых канала привлечения трафика,...  13.3\n",
       "7  Добавить форму подписки на все основные страни...  11.2\n",
       "6  Показать на главной странице баннеры с актуаль...   8.0\n",
       "2  Добавить блоки рекомендаций товаров на сайт ин...   7.0\n",
       "1  Запустить собственную службу доставки, что сок...   2.0\n",
       "5  Добавить страницу отзывов клиентов о магазине,...   1.3\n",
       "3  Изменить структура категорий, что увеличит кон...   1.1\n",
       "4  Изменить цвет фона главной страницы, чтобы уве...   1.0"
      ]
     },
     "execution_count": 4,
     "metadata": {},
     "output_type": "execute_result"
    }
   ],
   "source": [
    "hypothesis['ICE']=np.round(hypothesis['impact']*hypothesis['confidence']/hypothesis['efforts'],1)\n",
    "hypothesis[['hypothesis','ICE']].sort_values(by='ICE', ascending=False)"
   ]
  },
  {
   "cell_type": "markdown",
   "metadata": {},
   "source": [
    "### Наиболее перспективные гипотезы по ICE - это 8, 0, 7 и 6-ая, что неудивительно, ведь у них достаточно высокие значения оценок по предполагаемому влиянию на пользователя (impact) и уверенности оценивающего (confidence) при средних значениях затрат, необходимых на тестирование гипотезы (efforts)."
   ]
  },
  {
   "cell_type": "markdown",
   "metadata": {},
   "source": [
    "### Применим фреймворк RICE для приоритизации гипотез. Отсортируем их по убыванию приоритета"
   ]
  },
  {
   "cell_type": "code",
   "execution_count": 5,
   "metadata": {
    "scrolled": false
   },
   "outputs": [
    {
     "data": {
      "text/html": [
       "<div>\n",
       "<style scoped>\n",
       "    .dataframe tbody tr th:only-of-type {\n",
       "        vertical-align: middle;\n",
       "    }\n",
       "\n",
       "    .dataframe tbody tr th {\n",
       "        vertical-align: top;\n",
       "    }\n",
       "\n",
       "    .dataframe thead th {\n",
       "        text-align: right;\n",
       "    }\n",
       "</style>\n",
       "<table border=\"1\" class=\"dataframe\">\n",
       "  <thead>\n",
       "    <tr style=\"text-align: right;\">\n",
       "      <th></th>\n",
       "      <th>hypothesis</th>\n",
       "      <th>RICE</th>\n",
       "    </tr>\n",
       "  </thead>\n",
       "  <tbody>\n",
       "    <tr>\n",
       "      <td>7</td>\n",
       "      <td>Добавить форму подписки на все основные страни...</td>\n",
       "      <td>112.0</td>\n",
       "    </tr>\n",
       "    <tr>\n",
       "      <td>2</td>\n",
       "      <td>Добавить блоки рекомендаций товаров на сайт ин...</td>\n",
       "      <td>56.0</td>\n",
       "    </tr>\n",
       "    <tr>\n",
       "      <td>0</td>\n",
       "      <td>Добавить два новых канала привлечения трафика,...</td>\n",
       "      <td>40.0</td>\n",
       "    </tr>\n",
       "    <tr>\n",
       "      <td>6</td>\n",
       "      <td>Показать на главной странице баннеры с актуаль...</td>\n",
       "      <td>40.0</td>\n",
       "    </tr>\n",
       "    <tr>\n",
       "      <td>8</td>\n",
       "      <td>Запустить акцию, дающую скидку на товар в день...</td>\n",
       "      <td>16.2</td>\n",
       "    </tr>\n",
       "    <tr>\n",
       "      <td>3</td>\n",
       "      <td>Изменить структура категорий, что увеличит кон...</td>\n",
       "      <td>9.0</td>\n",
       "    </tr>\n",
       "    <tr>\n",
       "      <td>1</td>\n",
       "      <td>Запустить собственную службу доставки, что сок...</td>\n",
       "      <td>4.0</td>\n",
       "    </tr>\n",
       "    <tr>\n",
       "      <td>5</td>\n",
       "      <td>Добавить страницу отзывов клиентов о магазине,...</td>\n",
       "      <td>4.0</td>\n",
       "    </tr>\n",
       "    <tr>\n",
       "      <td>4</td>\n",
       "      <td>Изменить цвет фона главной страницы, чтобы уве...</td>\n",
       "      <td>3.0</td>\n",
       "    </tr>\n",
       "  </tbody>\n",
       "</table>\n",
       "</div>"
      ],
      "text/plain": [
       "                                          hypothesis   RICE\n",
       "7  Добавить форму подписки на все основные страни...  112.0\n",
       "2  Добавить блоки рекомендаций товаров на сайт ин...   56.0\n",
       "0  Добавить два новых канала привлечения трафика,...   40.0\n",
       "6  Показать на главной странице баннеры с актуаль...   40.0\n",
       "8  Запустить акцию, дающую скидку на товар в день...   16.2\n",
       "3  Изменить структура категорий, что увеличит кон...    9.0\n",
       "1  Запустить собственную службу доставки, что сок...    4.0\n",
       "5  Добавить страницу отзывов клиентов о магазине,...    4.0\n",
       "4  Изменить цвет фона главной страницы, чтобы уве...    3.0"
      ]
     },
     "execution_count": 5,
     "metadata": {},
     "output_type": "execute_result"
    }
   ],
   "source": [
    "hypothesis['RICE']=hypothesis['reach']*hypothesis['impact']*hypothesis['confidence']/hypothesis['efforts']\n",
    "hypothesis[['hypothesis','RICE']].sort_values(by='RICE', ascending=False)"
   ]
  },
  {
   "cell_type": "markdown",
   "metadata": {},
   "source": [
    "## Вывод\n",
    "1. На основе рассчитанных показателей можно сделать вывод, что самой первой в очередь на проверку имеет смысл поставить гипотезу №7, т.к. ее изменения достаточно сильно (Impact=7) скажутся на макимальном количестве пользователей (reach = 10) - в этом в большой мере уверен оценивающий(confidence=8) - при средних затратах на ее проведение (efforts=5).\n",
    "2. Следующие после гипотезы №7 в рейтинге по показателю RICE гипотезы значительно уступают ей по величине показателя RICE (в 2 раза и более) из-за отставания по отдельным его составляющим показателям - либо охват пользователей мал (гипотеза №0, reach = 3), либо влияние изменения на пользователей невелико (гипотезы №2,6, impact=3). Поэтому тестирование этих гипотез имеет смысл проводить, если показатель, по которому оценка небольшая не является важным для эксперимента."
   ]
  },
  {
   "cell_type": "markdown",
   "metadata": {},
   "source": [
    " "
   ]
  },
  {
   "cell_type": "markdown",
   "metadata": {},
   "source": [
    "## Часть 2. Анализ A/B-теста"
   ]
  },
  {
   "cell_type": "code",
   "execution_count": 6,
   "metadata": {
    "scrolled": true
   },
   "outputs": [
    {
     "name": "stdout",
     "output_type": "stream",
     "text": [
      "<class 'pandas.core.frame.DataFrame'>\n",
      "RangeIndex: 1197 entries, 0 to 1196\n",
      "Data columns (total 5 columns):\n",
      "transactionId    1197 non-null int64\n",
      "visitorId        1197 non-null int64\n",
      "date             1197 non-null object\n",
      "revenue          1197 non-null int64\n",
      "group            1197 non-null object\n",
      "dtypes: int64(3), object(2)\n",
      "memory usage: 46.9+ KB\n"
     ]
    },
    {
     "data": {
      "text/html": [
       "<div>\n",
       "<style scoped>\n",
       "    .dataframe tbody tr th:only-of-type {\n",
       "        vertical-align: middle;\n",
       "    }\n",
       "\n",
       "    .dataframe tbody tr th {\n",
       "        vertical-align: top;\n",
       "    }\n",
       "\n",
       "    .dataframe thead th {\n",
       "        text-align: right;\n",
       "    }\n",
       "</style>\n",
       "<table border=\"1\" class=\"dataframe\">\n",
       "  <thead>\n",
       "    <tr style=\"text-align: right;\">\n",
       "      <th></th>\n",
       "      <th>transactionId</th>\n",
       "      <th>visitorId</th>\n",
       "      <th>date</th>\n",
       "      <th>revenue</th>\n",
       "      <th>group</th>\n",
       "    </tr>\n",
       "  </thead>\n",
       "  <tbody>\n",
       "    <tr>\n",
       "      <td>0</td>\n",
       "      <td>3667963787</td>\n",
       "      <td>3312258926</td>\n",
       "      <td>2019-08-15</td>\n",
       "      <td>1650</td>\n",
       "      <td>B</td>\n",
       "    </tr>\n",
       "    <tr>\n",
       "      <td>1</td>\n",
       "      <td>2804400009</td>\n",
       "      <td>3642806036</td>\n",
       "      <td>2019-08-15</td>\n",
       "      <td>730</td>\n",
       "      <td>B</td>\n",
       "    </tr>\n",
       "    <tr>\n",
       "      <td>2</td>\n",
       "      <td>2961555356</td>\n",
       "      <td>4069496402</td>\n",
       "      <td>2019-08-15</td>\n",
       "      <td>400</td>\n",
       "      <td>A</td>\n",
       "    </tr>\n",
       "    <tr>\n",
       "      <td>3</td>\n",
       "      <td>3797467345</td>\n",
       "      <td>1196621759</td>\n",
       "      <td>2019-08-15</td>\n",
       "      <td>9759</td>\n",
       "      <td>B</td>\n",
       "    </tr>\n",
       "    <tr>\n",
       "      <td>4</td>\n",
       "      <td>2282983706</td>\n",
       "      <td>2322279887</td>\n",
       "      <td>2019-08-15</td>\n",
       "      <td>2308</td>\n",
       "      <td>B</td>\n",
       "    </tr>\n",
       "  </tbody>\n",
       "</table>\n",
       "</div>"
      ],
      "text/plain": [
       "   transactionId   visitorId        date  revenue group\n",
       "0     3667963787  3312258926  2019-08-15     1650     B\n",
       "1     2804400009  3642806036  2019-08-15      730     B\n",
       "2     2961555356  4069496402  2019-08-15      400     A\n",
       "3     3797467345  1196621759  2019-08-15     9759     B\n",
       "4     2282983706  2322279887  2019-08-15     2308     B"
      ]
     },
     "execution_count": 6,
     "metadata": {},
     "output_type": "execute_result"
    }
   ],
   "source": [
    "orders=pd.read_csv('/datasets/orders.csv')\n",
    "orders.info()\n",
    "orders.head()"
   ]
  },
  {
   "cell_type": "code",
   "execution_count": 7,
   "metadata": {},
   "outputs": [
    {
     "data": {
      "text/html": [
       "<div>\n",
       "<style scoped>\n",
       "    .dataframe tbody tr th:only-of-type {\n",
       "        vertical-align: middle;\n",
       "    }\n",
       "\n",
       "    .dataframe tbody tr th {\n",
       "        vertical-align: top;\n",
       "    }\n",
       "\n",
       "    .dataframe thead th {\n",
       "        text-align: right;\n",
       "    }\n",
       "</style>\n",
       "<table border=\"1\" class=\"dataframe\">\n",
       "  <thead>\n",
       "    <tr style=\"text-align: right;\">\n",
       "      <th></th>\n",
       "      <th>transactionId</th>\n",
       "      <th>visitorId</th>\n",
       "      <th>date</th>\n",
       "      <th>revenue</th>\n",
       "      <th>group</th>\n",
       "    </tr>\n",
       "  </thead>\n",
       "  <tbody>\n",
       "    <tr>\n",
       "      <td>min</td>\n",
       "      <td>1062393</td>\n",
       "      <td>5114589</td>\n",
       "      <td>2019-08-01</td>\n",
       "      <td>50</td>\n",
       "      <td>A</td>\n",
       "    </tr>\n",
       "    <tr>\n",
       "      <td>max</td>\n",
       "      <td>4293855558</td>\n",
       "      <td>4283872382</td>\n",
       "      <td>2019-08-31</td>\n",
       "      <td>1294500</td>\n",
       "      <td>B</td>\n",
       "    </tr>\n",
       "    <tr>\n",
       "      <td>nunique</td>\n",
       "      <td>1197</td>\n",
       "      <td>1031</td>\n",
       "      <td>31</td>\n",
       "      <td>713</td>\n",
       "      <td>2</td>\n",
       "    </tr>\n",
       "  </tbody>\n",
       "</table>\n",
       "</div>"
      ],
      "text/plain": [
       "         transactionId   visitorId        date  revenue group\n",
       "min            1062393     5114589  2019-08-01       50     A\n",
       "max         4293855558  4283872382  2019-08-31  1294500     B\n",
       "nunique           1197        1031          31      713     2"
      ]
     },
     "execution_count": 7,
     "metadata": {},
     "output_type": "execute_result"
    }
   ],
   "source": [
    "orders.agg(['min','max','nunique'])"
   ]
  },
  {
   "cell_type": "code",
   "execution_count": 8,
   "metadata": {},
   "outputs": [
    {
     "name": "stdout",
     "output_type": "stream",
     "text": [
      "<class 'pandas.core.frame.DataFrame'>\n",
      "RangeIndex: 62 entries, 0 to 61\n",
      "Data columns (total 3 columns):\n",
      "date        62 non-null object\n",
      "group       62 non-null object\n",
      "visitors    62 non-null int64\n",
      "dtypes: int64(1), object(2)\n",
      "memory usage: 1.6+ KB\n"
     ]
    },
    {
     "data": {
      "text/html": [
       "<div>\n",
       "<style scoped>\n",
       "    .dataframe tbody tr th:only-of-type {\n",
       "        vertical-align: middle;\n",
       "    }\n",
       "\n",
       "    .dataframe tbody tr th {\n",
       "        vertical-align: top;\n",
       "    }\n",
       "\n",
       "    .dataframe thead th {\n",
       "        text-align: right;\n",
       "    }\n",
       "</style>\n",
       "<table border=\"1\" class=\"dataframe\">\n",
       "  <thead>\n",
       "    <tr style=\"text-align: right;\">\n",
       "      <th></th>\n",
       "      <th>date</th>\n",
       "      <th>group</th>\n",
       "      <th>visitors</th>\n",
       "    </tr>\n",
       "  </thead>\n",
       "  <tbody>\n",
       "    <tr>\n",
       "      <td>0</td>\n",
       "      <td>2019-08-01</td>\n",
       "      <td>A</td>\n",
       "      <td>719</td>\n",
       "    </tr>\n",
       "    <tr>\n",
       "      <td>1</td>\n",
       "      <td>2019-08-02</td>\n",
       "      <td>A</td>\n",
       "      <td>619</td>\n",
       "    </tr>\n",
       "    <tr>\n",
       "      <td>2</td>\n",
       "      <td>2019-08-03</td>\n",
       "      <td>A</td>\n",
       "      <td>507</td>\n",
       "    </tr>\n",
       "    <tr>\n",
       "      <td>3</td>\n",
       "      <td>2019-08-04</td>\n",
       "      <td>A</td>\n",
       "      <td>717</td>\n",
       "    </tr>\n",
       "    <tr>\n",
       "      <td>4</td>\n",
       "      <td>2019-08-05</td>\n",
       "      <td>A</td>\n",
       "      <td>756</td>\n",
       "    </tr>\n",
       "  </tbody>\n",
       "</table>\n",
       "</div>"
      ],
      "text/plain": [
       "         date group  visitors\n",
       "0  2019-08-01     A       719\n",
       "1  2019-08-02     A       619\n",
       "2  2019-08-03     A       507\n",
       "3  2019-08-04     A       717\n",
       "4  2019-08-05     A       756"
      ]
     },
     "execution_count": 8,
     "metadata": {},
     "output_type": "execute_result"
    }
   ],
   "source": [
    "visitors=pd.read_csv('/datasets/visitors.csv')\n",
    "visitors.info()\n",
    "visitors.head()"
   ]
  },
  {
   "cell_type": "code",
   "execution_count": 9,
   "metadata": {
    "scrolled": false
   },
   "outputs": [
    {
     "data": {
      "text/html": [
       "<div>\n",
       "<style scoped>\n",
       "    .dataframe tbody tr th:only-of-type {\n",
       "        vertical-align: middle;\n",
       "    }\n",
       "\n",
       "    .dataframe tbody tr th {\n",
       "        vertical-align: top;\n",
       "    }\n",
       "\n",
       "    .dataframe thead th {\n",
       "        text-align: right;\n",
       "    }\n",
       "</style>\n",
       "<table border=\"1\" class=\"dataframe\">\n",
       "  <thead>\n",
       "    <tr style=\"text-align: right;\">\n",
       "      <th></th>\n",
       "      <th>date</th>\n",
       "      <th>group</th>\n",
       "      <th>visitors</th>\n",
       "    </tr>\n",
       "  </thead>\n",
       "  <tbody>\n",
       "    <tr>\n",
       "      <td>min</td>\n",
       "      <td>2019-08-01</td>\n",
       "      <td>A</td>\n",
       "      <td>361</td>\n",
       "    </tr>\n",
       "    <tr>\n",
       "      <td>max</td>\n",
       "      <td>2019-08-31</td>\n",
       "      <td>B</td>\n",
       "      <td>770</td>\n",
       "    </tr>\n",
       "    <tr>\n",
       "      <td>nunique</td>\n",
       "      <td>31</td>\n",
       "      <td>2</td>\n",
       "      <td>58</td>\n",
       "    </tr>\n",
       "  </tbody>\n",
       "</table>\n",
       "</div>"
      ],
      "text/plain": [
       "               date group  visitors\n",
       "min      2019-08-01     A       361\n",
       "max      2019-08-31     B       770\n",
       "nunique          31     2        58"
      ]
     },
     "execution_count": 9,
     "metadata": {},
     "output_type": "execute_result"
    }
   ],
   "source": [
    "visitors.agg(['min','max','nunique'])"
   ]
  },
  {
   "cell_type": "markdown",
   "metadata": {},
   "source": [
    "### В таблицах \"orders\" и \"visitors\" представлена информация за август 2019 года - в сумме в обеих группах (А и В) за это время 1031 уникальный пользователь сделал 1197 заказов."
   ]
  },
  {
   "cell_type": "markdown",
   "metadata": {},
   "source": [
    "### Преобразуем формат дат в таблицах \"orders\" и \"visitors\""
   ]
  },
  {
   "cell_type": "code",
   "execution_count": 10,
   "metadata": {
    "scrolled": true
   },
   "outputs": [
    {
     "name": "stdout",
     "output_type": "stream",
     "text": [
      "<class 'pandas.core.frame.DataFrame'>\n",
      "RangeIndex: 1197 entries, 0 to 1196\n",
      "Data columns (total 5 columns):\n",
      "transactionId    1197 non-null int64\n",
      "visitorId        1197 non-null int64\n",
      "date             1197 non-null datetime64[ns]\n",
      "revenue          1197 non-null int64\n",
      "group            1197 non-null object\n",
      "dtypes: datetime64[ns](1), int64(3), object(1)\n",
      "memory usage: 46.9+ KB\n",
      "\n",
      "<class 'pandas.core.frame.DataFrame'>\n",
      "RangeIndex: 62 entries, 0 to 61\n",
      "Data columns (total 3 columns):\n",
      "date        62 non-null datetime64[ns]\n",
      "group       62 non-null object\n",
      "visitors    62 non-null int64\n",
      "dtypes: datetime64[ns](1), int64(1), object(1)\n",
      "memory usage: 1.6+ KB\n"
     ]
    }
   ],
   "source": [
    "orders['date'] = orders['date'].map(lambda x: dt.datetime.strptime(x, '%Y-%m-%d'))\n",
    "orders.info()\n",
    "print()\n",
    "visitors['date'] = visitors['date'].map(lambda x: dt.datetime.strptime(x, '%Y-%m-%d'))\n",
    "visitors.info()"
   ]
  },
  {
   "cell_type": "markdown",
   "metadata": {},
   "source": [
    "### Проверим таблицу \"orders\" на наличие одинаковых Id пользователей в группах А и В, чего быть не должно:\n",
    "    1. Посчитаем, во сколько групп входит каждый уникальный пользователь - в идеальном варианте в случае \"правильных\" данных должен входить только в одну.\n",
    "    2. Создадим список пользователей, которые почему-то входят одновременно в обе тестовые группы."
   ]
  },
  {
   "cell_type": "code",
   "execution_count": 11,
   "metadata": {
    "scrolled": true
   },
   "outputs": [
    {
     "name": "stdout",
     "output_type": "stream",
     "text": [
      "\n",
      "58 пользователей, которые одновременно присутствуют в обеих тестовых группах\n"
     ]
    },
    {
     "data": {
      "text/html": [
       "<div>\n",
       "<style scoped>\n",
       "    .dataframe tbody tr th:only-of-type {\n",
       "        vertical-align: middle;\n",
       "    }\n",
       "\n",
       "    .dataframe tbody tr th {\n",
       "        vertical-align: top;\n",
       "    }\n",
       "\n",
       "    .dataframe thead th {\n",
       "        text-align: right;\n",
       "    }\n",
       "</style>\n",
       "<table border=\"1\" class=\"dataframe\">\n",
       "  <thead>\n",
       "    <tr style=\"text-align: right;\">\n",
       "      <th></th>\n",
       "      <th></th>\n",
       "      <th>transactionId</th>\n",
       "    </tr>\n",
       "    <tr>\n",
       "      <th>visitorId</th>\n",
       "      <th>group</th>\n",
       "      <th></th>\n",
       "    </tr>\n",
       "  </thead>\n",
       "  <tbody>\n",
       "    <tr>\n",
       "      <td rowspan=\"2\" valign=\"top\">8300375</td>\n",
       "      <td>A</td>\n",
       "      <td>1</td>\n",
       "    </tr>\n",
       "    <tr>\n",
       "      <td>B</td>\n",
       "      <td>1</td>\n",
       "    </tr>\n",
       "    <tr>\n",
       "      <td rowspan=\"2\" valign=\"top\">199603092</td>\n",
       "      <td>A</td>\n",
       "      <td>4</td>\n",
       "    </tr>\n",
       "    <tr>\n",
       "      <td>B</td>\n",
       "      <td>1</td>\n",
       "    </tr>\n",
       "    <tr>\n",
       "      <td>232979603</td>\n",
       "      <td>A</td>\n",
       "      <td>1</td>\n",
       "    </tr>\n",
       "    <tr>\n",
       "      <td>...</td>\n",
       "      <td>...</td>\n",
       "      <td>...</td>\n",
       "    </tr>\n",
       "    <tr>\n",
       "      <td>4186807279</td>\n",
       "      <td>B</td>\n",
       "      <td>2</td>\n",
       "    </tr>\n",
       "    <tr>\n",
       "      <td rowspan=\"2\" valign=\"top\">4256040402</td>\n",
       "      <td>A</td>\n",
       "      <td>7</td>\n",
       "    </tr>\n",
       "    <tr>\n",
       "      <td>B</td>\n",
       "      <td>4</td>\n",
       "    </tr>\n",
       "    <tr>\n",
       "      <td rowspan=\"2\" valign=\"top\">4266935830</td>\n",
       "      <td>A</td>\n",
       "      <td>1</td>\n",
       "    </tr>\n",
       "    <tr>\n",
       "      <td>B</td>\n",
       "      <td>1</td>\n",
       "    </tr>\n",
       "  </tbody>\n",
       "</table>\n",
       "<p>116 rows × 1 columns</p>\n",
       "</div>"
      ],
      "text/plain": [
       "                  transactionId\n",
       "visitorId  group               \n",
       "8300375    A                  1\n",
       "           B                  1\n",
       "199603092  A                  4\n",
       "           B                  1\n",
       "232979603  A                  1\n",
       "...                         ...\n",
       "4186807279 B                  2\n",
       "4256040402 A                  7\n",
       "           B                  4\n",
       "4266935830 A                  1\n",
       "           B                  1\n",
       "\n",
       "[116 rows x 1 columns]"
      ]
     },
     "execution_count": 11,
     "metadata": {},
     "output_type": "execute_result"
    }
   ],
   "source": [
    "user_group_counts=orders.groupby(['visitorId']).agg({'group':'nunique'}).reset_index()\n",
    "wrong_user_list=user_group_counts[user_group_counts['group']>1]['visitorId'].drop_duplicates()\n",
    "print()\n",
    "print(len(wrong_user_list),'пользователей, которые одновременно присутствуют в обеих тестовых группах')\n",
    "orders[orders['visitorId'].isin(wrong_user_list)].groupby(['visitorId','group']).agg({'transactionId':'nunique'})"
   ]
  },
  {
   "cell_type": "markdown",
   "metadata": {},
   "source": [
    "### Очистим таблицу \"orders\" от строк с повторяющимися в обеих группах пользователями (58 пользователей)"
   ]
  },
  {
   "cell_type": "code",
   "execution_count": 12,
   "metadata": {},
   "outputs": [],
   "source": [
    "orders=orders[~orders['visitorId'].isin(wrong_user_list)]"
   ]
  },
  {
   "cell_type": "code",
   "execution_count": 13,
   "metadata": {},
   "outputs": [
    {
     "data": {
      "text/plain": [
       "(1016, 5)"
      ]
     },
     "execution_count": 13,
     "metadata": {},
     "output_type": "execute_result"
    }
   ],
   "source": [
    "orders.shape"
   ]
  },
  {
   "cell_type": "markdown",
   "metadata": {},
   "source": [
    "### Проанализируем результаты A/B-теста"
   ]
  },
  {
   "cell_type": "markdown",
   "metadata": {},
   "source": [
    "### 1. Построим график кумулятивной выручки по группам:\n",
    "    1. Сгруппируем данные таблицы \"orders\" по датам и тестовым группам, рассчитав число заказов и уникальных заказчиков в каждой группе, а также сумму выручки.\n",
    "    2. Объединим получившуюся таблицу с таблицей \"visitors\" и более удобно переименуем ее столбцы.\n",
    "    3. Разделим получившуюся таблицу на две в зависимости от тестовой группы.\n",
    "    4. Посчитаем для каждой тестовой группы кумулятивную выручку.\n",
    "    5. Построим график кумулятивной выручки по группам."
   ]
  },
  {
   "cell_type": "code",
   "execution_count": 14,
   "metadata": {},
   "outputs": [
    {
     "data": {
      "text/html": [
       "<div>\n",
       "<style scoped>\n",
       "    .dataframe tbody tr th:only-of-type {\n",
       "        vertical-align: middle;\n",
       "    }\n",
       "\n",
       "    .dataframe tbody tr th {\n",
       "        vertical-align: top;\n",
       "    }\n",
       "\n",
       "    .dataframe thead th {\n",
       "        text-align: right;\n",
       "    }\n",
       "</style>\n",
       "<table border=\"1\" class=\"dataframe\">\n",
       "  <thead>\n",
       "    <tr style=\"text-align: right;\">\n",
       "      <th></th>\n",
       "      <th>date</th>\n",
       "      <th>group</th>\n",
       "      <th>orders</th>\n",
       "      <th>buyers</th>\n",
       "      <th>revenue</th>\n",
       "      <th>visitors</th>\n",
       "      <th>cum_revenue</th>\n",
       "    </tr>\n",
       "  </thead>\n",
       "  <tbody>\n",
       "    <tr>\n",
       "      <td>1</td>\n",
       "      <td>2019-08-01</td>\n",
       "      <td>B</td>\n",
       "      <td>17</td>\n",
       "      <td>17</td>\n",
       "      <td>59758</td>\n",
       "      <td>713</td>\n",
       "      <td>59758</td>\n",
       "    </tr>\n",
       "    <tr>\n",
       "      <td>3</td>\n",
       "      <td>2019-08-02</td>\n",
       "      <td>B</td>\n",
       "      <td>23</td>\n",
       "      <td>22</td>\n",
       "      <td>162043</td>\n",
       "      <td>581</td>\n",
       "      <td>221801</td>\n",
       "    </tr>\n",
       "    <tr>\n",
       "      <td>5</td>\n",
       "      <td>2019-08-03</td>\n",
       "      <td>B</td>\n",
       "      <td>14</td>\n",
       "      <td>14</td>\n",
       "      <td>67049</td>\n",
       "      <td>509</td>\n",
       "      <td>288850</td>\n",
       "    </tr>\n",
       "  </tbody>\n",
       "</table>\n",
       "</div>"
      ],
      "text/plain": [
       "        date group  orders  buyers  revenue  visitors  cum_revenue\n",
       "1 2019-08-01     B      17      17    59758       713        59758\n",
       "3 2019-08-02     B      23      22   162043       581       221801\n",
       "5 2019-08-03     B      14      14    67049       509       288850"
      ]
     },
     "execution_count": 14,
     "metadata": {},
     "output_type": "execute_result"
    }
   ],
   "source": [
    "grouped_orders=orders.groupby(['date', 'group']).agg({'transactionId' : 'count','visitorId' :'nunique','revenue' : 'sum'})\n",
    "sum_table=grouped_orders.merge(visitors, on=['date', 'group'])\n",
    "sum_table.columns = ['date', 'group', 'orders', 'buyers', 'revenue', 'visitors']\n",
    "warnings.filterwarnings('ignore')\n",
    "sum_table_A=sum_table[sum_table['group']=='A']\n",
    "sum_table_B=sum_table[sum_table['group']=='B']\n",
    "sum_table_A['cum_revenue']=sum_table_A['revenue'].cumsum()\n",
    "sum_table_B['cum_revenue']=sum_table_B['revenue'].cumsum()\n",
    "sum_table_B.head(3)"
   ]
  },
  {
   "cell_type": "code",
   "execution_count": 15,
   "metadata": {
    "scrolled": false
   },
   "outputs": [
    {
     "data": {
      "image/png": "[encoded data removed]",
      "text/plain": [
       "<Figure size 648x360 with 1 Axes>"
      ]
     },
     "metadata": {
      "needs_background": "light"
     },
     "output_type": "display_data"
    }
   ],
   "source": [
    "# Строим график выручки группы А\n",
    "plt.figure(figsize=(9,5))\n",
    "plt.plot(sum_table_A['date'], sum_table_A['cum_revenue'], label='A')\n",
    "# Строим график выручки группы B\n",
    "plt.plot(sum_table_B['date'], sum_table_B['cum_revenue'], label='B')\n",
    "plt.legend() \n",
    "plt.grid(True)\n",
    "plt.title('Изменение кумулятивной выручки в августе 2018 года\\nдля тестовых групп А и В')\n",
    "plt.xticks(rotation=45)\n",
    "plt.xlabel('Даты')\n",
    "plt.ylabel('Выручка, руб')\n",
    "plt.show()"
   ]
  },
  {
   "cell_type": "markdown",
   "metadata": {},
   "source": [
    "### Из графика видно, что примерно полмесяца выручки в тестовых группах росли приблизительно одинаково - в группе В выручка немного опережала выручку в группе А. Однако после крупного заказа 19 августа, выручка в группе В резко \"вырвалась вперед\" - похоже на выброс, который искажает результаты исследования."
   ]
  },
  {
   "cell_type": "markdown",
   "metadata": {},
   "source": [
    "### 2. Построим график кумулятивного среднего чека по группам:\n",
    "    1. Рассчитаем кумулятивное число заказов и разделим кумулятивную выручку на кумулятивное число заказов для каждой тестовой группы.\n",
    "    2. Построим график кумулятивного среднего чека по группам."
   ]
  },
  {
   "cell_type": "code",
   "execution_count": 16,
   "metadata": {
    "scrolled": true
   },
   "outputs": [
    {
     "data": {
      "text/html": [
       "<div>\n",
       "<style scoped>\n",
       "    .dataframe tbody tr th:only-of-type {\n",
       "        vertical-align: middle;\n",
       "    }\n",
       "\n",
       "    .dataframe tbody tr th {\n",
       "        vertical-align: top;\n",
       "    }\n",
       "\n",
       "    .dataframe thead th {\n",
       "        text-align: right;\n",
       "    }\n",
       "</style>\n",
       "<table border=\"1\" class=\"dataframe\">\n",
       "  <thead>\n",
       "    <tr style=\"text-align: right;\">\n",
       "      <th></th>\n",
       "      <th>date</th>\n",
       "      <th>group</th>\n",
       "      <th>orders</th>\n",
       "      <th>buyers</th>\n",
       "      <th>revenue</th>\n",
       "      <th>visitors</th>\n",
       "      <th>cum_revenue</th>\n",
       "      <th>cum_orders</th>\n",
       "      <th>revenue_per_order</th>\n",
       "    </tr>\n",
       "  </thead>\n",
       "  <tbody>\n",
       "    <tr>\n",
       "      <td>1</td>\n",
       "      <td>2019-08-01</td>\n",
       "      <td>B</td>\n",
       "      <td>17</td>\n",
       "      <td>17</td>\n",
       "      <td>59758</td>\n",
       "      <td>713</td>\n",
       "      <td>59758</td>\n",
       "      <td>17</td>\n",
       "      <td>3515.18</td>\n",
       "    </tr>\n",
       "    <tr>\n",
       "      <td>3</td>\n",
       "      <td>2019-08-02</td>\n",
       "      <td>B</td>\n",
       "      <td>23</td>\n",
       "      <td>22</td>\n",
       "      <td>162043</td>\n",
       "      <td>581</td>\n",
       "      <td>221801</td>\n",
       "      <td>40</td>\n",
       "      <td>5545.02</td>\n",
       "    </tr>\n",
       "    <tr>\n",
       "      <td>5</td>\n",
       "      <td>2019-08-03</td>\n",
       "      <td>B</td>\n",
       "      <td>14</td>\n",
       "      <td>14</td>\n",
       "      <td>67049</td>\n",
       "      <td>509</td>\n",
       "      <td>288850</td>\n",
       "      <td>54</td>\n",
       "      <td>5349.07</td>\n",
       "    </tr>\n",
       "  </tbody>\n",
       "</table>\n",
       "</div>"
      ],
      "text/plain": [
       "        date group  orders  buyers  revenue  visitors  cum_revenue  \\\n",
       "1 2019-08-01     B      17      17    59758       713        59758   \n",
       "3 2019-08-02     B      23      22   162043       581       221801   \n",
       "5 2019-08-03     B      14      14    67049       509       288850   \n",
       "\n",
       "   cum_orders  revenue_per_order  \n",
       "1          17            3515.18  \n",
       "3          40            5545.02  \n",
       "5          54            5349.07  "
      ]
     },
     "execution_count": 16,
     "metadata": {},
     "output_type": "execute_result"
    }
   ],
   "source": [
    "sum_table_A['cum_orders']=sum_table_A['orders'].cumsum()\n",
    "sum_table_B['cum_orders']=sum_table_B['orders'].cumsum()\n",
    "sum_table_A['revenue_per_order']=np.round(sum_table_A['cum_revenue']/sum_table_A['cum_orders'],2)\n",
    "sum_table_B['revenue_per_order']=np.round(sum_table_B['cum_revenue']/sum_table_B['cum_orders'],2)\n",
    "sum_table_B.head(3)"
   ]
  },
  {
   "cell_type": "code",
   "execution_count": 17,
   "metadata": {
    "scrolled": false
   },
   "outputs": [
    {
     "data": {
      "image/png": "[encoded data removed]",
      "text/plain": [
       "<Figure size 648x360 with 1 Axes>"
      ]
     },
     "metadata": {
      "needs_background": "light"
     },
     "output_type": "display_data"
    }
   ],
   "source": [
    "plt.figure(figsize=(9,5))\n",
    "plt.plot(sum_table_A['date'], sum_table_A['revenue_per_order'], label='A')\n",
    "plt.plot(sum_table_B['date'], sum_table_B['revenue_per_order'], label='B')\n",
    "plt.legend() \n",
    "plt.grid(True)\n",
    "plt.title('Изменение кумулятивного среднего чека в августе 2018 года\\nдля тестовых групп А и В')\n",
    "plt.xticks(rotation=45)\n",
    "plt.xlabel('Даты')\n",
    "plt.ylabel('Cредний чек, руб')\n",
    "plt.show()"
   ]
  },
  {
   "cell_type": "markdown",
   "metadata": {},
   "source": [
    "### На графике кумулятивного среднего чека также видно, что 19 августа была совершена очень крупная покупка покупателем из группы В - число покупателей сильно не увеличилось, а сумма выручки возросла - следовательно резко вырос и средний чек. Если бы не крупаня покупка 19 числа, то не исключено, что к концу рассматриваемого периода группа А опередила бы группу В по рассматриваемому показателю. Из-за имеющегося выброса сложно судить о результатах тестирования, о том, установился ли процесс, прекратились ли колебания показателей."
   ]
  },
  {
   "cell_type": "markdown",
   "metadata": {},
   "source": [
    "### 3. Построим график относительного изменения кумулятивного среднего чека группы B к группе A:\n",
    "    1. Объединим таблицы для данных по тестам А и В и рассчитаем показатель относительного изменения кумулятивного среднего чека.\n",
    "    2. Построим график относительного изменения кумулятивного среднего чека группы B к группе A"
   ]
  },
  {
   "cell_type": "code",
   "execution_count": 18,
   "metadata": {
    "scrolled": true
   },
   "outputs": [
    {
     "data": {
      "text/html": [
       "<div>\n",
       "<style scoped>\n",
       "    .dataframe tbody tr th:only-of-type {\n",
       "        vertical-align: middle;\n",
       "    }\n",
       "\n",
       "    .dataframe tbody tr th {\n",
       "        vertical-align: top;\n",
       "    }\n",
       "\n",
       "    .dataframe thead th {\n",
       "        text-align: right;\n",
       "    }\n",
       "</style>\n",
       "<table border=\"1\" class=\"dataframe\">\n",
       "  <thead>\n",
       "    <tr style=\"text-align: right;\">\n",
       "      <th></th>\n",
       "      <th>date</th>\n",
       "      <th>group_A</th>\n",
       "      <th>orders_A</th>\n",
       "      <th>buyers_A</th>\n",
       "      <th>revenue_A</th>\n",
       "      <th>visitors_A</th>\n",
       "      <th>cum_revenue_A</th>\n",
       "      <th>cum_orders_A</th>\n",
       "      <th>revenue_per_order_A</th>\n",
       "      <th>group_B</th>\n",
       "      <th>orders_B</th>\n",
       "      <th>buyers_B</th>\n",
       "      <th>revenue_B</th>\n",
       "      <th>visitors_B</th>\n",
       "      <th>cum_revenue_B</th>\n",
       "      <th>cum_orders_B</th>\n",
       "      <th>revenue_per_order_B</th>\n",
       "      <th>rel_revenue_per_order</th>\n",
       "    </tr>\n",
       "  </thead>\n",
       "  <tbody>\n",
       "    <tr>\n",
       "      <td>0</td>\n",
       "      <td>2019-08-01</td>\n",
       "      <td>A</td>\n",
       "      <td>23</td>\n",
       "      <td>19</td>\n",
       "      <td>142779</td>\n",
       "      <td>719</td>\n",
       "      <td>142779</td>\n",
       "      <td>23</td>\n",
       "      <td>6207.78</td>\n",
       "      <td>B</td>\n",
       "      <td>17</td>\n",
       "      <td>17</td>\n",
       "      <td>59758</td>\n",
       "      <td>713</td>\n",
       "      <td>59758</td>\n",
       "      <td>17</td>\n",
       "      <td>3515.18</td>\n",
       "      <td>-0.433746</td>\n",
       "    </tr>\n",
       "    <tr>\n",
       "      <td>1</td>\n",
       "      <td>2019-08-02</td>\n",
       "      <td>A</td>\n",
       "      <td>19</td>\n",
       "      <td>18</td>\n",
       "      <td>91602</td>\n",
       "      <td>619</td>\n",
       "      <td>234381</td>\n",
       "      <td>42</td>\n",
       "      <td>5580.50</td>\n",
       "      <td>B</td>\n",
       "      <td>23</td>\n",
       "      <td>22</td>\n",
       "      <td>162043</td>\n",
       "      <td>581</td>\n",
       "      <td>221801</td>\n",
       "      <td>40</td>\n",
       "      <td>5545.02</td>\n",
       "      <td>-0.006358</td>\n",
       "    </tr>\n",
       "    <tr>\n",
       "      <td>2</td>\n",
       "      <td>2019-08-03</td>\n",
       "      <td>A</td>\n",
       "      <td>24</td>\n",
       "      <td>24</td>\n",
       "      <td>112473</td>\n",
       "      <td>507</td>\n",
       "      <td>346854</td>\n",
       "      <td>66</td>\n",
       "      <td>5255.36</td>\n",
       "      <td>B</td>\n",
       "      <td>14</td>\n",
       "      <td>14</td>\n",
       "      <td>67049</td>\n",
       "      <td>509</td>\n",
       "      <td>288850</td>\n",
       "      <td>54</td>\n",
       "      <td>5349.07</td>\n",
       "      <td>0.017831</td>\n",
       "    </tr>\n",
       "  </tbody>\n",
       "</table>\n",
       "</div>"
      ],
      "text/plain": [
       "        date group_A  orders_A  buyers_A  revenue_A  visitors_A  \\\n",
       "0 2019-08-01       A        23        19     142779         719   \n",
       "1 2019-08-02       A        19        18      91602         619   \n",
       "2 2019-08-03       A        24        24     112473         507   \n",
       "\n",
       "   cum_revenue_A  cum_orders_A  revenue_per_order_A group_B  orders_B  \\\n",
       "0         142779            23              6207.78       B        17   \n",
       "1         234381            42              5580.50       B        23   \n",
       "2         346854            66              5255.36       B        14   \n",
       "\n",
       "   buyers_B  revenue_B  visitors_B  cum_revenue_B  cum_orders_B  \\\n",
       "0        17      59758         713          59758            17   \n",
       "1        22     162043         581         221801            40   \n",
       "2        14      67049         509         288850            54   \n",
       "\n",
       "   revenue_per_order_B  rel_revenue_per_order  \n",
       "0              3515.18              -0.433746  \n",
       "1              5545.02              -0.006358  \n",
       "2              5349.07               0.017831  "
      ]
     },
     "execution_count": 18,
     "metadata": {},
     "output_type": "execute_result"
    }
   ],
   "source": [
    "sum_table_A_B=sum_table_A.merge(sum_table_B,on='date', suffixes=('_A', '_B'))\n",
    "sum_table_A_B['rel_revenue_per_order']=sum_table_A_B['revenue_per_order_B']/sum_table_A_B['revenue_per_order_A']-1\n",
    "sum_table_A_B.head(3)"
   ]
  },
  {
   "cell_type": "code",
   "execution_count": 19,
   "metadata": {
    "scrolled": false
   },
   "outputs": [
    {
     "data": {
      "image/png": "[encoded data removed]",
      "text/plain": [
       "<Figure size 648x360 with 1 Axes>"
      ]
     },
     "metadata": {
      "needs_background": "light"
     },
     "output_type": "display_data"
    }
   ],
   "source": [
    "plt.figure(figsize=(9,5))\n",
    "plt.plot(sum_table_A_B['date'], sum_table_A_B['rel_revenue_per_order']) \n",
    "plt.grid(True)\n",
    "plt.title('График относительного изменения кумулятивного среднего чека группы B к группе A')\n",
    "plt.xticks(rotation=45)\n",
    "plt.xlabel('Даты')\n",
    "plt.ylabel('Ед')\n",
    "plt.axhline(y=0, color='black', linestyle='--') \n",
    "plt.show()"
   ]
  },
  {
   "cell_type": "markdown",
   "metadata": {},
   "source": [
    "### Из графика видно, что бОльшую часть месяца средний чек в группе В был выше, чем у группы А. Видно, что 2, 6, 14-15 и 19 числа происходили какие-то резкие изменения, которые приводили к росту среднего чека в группе В или/и же к падению среднего чека в группе А. Точно также 9-13 происходили события, которые приводили к росту среднего чека в группе А или/и падению среднего чека в группе В. "
   ]
  },
  {
   "cell_type": "markdown",
   "metadata": {},
   "source": [
    "### Изменение кумулятивной выручки за август 2018 года для тестовых групп А и В мы уже видели. Поскольку средний чек считается на основе данных по выручке и заказам, интересно посмотреть, как менялось число заказов в течении рассматриваемого периода."
   ]
  },
  {
   "cell_type": "code",
   "execution_count": 20,
   "metadata": {},
   "outputs": [
    {
     "data": {
      "image/png": "[encoded data removed]",
      "text/plain": [
       "<Figure size 648x360 with 1 Axes>"
      ]
     },
     "metadata": {
      "needs_background": "light"
     },
     "output_type": "display_data"
    }
   ],
   "source": [
    "plt.figure(figsize=(9,5))\n",
    "plt.plot(sum_table_A['date'], sum_table_A['cum_orders'], label='A')\n",
    "plt.plot(sum_table_B['date'], sum_table_B['cum_orders'], label='B')\n",
    "plt.legend() \n",
    "plt.grid(True)\n",
    "plt.title('Изменение кумулятивного числа заказов в августе 2018 года\\nдля тестовых групп А и В')\n",
    "plt.xticks(rotation=45)\n",
    "plt.xlabel('Даты')\n",
    "plt.ylabel('Число заказов')\n",
    "plt.show()"
   ]
  },
  {
   "cell_type": "markdown",
   "metadata": {},
   "source": [
    "### Число заказов равномерно росло без каких либо резких скачков; группа В, начиная с 7-го числа и до конца месяца опережала группу А по количеству заказов."
   ]
  },
  {
   "cell_type": "markdown",
   "metadata": {},
   "source": [
    "### 4. Построим график кумулятивной конверсии по группам:\n",
    "    1. Рассчитаем кумулятивное число посетителей и разделим кумулятивное число заказов на кумулятивное число посетителей для каждой тестовой группы.\n",
    "    2. Построим график кумулятивной конверсии по группам."
   ]
  },
  {
   "cell_type": "code",
   "execution_count": 21,
   "metadata": {},
   "outputs": [
    {
     "data": {
      "text/html": [
       "<div>\n",
       "<style scoped>\n",
       "    .dataframe tbody tr th:only-of-type {\n",
       "        vertical-align: middle;\n",
       "    }\n",
       "\n",
       "    .dataframe tbody tr th {\n",
       "        vertical-align: top;\n",
       "    }\n",
       "\n",
       "    .dataframe thead th {\n",
       "        text-align: right;\n",
       "    }\n",
       "</style>\n",
       "<table border=\"1\" class=\"dataframe\">\n",
       "  <thead>\n",
       "    <tr style=\"text-align: right;\">\n",
       "      <th></th>\n",
       "      <th>date</th>\n",
       "      <th>group</th>\n",
       "      <th>orders</th>\n",
       "      <th>buyers</th>\n",
       "      <th>revenue</th>\n",
       "      <th>visitors</th>\n",
       "      <th>cum_revenue</th>\n",
       "      <th>cum_orders</th>\n",
       "      <th>revenue_per_order</th>\n",
       "      <th>cum_visitors</th>\n",
       "      <th>conversion</th>\n",
       "    </tr>\n",
       "  </thead>\n",
       "  <tbody>\n",
       "    <tr>\n",
       "      <td>1</td>\n",
       "      <td>2019-08-01</td>\n",
       "      <td>B</td>\n",
       "      <td>17</td>\n",
       "      <td>17</td>\n",
       "      <td>59758</td>\n",
       "      <td>713</td>\n",
       "      <td>59758</td>\n",
       "      <td>17</td>\n",
       "      <td>3515.18</td>\n",
       "      <td>713</td>\n",
       "      <td>0.0238</td>\n",
       "    </tr>\n",
       "    <tr>\n",
       "      <td>3</td>\n",
       "      <td>2019-08-02</td>\n",
       "      <td>B</td>\n",
       "      <td>23</td>\n",
       "      <td>22</td>\n",
       "      <td>162043</td>\n",
       "      <td>581</td>\n",
       "      <td>221801</td>\n",
       "      <td>40</td>\n",
       "      <td>5545.02</td>\n",
       "      <td>1294</td>\n",
       "      <td>0.0309</td>\n",
       "    </tr>\n",
       "    <tr>\n",
       "      <td>5</td>\n",
       "      <td>2019-08-03</td>\n",
       "      <td>B</td>\n",
       "      <td>14</td>\n",
       "      <td>14</td>\n",
       "      <td>67049</td>\n",
       "      <td>509</td>\n",
       "      <td>288850</td>\n",
       "      <td>54</td>\n",
       "      <td>5349.07</td>\n",
       "      <td>1803</td>\n",
       "      <td>0.0300</td>\n",
       "    </tr>\n",
       "  </tbody>\n",
       "</table>\n",
       "</div>"
      ],
      "text/plain": [
       "        date group  orders  buyers  revenue  visitors  cum_revenue  \\\n",
       "1 2019-08-01     B      17      17    59758       713        59758   \n",
       "3 2019-08-02     B      23      22   162043       581       221801   \n",
       "5 2019-08-03     B      14      14    67049       509       288850   \n",
       "\n",
       "   cum_orders  revenue_per_order  cum_visitors  conversion  \n",
       "1          17            3515.18           713      0.0238  \n",
       "3          40            5545.02          1294      0.0309  \n",
       "5          54            5349.07          1803      0.0300  "
      ]
     },
     "execution_count": 21,
     "metadata": {},
     "output_type": "execute_result"
    }
   ],
   "source": [
    "sum_table_A['cum_visitors']=sum_table_A['visitors'].cumsum()\n",
    "sum_table_B['cum_visitors']=sum_table_B['visitors'].cumsum()\n",
    "sum_table_A['conversion']=np.round(sum_table_A['cum_orders']/sum_table_A['cum_visitors'],4)\n",
    "sum_table_B['conversion']=np.round(sum_table_B['cum_orders']/sum_table_B['cum_visitors'],4)\n",
    "sum_table_B.head(3)"
   ]
  },
  {
   "cell_type": "code",
   "execution_count": 22,
   "metadata": {},
   "outputs": [
    {
     "data": {
      "image/png": "[encoded data removed]",
      "text/plain": [
       "<Figure size 648x360 with 1 Axes>"
      ]
     },
     "metadata": {
      "needs_background": "light"
     },
     "output_type": "display_data"
    },
    {
     "data": {
      "image/png": "[encoded data removed]",
      "text/plain": [
       "<Figure size 648x360 with 1 Axes>"
      ]
     },
     "metadata": {
      "needs_background": "light"
     },
     "output_type": "display_data"
    }
   ],
   "source": [
    "plt.figure(figsize=(9,5))\n",
    "plt.plot(sum_table_A['date'], sum_table_A['conversion'], label='A')\n",
    "plt.plot(sum_table_B['date'], sum_table_B['conversion'], label='B')\n",
    "plt.legend() \n",
    "plt.grid(True)\n",
    "plt.title('Изменение кумулятивной конверсии в августе 2018 года\\nдля тестовых групп А и В')\n",
    "plt.xticks(rotation=45)\n",
    "plt.xlabel('Даты')\n",
    "plt.ylabel('Конверсия')\n",
    "plt.show()\n",
    "plt.figure(figsize=(9,5))\n",
    "plt.plot(sum_table_A['date'], sum_table_A['conversion'], label='A')\n",
    "plt.plot(sum_table_B['date'], sum_table_B['conversion'], label='B')\n",
    "plt.legend() \n",
    "plt.grid(True)\n",
    "plt.title('Изменение кумулятивной конверсии в августе 2018 года\\nдля тестовых групп А и В\\n(другой масштаб осей)')\n",
    "plt.xticks(rotation=45)\n",
    "plt.xlabel('Даты')\n",
    "plt.ylabel('Конверсия')\n",
    "plt.axis([\"2019-08-01\", '2019-08-31', 0, 0.05]) \n",
    "plt.show()"
   ]
  },
  {
   "cell_type": "markdown",
   "metadata": {},
   "source": [
    "### В начале периода для конверсий были характерны сильные колебания, однако к концу рассматриваемого месяца значения более или менее зафиксировались на интервалах 0,029 (группа В) и 0,026 (группа А). Группа В опережает группу А по показателю кумулятивной конверсии."
   ]
  },
  {
   "cell_type": "markdown",
   "metadata": {},
   "source": [
    "### 5. Построим график относительного изменения кумулятивной конверсии группы B к группе A:\n",
    "    1. Объединим таблицы для данных по тестам А и В и рассчитаем показатель относительного изменения кумулятивной конверсии.\n",
    "    2. Построим график относительного изменения кумулятивной конверсии группы B к группе A"
   ]
  },
  {
   "cell_type": "code",
   "execution_count": 23,
   "metadata": {},
   "outputs": [
    {
     "data": {
      "text/html": [
       "<div>\n",
       "<style scoped>\n",
       "    .dataframe tbody tr th:only-of-type {\n",
       "        vertical-align: middle;\n",
       "    }\n",
       "\n",
       "    .dataframe tbody tr th {\n",
       "        vertical-align: top;\n",
       "    }\n",
       "\n",
       "    .dataframe thead th {\n",
       "        text-align: right;\n",
       "    }\n",
       "</style>\n",
       "<table border=\"1\" class=\"dataframe\">\n",
       "  <thead>\n",
       "    <tr style=\"text-align: right;\">\n",
       "      <th></th>\n",
       "      <th>date</th>\n",
       "      <th>group_A</th>\n",
       "      <th>orders_A</th>\n",
       "      <th>buyers_A</th>\n",
       "      <th>revenue_A</th>\n",
       "      <th>visitors_A</th>\n",
       "      <th>cum_revenue_A</th>\n",
       "      <th>cum_orders_A</th>\n",
       "      <th>revenue_per_order_A</th>\n",
       "      <th>cum_visitors_A</th>\n",
       "      <th>...</th>\n",
       "      <th>orders_B</th>\n",
       "      <th>buyers_B</th>\n",
       "      <th>revenue_B</th>\n",
       "      <th>visitors_B</th>\n",
       "      <th>cum_revenue_B</th>\n",
       "      <th>cum_orders_B</th>\n",
       "      <th>revenue_per_order_B</th>\n",
       "      <th>cum_visitors_B</th>\n",
       "      <th>conversion_B</th>\n",
       "      <th>rel_conversion</th>\n",
       "    </tr>\n",
       "  </thead>\n",
       "  <tbody>\n",
       "    <tr>\n",
       "      <td>0</td>\n",
       "      <td>2019-08-01</td>\n",
       "      <td>A</td>\n",
       "      <td>23</td>\n",
       "      <td>19</td>\n",
       "      <td>142779</td>\n",
       "      <td>719</td>\n",
       "      <td>142779</td>\n",
       "      <td>23</td>\n",
       "      <td>6207.78</td>\n",
       "      <td>719</td>\n",
       "      <td>...</td>\n",
       "      <td>17</td>\n",
       "      <td>17</td>\n",
       "      <td>59758</td>\n",
       "      <td>713</td>\n",
       "      <td>59758</td>\n",
       "      <td>17</td>\n",
       "      <td>3515.18</td>\n",
       "      <td>713</td>\n",
       "      <td>0.0238</td>\n",
       "      <td>-0.256250</td>\n",
       "    </tr>\n",
       "    <tr>\n",
       "      <td>1</td>\n",
       "      <td>2019-08-02</td>\n",
       "      <td>A</td>\n",
       "      <td>19</td>\n",
       "      <td>18</td>\n",
       "      <td>91602</td>\n",
       "      <td>619</td>\n",
       "      <td>234381</td>\n",
       "      <td>42</td>\n",
       "      <td>5580.50</td>\n",
       "      <td>1338</td>\n",
       "      <td>...</td>\n",
       "      <td>23</td>\n",
       "      <td>22</td>\n",
       "      <td>162043</td>\n",
       "      <td>581</td>\n",
       "      <td>221801</td>\n",
       "      <td>40</td>\n",
       "      <td>5545.02</td>\n",
       "      <td>1294</td>\n",
       "      <td>0.0309</td>\n",
       "      <td>-0.015924</td>\n",
       "    </tr>\n",
       "    <tr>\n",
       "      <td>2</td>\n",
       "      <td>2019-08-03</td>\n",
       "      <td>A</td>\n",
       "      <td>24</td>\n",
       "      <td>24</td>\n",
       "      <td>112473</td>\n",
       "      <td>507</td>\n",
       "      <td>346854</td>\n",
       "      <td>66</td>\n",
       "      <td>5255.36</td>\n",
       "      <td>1845</td>\n",
       "      <td>...</td>\n",
       "      <td>14</td>\n",
       "      <td>14</td>\n",
       "      <td>67049</td>\n",
       "      <td>509</td>\n",
       "      <td>288850</td>\n",
       "      <td>54</td>\n",
       "      <td>5349.07</td>\n",
       "      <td>1803</td>\n",
       "      <td>0.0300</td>\n",
       "      <td>-0.162011</td>\n",
       "    </tr>\n",
       "  </tbody>\n",
       "</table>\n",
       "<p>3 rows × 22 columns</p>\n",
       "</div>"
      ],
      "text/plain": [
       "        date group_A  orders_A  buyers_A  revenue_A  visitors_A  \\\n",
       "0 2019-08-01       A        23        19     142779         719   \n",
       "1 2019-08-02       A        19        18      91602         619   \n",
       "2 2019-08-03       A        24        24     112473         507   \n",
       "\n",
       "   cum_revenue_A  cum_orders_A  revenue_per_order_A  cum_visitors_A  ...  \\\n",
       "0         142779            23              6207.78             719  ...   \n",
       "1         234381            42              5580.50            1338  ...   \n",
       "2         346854            66              5255.36            1845  ...   \n",
       "\n",
       "   orders_B buyers_B  revenue_B  visitors_B  cum_revenue_B  cum_orders_B  \\\n",
       "0        17       17      59758         713          59758            17   \n",
       "1        23       22     162043         581         221801            40   \n",
       "2        14       14      67049         509         288850            54   \n",
       "\n",
       "   revenue_per_order_B  cum_visitors_B  conversion_B  rel_conversion  \n",
       "0              3515.18             713        0.0238       -0.256250  \n",
       "1              5545.02            1294        0.0309       -0.015924  \n",
       "2              5349.07            1803        0.0300       -0.162011  \n",
       "\n",
       "[3 rows x 22 columns]"
      ]
     },
     "execution_count": 23,
     "metadata": {},
     "output_type": "execute_result"
    }
   ],
   "source": [
    "sum_table_A_B_2=sum_table_A.merge(sum_table_B,on='date', suffixes=('_A', '_B'))\n",
    "sum_table_A_B_2['rel_conversion']=sum_table_A_B_2['conversion_B']/sum_table_A_B_2['conversion_A']-1\n",
    "sum_table_A_B_2.head(3)"
   ]
  },
  {
   "cell_type": "code",
   "execution_count": 24,
   "metadata": {},
   "outputs": [
    {
     "data": {
      "image/png": "[encoded data removed]",
      "text/plain": [
       "<Figure size 648x360 with 1 Axes>"
      ]
     },
     "metadata": {
      "needs_background": "light"
     },
     "output_type": "display_data"
    }
   ],
   "source": [
    "plt.figure(figsize=(9,5))\n",
    "plt.plot(sum_table_A_B_2['date'], sum_table_A_B_2['rel_conversion']) \n",
    "plt.grid(True)\n",
    "plt.title('График относительного изменения кумулятивной конверсии группы B к группе A')\n",
    "plt.xticks(rotation=45)\n",
    "plt.xlabel('Даты')\n",
    "plt.ylabel('Ед')\n",
    "plt.axhline(y=0, color='black', linestyle='--') \n",
    "plt.show()"
   ]
  },
  {
   "cell_type": "markdown",
   "metadata": {},
   "source": [
    "### На графике относительного изменения кумулятивной конверсии хорошо видно, что, начиная с 6 августа конверсия в группе В превышала конверсию в группе А, и к концу периода сохранялась на уровне на 11-13% большем, чем конверсия у группы А."
   ]
  },
  {
   "cell_type": "markdown",
   "metadata": {},
   "source": [
    "### 6. Построим точечный график количества заказов по пользователям:\n",
    "    1. Сгруппируем данные таблицы \"orders\" - посчитаем число заказов, приходящихся на 1 покупателя.\n",
    "    2. Построим точечную диаграмму числа заказов на одного покупателя."
   ]
  },
  {
   "cell_type": "code",
   "execution_count": 25,
   "metadata": {
    "scrolled": true
   },
   "outputs": [
    {
     "data": {
      "text/html": [
       "<div>\n",
       "<style scoped>\n",
       "    .dataframe tbody tr th:only-of-type {\n",
       "        vertical-align: middle;\n",
       "    }\n",
       "\n",
       "    .dataframe tbody tr th {\n",
       "        vertical-align: top;\n",
       "    }\n",
       "\n",
       "    .dataframe thead th {\n",
       "        text-align: right;\n",
       "    }\n",
       "</style>\n",
       "<table border=\"1\" class=\"dataframe\">\n",
       "  <thead>\n",
       "    <tr style=\"text-align: right;\">\n",
       "      <th></th>\n",
       "      <th>userId</th>\n",
       "      <th>orders</th>\n",
       "      <th>group</th>\n",
       "    </tr>\n",
       "  </thead>\n",
       "  <tbody>\n",
       "    <tr>\n",
       "      <td>908</td>\n",
       "      <td>3967698036</td>\n",
       "      <td>3</td>\n",
       "      <td>A</td>\n",
       "    </tr>\n",
       "    <tr>\n",
       "      <td>55</td>\n",
       "      <td>249864742</td>\n",
       "      <td>3</td>\n",
       "      <td>B</td>\n",
       "    </tr>\n",
       "    <tr>\n",
       "      <td>478</td>\n",
       "      <td>2108163459</td>\n",
       "      <td>3</td>\n",
       "      <td>A</td>\n",
       "    </tr>\n",
       "    <tr>\n",
       "      <td>687</td>\n",
       "      <td>2988190573</td>\n",
       "      <td>3</td>\n",
       "      <td>A</td>\n",
       "    </tr>\n",
       "    <tr>\n",
       "      <td>890</td>\n",
       "      <td>3908431265</td>\n",
       "      <td>3</td>\n",
       "      <td>A</td>\n",
       "    </tr>\n",
       "    <tr>\n",
       "      <td>138</td>\n",
       "      <td>611059232</td>\n",
       "      <td>3</td>\n",
       "      <td>A</td>\n",
       "    </tr>\n",
       "    <tr>\n",
       "      <td>632</td>\n",
       "      <td>2742574263</td>\n",
       "      <td>3</td>\n",
       "      <td>B</td>\n",
       "    </tr>\n",
       "    <tr>\n",
       "      <td>157</td>\n",
       "      <td>678354126</td>\n",
       "      <td>2</td>\n",
       "      <td>A</td>\n",
       "    </tr>\n",
       "    <tr>\n",
       "      <td>323</td>\n",
       "      <td>1404560065</td>\n",
       "      <td>2</td>\n",
       "      <td>B</td>\n",
       "    </tr>\n",
       "    <tr>\n",
       "      <td>452</td>\n",
       "      <td>1985475298</td>\n",
       "      <td>2</td>\n",
       "      <td>B</td>\n",
       "    </tr>\n",
       "  </tbody>\n",
       "</table>\n",
       "</div>"
      ],
      "text/plain": [
       "         userId  orders group\n",
       "908  3967698036       3     A\n",
       "55    249864742       3     B\n",
       "478  2108163459       3     A\n",
       "687  2988190573       3     A\n",
       "890  3908431265       3     A\n",
       "138   611059232       3     A\n",
       "632  2742574263       3     B\n",
       "157   678354126       2     A\n",
       "323  1404560065       2     B\n",
       "452  1985475298       2     B"
      ]
     },
     "execution_count": 25,
     "metadata": {},
     "output_type": "execute_result"
    }
   ],
   "source": [
    "ordersByUsers = orders.groupby('visitorId', as_index=False).agg({'transactionId' : 'nunique','group':'max'})\n",
    "ordersByUsers.columns = ['userId','orders','group']\n",
    "ordersByUsers.sort_values(by='orders',ascending=False).head(10)"
   ]
  },
  {
   "cell_type": "code",
   "execution_count": 26,
   "metadata": {
    "scrolled": false
   },
   "outputs": [
    {
     "data": {
      "image/png": "[encoded data removed]",
      "text/plain": [
       "<Figure size 648x360 with 1 Axes>"
      ]
     },
     "metadata": {
      "needs_background": "light"
     },
     "output_type": "display_data"
    },
    {
     "data": {
      "image/png": "[encoded data removed]",
      "text/plain": [
       "<Figure size 648x360 with 1 Axes>"
      ]
     },
     "metadata": {
      "needs_background": "light"
     },
     "output_type": "display_data"
    },
    {
     "data": {
      "image/png": "[encoded data removed]",
      "text/plain": [
       "<Figure size 648x360 with 1 Axes>"
      ]
     },
     "metadata": {
      "needs_background": "light"
     },
     "output_type": "display_data"
    }
   ],
   "source": [
    "x_values = pd.Series(range(0,len(ordersByUsers)))\n",
    "plt.figure(figsize=(9,5))\n",
    "plt.scatter(x_values, ordersByUsers['orders']) \n",
    "plt.grid(True)\n",
    "plt.title('График распределения количества заказов по пользователям (группы А и В вместе)')\n",
    "plt.xlabel('Номер пользователя по порядку следования в таблице')\n",
    "plt.ylabel('Число заказов')\n",
    "plt.show() \n",
    "\n",
    "x_values = pd.Series(range(0,len(ordersByUsers[ordersByUsers['group']=='A'])))\n",
    "plt.figure(figsize=(9,5))\n",
    "plt.scatter(x_values, ordersByUsers[ordersByUsers['group']=='A']['orders']) \n",
    "plt.grid(True)\n",
    "plt.title('График распределения количества заказов по пользователям (группа А)')\n",
    "plt.xlabel('Номер пользователя по порядку следования в таблице')\n",
    "plt.ylabel('Число заказов')\n",
    "plt.show()\n",
    "\n",
    "x_values = pd.Series(range(0,len(ordersByUsers[ordersByUsers['group']=='B'])))\n",
    "plt.figure(figsize=(9,5))\n",
    "plt.scatter(x_values, ordersByUsers[ordersByUsers['group']=='B']['orders']) \n",
    "plt.grid(True)\n",
    "plt.title('График распределения количества заказов по пользователям (группа В)')\n",
    "plt.xlabel('Номер пользователя по порядку следования в таблице')\n",
    "plt.ylabel('Число заказов')\n",
    "plt.show()"
   ]
  },
  {
   "cell_type": "markdown",
   "metadata": {},
   "source": [
    "### Из графиков видно, что преобладающее большинство покупателей делали заказы только один раз, также есть некоторая доля покупателей, которые заказывали товары 2-3 раза."
   ]
  },
  {
   "cell_type": "markdown",
   "metadata": {},
   "source": [
    "### 7. Посчитаем 95-й и 99-й перцентили количества заказов на пользователя и выберем границу для определения аномальных пользователей."
   ]
  },
  {
   "cell_type": "code",
   "execution_count": 27,
   "metadata": {},
   "outputs": [
    {
     "data": {
      "text/plain": [
       "array([1., 2.])"
      ]
     },
     "execution_count": 27,
     "metadata": {},
     "output_type": "execute_result"
    }
   ],
   "source": [
    "np.percentile(ordersByUsers['orders'], [95, 99])"
   ]
  },
  {
   "cell_type": "markdown",
   "metadata": {},
   "source": [
    "### Не более 5% пользователей оформляли больше чем 1 (т. е. от 2-ух) заказов и не более 1% пользователей оформляли больше чем 2 (т. е. от 3-ех) заказов. С учетом представленных выше графиков и рассчитанных перцентилей, примем границу для определения аномальных пользователей, равной 2 - все, что выше 2-ух - аномалия."
   ]
  },
  {
   "cell_type": "markdown",
   "metadata": {},
   "source": [
    "### 8. Построим точечный график стоимостей заказов."
   ]
  },
  {
   "cell_type": "code",
   "execution_count": 28,
   "metadata": {
    "scrolled": false
   },
   "outputs": [
    {
     "data": {
      "image/png": "[encoded data removed]",
      "text/plain": [
       "<Figure size 648x360 with 1 Axes>"
      ]
     },
     "metadata": {
      "needs_background": "light"
     },
     "output_type": "display_data"
    },
    {
     "data": {
      "image/png": "[encoded data removed]",
      "text/plain": [
       "<Figure size 648x360 with 1 Axes>"
      ]
     },
     "metadata": {
      "needs_background": "light"
     },
     "output_type": "display_data"
    },
    {
     "data": {
      "image/png": "[encoded data removed]",
      "text/plain": [
       "<Figure size 648x360 with 1 Axes>"
      ]
     },
     "metadata": {
      "needs_background": "light"
     },
     "output_type": "display_data"
    }
   ],
   "source": [
    "x_values = pd.Series(range(0,len(orders['revenue'])))\n",
    "plt.figure(figsize=(9,5))\n",
    "plt.scatter(x_values, orders['revenue']) \n",
    "plt.grid(True)\n",
    "plt.title('График распределения стоимостей заказов (группы А и В вместе)')\n",
    "plt.xlabel('Номер заказа по порядку следования в таблице')\n",
    "plt.ylabel('Стоимость, руб')\n",
    "plt.show() \n",
    "\n",
    "x_values = pd.Series(range(0,len(orders[orders['group']=='A']['revenue'])))\n",
    "plt.figure(figsize=(9,5))\n",
    "plt.scatter(x_values, orders[orders['group']=='A']['revenue']) \n",
    "plt.grid(True)\n",
    "plt.title('График распределения стоимостей заказов (группа А)')\n",
    "plt.xlabel('Номер заказа по порядку следования в таблице')\n",
    "plt.ylabel('Стоимость, руб')\n",
    "plt.show()\n",
    "\n",
    "x_values = pd.Series(range(0,len(orders[orders['group']=='B']['revenue'])))\n",
    "plt.figure(figsize=(9,5))\n",
    "plt.scatter(x_values, orders[orders['group']=='B']['revenue']) \n",
    "plt.grid(True)\n",
    "plt.title('График распределения стоимостей заказов (группа В)')\n",
    "plt.xlabel('Номер заказа по порядку следования в таблице')\n",
    "plt.ylabel('Стоимость, руб')\n",
    "plt.show()"
   ]
  },
  {
   "cell_type": "code",
   "execution_count": 29,
   "metadata": {},
   "outputs": [
    {
     "data": {
      "text/html": [
       "<div>\n",
       "<style scoped>\n",
       "    .dataframe tbody tr th:only-of-type {\n",
       "        vertical-align: middle;\n",
       "    }\n",
       "\n",
       "    .dataframe tbody tr th {\n",
       "        vertical-align: top;\n",
       "    }\n",
       "\n",
       "    .dataframe thead th {\n",
       "        text-align: right;\n",
       "    }\n",
       "</style>\n",
       "<table border=\"1\" class=\"dataframe\">\n",
       "  <thead>\n",
       "    <tr style=\"text-align: right;\">\n",
       "      <th></th>\n",
       "      <th>transactionId</th>\n",
       "      <th>visitorId</th>\n",
       "      <th>date</th>\n",
       "      <th>revenue</th>\n",
       "      <th>group</th>\n",
       "    </tr>\n",
       "  </thead>\n",
       "  <tbody>\n",
       "    <tr>\n",
       "      <td>425</td>\n",
       "      <td>590470918</td>\n",
       "      <td>1920142716</td>\n",
       "      <td>2019-08-19</td>\n",
       "      <td>1294500</td>\n",
       "      <td>B</td>\n",
       "    </tr>\n",
       "    <tr>\n",
       "      <td>1196</td>\n",
       "      <td>3936777065</td>\n",
       "      <td>2108080724</td>\n",
       "      <td>2019-08-15</td>\n",
       "      <td>202740</td>\n",
       "      <td>B</td>\n",
       "    </tr>\n",
       "  </tbody>\n",
       "</table>\n",
       "</div>"
      ],
      "text/plain": [
       "      transactionId   visitorId       date  revenue group\n",
       "425       590470918  1920142716 2019-08-19  1294500     B\n",
       "1196     3936777065  2108080724 2019-08-15   202740     B"
      ]
     },
     "execution_count": 29,
     "metadata": {},
     "output_type": "execute_result"
    }
   ],
   "source": [
    "orders[orders['revenue']>100000]"
   ]
  },
  {
   "cell_type": "markdown",
   "metadata": {},
   "source": [
    "### Из графиков видно, что преобладающее большинство заказов имеет стоимость не более 100000 руб, однако есть два заказа, стоимость которых 202 740 руб и 1 294 500 руб. - это заказы, попавшие в тестовую группу В и, видимо, повлиявшие на скачок кумулятивной выручки (а также среднего чека) на графиках для данной группы 15-го и особенно 19-го числа."
   ]
  },
  {
   "cell_type": "markdown",
   "metadata": {},
   "source": [
    "### 9. Посчитаем 95-й и 99-й перцентили стоимости заказов. Выберем границу для определения аномальных заказов."
   ]
  },
  {
   "cell_type": "code",
   "execution_count": 30,
   "metadata": {},
   "outputs": [
    {
     "data": {
      "text/plain": [
       "array([26785., 53904.])"
      ]
     },
     "execution_count": 30,
     "metadata": {},
     "output_type": "execute_result"
    }
   ],
   "source": [
    "np.percentile(orders['revenue'], [95, 99])"
   ]
  },
  {
   "cell_type": "markdown",
   "metadata": {},
   "source": [
    "### Не более 5% заказов имели стоимость более, чем 26785 руб и не более 1% заказов имели стоимость более 53904 руб. С учетом представленных выше графиков и рассчитанных перцентилей, примем границу для определения аномальных заказов, равной 50000 руб - все, что выше - аномалия."
   ]
  },
  {
   "cell_type": "markdown",
   "metadata": {},
   "source": [
    "### 10. Посчитаем статистическую значимость различий в конверсии между группами по «сырым» данным:\n",
    "    1. Определим в отдельные таблицы информацию о пользователях и количестве сделанных ими заказов для разных тестовых групп.\n",
    "    2. Создадим выборки для тестовых групп А и В, в которых будет содержаться информация о количествх заказов у разных пользователей. Т.к. достаточно большое количество пользователей так и не стало покупателями, то определим (приблизительно) их число и добавим в данную выборку соответствующее число нулей.\n",
    "    3. Рассчитаем статистическую значимость различий в конверсии между группами и относительный прирост конверсии группы B относительно группы А. Проверим гипотезы:\n",
    "        - Н0: конверсии между группами равны;\n",
    "        - Н1: конверсии между группами не равны."
   ]
  },
  {
   "cell_type": "markdown",
   "metadata": {},
   "source": [
    "### Используем для расчетов данные из созданных ранее таблиц \"ordersByUsers\", \"sum_table_A\" и \"sum_table_B\""
   ]
  },
  {
   "cell_type": "code",
   "execution_count": 31,
   "metadata": {},
   "outputs": [
    {
     "data": {
      "text/html": [
       "<div>\n",
       "<style scoped>\n",
       "    .dataframe tbody tr th:only-of-type {\n",
       "        vertical-align: middle;\n",
       "    }\n",
       "\n",
       "    .dataframe tbody tr th {\n",
       "        vertical-align: top;\n",
       "    }\n",
       "\n",
       "    .dataframe thead th {\n",
       "        text-align: right;\n",
       "    }\n",
       "</style>\n",
       "<table border=\"1\" class=\"dataframe\">\n",
       "  <thead>\n",
       "    <tr style=\"text-align: right;\">\n",
       "      <th></th>\n",
       "      <th>userId</th>\n",
       "      <th>orders</th>\n",
       "      <th>group</th>\n",
       "    </tr>\n",
       "  </thead>\n",
       "  <tbody>\n",
       "    <tr>\n",
       "      <td>908</td>\n",
       "      <td>3967698036</td>\n",
       "      <td>3</td>\n",
       "      <td>A</td>\n",
       "    </tr>\n",
       "    <tr>\n",
       "      <td>55</td>\n",
       "      <td>249864742</td>\n",
       "      <td>3</td>\n",
       "      <td>B</td>\n",
       "    </tr>\n",
       "    <tr>\n",
       "      <td>478</td>\n",
       "      <td>2108163459</td>\n",
       "      <td>3</td>\n",
       "      <td>A</td>\n",
       "    </tr>\n",
       "    <tr>\n",
       "      <td>687</td>\n",
       "      <td>2988190573</td>\n",
       "      <td>3</td>\n",
       "      <td>A</td>\n",
       "    </tr>\n",
       "    <tr>\n",
       "      <td>890</td>\n",
       "      <td>3908431265</td>\n",
       "      <td>3</td>\n",
       "      <td>A</td>\n",
       "    </tr>\n",
       "  </tbody>\n",
       "</table>\n",
       "</div>"
      ],
      "text/plain": [
       "         userId  orders group\n",
       "908  3967698036       3     A\n",
       "55    249864742       3     B\n",
       "478  2108163459       3     A\n",
       "687  2988190573       3     A\n",
       "890  3908431265       3     A"
      ]
     },
     "execution_count": 31,
     "metadata": {},
     "output_type": "execute_result"
    }
   ],
   "source": [
    "ordersByUsers.sort_values(by='orders',ascending=False).head()"
   ]
  },
  {
   "cell_type": "code",
   "execution_count": 32,
   "metadata": {},
   "outputs": [
    {
     "data": {
      "text/html": [
       "<div>\n",
       "<style scoped>\n",
       "    .dataframe tbody tr th:only-of-type {\n",
       "        vertical-align: middle;\n",
       "    }\n",
       "\n",
       "    .dataframe tbody tr th {\n",
       "        vertical-align: top;\n",
       "    }\n",
       "\n",
       "    .dataframe thead th {\n",
       "        text-align: right;\n",
       "    }\n",
       "</style>\n",
       "<table border=\"1\" class=\"dataframe\">\n",
       "  <thead>\n",
       "    <tr style=\"text-align: right;\">\n",
       "      <th></th>\n",
       "      <th>date</th>\n",
       "      <th>group</th>\n",
       "      <th>orders</th>\n",
       "      <th>buyers</th>\n",
       "      <th>revenue</th>\n",
       "      <th>visitors</th>\n",
       "      <th>cum_revenue</th>\n",
       "      <th>cum_orders</th>\n",
       "      <th>revenue_per_order</th>\n",
       "      <th>cum_visitors</th>\n",
       "      <th>conversion</th>\n",
       "    </tr>\n",
       "  </thead>\n",
       "  <tbody>\n",
       "    <tr>\n",
       "      <td>0</td>\n",
       "      <td>2019-08-01</td>\n",
       "      <td>A</td>\n",
       "      <td>23</td>\n",
       "      <td>19</td>\n",
       "      <td>142779</td>\n",
       "      <td>719</td>\n",
       "      <td>142779</td>\n",
       "      <td>23</td>\n",
       "      <td>6207.78</td>\n",
       "      <td>719</td>\n",
       "      <td>0.0320</td>\n",
       "    </tr>\n",
       "    <tr>\n",
       "      <td>2</td>\n",
       "      <td>2019-08-02</td>\n",
       "      <td>A</td>\n",
       "      <td>19</td>\n",
       "      <td>18</td>\n",
       "      <td>91602</td>\n",
       "      <td>619</td>\n",
       "      <td>234381</td>\n",
       "      <td>42</td>\n",
       "      <td>5580.50</td>\n",
       "      <td>1338</td>\n",
       "      <td>0.0314</td>\n",
       "    </tr>\n",
       "    <tr>\n",
       "      <td>4</td>\n",
       "      <td>2019-08-03</td>\n",
       "      <td>A</td>\n",
       "      <td>24</td>\n",
       "      <td>24</td>\n",
       "      <td>112473</td>\n",
       "      <td>507</td>\n",
       "      <td>346854</td>\n",
       "      <td>66</td>\n",
       "      <td>5255.36</td>\n",
       "      <td>1845</td>\n",
       "      <td>0.0358</td>\n",
       "    </tr>\n",
       "  </tbody>\n",
       "</table>\n",
       "</div>"
      ],
      "text/plain": [
       "        date group  orders  buyers  revenue  visitors  cum_revenue  \\\n",
       "0 2019-08-01     A      23      19   142779       719       142779   \n",
       "2 2019-08-02     A      19      18    91602       619       234381   \n",
       "4 2019-08-03     A      24      24   112473       507       346854   \n",
       "\n",
       "   cum_orders  revenue_per_order  cum_visitors  conversion  \n",
       "0          23            6207.78           719      0.0320  \n",
       "2          42            5580.50          1338      0.0314  \n",
       "4          66            5255.36          1845      0.0358  "
      ]
     },
     "execution_count": 32,
     "metadata": {},
     "output_type": "execute_result"
    }
   ],
   "source": [
    "sum_table_A.head(3)"
   ]
  },
  {
   "cell_type": "code",
   "execution_count": 33,
   "metadata": {},
   "outputs": [],
   "source": [
    "ordersByUsersA=ordersByUsers[ordersByUsers['group']=='A']\n",
    "ordersByUsersB=ordersByUsers[ordersByUsers['group']=='B']"
   ]
  },
  {
   "cell_type": "code",
   "execution_count": 34,
   "metadata": {},
   "outputs": [
    {
     "name": "stdout",
     "output_type": "stream",
     "text": [
      "Результаты для \"сырых\" данных:\n",
      "Статистическая значимость различий в конверсии между группами А и В: 0.0055\n",
      "Относительный прирост конверсии группы B: 0.1598\n",
      "\n",
      "Отвергаем нулевую гипотезу: разница статистически значима\n"
     ]
    }
   ],
   "source": [
    "zero_A=sum_table_A['visitors'].sum() - len(ordersByUsersA['orders'])\n",
    "zero_B=sum_table_B['visitors'].sum() - len(ordersByUsersB['orders'])\n",
    "sampleA = pd.concat([ordersByUsersA['orders'],pd.Series(0, index=np.arange(zero_A), name='orders')],axis=0)\n",
    "sampleB = pd.concat([ordersByUsersB['orders'],pd.Series(0, index=np.arange(zero_B), name='orders')],axis=0)\n",
    "alpha=.05\n",
    "results=stats.mannwhitneyu(sampleA, sampleB)\n",
    "print('Результаты для \"сырых\" данных:')\n",
    "print(\"Статистическая значимость различий в конверсии между группами А и В: {0:.4f}\".format(results[1]))\n",
    "print(\"Относительный прирост конверсии группы B: {0:.4f}\".format(sampleB.mean()/sampleA.mean()-1)) \n",
    "print()\n",
    "if (results.pvalue < alpha):\n",
    "    print(\"Отвергаем нулевую гипотезу: разница статистически значима\")\n",
    "else:\n",
    "    print(\"Не получилось отвергнуть нулевую гипотезу, вывод о различии сделать нельзя\") "
   ]
  },
  {
   "cell_type": "markdown",
   "metadata": {},
   "source": [
    "### По «сырым» данным получается, что разница в конверсии групп A и B статистически значима - мы вынуждены отвергнуть нулевую гипотезу.\n",
    "### Относительный прирост конверсии группы B составляет 15,98%."
   ]
  },
  {
   "cell_type": "markdown",
   "metadata": {},
   "source": [
    "### 11. Посчитаем статистическую значимость различий в среднем чеке заказа между группами по «сырым» данным.  \n",
    "Проверим гипотезы:\n",
    "    - Н0: средние чеки между группами равны;\n",
    "    - Н1: средние чеки между группами не равны."
   ]
  },
  {
   "cell_type": "code",
   "execution_count": 35,
   "metadata": {
    "scrolled": true
   },
   "outputs": [
    {
     "name": "stdout",
     "output_type": "stream",
     "text": [
      "Результаты для \"сырых\" данных:\n",
      "Статистическая значимость различий в среднем чеке заказа между группами А и В: 0.4147\n",
      "Относительный прирост в среднем чеке заказа группы B: 0.2866\n",
      "\n",
      "Не получилось отвергнуть нулевую гипотезу, вывод о различии сделать нельзя\n"
     ]
    }
   ],
   "source": [
    "alpha=.05\n",
    "results=stats.mannwhitneyu(orders[orders['group']=='A']['revenue'], orders[orders['group']=='B']['revenue'])\n",
    "print('Результаты для \"сырых\" данных:')\n",
    "print(\"Статистическая значимость различий в среднем чеке заказа между группами А и В: {0:.4f}\".format(results[1]))\n",
    "print(\"Относительный прирост в среднем чеке заказа группы B: {0:.4f}\".format(orders[orders['group']=='B']['revenue'].mean()/orders[orders['group']=='A']['revenue'].mean()-1)) \n",
    "print()\n",
    "if (results.pvalue < alpha):\n",
    "    print(\"Отвергаем нулевую гипотезу: разница статистически значима\")\n",
    "else:\n",
    "    print(\"Не получилось отвергнуть нулевую гипотезу, вывод о различии сделать нельзя\") "
   ]
  },
  {
   "cell_type": "markdown",
   "metadata": {},
   "source": [
    "### По «сырым» данным получается, что причин отвергать нулевую гипотезу и считать, что в среднем чеке есть различия, нет. Хотя средний чек группы B выше среднего чека группы A на 28,7%."
   ]
  },
  {
   "cell_type": "markdown",
   "metadata": {},
   "source": [
    "### 12. Посчитаем статистическую значимость различий в конверсии между группами по «очищенным» данным:\n",
    "    1. Определим список аномальных пользователей - тех, кто совершил более 2 заказов или совершил заказ дороже 50 000 рублей.\n",
    "    2. Создадим выборки для тестовых групп А и В, в которых будет содержаться информация о количествх заказов у разных пользователей, исключив из них аномальных пользователей. Т.к. достаточно большое количество пользователей так и не стало покупателями, то определим (приблизительно) их число и добавим в данную выборку соответствующее число нулей.\n",
    "    3. Рассчитаем статистическую значимость различий в конверсии между группами и относительный прирост конверсии группы B относительно группы А. Проверим гипотезы:\n",
    "        - Н0: конверсии между группами равны;\n",
    "        - Н1: конверсии между группами не равны."
   ]
  },
  {
   "cell_type": "code",
   "execution_count": 36,
   "metadata": {},
   "outputs": [
    {
     "name": "stdout",
     "output_type": "stream",
     "text": [
      "1099    148427295\n",
      "55      249864742\n",
      "138     611059232\n",
      "1137    759473111\n",
      "949     887908475\n",
      "dtype: int64\n",
      "Всего 22 аномальных пользователя\n"
     ]
    }
   ],
   "source": [
    "usersWithManyOrders =ordersByUsers[ordersByUsers['orders']>2]['userId']\n",
    "usersWithExpensiveOrders = orders[orders['revenue'] > 50000]['visitorId']\n",
    "abnormalUsers = pd.concat([usersWithManyOrders, usersWithExpensiveOrders], axis = 0).drop_duplicates().sort_values()\n",
    "print(abnormalUsers.head(5))\n",
    "print('Всего',abnormalUsers.shape[0],'аномальных пользователя') "
   ]
  },
  {
   "cell_type": "code",
   "execution_count": 37,
   "metadata": {
    "scrolled": true
   },
   "outputs": [
    {
     "name": "stdout",
     "output_type": "stream",
     "text": [
      "Результаты для \"очищенных\" данных\n",
      "Статистическая значимость различий в конверсии между группами А и В: 0.0028\n",
      "Относительный прирост конверсии группы B: 0.1980\n",
      "\n",
      "Отвергаем нулевую гипотезу: разница статистически значима\n"
     ]
    }
   ],
   "source": [
    "sampleAFiltered = pd.concat([ordersByUsersA[~(ordersByUsersA['userId'].isin(abnormalUsers))]['orders'],pd.Series(0, index=np.arange(zero_A),name='orders')],axis=0)\n",
    "sampleBFiltered = pd.concat([ordersByUsersB[~(ordersByUsersB['userId'].isin(abnormalUsers))]['orders'],pd.Series(0, index=np.arange(zero_B),name='orders')],axis=0)\n",
    "alpha=.05\n",
    "results=stats.mannwhitneyu(sampleAFiltered, sampleBFiltered)\n",
    "print('Результаты для \"очищенных\" данных')\n",
    "print(\"Статистическая значимость различий в конверсии между группами А и В: {0:.4f}\".format(results[1]))\n",
    "print(\"Относительный прирост конверсии группы B: {0:.4f}\".format(sampleBFiltered.mean()/sampleAFiltered.mean()-1)) \n",
    "print()\n",
    "if (results.pvalue < alpha):\n",
    "    print(\"Отвергаем нулевую гипотезу: разница статистически значима\")\n",
    "else:\n",
    "    print(\"Не получилось отвергнуть нулевую гипотезу, вывод о различии сделать нельзя\") "
   ]
  },
  {
   "cell_type": "markdown",
   "metadata": {},
   "source": [
    "### По «очищенным» данным получается, что разница в конверсии групп A и B статистически значима - мы вынуждены отвергнуть нулевую гипотезу.\n",
    "### Относительный прирост конверсии группы B составляет 19,8%."
   ]
  },
  {
   "cell_type": "markdown",
   "metadata": {},
   "source": [
    "### 13. Посчитаем статистическую значимость различий в среднем чеке заказа между группами по «очищенным» данным. \n",
    "Проверим гипотезы:\n",
    "    - Н0: средние чеки между группами равны;\n",
    "    - Н1: средние чеки между группами не равны."
   ]
  },
  {
   "cell_type": "code",
   "execution_count": 38,
   "metadata": {
    "scrolled": false
   },
   "outputs": [
    {
     "name": "stdout",
     "output_type": "stream",
     "text": [
      "Результаты для \"очищенных\" данных:\n",
      "Статистическая значимость различий в среднем чеке заказа между группами А и В: 0.4695\n",
      "Относительный прирост в среднем чеке заказа группы B: 0.0110\n",
      "\n",
      "Не получилось отвергнуть нулевую гипотезу, вывод о различии сделать нельзя\n"
     ]
    }
   ],
   "source": [
    "alpha=.05\n",
    "results=stats.mannwhitneyu(orders[(orders['group']=='A')&(~orders['visitorId'].isin(abnormalUsers))]['revenue'], orders[(orders['group']=='B')&(~orders['visitorId'].isin(abnormalUsers))]['revenue'])\n",
    "print('Результаты для \"очищенных\" данных:')\n",
    "print(\"Статистическая значимость различий в среднем чеке заказа между группами А и В: {0:.4f}\".format(results[1]))\n",
    "print(\"Относительный прирост в среднем чеке заказа группы B: {0:.4f}\".format(orders[(orders['group']=='B')&(~orders['visitorId'].isin(abnormalUsers))]['revenue'].mean()/orders[(orders['group']=='A')&(~orders['visitorId'].isin(abnormalUsers))]['revenue'].mean()-1)) \n",
    "print()\n",
    "if (results.pvalue < alpha):\n",
    "    print(\"Отвергаем нулевую гипотезу: разница статистически значима\")\n",
    "else:\n",
    "    print(\"Не получилось отвергнуть нулевую гипотезу, вывод о различии сделать нельзя\") "
   ]
  },
  {
   "cell_type": "markdown",
   "metadata": {},
   "source": [
    "### По «очищенным» данным получается, что причин отвергать нулевую гипотезу и считать, что в среднем чеке есть различия, нет. Благодаря очистке данных от выбросов, средний чек группы B оказался всего лишь на 1% выше среднего чека группы A, в то время, как расчет на \"сырых\" данных давал разницу в 28,7%."
   ]
  },
  {
   "cell_type": "markdown",
   "metadata": {},
   "source": [
    " "
   ]
  },
  {
   "cell_type": "markdown",
   "metadata": {},
   "source": [
    "### Построим график кумулятивной выручки по группам на базе \"очищенных\" данных:\n",
    "    1. Сгруппируем \"очищенные\" данные таблицы \"orders\" по датам и тестовым группам, рассчитав число заказов и уникальных заказчиков в каждой группе, а также сумму выручки.\n",
    "    2. Объединим получившуюся таблицу с таблицей \"visitors\" и более удобно переименуем ее столбцы.\n",
    "    3. Разделим получившуюся таблицу на две в зависимости от тестовой группы.\n",
    "    4. Посчитаем для каждой тестовой группы кумулятивную выручку.\n",
    "    5. Построим график кумулятивной выручки по группам."
   ]
  },
  {
   "cell_type": "code",
   "execution_count": 39,
   "metadata": {},
   "outputs": [
    {
     "data": {
      "image/png": "[encoded data removed]",
      "text/plain": [
       "<Figure size 648x360 with 1 Axes>"
      ]
     },
     "metadata": {
      "needs_background": "light"
     },
     "output_type": "display_data"
    }
   ],
   "source": [
    "grouped_orders=orders[~orders['visitorId'].isin(abnormalUsers)].groupby(['date', 'group']).agg({'transactionId' : 'count','visitorId' :'nunique','revenue' : 'sum'})\n",
    "sum_table=grouped_orders.merge(visitors, on=['date', 'group'])\n",
    "sum_table.columns = ['date', 'group', 'orders', 'buyers', 'revenue', 'visitors']\n",
    "sum_table_A=sum_table[sum_table['group']=='A']\n",
    "sum_table_B=sum_table[sum_table['group']=='B']\n",
    "sum_table_A['cum_revenue']=sum_table_A['revenue'].cumsum()\n",
    "sum_table_B['cum_revenue']=sum_table_B['revenue'].cumsum()\n",
    "# Строим график выручки группы А\n",
    "plt.figure(figsize=(9,5))\n",
    "plt.plot(sum_table_A['date'], sum_table_A['cum_revenue'], label='A')\n",
    "# Строим график выручки группы B\n",
    "plt.plot(sum_table_B['date'], sum_table_B['cum_revenue'], label='B')\n",
    "plt.legend() \n",
    "plt.grid(True)\n",
    "plt.title('Изменение кумулятивной выручки в августе 2018 года\\nдля тестовых групп А и В\\n(на основе \"очищенных\" данных)')\n",
    "plt.xticks(rotation=45)\n",
    "plt.xlabel('Даты')\n",
    "plt.ylabel('Выручка, руб')\n",
    "plt.show()"
   ]
  },
  {
   "cell_type": "markdown",
   "metadata": {},
   "source": [
    "### Полученный график подтверждает рост к концу месяца для группы В суммарной выручки за счет роста числа заказов, которое связано с повышением показателя конверсии для группы В по сравнению с группой А."
   ]
  },
  {
   "cell_type": "markdown",
   "metadata": {},
   "source": [
    "## Выводы:\n",
    "\n",
    "    1. По неизвестной причине 58 уникальных пользователей присутствовали одновременно в обеих тестовых группах (А и В) - хорошо бы выяснить, как это произошло, чтобы в дальнейшем предотвратить такие ошибки в данных.\n",
    "    2. Нет статистически значимого различия по среднему чеку между группами ни по «сырым», ни по \"очищенным\" данным (что неудивительно, ведь для сравнения выборок использовался непараметрический тест Уилкоксона-Манна-Уитни, который нечувствителен к выбросам). Соответственно, \"очищенные\" данные показывают мЕньшую разницу между средним чеком для групп А и В, чем \"сырые\" - 1% против 16%. \n",
    "    3. Между конверсиями групп А и В есть статистически значимая разница, которая определяется как по \"сырым\", так и по \"очищенным\" данным - относительный прирост конверсии группы B по сравнению с конверсией группы А составляет 16% / 20% (\"сырые\"/\"очищенные\" данные).\n",
    "    4. Таким образом, по показателю конверсии группа В определенно опережает группу А, что отражается также на графиках кумулятивной выручки и кумулятивного числа заказов в виде более интенсивного роста этих показателей для группы В. При этом, т.к. число заказов и выручка растут примерно соизмеримыми темпами, то средний чек в группе В сохраняется примерно на том же уровне, что и у группы А. В любом случае, рост конверсии, которая ведет к росту суммарной выручки, демонстрирует положительный экономический эффект от внедрения нововведения, а следовательно можно остановить тест и зафиксировать победу группы В над группой А."
   ]
  },
  {
   "cell_type": "code",
   "execution_count": null,
   "metadata": {},
   "outputs": [],
   "source": []
  }
 ],
 "metadata": {
  "kernelspec": {
   "display_name": "Python 3",
   "language": "python",
   "name": "python3"
  },
  "language_info": {
   "codemirror_mode": {
    "name": "ipython",
    "version": 3
   },
   "file_extension": ".py",
   "mimetype": "text/x-python",
   "name": "python",
   "nbconvert_exporter": "python",
   "pygments_lexer": "ipython3",
   "version": "3.7.8"
  },
  "toc": {
   "base_numbering": 1,
   "nav_menu": {},
   "number_sections": false,
   "sideBar": true,
   "skip_h1_title": false,
   "title_cell": "Table of Contents",
   "title_sidebar": "Contents",
   "toc_cell": false,
   "toc_position": {},
   "toc_section_display": true,
   "toc_window_display": false
  }
 },
 "nbformat": 4,
 "nbformat_minor": 2
}
